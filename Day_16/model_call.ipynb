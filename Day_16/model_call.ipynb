{
 "cells": [
  {
   "cell_type": "code",
   "execution_count": 2,
   "id": "4cfc74b7",
   "metadata": {},
   "outputs": [
    {
     "name": "stdout",
     "output_type": "stream",
     "text": [
      "Done\n"
     ]
    }
   ],
   "source": [
    "import pickle\n",
    "import warnings\n",
    "warnings.filterwarnings('ignore')\n",
    "with open('capita_pred.pkl','rb') as f:\n",
    "    THE_MODEL=pickle.load(f)\n",
    "print('Done')"
   ]
  },
  {
   "cell_type": "code",
   "execution_count": 5,
   "id": "24da08c9",
   "metadata": {},
   "outputs": [
    {
     "name": "stdout",
     "output_type": "stream",
     "text": [
      "Year 2025, Capita 45431.02\n"
     ]
    }
   ],
   "source": [
    "year=int(input('Enter the Year you want to predict the Capita of: '))\n",
    "year=[[year]]\n",
    "\n",
    "capita=round(THE_MODEL.predict(year)[0][0],2)\n",
    "\n",
    "print(f'Year {year[0][0]}, Capita {capita}')"
   ]
  }
 ],
 "metadata": {
  "kernelspec": {
   "display_name": "myenv (3.13.5)",
   "language": "python",
   "name": "python3"
  },
  "language_info": {
   "codemirror_mode": {
    "name": "ipython",
    "version": 3
   },
   "file_extension": ".py",
   "mimetype": "text/x-python",
   "name": "python",
   "nbconvert_exporter": "python",
   "pygments_lexer": "ipython3",
   "version": "3.13.5"
  }
 },
 "nbformat": 4,
 "nbformat_minor": 5
}
