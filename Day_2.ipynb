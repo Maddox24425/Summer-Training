{
 "cells": [
  {
   "cell_type": "markdown",
   "id": "fa10245f",
   "metadata": {},
   "source": [
    "Functional Programing"
   ]
  },
  {
   "cell_type": "code",
   "execution_count": null,
   "id": "2fc0670a",
   "metadata": {},
   "outputs": [],
   "source": [
    "#Palindrome check program without returning value\n",
    "def check_palindrome(word):\n",
    "    word=word.upper()\n",
    "    reverse=word[::-1]\n",
    "    if reverse==word:\n",
    "        print(f\"Yes, {word} is a Palindrome\")\n",
    "    else:\n",
    "        print(f\"No, {word} is not a Palindrome\")\n",
    "words=input(\"Enter a word to check if it is a Palindrome\")\n",
    "check_palindrome(words)"
   ]
  },
  {
   "cell_type": "code",
   "execution_count": null,
   "id": "d2457334",
   "metadata": {},
   "outputs": [],
   "source": [
    "#Check palindrome with returning value\n",
    "def check_palindrome(word):\n",
    "    word=word.upper()\n",
    "    if word==word[::-1]:\n",
    "        return \"a Palindrome\"\n",
    "    else:\n",
    "        return \"not a Palindrome\"\n",
    "words=input(\"Enter a word to check if it us a palindrome\")\n",
    "returned=check_palindrome(words)\n",
    "print(f\"{words} is {returned}\")"
   ]
  },
  {
   "cell_type": "code",
   "execution_count": null,
   "id": "492ba355",
   "metadata": {},
   "outputs": [],
   "source": [
    "#Check palindrome with returning value and nested function (sort of)\n",
    "\n",
    "def typecasting(what):\n",
    "            what=str(what)\n",
    "            return what\n",
    "\n",
    "def check_palindromes(word:str):\n",
    "    if type(word)==str:\n",
    "        word=word.upper()\n",
    "        if word==word[::-1]:\n",
    "            return \"a Palindrome\"\n",
    "        else:\n",
    "            return \"not a Palindrome\"\n",
    "    else:\n",
    "        print(\"Type casting to String\")\n",
    "        new_word=typecasting(word)\n",
    "        returning_from_here=check_palindromes(new_word)\n",
    "        return returning_from_here\n",
    "        \n",
    "\n",
    "        \n",
    "words=input(\"Enter a word to check if it us a palindrome\")\n",
    "returned=check_palindromes(words)\n",
    "print(f\"{words} is {returned}\")"
   ]
  },
  {
   "cell_type": "code",
   "execution_count": null,
   "id": "e45bc289",
   "metadata": {},
   "outputs": [],
   "source": [
    "#Fibonachi Series\n",
    "def fibo_no(how_many):\n",
    "    fibo=[0,1]\n",
    "    for i in range (how_many-2):\n",
    "        last_number=fibo[-1]\n",
    "        second_last_number=fibo[-2]\n",
    "        next_number=last_number+second_last_number\n",
    "        fibo.append(next_number)\n",
    "    return fibo\n",
    "    \n",
    "times=int(input(\"How many numbers do you want in the Fibonachi series\"))\n",
    "fibonachi=fibo_no(times)\n",
    "print(fibonachi)"
   ]
  },
  {
   "cell_type": "code",
   "execution_count": null,
   "id": "d51b2101",
   "metadata": {},
   "outputs": [],
   "source": [
    "#Prime Number Function\n",
    "def prime_number(number):\n",
    "    for i in range (2,number):\n",
    "        if number%i==0:\n",
    "            print(f\"{number} is not a Prime Number \")\n",
    "            break\n",
    "        # else:\n",
    "        #     print(\"It is a Prime Number\")\n",
    "    \n",
    "    else: #if for loop is completely checked but not divisible by anything then else will start\n",
    "        print(f\"{number} is a prime number\")\n",
    "\n",
    "data=int(input(\"Enter a number to check is it is a prime number\"))\n",
    "prime_number(data)"
   ]
  },
  {
   "cell_type": "code",
   "execution_count": null,
   "id": "8dfdfbe6",
   "metadata": {},
   "outputs": [],
   "source": [
    "#Prime number function using return statement and for else\n",
    "def prime_number(number):\n",
    "    for i in range(2,number):\n",
    "        if number%i==0:\n",
    "            return \"is not a Prime Number\"\n",
    "    else:\n",
    "        return \"is a Prime Number\"\n",
    "data=int(input(\"Enter a number to check is it is a prime number\"))\n",
    "checking=prime_number(data)\n",
    "print(f\"{data} is {checking}\")"
   ]
  },
  {
   "cell_type": "code",
   "execution_count": null,
   "id": "97ff8db7",
   "metadata": {},
   "outputs": [],
   "source": [
    "#Star Pattern program\n",
    "def right_angle_triangle(n=5):\n",
    "    for i in range(n+1):\n",
    "        \n",
    "        print(\"*\"*i)\n",
    "\n",
    "def right_angle_triangle_right(n=5):\n",
    "    for i in range(n+1):\n",
    "        print(i*\" \"+\"*\"*(n-i))\n",
    "\n",
    "def center_triangle(n=5):\n",
    "    for i in range(n+1):\n",
    "        print((n-i)*\" \"+i*\"*\")\n",
    "\n",
    "print('''Which triangle do you want to make?\n",
    "1.Right angle Traiangle from the left\n",
    "2.Right angle Triangle from the right\n",
    "3.Center Triangle''')\n",
    "which=int(input(\"Enter: \"))\n",
    "data=int(input(\"how many rows do you want\"))\n",
    "if which==1:\n",
    "    right_angle_triangle(data)\n",
    "elif which==2:\n",
    "    right_angle_triangle_right(data)\n",
    "elif which==3:\n",
    "    center_triangle(data)\n",
    "else:\n",
    "    print(\"Invalid input\")\n"
   ]
  },
  {
   "cell_type": "code",
   "execution_count": null,
   "id": "f6706d21",
   "metadata": {},
   "outputs": [],
   "source": [
    "#Sum of natural numbers\n",
    "def equation(n):\n",
    "    result=0\n",
    "    for i in range(1,n+1):\n",
    "        result+=i\n",
    "    return result\n",
    "\n",
    "data=int(input(\"Enter a Number\"))\n",
    "solved=equation(data)\n",
    "print(f\"The sum of natural number till {data} is {solved}\")"
   ]
  },
  {
   "cell_type": "code",
   "execution_count": null,
   "id": "97636228",
   "metadata": {},
   "outputs": [],
   "source": [
    "#Factorial\n",
    "def factorial(n):\n",
    "    result=1\n",
    "    for i in range(1,n+1):\n",
    "        result*=i\n",
    "    print(f\"Combinations of {n} digits are {result}\")\n",
    "factorial(4)"
   ]
  },
  {
   "cell_type": "code",
   "execution_count": null,
   "id": "1d5878ca",
   "metadata": {},
   "outputs": [],
   "source": [
    "#Unpacking (*args)\n",
    "''' * is the one holding multiple values not args. We can put any value instead of args but \n",
    "this might create confusion so we just use args to make it a standard'''\n",
    "\n",
    "def args_example(*args): #*args take multiple values and store it as a tuple\n",
    "    print(args, type(args))\n",
    "args_example(1,2,3)"
   ]
  },
  {
   "cell_type": "code",
   "execution_count": null,
   "id": "1a5a662d",
   "metadata": {},
   "outputs": [],
   "source": [
    "#Adding all the values in a tuple using *args unpacking\n",
    "def total_sales(*args):\n",
    "    #result=sum(args) #This is the same usinf sum() method\n",
    "    result=0\n",
    "    for i in args:\n",
    "        result+=i\n",
    "    return result\n",
    "added=total_sales(1,2,3,4)\n",
    "print(added)"
   ]
  },
  {
   "cell_type": "code",
   "execution_count": null,
   "id": "52948122",
   "metadata": {},
   "outputs": [],
   "source": [
    "#finding the minimum sales without min() method\n",
    "def minimum(*args):\n",
    "    min_element=args[0]\n",
    "    for i in args[1:]:\n",
    "        if min_element>i:\n",
    "            min_element=i\n",
    "    return min_element\n",
    "minimumm=minimum(12,2,5,11)\n",
    "print(minimumm)"
   ]
  },
  {
   "cell_type": "code",
   "execution_count": null,
   "id": "668a84a0",
   "metadata": {},
   "outputs": [],
   "source": [
    "#finding the maximum sales without max() method\n",
    "def maximum(*args):\n",
    "    max_element=args[0]\n",
    "    for i in args[1:]:\n",
    "        if max_element<i:\n",
    "            max_element=i\n",
    "    return max_element\n",
    "maximumm=maximum(12,2,5,11)\n",
    "print(maximumm)"
   ]
  },
  {
   "cell_type": "code",
   "execution_count": 74,
   "id": "f1ae5510",
   "metadata": {},
   "outputs": [
    {
     "name": "stdout",
     "output_type": "stream",
     "text": [
      "['#OLA', '#UBER', '#RAPIDO']\n"
     ]
    }
   ],
   "source": [
    "def add_hashtag(*names):\n",
    "    result=[]\n",
    "    for i in names:\n",
    "        result.append('#'+i.upper())\n",
    "    return result\n",
    "name=add_hashtag('ola','uber','rapido')\n",
    "print(name)"
   ]
  },
  {
   "cell_type": "code",
   "execution_count": null,
   "id": "b8d58539",
   "metadata": {},
   "outputs": [
    {
     "name": "stdout",
     "output_type": "stream",
     "text": [
      "     Name  Age  Roll_No Course Section\n",
      "1  Farhan   19       17    BCA      M1\n"
     ]
    }
   ],
   "source": [
    "import pandas as pd\n",
    "def student_data(name, age, roll_no, Class, sec):\n",
    "    dict1={'Name':name,\"Age\":age, \"Roll_No\":roll_no, \"Course\":Class, 'Section':sec}\n",
    "    result=pd.DataFrame(dict1, index=[1])\n",
    "    return result\n",
    "data1=student_data(\"Farhan\",19,17,\"BCA\",'M1')\n",
    "print(data1)"
   ]
  },
  {
   "cell_type": "code",
   "execution_count": null,
   "id": "ebd8eac2",
   "metadata": {},
   "outputs": [
    {
     "name": "stdout",
     "output_type": "stream",
     "text": [
      "     Name  Age  Roll_No Course Section\n",
      "1  Farhan   19       17    BCA      M1\n"
     ]
    }
   ],
   "source": [
    "#Kewword Arguments(**kwargs), one will be key and other will be the data just like dictionary\n",
    "import pandas as pd\n",
    "def student_records(**kwargs):\n",
    "    keys=list(kwargs) #Type Casting will provide us the keys of the dictionary\n",
    "    \n",
    "    try:\n",
    "        result=pd.DataFrame(kwargs)\n",
    "        return result\n",
    "    except:\n",
    "        result=pd.DataFrame(kwargs, index=[1])\n",
    "        return result\n",
    "\n",
    "data1=student_records(Name=\"Farhan\",Age=19,Roll_No=17,Course=\"BCA\",Section='M1')\n",
    "print(data1)"
   ]
  }
 ],
 "metadata": {
  "kernelspec": {
   "display_name": "myenv",
   "language": "python",
   "name": "python3"
  },
  "language_info": {
   "codemirror_mode": {
    "name": "ipython",
    "version": 3
   },
   "file_extension": ".py",
   "mimetype": "text/x-python",
   "name": "python",
   "nbconvert_exporter": "python",
   "pygments_lexer": "ipython3",
   "version": "3.13.5"
  }
 },
 "nbformat": 4,
 "nbformat_minor": 5
}
