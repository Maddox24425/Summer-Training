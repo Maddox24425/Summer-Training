{
 "cells": [
  {
   "cell_type": "markdown",
   "id": "fa10245f",
   "metadata": {},
   "source": [
    "Functional Programing"
   ]
  },
  {
   "cell_type": "code",
   "execution_count": 4,
   "id": "2fc0670a",
   "metadata": {},
   "outputs": [
    {
     "name": "stdout",
     "output_type": "stream",
     "text": [
      "Yes, 12321 is a palindrome\n"
     ]
    }
   ],
   "source": [
    "#Palindrome check program\n",
    "def check_palindrome(word):\n",
    "    reverse=word[::-1]\n",
    "    if reverse==word:\n",
    "        print(f\"Yes, {word} is a palindrome\")\n",
    "    else:\n",
    "        print(f\"No, {word} is not a palindrome\")\n",
    "words=input(\"Enter a word to check if it is a palindrome\")\n",
    "check_palindrome(words)"
   ]
  },
  {
   "cell_type": "code",
   "execution_count": null,
   "id": "d2457334",
   "metadata": {},
   "outputs": [],
   "source": []
  }
 ],
 "metadata": {
  "kernelspec": {
   "display_name": "myenv",
   "language": "python",
   "name": "python3"
  },
  "language_info": {
   "codemirror_mode": {
    "name": "ipython",
    "version": 3
   },
   "file_extension": ".py",
   "mimetype": "text/x-python",
   "name": "python",
   "nbconvert_exporter": "python",
   "pygments_lexer": "ipython3",
   "version": "3.13.5"
  }
 },
 "nbformat": 4,
 "nbformat_minor": 5
}
