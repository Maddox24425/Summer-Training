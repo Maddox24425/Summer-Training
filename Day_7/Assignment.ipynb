{
 "cells": [
  {
   "cell_type": "markdown",
   "id": "d4d07d87",
   "metadata": {},
   "source": [
    "Assignment 1: University System"
   ]
  },
  {
   "cell_type": "code",
   "execution_count": null,
   "id": "3682d10a",
   "metadata": {},
   "outputs": [],
   "source": [
    "class Person:\n",
    "    def name(self,names):\n",
    "        print(f\"Hello {names}\")\n",
    "    def age(self,ages):\n",
    "        print(f\"You are {ages} years old\")\n",
    "class Student(Person):\n",
    "    def student_id(self,ids):\n",
    "        print(f\"Your student ID is {ids}\")\n",
    "    def course(self):\n",
    "        ...\n",
    "class Teacher(Person):\n",
    "    def employee_id(self,idss):\n",
    "        print(f\"Your Employee ID is {idss}\")\n",
    "    def subject(self):\n",
    "        ...\n",
    "class TechStudent(Student):\n",
    "    def programming_language(self):\n",
    "        ...\n",
    "\n",
    "choose=int(input('Enter 1 if you are a Student\\nEnter 2 if you are a Teacher'))\n",
    "if choose==1:\n",
    "    name=input(\"Please Enter your name\")\n",
    "    age=int(input(\"Please Enter your age\"))\n",
    "    studentid=input(\"Please Enter your student ID\")\n",
    "    person1=TechStudent()\n",
    "    person1.name(name)\n",
    "    person1.age(age)\n",
    "    person1.student_id\n",
    "elif choose==2:\n",
    "    name=input(\"Please Enter your name\")\n",
    "    age=int(input(\"Please Enter your age\"))\n",
    "    teacherid=input(\"Please Enter your Employee ID\")\n",
    "    person1=Teacher()\n",
    "    person1.name(name)\n",
    "    person1.age(age)\n",
    "    person1.employee_id(teacherid)\n",
    "    "
   ]
  },
  {
   "cell_type": "markdown",
   "id": "fe0615ec",
   "metadata": {},
   "source": [
    "Assignment 2: Media Player"
   ]
  },
  {
   "cell_type": "code",
   "execution_count": null,
   "id": "ab195b43",
   "metadata": {},
   "outputs": [],
   "source": [
    "from abc import ABC,abstractmethod\n",
    "\n",
    "class MediaPlayer(ABC):\n",
    "    @abstractmethod \n",
    "    def play(self):\n",
    "        ...\n",
    "    @abstractmethod \n",
    "    def stop(self):\n",
    "        ...\n",
    "class AudioPlayer(MediaPlayer):\n",
    "    def play(self):\n",
    "        print(\"AudioPlayer class playing audio\")\n",
    "    def stop(self):\n",
    "        print(\"AudioPlayer class stopped audio\")\n",
    "class VideoPlayer(MediaPlayer):\n",
    "    def play(self):\n",
    "        print(\"VideoPlayer class playing video.\")\n",
    "    def stop(self):\n",
    "        print(\"VideoPlayer class stopped video.\")\n",
    "\n",
    "class UniversalPlayer(AudioPlayer,VideoPlayer):\n",
    "    def play(self,types):\n",
    "        if types==1:\n",
    "            AudioPlayer.play(self)\n",
    "        elif types==2:\n",
    "            VideoPlayer.play(self)\n",
    "        else:\n",
    "            print('Invalid input')\n",
    "        # return super().play()\n",
    "    def stop(self,types):\n",
    "        if types==1:\n",
    "            AudioPlayer.stop(self)\n",
    "        elif types==2:\n",
    "            VideoPlayer.stop(self)\n",
    "        else:\n",
    "            print('Invalid input')\n",
    "        # return super().stop()\n",
    "    \n",
    "choice=int(input(\"Enter 1 if you want to use Audio Player\\nEnter 2 if you want to use Video Player\"))\n",
    "playing=UniversalPlayer()\n",
    "playing.play(choice)\n",
    "playing.stop(choice)\n",
    "\n",
    "\n"
   ]
  },
  {
   "cell_type": "markdown",
   "id": "6c5c77fb",
   "metadata": {},
   "source": [
    "Assignment 3: Banking System\n"
   ]
  },
  {
   "cell_type": "code",
   "execution_count": null,
   "id": "ec791b68",
   "metadata": {},
   "outputs": [],
   "source": []
  },
  {
   "cell_type": "markdown",
   "id": "d66d8221",
   "metadata": {},
   "source": [
    "Assignment 4: Gaming Characters"
   ]
  },
  {
   "cell_type": "code",
   "execution_count": 18,
   "id": "e31d2ad8",
   "metadata": {},
   "outputs": [
    {
     "name": "stdout",
     "output_type": "stream",
     "text": [
      "Aragorn swings a sword with skill 15, dealing 50 damage.\n",
      "Gandalf casts a powerful spell with magic power 25, dealing 40 damage.\n",
      "Legolas fires an arrow with bow skill 20, dealing 38 damage.\n"
     ]
    }
   ],
   "source": [
    "class Character:\n",
    "    def __init__(self, name, health, attack_power):\n",
    "        self.name = name\n",
    "        self.health = health\n",
    "        self.attack_power = attack_power\n",
    "    \n",
    "    def attack(self):\n",
    "        print(f\"{self.name} did {self.attack_power} damage.\")\n",
    "\n",
    "class Warrior(Character):\n",
    "    def __init__(self, name, health, attack_power, sword_skill):\n",
    "        super().__init__(name, health, attack_power)\n",
    "        self.sword_skill = sword_skill\n",
    "    \n",
    "    def attack(self):\n",
    "        damage = self.attack_power + self.sword_skill * 2\n",
    "        print(f\"{self.name} swings a sword with skill {self.sword_skill}, dealing {damage} damage.\")\n",
    "\n",
    "class Mage(Character):\n",
    "    def __init__(self, name, health, attack_power, magic_power):\n",
    "        super().__init__(name, health, attack_power)\n",
    "        self.magic_power = magic_power\n",
    "    \n",
    "    def attack(self):\n",
    "        damage = self.attack_power + self.magic_power\n",
    "        print(f\"{self.name} casts a powerful spell with magic power {self.magic_power}, dealing {damage} damage.\")\n",
    "\n",
    "class Archer(Character):\n",
    "    def __init__(self, name, health, attack_power, bow_skill):\n",
    "        super().__init__(name, health, attack_power)\n",
    "        self.bow_skill = bow_skill\n",
    "    \n",
    "    def attack(self):\n",
    "        damage = self.attack_power + self.bow_skill\n",
    "        print(f\"{self.name} fires an arrow with bow skill {self.bow_skill}, dealing {damage} damage.\")\n",
    "\n",
    "warrior = Warrior(\"Aragorn\", 150, 20, sword_skill=15)\n",
    "mage = Mage(\"Gandalf\", 100, 15, magic_power=25)\n",
    "archer = Archer(\"Legolas\", 120, 18, bow_skill=20)\n",
    "\n",
    "warrior.attack()\n",
    "mage.attack()\n",
    "archer.attack()\n"
   ]
  }
 ],
 "metadata": {
  "kernelspec": {
   "display_name": "myenv (3.13.5)",
   "language": "python",
   "name": "python3"
  },
  "language_info": {
   "codemirror_mode": {
    "name": "ipython",
    "version": 3
   },
   "file_extension": ".py",
   "mimetype": "text/x-python",
   "name": "python",
   "nbconvert_exporter": "python",
   "pygments_lexer": "ipython3",
   "version": "3.13.5"
  }
 },
 "nbformat": 4,
 "nbformat_minor": 5
}
