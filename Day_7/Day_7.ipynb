{
 "cells": [
  {
   "cell_type": "markdown",
   "id": "09e6a96d",
   "metadata": {},
   "source": [
    "Inheritance"
   ]
  },
  {
   "cell_type": "code",
   "execution_count": null,
   "id": "c10ca3ed",
   "metadata": {},
   "outputs": [
    {
     "name": "stdout",
     "output_type": "stream",
     "text": [
      "This is external examination\n"
     ]
    }
   ],
   "source": [
    "#Single Inheritance\n",
    "\n",
    "class IPU: #Parent class\n",
    "    def external_exam(self):\n",
    "        print(\"This is external examination\")\n",
    "    \n",
    "class IITM(IPU): #child class\n",
    "    def internal_exam(self):\n",
    "        print(\"This is internal examination\")\n",
    "    \n",
    "student1=IITM()\n",
    "student1.external_exam() #Calling parent class using child class"
   ]
  },
  {
   "cell_type": "code",
   "execution_count": null,
   "id": "97896ce9",
   "metadata": {},
   "outputs": [
    {
     "name": "stdout",
     "output_type": "stream",
     "text": [
      "This is education board\n"
     ]
    }
   ],
   "source": [
    "#Multilevel inheritance\n",
    "\n",
    "class Education_board:\n",
    "    def report(self):\n",
    "        print(\"This is education board\")\n",
    "\n",
    "class IPU(Education_board): #Parent class\n",
    "    def external_exam(self):\n",
    "        print(\"This is external examination\")\n",
    "    \n",
    "class IITM(IPU): #child class\n",
    "    def internal_exam(self):\n",
    "        print(\"This is internal examination\")\n",
    "    \n",
    "student1=IITM()\n",
    "student1.report() #Calling parent class using child class``"
   ]
  },
  {
   "cell_type": "code",
   "execution_count": null,
   "id": "13ecedd5",
   "metadata": {},
   "outputs": [
    {
     "name": "stdout",
     "output_type": "stream",
     "text": [
      "This is education board\n"
     ]
    }
   ],
   "source": [
    "#Multiple Inheritance\n",
    "\n",
    "class Education_board:\n",
    "    def report(self):\n",
    "        print(\"This is education board\")\n",
    "\n",
    "class IPU(): #Parent class\n",
    "    def external_exam(self):\n",
    "        print(\"This is external examination\")\n",
    "    \n",
    "class IITM(Education_board,IPU): #child class\n",
    "    def internal_exam(self):\n",
    "        print(\"This is internal examination\")\n",
    "    \n",
    "student1=IITM()\n",
    "student1.report() #Calling parent class using child class``"
   ]
  },
  {
   "cell_type": "code",
   "execution_count": null,
   "id": "2d13438e",
   "metadata": {},
   "outputs": [
    {
     "name": "stdout",
     "output_type": "stream",
     "text": [
      "This is education board\n"
     ]
    }
   ],
   "source": [
    "#Heirarchical Inheritance\n",
    "\n",
    "class Education_board:\n",
    "    def report(self):\n",
    "        print(\"This is education board\")\n",
    "\n",
    "class IPU(Education_board): #Parent class\n",
    "    def external_exam(self):\n",
    "        print(\"This is external examination\")\n",
    "    \n",
    "class IITM(Education_board): #child class\n",
    "    def internal_exam(self):\n",
    "        print(\"This is internal examination\")\n",
    "    \n",
    "student1=IITM()\n",
    "student1.report() #Calling parent class using child class``"
   ]
  },
  {
   "cell_type": "code",
   "execution_count": 11,
   "id": "16c4727c",
   "metadata": {},
   "outputs": [
    {
     "name": "stdout",
     "output_type": "stream",
     "text": [
      "This is education board\n"
     ]
    }
   ],
   "source": [
    "#Hybrid Inheritance\n",
    "\n",
    "class Education_board:\n",
    "    def report(self):\n",
    "        print(\"This is education board\")\n",
    "\n",
    "class IPU(Education_board): #Parent class\n",
    "    def external_exam(self):\n",
    "        print(\"This is external examination\")\n",
    "    \n",
    "class IITM(Education_board): #child class\n",
    "    def internal_exam(self):\n",
    "        print(\"This is internal examination\")\n",
    "    \n",
    "class Student(IPU,IITM):\n",
    "    def marks(self):\n",
    "        print(\"This is student class\")\n",
    "\n",
    "Abhishek=Student()\n",
    "Abhishek.report() #Calling parent class using child class``"
   ]
  }
 ],
 "metadata": {
  "kernelspec": {
   "display_name": "myenv",
   "language": "python",
   "name": "python3"
  },
  "language_info": {
   "codemirror_mode": {
    "name": "ipython",
    "version": 3
   },
   "file_extension": ".py",
   "mimetype": "text/x-python",
   "name": "python",
   "nbconvert_exporter": "python",
   "pygments_lexer": "ipython3",
   "version": "3.13.5"
  }
 },
 "nbformat": 4,
 "nbformat_minor": 5
}
