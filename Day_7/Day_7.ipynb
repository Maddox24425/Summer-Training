{
 "cells": [
  {
   "cell_type": "markdown",
   "id": "09e6a96d",
   "metadata": {},
   "source": [
    "Inheritance"
   ]
  },
  {
   "cell_type": "code",
   "execution_count": null,
   "id": "c10ca3ed",
   "metadata": {},
   "outputs": [],
   "source": [
    "#Single Inheritance\n",
    "\n",
    "class IPU: #Parent class\n",
    "    def external_exam(self):\n",
    "        print(\"This is external examination\")\n",
    "    \n",
    "class IITM(IPU): #child class\n",
    "    def internal_exam(self):\n",
    "        print(\"This is internal examination\")\n",
    "    \n",
    "student1=IITM()\n",
    "student1.external_exam() #Calling parent class using child class"
   ]
  },
  {
   "cell_type": "code",
   "execution_count": 4,
   "id": "97896ce9",
   "metadata": {},
   "outputs": [
    {
     "name": "stdout",
     "output_type": "stream",
     "text": [
      "IITM was called by constructor\n",
      "Education board called by constructor\n",
      "This is education board\n"
     ]
    }
   ],
   "source": [
    "#Multilevel inheritance\n",
    "\n",
    "class Education_board:\n",
    "    def __init__(self):\n",
    "        print(\"Education board called by constructor\")\n",
    "\n",
    "    def report(self):\n",
    "        print(\"This is education board\")\n",
    "\n",
    "class IPU(Education_board): #Parent class\n",
    "    def external_exam(self):\n",
    "        print(\"This is external examination\")\n",
    "    \n",
    "class IITM(IPU): #child class\n",
    "    def __init__(self):\n",
    "        print('IITM was called by constructor')\n",
    "        super().__init__()\n",
    "\n",
    "    def internal_exam(self):\n",
    "        print(\"This is internal examination\")\n",
    "    \n",
    "student1=IITM()\n",
    "student1.report() #Calling parent class using child class``"
   ]
  },
  {
   "cell_type": "code",
   "execution_count": null,
   "id": "13ecedd5",
   "metadata": {},
   "outputs": [],
   "source": [
    "#Multiple Inheritance\n",
    "\n",
    "class Education_board:\n",
    "    def __init__(self):\n",
    "        print(\"Base class constructor: This should run just by calling child class\")\n",
    "\n",
    "    def report(self):\n",
    "        print(\"This is education board\")\n",
    "\n",
    "class IPU(): #Parent class\n",
    "    def external_exam(self):\n",
    "        print(\"This is external examination\")\n",
    "    \n",
    "class IITM(Education_board,IPU): #child class\n",
    "    def __init__(self):\n",
    "        print(\"Child class constructor\")\n",
    "\n",
    "    def internal_exam(self):\n",
    "        print(\"This is internal examination\")\n",
    "    \n",
    "student1=IITM()\n",
    "student1.report() #Calling parent class using child class``"
   ]
  },
  {
   "cell_type": "code",
   "execution_count": null,
   "id": "2d13438e",
   "metadata": {},
   "outputs": [],
   "source": [
    "#Heirarchical Inheritance\n",
    "\n",
    "class Education_board:\n",
    "    def report(self):\n",
    "        print(\"This is education board\")\n",
    "\n",
    "class IPU(Education_board): #Parent class\n",
    "    def external_exam(self):\n",
    "        print(\"This is external examination\")\n",
    "    \n",
    "class IITM(Education_board): #child class\n",
    "    def internal_exam(self):\n",
    "        print(\"This is internal examination\")\n",
    "    \n",
    "student1=IITM()\n",
    "student1.report() #Calling parent class using child class``"
   ]
  },
  {
   "cell_type": "code",
   "execution_count": null,
   "id": "16c4727c",
   "metadata": {},
   "outputs": [],
   "source": [
    "#Hybrid Inheritance\n",
    "\n",
    "class Education_board:\n",
    "    def report(self):\n",
    "        print(\"This is education board\")\n",
    "\n",
    "class IPU(Education_board): #Parent class\n",
    "    def external_exam(self):\n",
    "        print(\"This is external examination\")\n",
    "    \n",
    "class IITM(Education_board): #child class\n",
    "    def internal_exam(self):\n",
    "        print(\"This is internal examination\")\n",
    "    \n",
    "class Student(IPU,IITM):\n",
    "    def marks(self):\n",
    "        print(\"This is student class\")\n",
    "\n",
    "Abhishek=Student()\n",
    "Abhishek.report() #Calling parent class using child class``\n",
    "Abhishek.marks()"
   ]
  },
  {
   "cell_type": "code",
   "execution_count": null,
   "id": "3a4f9986",
   "metadata": {},
   "outputs": [],
   "source": [
    "#Ambiguity Multiple Inheritance using super() method\n",
    "class Samsung:\n",
    "    def __init__(self):\n",
    "        print('Samsung Cunstructor called (Super Class)')\n",
    "\n",
    "    def screen(self):\n",
    "        print('Samsung screen is used')\n",
    "\n",
    "    def battery(self):\n",
    "        print('Samsung battery is called')\n",
    "    \n",
    "class LG:\n",
    "    def screen(self):\n",
    "        print('LG Screen is called')\n",
    "    \n",
    "class Snapdragon:\n",
    "    def modem(self):\n",
    "        print('Snapdragon Modem is called')\n",
    "    \n",
    "\n",
    "\n",
    "class Apple(Samsung, LG, Snapdragon):\n",
    "    def __init__(self):\n",
    "        super().__init__() #Parent class constructor called\n",
    "        print('Apple Constructor is called (Sub Class)')\n",
    "\n",
    "    def modem(self):\n",
    "        print(\"Apple modem C1 is called\")\n",
    "        super().modem() #Parent class modem() method called\n",
    "\n",
    "iPhone=Apple()\n",
    "iPhone.modem()\n",
    "iPhone.screen()\n"
   ]
  }
 ],
 "metadata": {
  "kernelspec": {
   "display_name": "myenv",
   "language": "python",
   "name": "python3"
  },
  "language_info": {
   "codemirror_mode": {
    "name": "ipython",
    "version": 3
   },
   "file_extension": ".py",
   "mimetype": "text/x-python",
   "name": "python",
   "nbconvert_exporter": "python",
   "pygments_lexer": "ipython3",
   "version": "3.13.5"
  }
 },
 "nbformat": 4,
 "nbformat_minor": 5
}
