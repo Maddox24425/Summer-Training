{
 "cells": [
  {
   "cell_type": "markdown",
   "id": "09e6a96d",
   "metadata": {},
   "source": [
    "Inheritance"
   ]
  },
  {
   "cell_type": "code",
   "execution_count": null,
   "id": "c10ca3ed",
   "metadata": {},
   "outputs": [
    {
     "name": "stdout",
     "output_type": "stream",
     "text": [
      "This is external examination\n"
     ]
    }
   ],
   "source": [
    "#Single Inheritance\n",
    "\n",
    "class IPU: #Parent class\n",
    "    def external_exam(self):\n",
    "        print(\"This is external examination\")\n",
    "    pass\n",
    "class IITM(IPU): #child class\n",
    "    def internal_exam(self):\n",
    "        print(\"This is internal examination\")\n",
    "    pass\n",
    "student1=IITM()\n",
    "student1.external_exam() #Calling parent class using child class"
   ]
  }
 ],
 "metadata": {
  "kernelspec": {
   "display_name": "myenv",
   "language": "python",
   "name": "python3"
  },
  "language_info": {
   "codemirror_mode": {
    "name": "ipython",
    "version": 3
   },
   "file_extension": ".py",
   "mimetype": "text/x-python",
   "name": "python",
   "nbconvert_exporter": "python",
   "pygments_lexer": "ipython3",
   "version": "3.13.5"
  }
 },
 "nbformat": 4,
 "nbformat_minor": 5
}
