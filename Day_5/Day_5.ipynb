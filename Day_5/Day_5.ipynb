{
 "cells": [
  {
   "cell_type": "markdown",
   "id": "ca22981b",
   "metadata": {},
   "source": [
    "Day 5 (MySQL)"
   ]
  },
  {
   "cell_type": "code",
   "execution_count": null,
   "id": "e7c5e66c",
   "metadata": {},
   "outputs": [
    {
     "name": "stdout",
     "output_type": "stream",
     "text": [
      "Hello world\n"
     ]
    }
   ],
   "source": [
    "import pymysql as py\n"
   ]
  }
 ],
 "metadata": {
  "kernelspec": {
   "display_name": "myenv",
   "language": "python",
   "name": "python3"
  },
  "language_info": {
   "codemirror_mode": {
    "name": "ipython",
    "version": 3
   },
   "file_extension": ".py",
   "mimetype": "text/x-python",
   "name": "python",
   "nbconvert_exporter": "python",
   "pygments_lexer": "ipython3",
   "version": "3.13.5"
  }
 },
 "nbformat": 4,
 "nbformat_minor": 5
}
