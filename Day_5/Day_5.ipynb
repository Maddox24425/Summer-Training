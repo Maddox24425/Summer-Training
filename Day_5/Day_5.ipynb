{
 "cells": [
  {
   "cell_type": "markdown",
   "id": "ca22981b",
   "metadata": {},
   "source": [
    "Day 5 (MySQL)"
   ]
  },
  {
   "cell_type": "code",
   "execution_count": 1,
   "id": "e7c5e66c",
   "metadata": {},
   "outputs": [
    {
     "name": "stdout",
     "output_type": "stream",
     "text": [
      "Connection created successfully\n"
     ]
    }
   ],
   "source": [
    "import pymysql as py\n",
    "conn=py.connect(user='root',\n",
    "    password='1234',\n",
    "    host='localhost',\n",
    "    autocommit=True) #autosave\n",
    "print('Connection created successfully')"
   ]
  },
  {
   "cell_type": "markdown",
   "id": "a2ee261f",
   "metadata": {},
   "source": [
    "After Connection, Make Cursor (cur)"
   ]
  },
  {
   "cell_type": "code",
   "execution_count": 2,
   "id": "e24095e5",
   "metadata": {},
   "outputs": [],
   "source": [
    "cur=conn.cursor()"
   ]
  },
  {
   "cell_type": "markdown",
   "id": "9f808be4",
   "metadata": {},
   "source": [
    "Now write a query   "
   ]
  },
  {
   "cell_type": "code",
   "execution_count": 3,
   "id": "37e0843e",
   "metadata": {},
   "outputs": [],
   "source": [
    "query='''create database Day_5;'''"
   ]
  },
  {
   "cell_type": "markdown",
   "id": "f549d4a3",
   "metadata": {},
   "source": [
    "Now Execute the query using the cursor (cur)"
   ]
  },
  {
   "cell_type": "code",
   "execution_count": null,
   "id": "b8edb274",
   "metadata": {},
   "outputs": [],
   "source": [
    "cur.execute(query)\n",
    "print('Query Executed')\n",
    "query='''use Day_5;'''\n",
    "cur.execute(query)"
   ]
  },
  {
   "cell_type": "markdown",
   "id": "d694377a",
   "metadata": {},
   "source": [
    "Now Create a table and exxecute it"
   ]
  },
  {
   "cell_type": "code",
   "execution_count": null,
   "id": "53f8b275",
   "metadata": {},
   "outputs": [],
   "source": [
    "query='''create table student_detail\n",
    "(\n",
    "SID int not null,\n",
    "S_name varchar(50),\n",
    "Course varchar(50),\n",
    "Address varchar(50)\n",
    ");'''\n",
    "cur.execute(query)\n",
    "print('done')"
   ]
  },
  {
   "cell_type": "code",
   "execution_count": null,
   "id": "3caf8e59",
   "metadata": {},
   "outputs": [],
   "source": [
    "#insert data\n",
    "query='''insert into student_detail\n",
    "values\n",
    "(101, \"Farhan\", \"BCA\", \"Delhi\"),\n",
    "(102, \"Divyanshi\", \"BCA\", \"Uttam Nagar\");'''\n",
    "cur.execute(query)\n",
    "print('done')"
   ]
  },
  {
   "cell_type": "code",
   "execution_count": null,
   "id": "53cbffd5",
   "metadata": {},
   "outputs": [],
   "source": [
    "query='''select * from student_detail'''\n",
    "cur.execute(query)\n",
    "print('done')"
   ]
  }
 ],
 "metadata": {
  "kernelspec": {
   "display_name": "myenv",
   "language": "python",
   "name": "python3"
  },
  "language_info": {
   "codemirror_mode": {
    "name": "ipython",
    "version": 3
   },
   "file_extension": ".py",
   "mimetype": "text/x-python",
   "name": "python",
   "nbconvert_exporter": "python",
   "pygments_lexer": "ipython3",
   "version": "3.13.5"
  }
 },
 "nbformat": 4,
 "nbformat_minor": 5
}
