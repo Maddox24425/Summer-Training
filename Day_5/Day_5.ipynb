{
 "cells": [
  {
   "cell_type": "markdown",
   "id": "ca22981b",
   "metadata": {},
   "source": [
    "Day 5 (MySQL)"
   ]
  },
  {
   "cell_type": "code",
   "execution_count": null,
   "id": "e7c5e66c",
   "metadata": {},
   "outputs": [],
   "source": [
    "import pymysql as py\n",
    "conn=py.connect(user='root',\n",
    "    password='1234',\n",
    "    host='localhost',\n",
    "    autocommit=True) #autosave\n",
    "print('Connection created successfully')"
   ]
  },
  {
   "cell_type": "markdown",
   "id": "a2ee261f",
   "metadata": {},
   "source": [
    "After Connection, Make Cursor (cur)"
   ]
  },
  {
   "cell_type": "code",
   "execution_count": null,
   "id": "e24095e5",
   "metadata": {},
   "outputs": [],
   "source": [
    "cur=conn.cursor()"
   ]
  },
  {
   "cell_type": "markdown",
   "id": "9f808be4",
   "metadata": {},
   "source": [
    "Now write a query   "
   ]
  },
  {
   "cell_type": "code",
   "execution_count": null,
   "id": "37e0843e",
   "metadata": {},
   "outputs": [],
   "source": [
    "query='''create database Day_5;'''\n",
    "cur.execute(query)\n",
    "print('Query Executed')"
   ]
  },
  {
   "cell_type": "markdown",
   "id": "f549d4a3",
   "metadata": {},
   "source": [
    "Now Execute the query using the cursor (cur)"
   ]
  },
  {
   "cell_type": "code",
   "execution_count": null,
   "id": "b8edb274",
   "metadata": {},
   "outputs": [],
   "source": []
  }
 ],
 "metadata": {
  "kernelspec": {
   "display_name": "myenv",
   "language": "python",
   "name": "python3"
  },
  "language_info": {
   "codemirror_mode": {
    "name": "ipython",
    "version": 3
   },
   "file_extension": ".py",
   "mimetype": "text/x-python",
   "name": "python",
   "nbconvert_exporter": "python",
   "pygments_lexer": "ipython3",
   "version": "3.13.5"
  }
 },
 "nbformat": 4,
 "nbformat_minor": 5
}
