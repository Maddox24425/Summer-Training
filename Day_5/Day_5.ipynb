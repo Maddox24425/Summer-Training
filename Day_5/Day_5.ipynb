{
 "cells": [
  {
   "cell_type": "markdown",
   "id": "ca22981b",
   "metadata": {},
   "source": [
    "Day 5 (MySQL)"
   ]
  },
  {
   "cell_type": "code",
   "execution_count": null,
   "id": "e7c5e66c",
   "metadata": {},
   "outputs": [],
   "source": [
    "import pymysql as py\n",
    "conn=py.connect(user='root',\n",
    "    password='1234',\n",
    "    host='localhost',\n",
    "    database='day_5',\n",
    "    autocommit=True) #autosave\n",
    "print('Connection created successfully')"
   ]
  },
  {
   "cell_type": "markdown",
   "id": "a2ee261f",
   "metadata": {},
   "source": [
    "After Connection, Make Cursor (cur)"
   ]
  },
  {
   "cell_type": "code",
   "execution_count": null,
   "id": "e24095e5",
   "metadata": {},
   "outputs": [],
   "source": [
    "cur=conn.cursor() #curr is an object handler which is used to execute the query\n",
    "print('done')"
   ]
  },
  {
   "cell_type": "markdown",
   "id": "9f808be4",
   "metadata": {},
   "source": [
    "Now write a query   "
   ]
  },
  {
   "cell_type": "markdown",
   "id": "f549d4a3",
   "metadata": {},
   "source": [
    "And Execute the query using the cursor (cur)"
   ]
  },
  {
   "cell_type": "code",
   "execution_count": null,
   "id": "b8edb274",
   "metadata": {},
   "outputs": [],
   "source": [
    "query='''create database Day_5;'''\n",
    "cur.execute(query)\n",
    "print('Query Executed')\n",
    "query='''use Day_5;'''\n",
    "cur.execute(query)"
   ]
  },
  {
   "cell_type": "markdown",
   "id": "d694377a",
   "metadata": {},
   "source": [
    "Now Create a table and exxecute it"
   ]
  },
  {
   "cell_type": "code",
   "execution_count": null,
   "id": "53f8b275",
   "metadata": {},
   "outputs": [],
   "source": [
    "query='''create table student_detail\n",
    "(\n",
    "SID int not null,\n",
    "S_name varchar(50),\n",
    "Course varchar(50),\n",
    "Address varchar(50)\n",
    ");'''\n",
    "cur.execute(query)\n",
    "print('done')"
   ]
  },
  {
   "cell_type": "code",
   "execution_count": null,
   "id": "3caf8e59",
   "metadata": {},
   "outputs": [],
   "source": [
    "#insert data\n",
    "query='''insert into student_detail\n",
    "values\n",
    "(101, \"Farhan\", \"BCA\", \"Delhi\"),\n",
    "(102, \"Divyanshi\", \"BCA\", \"Uttam Nagar\");'''\n",
    "cur.execute(query)\n",
    "print('done')"
   ]
  },
  {
   "cell_type": "code",
   "execution_count": null,
   "id": "53cbffd5",
   "metadata": {},
   "outputs": [],
   "source": [
    "query='''select * from student_detail'''\n",
    "cur.execute(query)\n",
    "print('done')"
   ]
  },
  {
   "cell_type": "code",
   "execution_count": null,
   "id": "d2fd43bc",
   "metadata": {},
   "outputs": [],
   "source": [
    "n=3\n",
    "for i in range (3):\n",
    "    sid=int(input(\"Enter your Roll_no/SID: \"))\n",
    "    name=input(\"Enter your name: \")\n",
    "    course=input(\"Enter your course\")\n",
    "    address=input(\"Enter you address: \")\n",
    "\n",
    "    q=f'''insert into student_detail values\n",
    "    ({sid},\"{name}\",\"{course}\",\"{address}\");'''\n",
    "    cur.execute(q)\n",
    "    print(\"Success\")\n",
    "print('Done')"
   ]
  },
  {
   "cell_type": "code",
   "execution_count": null,
   "id": "35c3f2c0",
   "metadata": {},
   "outputs": [],
   "source": [
    "query='''select * from student_detail;'''\n",
    "cur.execute(query)\n",
    "all_columns=[]\n",
    "for i in cur.description:\n",
    "    all_columns.append(i[0])\n",
    "\n",
    "records=cur.fetchall()\n",
    "import pandas as pd\n",
    "df=pd.DataFrame(records, columns=all_columns)\n"
   ]
  },
  {
   "cell_type": "code",
   "execution_count": null,
   "id": "6304bf24",
   "metadata": {},
   "outputs": [],
   "source": [
    "#To delete the table\n",
    "query='''drop table student_detail;'''\n",
    "cur.execute(query)"
   ]
  },
  {
   "cell_type": "code",
   "execution_count": null,
   "id": "29169098",
   "metadata": {},
   "outputs": [],
   "source": [
    "def show_rec(db,tn):\n",
    "    query=f'''select * from {db}.{tn};'''\n",
    "    cur.execute(query)\n",
    "\n",
    "    records=cur.fetchall()\n",
    "\n",
    "    all_columns=[]\n",
    "    for i in cur.description:\n",
    "        all_columns.append(i[0])\n",
    "        \n",
    "    import pandas as pd\n",
    "    df=pd.DataFrame(records, columns=all_columns)\n",
    "    return df\n",
    "df = show_rec('day_5', 'superstore')\n",
    "display(df)\n"
   ]
  },
  {
   "cell_type": "code",
   "execution_count": null,
   "id": "c31c1ee3",
   "metadata": {},
   "outputs": [],
   "source": [
    "conn.close()"
   ]
  },
  {
   "cell_type": "markdown",
   "id": "3be562a3",
   "metadata": {},
   "source": [
    "To Delete The Whole Database"
   ]
  },
  {
   "cell_type": "code",
   "execution_count": null,
   "id": "29530da8",
   "metadata": {},
   "outputs": [],
   "source": [
    "import pymysql as py\n",
    "\n",
    "# Establish the connection (you can reuse your existing connection object)\n",
    "# Make sure to connect WITHOUT specifying the database you want to drop.\n",
    "# Connect to the MySQL server itself.\n",
    "conn = py.connect(user='root',\n",
    "                  password='1234', # Replace with your password if different\n",
    "                  host='localhost',\n",
    "                  autocommit=True)\n",
    "\n",
    "# Create a cursor\n",
    "cur = conn.cursor()\n",
    "\n",
    "# --- Code to Drop the Database ---\n",
    "# The 'IF EXISTS' part prevents an error if the database doesn't exist.\n",
    "query = '''DROP DATABASE IF EXISTS Day_5;'''\n",
    "\n",
    "try:\n",
    "    cur.execute(query)\n",
    "    print(\"Database 'Day_5' dropped successfully (if it existed).\")\n",
    "except Exception as e:\n",
    "    print(f\"An error occurred: {e}\")\n",
    "finally:\n",
    "    # It's good practice to close the connection when you're done\n",
    "    conn.close()\n"
   ]
  }
 ],
 "metadata": {
  "kernelspec": {
   "display_name": "myenv",
   "language": "python",
   "name": "python3"
  },
  "language_info": {
   "codemirror_mode": {
    "name": "ipython",
    "version": 3
   },
   "file_extension": ".py",
   "mimetype": "text/x-python",
   "name": "python",
   "nbconvert_exporter": "python",
   "pygments_lexer": "ipython3",
   "version": "3.13.5"
  }
 },
 "nbformat": 4,
 "nbformat_minor": 5
}
