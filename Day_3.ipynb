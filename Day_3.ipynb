{
 "cells": [
  {
   "cell_type": "markdown",
   "id": "787486f1",
   "metadata": {},
   "source": [
    "Day 3"
   ]
  },
  {
   "cell_type": "code",
   "execution_count": null,
   "id": "1b43a4ca",
   "metadata": {},
   "outputs": [
    {
     "data": {
      "text/html": [
       "<div>\n",
       "<style scoped>\n",
       "    .dataframe tbody tr th:only-of-type {\n",
       "        vertical-align: middle;\n",
       "    }\n",
       "\n",
       "    .dataframe tbody tr th {\n",
       "        vertical-align: top;\n",
       "    }\n",
       "\n",
       "    .dataframe thead th {\n",
       "        text-align: right;\n",
       "    }\n",
       "</style>\n",
       "<table border=\"1\" class=\"dataframe\">\n",
       "  <thead>\n",
       "    <tr style=\"text-align: right;\">\n",
       "      <th></th>\n",
       "      <th>Name</th>\n",
       "      <th>Age</th>\n",
       "      <th>Roll_No</th>\n",
       "      <th>Course</th>\n",
       "      <th>Section</th>\n",
       "      <th>Score</th>\n",
       "    </tr>\n",
       "  </thead>\n",
       "  <tbody>\n",
       "    <tr>\n",
       "      <th>0</th>\n",
       "      <td>Farhan</td>\n",
       "      <td>19</td>\n",
       "      <td>17</td>\n",
       "      <td>BCA</td>\n",
       "      <td>M1</td>\n",
       "      <td>A</td>\n",
       "    </tr>\n",
       "    <tr>\n",
       "      <th>1</th>\n",
       "      <td>Abhinav</td>\n",
       "      <td>20</td>\n",
       "      <td>11</td>\n",
       "      <td>BCA</td>\n",
       "      <td>M2</td>\n",
       "      <td>B</td>\n",
       "    </tr>\n",
       "    <tr>\n",
       "      <th>2</th>\n",
       "      <td>Tejashvi</td>\n",
       "      <td>21</td>\n",
       "      <td>1</td>\n",
       "      <td>BCA</td>\n",
       "      <td>M1</td>\n",
       "      <td>O</td>\n",
       "    </tr>\n",
       "  </tbody>\n",
       "</table>\n",
       "</div>"
      ],
      "text/plain": [
       "       Name  Age  Roll_No Course Section Score\n",
       "0    Farhan   19       17    BCA      M1     A\n",
       "1   Abhinav   20       11    BCA      M2     B\n",
       "2  Tejashvi   21        1    BCA      M1     O"
      ]
     },
     "metadata": {},
     "output_type": "display_data"
    }
   ],
   "source": [
    "#Kewword Arguments(**kwargs), one will be key and other will be the data just like dictionary\n",
    "import pandas as pd\n",
    "def student_records(**kwargs):\n",
    "    #keys=list(kwargs) #Type Casting will provide us the keys of the dictionary\n",
    "    \n",
    "    try:\n",
    "        result=pd.DataFrame(kwargs)\n",
    "        return result\n",
    "    except:\n",
    "        result=pd.DataFrame(kwargs, index=[1])\n",
    "        return result\n",
    "\n",
    "data1=student_records(Name=[\"Farhan\",\"Abhinav\",'Tejashvi'],\n",
    "Age=[19,20,21],Roll_No=[17,11,1],\n",
    "Course=[\"BCA\",\"BCA\",'BCA'],\n",
    "Section=['M1','M2','M1'],\n",
    "Score=list('ABO')) #Check this one\n",
    "display(data1)"
   ]
  },
  {
   "cell_type": "code",
   "execution_count": null,
   "id": "a2e12852",
   "metadata": {},
   "outputs": [
    {
     "name": "stdout",
     "output_type": "stream",
     "text": [
      "This is type error\n"
     ]
    }
   ],
   "source": [
    "#Exception Handling\n",
    "\n",
    "a='23'\n",
    "try:\n",
    "    if a>=10:\n",
    "        print(\"Greater\")\n",
    "    else:\n",
    "        print(\"Lower\")\n",
    "\n",
    "except TypeError:\n",
    "    print(\"This is type error\")\n",
    "\n",
    "except: #No need to mention the type of exception explicitly, then it will handle any exception type\n",
    "    print(f'Something went wrong')\n",
    "\n"
   ]
  }
 ],
 "metadata": {
  "kernelspec": {
   "display_name": "myenv",
   "language": "python",
   "name": "python3"
  },
  "language_info": {
   "codemirror_mode": {
    "name": "ipython",
    "version": 3
   },
   "file_extension": ".py",
   "mimetype": "text/x-python",
   "name": "python",
   "nbconvert_exporter": "python",
   "pygments_lexer": "ipython3",
   "version": "3.13.5"
  }
 },
 "nbformat": 4,
 "nbformat_minor": 5
}
