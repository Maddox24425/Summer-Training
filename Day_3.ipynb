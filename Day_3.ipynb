{
 "cells": [
  {
   "cell_type": "markdown",
   "id": "787486f1",
   "metadata": {},
   "source": [
    "Day 3"
   ]
  },
  {
   "cell_type": "code",
   "execution_count": null,
   "id": "a2e12852",
   "metadata": {},
   "outputs": [],
   "source": [
    "#Exception Handling\n",
    "\n",
    "a='23'\n",
    "try:\n",
    "    if a>=10:\n",
    "        print(\"Greater\")\n",
    "    else:\n",
    "        print(\"Lower\")\n",
    "\n",
    "except TypeError:\n",
    "    print(\"This is type error\")\n",
    "\n",
    "except: #No need to mention the type of exception explicitly, then it will handle any exception type\n",
    "    print(f'Something went wrong')\n",
    "\n"
   ]
  },
  {
   "cell_type": "code",
   "execution_count": null,
   "id": "1b43a4ca",
   "metadata": {},
   "outputs": [],
   "source": [
    "#Kewword Arguments(**kwargs), one will be key and other will be the data just like dictionary\n",
    "import pandas as pd\n",
    "def student_records(**kwargs):\n",
    "    #keys=list(kwargs) #Type Casting will provide us the keys of the dictionary\n",
    "    \n",
    "    try:\n",
    "        result=pd.DataFrame(kwargs)\n",
    "        return result\n",
    "    except:\n",
    "        result=pd.DataFrame(kwargs, index=[1])\n",
    "        return result\n",
    "\n",
    "data1=student_records(Name=[\"Farhan\",\"Abhinav\",'Tejashvi'],\n",
    "Age=[19,20,21],Roll_No=[17,11,1],\n",
    "Course=[\"BCA\",\"BCA\",'BCA'],\n",
    "Section=['M1','M2','M1'],\n",
    "Score=list('ABO')) #Check this one\n",
    "display(data1)"
   ]
  },
  {
   "cell_type": "code",
   "execution_count": null,
   "id": "92a35378",
   "metadata": {},
   "outputs": [],
   "source": [
    "#While loop show_time() with exception handling\n",
    "import time\n",
    "def show_time():\n",
    "    try:\n",
    "        while True:\n",
    "            print(time.asctime())\n",
    "            time.sleep(1)\n",
    "            display(clear=True)\n",
    "    except:\n",
    "        print(\"Timer Stopped\")\n",
    "show_time()\n"
   ]
  },
  {
   "cell_type": "code",
   "execution_count": null,
   "id": "8435928f",
   "metadata": {},
   "outputs": [],
   "source": []
  },
  {
   "cell_type": "code",
   "execution_count": null,
   "id": "fdbaca1c",
   "metadata": {},
   "outputs": [],
   "source": []
  },
  {
   "cell_type": "code",
   "execution_count": null,
   "id": "a95384ec",
   "metadata": {},
   "outputs": [],
   "source": []
  },
  {
   "cell_type": "code",
   "execution_count": null,
   "id": "c49f6df5",
   "metadata": {},
   "outputs": [],
   "source": []
  },
  {
   "cell_type": "code",
   "execution_count": null,
   "id": "eb50c683",
   "metadata": {},
   "outputs": [],
   "source": []
  },
  {
   "cell_type": "code",
   "execution_count": null,
   "id": "31de636a",
   "metadata": {},
   "outputs": [],
   "source": []
  },
  {
   "cell_type": "code",
   "execution_count": null,
   "id": "04422c25",
   "metadata": {},
   "outputs": [],
   "source": []
  },
  {
   "cell_type": "code",
   "execution_count": null,
   "id": "a34738de",
   "metadata": {},
   "outputs": [],
   "source": [
    "import Day3_Modules as mods\n"
   ]
  }
 ],
 "metadata": {
  "kernelspec": {
   "display_name": "myenv",
   "language": "python",
   "name": "python3"
  },
  "language_info": {
   "codemirror_mode": {
    "name": "ipython",
    "version": 3
   },
   "file_extension": ".py",
   "mimetype": "text/x-python",
   "name": "python",
   "nbconvert_exporter": "python",
   "pygments_lexer": "ipython3",
   "version": "3.13.5"
  }
 },
 "nbformat": 4,
 "nbformat_minor": 5
}
