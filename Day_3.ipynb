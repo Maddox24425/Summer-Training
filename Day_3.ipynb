{
 "cells": [
  {
   "cell_type": "markdown",
   "id": "787486f1",
   "metadata": {},
   "source": [
    "Day 3"
   ]
  },
  {
   "cell_type": "code",
   "execution_count": null,
   "id": "1b43a4ca",
   "metadata": {},
   "outputs": [],
   "source": [
    "#Kewword Arguments(**kwargs), one will be key and other will be the data just like dictionary\n",
    "import pandas as pd\n",
    "def student_records(**kwargs):\n",
    "    keys=list(kwargs) #Type Casting will provide us the keys of the dictionary\n",
    "    \n",
    "    try:\n",
    "        result=pd.DataFrame(kwargs)\n",
    "        return result\n",
    "    except:\n",
    "        result=pd.DataFrame(kwargs, index=[1])\n",
    "        return result\n",
    "\n",
    "data1=student_records(Name=[\"Farhan\",\"Abhinav\"],Age=[19,20],Roll_No=[17,11],Course=[\"BCA\",\"BCA\"],Section=['M1','M1'])\n",
    "print(data1)"
   ]
  }
 ],
 "metadata": {
  "kernelspec": {
   "display_name": "myenv",
   "language": "python",
   "name": "python3"
  },
  "language_info": {
   "name": "python",
   "version": "3.13.3"
  }
 },
 "nbformat": 4,
 "nbformat_minor": 5
}
