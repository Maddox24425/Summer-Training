{
 "cells": [
  {
   "cell_type": "markdown",
   "id": "787486f1",
   "metadata": {},
   "source": [
    "Day 3"
   ]
  },
  {
   "cell_type": "markdown",
   "id": "1bb3502b",
   "metadata": {},
   "source": [
    "Function Programming"
   ]
  },
  {
   "cell_type": "code",
   "execution_count": null,
   "id": "a2e12852",
   "metadata": {},
   "outputs": [],
   "source": [
    "#Exception Handling\n",
    "\n",
    "a='23'\n",
    "try:\n",
    "    if a>=10:\n",
    "        print(\"Greater\")\n",
    "    else:\n",
    "        print(\"Lower\")\n",
    "\n",
    "except TypeError:\n",
    "    print(\"This is type error\")\n",
    "\n",
    "except: #No need to mention the type of exception explicitly, then it will handle any exception type\n",
    "    print(f'Something went wrong')\n",
    "\n"
   ]
  },
  {
   "cell_type": "code",
   "execution_count": null,
   "id": "1b43a4ca",
   "metadata": {},
   "outputs": [],
   "source": [
    "#Kewword Arguments(**kwargs), one will be key and other will be the data just like dictionary\n",
    "import pandas as pd\n",
    "def student_records(**kwargs):\n",
    "    #keys=list(kwargs) #Type Casting will provide us the keys of the dictionary\n",
    "    \n",
    "    try:\n",
    "        result=pd.DataFrame(kwargs)\n",
    "        return result\n",
    "    except:\n",
    "        result=pd.DataFrame(kwargs, index=[1])\n",
    "        return result\n",
    "\n",
    "data1=student_records(Name=[\"Farhan\",\"Abhinav\",'Tejashvi'],\n",
    "Age=[19,20,21],Roll_No=[17,11,1],\n",
    "Course=[\"BCA\",\"BCA\",'BCA'],\n",
    "Section=['M1','M2','M1'],\n",
    "Score=list('ABO')) #Check this one\n",
    "display(data1)"
   ]
  },
  {
   "cell_type": "code",
   "execution_count": null,
   "id": "92a35378",
   "metadata": {},
   "outputs": [],
   "source": [
    "#While loop show_time() with exception handling\n",
    "import time\n",
    "def show_time():\n",
    "    try:\n",
    "        while True:\n",
    "            print(time.asctime())\n",
    "            time.sleep(1)\n",
    "            display(clear=True)\n",
    "    except:\n",
    "        print(\"Timer Stopped\")\n",
    "show_time()\n"
   ]
  },
  {
   "cell_type": "markdown",
   "id": "ff5649f7",
   "metadata": {},
   "source": [
    "Modules (Importing)"
   ]
  },
  {
   "cell_type": "code",
   "execution_count": null,
   "id": "a34738de",
   "metadata": {},
   "outputs": [],
   "source": [
    "#Importing the module here\n",
    "import Day3_Modules as mods\n",
    "print('Imported')\n",
    "#mods.factorial(5)\n",
    "#mods.show_time()\n",
    "mods.print_star(5,'left','=')\n",
    "#mods.sound_box(100,'PayTM')"
   ]
  },
  {
   "cell_type": "code",
   "execution_count": null,
   "id": "a3e3d0ef",
   "metadata": {},
   "outputs": [],
   "source": [
    "from Day3_Modules import show_time\n",
    "show_time()\n"
   ]
  },
  {
   "cell_type": "code",
   "execution_count": null,
   "id": "39e119b7",
   "metadata": {},
   "outputs": [],
   "source": [
    "from Day3_Modules import *\n",
    "show_time()"
   ]
  },
  {
   "cell_type": "markdown",
   "id": "f665bdf6",
   "metadata": {},
   "source": [
    "Pre-Defined Module (Turtle)"
   ]
  },
  {
   "cell_type": "code",
   "execution_count": null,
   "id": "11feff0a",
   "metadata": {},
   "outputs": [],
   "source": [
    "import turtle \n",
    "import random\n",
    "for i in range(120):\n",
    "    turtle.speed(0)\n",
    "    turtle.bgcolor('blue')\n",
    "    col=['red','green','blue']\n",
    "    which=random.choice(col)\n",
    "    turtle.color('black')\n",
    "    turtle.circle(100)#100 radius circle 4 times\n",
    "    turtle.left(3)"
   ]
  },
  {
   "cell_type": "code",
   "execution_count": null,
   "id": "8e9db010",
   "metadata": {},
   "outputs": [],
   "source": [
    "import turtle\n",
    "for i in range(6):\n",
    "    turtle.color('blue')\n",
    "    turtle.forward(100)\n",
    "    turtle.left(60)"
   ]
  },
  {
   "cell_type": "markdown",
   "id": "26f5f177",
   "metadata": {},
   "source": [
    "File Handling"
   ]
  },
  {
   "cell_type": "code",
   "execution_count": 12,
   "id": "5aafb923",
   "metadata": {},
   "outputs": [
    {
     "name": "stdout",
     "output_type": "stream",
     "text": [
      "print('''This is Day3_Modules file\n",
      "\n"
     ]
    }
   ],
   "source": [
    "#context manager\n",
    "file=open('Day3_Modules.py',mode='r')\n",
    "print(file.readline())\n",
    "file.close()"
   ]
  }
 ],
 "metadata": {
  "kernelspec": {
   "display_name": "myenv",
   "language": "python",
   "name": "python3"
  },
  "language_info": {
   "codemirror_mode": {
    "name": "ipython",
    "version": 3
   },
   "file_extension": ".py",
   "mimetype": "text/x-python",
   "name": "python",
   "nbconvert_exporter": "python",
   "pygments_lexer": "ipython3",
   "version": "3.13.5"
  }
 },
 "nbformat": 4,
 "nbformat_minor": 5
}
