{
 "cells": [
  {
   "cell_type": "code",
   "execution_count": null,
   "metadata": {},
   "outputs": [],
   "source": [
    "a=123.4\n",
    "print(a, type(a))"
   ]
  },
  {
   "cell_type": "code",
   "execution_count": null,
   "metadata": {},
   "outputs": [],
   "source": [
    "a=123.4+8j\n",
    "print(a, type(a))"
   ]
  },
  {
   "cell_type": "code",
   "execution_count": null,
   "metadata": {},
   "outputs": [],
   "source": [
    "a= \"Hello\"\n",
    "print(a, type(a))\n"
   ]
  },
  {
   "cell_type": "code",
   "execution_count": null,
   "metadata": {},
   "outputs": [],
   "source": [
    "a=[1]\n",
    "print(a, type(a))"
   ]
  },
  {
   "cell_type": "code",
   "execution_count": null,
   "metadata": {},
   "outputs": [],
   "source": [
    "a=(1,)\n",
    "print(a, type(a))"
   ]
  },
  {
   "cell_type": "code",
   "execution_count": null,
   "metadata": {},
   "outputs": [],
   "source": [
    "a=(1,2,3,4,5)\n",
    "b=list(a)\n",
    "b[3]=10\n",
    "print(b, type(b))"
   ]
  },
  {
   "cell_type": "code",
   "execution_count": null,
   "metadata": {},
   "outputs": [],
   "source": [
    "student_id=[1,1,1,1,2,2,3,4,4,4,5,6,7,7,7]\n",
    "student_id=list(set(student_id))\n",
    "print(student_id)"
   ]
  },
  {
   "cell_type": "code",
   "execution_count": null,
   "metadata": {},
   "outputs": [],
   "source": [
    "#dictionary, key value pair datatype\n",
    "vol={'a':\"Hello\", 'b':\"World\"}\n",
    "print(vol)\n",
    "vol['a']=(\"hello\")\n",
    "print(vol)\n"
   ]
  },
  {
   "cell_type": "code",
   "execution_count": null,
   "metadata": {},
   "outputs": [],
   "source": [
    "import pandas as pd\n",
    "data={'temp':[31,21,33,43],'region':['North','West','East','South']}\n",
    "print(pd.DataFrame(data))"
   ]
  },
  {
   "cell_type": "code",
   "execution_count": null,
   "metadata": {},
   "outputs": [],
   "source": [
    "salary=int(input(\"Enter an amount\"))\n",
    "if salary>=50000:\n",
    "    print(\"Post: Manager\")\n",
    "elif salary>=30000:\n",
    "    print(\"Post: Jr Manager\")\n",
    "elif salary>=20000:\n",
    "    print(\"Post: Executive\")\n",
    "else:\n",
    "    print(\"Post: Intern\")"
   ]
  },
  {
   "cell_type": "code",
   "execution_count": null,
   "metadata": {},
   "outputs": [],
   "source": [
    "import numpy as np\n",
    "arr=np.random.randint(10000,60000,10)# 5 random integer between 10000 and 60000\n",
    "print(arr, type(arr))\n",
    "for i in arr:\n",
    "   salary=i\n",
    "   if salary>=50000:\n",
    "       print(\"Post: Manager\")\n",
    "   elif salary>=30000:\n",
    "       print(\"Post: Jr Manager\")\n",
    "   elif salary>=20000:\n",
    "       print(\"Post: Executive\")\n",
    "   else:\n",
    "       print(\"Post: Intern\")"
   ]
  },
  {
   "cell_type": "code",
   "execution_count": null,
   "metadata": {},
   "outputs": [],
   "source": [
    "import time\n",
    "for i in range(10):\n",
    "    print(time.asctime()) #\n",
    "    time.sleep(1) #show time after every 1 second by sleeping the program and waking it after 1 second\n",
    "    display(clear=True) #To display while clearing previous output when printing."
   ]
  },
  {
   "cell_type": "code",
   "execution_count": null,
   "metadata": {},
   "outputs": [],
   "source": [
    "import random\n",
    "times=int(input(\"How many times?\"))\n",
    "for i in range (times):\n",
    "    user=int(input(\"Enter your number between 1 to 10\"))\n",
    "    new=random.randint(1,10)\n",
    "    if user ==new:\n",
    "        print(f'You Win')\n",
    "    else:\n",
    "        print(f\"Better Luck next time, Computer choice was {new}\")\n",
    "print(\"You're done for today, come back tomorrow\")"
   ]
  },
  {
   "cell_type": "code",
   "execution_count": null,
   "metadata": {},
   "outputs": [],
   "source": [
    "Questions = {1:'What is the capital of Australia?',\n",
    "             2:'Who invented the telephone?',\n",
    "             3:'Which planet is known as the Red Planet?',\n",
    "             4:'In which year did India gain independence?',\n",
    "             5:'What is the largest organ in the human body?'}\n",
    "\n",
    "options = {1:'''1) Sydney\n",
    "2) Melbourne\n",
    "3) Canberra\n",
    "4) Perth''',\n",
    "           2:'''1) Albert Einstein\n",
    "2) Isaac Newton\n",
    "3) Alexander Graham Bell\n",
    "4) Thomas Edison''',\n",
    "           3:'''1) Earth\n",
    "2) Venus\n",
    "3) Jupiter\n",
    "4) Mars''',\n",
    "           4:'''1) 1945\n",
    "2) 1946\n",
    "3) 1947\n",
    "4) 1950''',\n",
    "           5:'''1) Liver\n",
    "2) Brain\n",
    "3) Skin\n",
    "4) Heart'''}\n",
    "\n",
    "correct_op=[3,3,4,3,3]\n",
    "win_amount=0\n",
    "for i in range (1,len(Questions)+1):\n",
    "    print(Questions[i])\n",
    "    print(options[i])\n",
    "    answer=int(input(\"choose the correct option\"))\n",
    "    correct_answer = correct_op[i-1]\n",
    "    if answer==correct_answer:\n",
    "        win_amount+=10000\n",
    "        print(f\"Correct Answer {win_amount}\" )\n",
    "    else:\n",
    "        print(\"Wrong Answer\")\n",
    "        break\n",
    "print(f\"You loose {win_amount}\")"
   ]
  },
  {
   "cell_type": "code",
   "execution_count": null,
   "metadata": {},
   "outputs": [
    {
     "name": "stdout",
     "output_type": "stream",
     "text": [
      "Not Eligible\n"
     ]
    }
   ],
   "source": [
    "def voting(ages):\n",
    "    # if ages>=18:\n",
    "    #     print(\"Eligible\")\n",
    "    # else:\n",
    "    #     print(\"Not eligible\") \n",
    "    print(\"Eligible\") if age>=18 else print(\"Not Eligible\") #one liner function\n",
    "age=int(input('Enter your age: '))\n",
    "voting(age)"
   ]
  },
  {
   "cell_type": "code",
   "execution_count": null,
   "metadata": {},
   "outputs": [
    {
     "name": "stdout",
     "output_type": "stream",
     "text": [
      "Speech saved as output.mp3\n"
     ]
    }
   ],
   "source": [
    "from gtts import gTTS\n",
    "import pygame as p\n",
    "\n",
    "def sound_box(amount, platform = \"Paytm\"):\n",
    "    # Text you want to convert to speech\n",
    "    text = (f\"{platform} pe {amount} prapt hue\")\n",
    "\n",
    "    # Create gTTS object\n",
    "    speech = gTTS(text=text, slow=False)\n",
    "\n",
    "    # Save the audio file\n",
    "    speech.save(\"output.mp3\")\n",
    "\n",
    "    print(\"Speech saved as output.mp3\")\n",
    "\n",
    "    do=int(input(\"DO you want to listen to the audio?\"))\n",
    "    if do==1:\n",
    "        p.init()\n",
    "        music=p.mixer.Sound('output.mp3')\n",
    "        music.play()\n",
    "    else:\n",
    "        print(\"Exiting\")\n",
    "        \n",
    "sound_box(100, 'Phone pe')"
   ]
  }
 ],
 "metadata": {
  "kernelspec": {
   "display_name": "Python 3",
   "language": "python",
   "name": "python3"
  },
  "language_info": {
   "codemirror_mode": {
    "name": "ipython",
    "version": 3
   },
   "file_extension": ".py",
   "mimetype": "text/x-python",
   "name": "python",
   "nbconvert_exporter": "python",
   "pygments_lexer": "ipython3",
   "version": "3.13.5"
  }
 },
 "nbformat": 4,
 "nbformat_minor": 2
}
