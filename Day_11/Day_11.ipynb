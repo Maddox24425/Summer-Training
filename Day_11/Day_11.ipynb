{
  "cells": [
    {
      "cell_type": "code",
      "execution_count": null,
      "metadata": {
        "id": "PoAiMP3SyTl8"
      },
      "outputs": [],
      "source": [
        "import qrcode\n",
        "img = qrcode.make('https://colab.research.google.com/drive/17qdEJHd2jXsfFI1yzdiboK9IFgFxZyfv?usp=sharing')\n",
        "img.save('myqr.png')\n"
      ]
    },
    {
      "cell_type": "code",
      "execution_count": null,
      "metadata": {
        "id": "9CH1X0QZzRm0"
      },
      "outputs": [],
      "source": [
        "# pip install qrcode"
      ]
    },
    {
      "cell_type": "code",
      "execution_count": null,
      "metadata": {
        "id": "cAjVu8HIzTWv"
      },
      "outputs": [],
      "source": [
        "# DataTypes Pandas\n",
        "# Read File\n",
        "# Head\n",
        "# Info\n",
        "# tail\n",
        "# Sample\n",
        "# describe\n",
        "# corr\n",
        "# columns\n",
        "# index\n",
        "# isna\n",
        "# fillna\n",
        "# replace\n",
        "# drop\n",
        "# outliers detection\n",
        "# plots\n",
        "# masking\n",
        "# group by\n",
        "# pivot table\n",
        "# Analysis"
      ]
    },
    {
      "cell_type": "code",
      "execution_count": null,
      "metadata": {
        "id": "VTRoK9kO07e1"
      },
      "outputs": [],
      "source": [
        "'''https://www.kaggle.com/datasets/manishkr1754/cardekho-used-car-data'''"
      ]
    },
    {
      "cell_type": "code",
      "execution_count": 1,
      "metadata": {
        "id": "SHTvNwJO11Q9"
      },
      "outputs": [
        {
          "name": "stderr",
          "output_type": "stream",
          "text": [
            "d:\\Data Science\\myenv\\Lib\\site-packages\\tqdm\\auto.py:21: TqdmWarning: IProgress not found. Please update jupyter and ipywidgets. See https://ipywidgets.readthedocs.io/en/stable/user_install.html\n",
            "  from .autonotebook import tqdm as notebook_tqdm\n"
          ]
        },
        {
          "name": "stdout",
          "output_type": "stream",
          "text": [
            "Downloading from https://www.kaggle.com/api/v1/datasets/download/manishkr1754/cardekho-used-car-data?dataset_version_number=2...\n"
          ]
        },
        {
          "name": "stderr",
          "output_type": "stream",
          "text": [
            "100%|██████████| 230k/230k [00:00<00:00, 246kB/s]"
          ]
        },
        {
          "name": "stdout",
          "output_type": "stream",
          "text": [
            "Extracting files...\n",
            "Path to dataset files: C:\\Users\\Maddox\\.cache\\kagglehub\\datasets\\manishkr1754\\cardekho-used-car-data\\versions\\2\n"
          ]
        },
        {
          "name": "stderr",
          "output_type": "stream",
          "text": [
            "\n"
          ]
        }
      ],
      "source": [
        "'''this code will download the dataset freom kagglehub and save it in cache directory.\n",
        "if we run this code again it will not download the dataset again, \n",
        "it will use the cached version. however, if there are any changes to the dataset on kaggle,\n",
        "it will download the latest version.'''\n",
        "import kagglehub\n",
        "\n",
        "# Download latest version\n",
        "path = kagglehub.dataset_download(\"manishkr1754/cardekho-used-car-data\")\n",
        "\n",
        "print(\"Path to dataset files:\", path)"
      ]
    },
    {
      "cell_type": "code",
      "execution_count": 2,
      "metadata": {
        "id": "qv3TiNE-2DJp"
      },
      "outputs": [
        {
          "data": {
            "text/plain": [
              "['cardekho_dataset.csv']"
            ]
          },
          "execution_count": 2,
          "metadata": {},
          "output_type": "execute_result"
        }
      ],
      "source": [
        "# os is an standard Python library for interacting with the operating system. Here, it's used\n",
        "#to list les in a directory.\n",
        "import os\n",
        "all_files = os.listdir(path) # lists all files in the downloaded dataset's directory\n",
        "all_files"
      ]
    },
    {
      "cell_type": "code",
      "execution_count": 3,
      "metadata": {
        "id": "zNQpHUPW2gul"
      },
      "outputs": [
        {
          "data": {
            "text/plain": [
              "'C:\\\\Users\\\\Maddox\\\\.cache\\\\kagglehub\\\\datasets\\\\manishkr1754\\\\cardekho-used-car-data\\\\versions\\\\2/cardekho_dataset.csv'"
            ]
          },
          "execution_count": 3,
          "metadata": {},
          "output_type": "execute_result"
        }
      ],
      "source": [
        "# The code then constructs the full path to the first file.\n",
        "file_path = path + '/'+ all_files[0]\n",
        "file_path"
      ]
    },
    {
      "cell_type": "code",
      "execution_count": 4,
      "metadata": {
        "id": "4tjxZikO2iPi"
      },
      "outputs": [
        {
          "name": "stdout",
          "output_type": "stream",
          "text": [
            "File Loaded Successfully!!\n"
          ]
        }
      ],
      "source": [
        "import pandas as pd\n",
        "df = pd.read_csv(file_path)\n",
        "print('File Loaded Successfully!!')"
      ]
    },
    {
      "cell_type": "code",
      "execution_count": null,
      "metadata": {
        "id": "web5Zs-v59o0"
      },
      "outputs": [],
      "source": [
        "# Step 1\n",
        "# Module Import\n",
        "\n",
        "# Step 2\n",
        "# File Read"
      ]
    },
    {
      "cell_type": "code",
      "execution_count": 5,
      "metadata": {
        "id": "LbEQ0eTh6Nzj"
      },
      "outputs": [
        {
          "data": {
            "text/html": [
              "<div>\n",
              "<style scoped>\n",
              "    .dataframe tbody tr th:only-of-type {\n",
              "        vertical-align: middle;\n",
              "    }\n",
              "\n",
              "    .dataframe tbody tr th {\n",
              "        vertical-align: top;\n",
              "    }\n",
              "\n",
              "    .dataframe thead th {\n",
              "        text-align: right;\n",
              "    }\n",
              "</style>\n",
              "<table border=\"1\" class=\"dataframe\">\n",
              "  <thead>\n",
              "    <tr style=\"text-align: right;\">\n",
              "      <th></th>\n",
              "      <th>Unnamed: 0</th>\n",
              "      <th>car_name</th>\n",
              "      <th>brand</th>\n",
              "      <th>model</th>\n",
              "      <th>vehicle_age</th>\n",
              "      <th>km_driven</th>\n",
              "      <th>seller_type</th>\n",
              "      <th>fuel_type</th>\n",
              "      <th>transmission_type</th>\n",
              "      <th>mileage</th>\n",
              "      <th>engine</th>\n",
              "      <th>max_power</th>\n",
              "      <th>seats</th>\n",
              "      <th>selling_price</th>\n",
              "    </tr>\n",
              "  </thead>\n",
              "  <tbody>\n",
              "    <tr>\n",
              "      <th>0</th>\n",
              "      <td>0</td>\n",
              "      <td>Maruti Alto</td>\n",
              "      <td>Maruti</td>\n",
              "      <td>Alto</td>\n",
              "      <td>9</td>\n",
              "      <td>120000</td>\n",
              "      <td>Individual</td>\n",
              "      <td>Petrol</td>\n",
              "      <td>Manual</td>\n",
              "      <td>19.70</td>\n",
              "      <td>796</td>\n",
              "      <td>46.30</td>\n",
              "      <td>5</td>\n",
              "      <td>120000</td>\n",
              "    </tr>\n",
              "    <tr>\n",
              "      <th>1</th>\n",
              "      <td>1</td>\n",
              "      <td>Hyundai Grand</td>\n",
              "      <td>Hyundai</td>\n",
              "      <td>Grand</td>\n",
              "      <td>5</td>\n",
              "      <td>20000</td>\n",
              "      <td>Individual</td>\n",
              "      <td>Petrol</td>\n",
              "      <td>Manual</td>\n",
              "      <td>18.90</td>\n",
              "      <td>1197</td>\n",
              "      <td>82.00</td>\n",
              "      <td>5</td>\n",
              "      <td>550000</td>\n",
              "    </tr>\n",
              "    <tr>\n",
              "      <th>2</th>\n",
              "      <td>2</td>\n",
              "      <td>Hyundai i20</td>\n",
              "      <td>Hyundai</td>\n",
              "      <td>i20</td>\n",
              "      <td>11</td>\n",
              "      <td>60000</td>\n",
              "      <td>Individual</td>\n",
              "      <td>Petrol</td>\n",
              "      <td>Manual</td>\n",
              "      <td>17.00</td>\n",
              "      <td>1197</td>\n",
              "      <td>80.00</td>\n",
              "      <td>5</td>\n",
              "      <td>215000</td>\n",
              "    </tr>\n",
              "    <tr>\n",
              "      <th>3</th>\n",
              "      <td>3</td>\n",
              "      <td>Maruti Alto</td>\n",
              "      <td>Maruti</td>\n",
              "      <td>Alto</td>\n",
              "      <td>9</td>\n",
              "      <td>37000</td>\n",
              "      <td>Individual</td>\n",
              "      <td>Petrol</td>\n",
              "      <td>Manual</td>\n",
              "      <td>20.92</td>\n",
              "      <td>998</td>\n",
              "      <td>67.10</td>\n",
              "      <td>5</td>\n",
              "      <td>226000</td>\n",
              "    </tr>\n",
              "    <tr>\n",
              "      <th>4</th>\n",
              "      <td>4</td>\n",
              "      <td>Ford Ecosport</td>\n",
              "      <td>Ford</td>\n",
              "      <td>Ecosport</td>\n",
              "      <td>6</td>\n",
              "      <td>30000</td>\n",
              "      <td>Dealer</td>\n",
              "      <td>Diesel</td>\n",
              "      <td>Manual</td>\n",
              "      <td>22.77</td>\n",
              "      <td>1498</td>\n",
              "      <td>98.59</td>\n",
              "      <td>5</td>\n",
              "      <td>570000</td>\n",
              "    </tr>\n",
              "  </tbody>\n",
              "</table>\n",
              "</div>"
            ],
            "text/plain": [
              "   Unnamed: 0       car_name    brand     model  vehicle_age  km_driven  \\\n",
              "0           0    Maruti Alto   Maruti      Alto            9     120000   \n",
              "1           1  Hyundai Grand  Hyundai     Grand            5      20000   \n",
              "2           2    Hyundai i20  Hyundai       i20           11      60000   \n",
              "3           3    Maruti Alto   Maruti      Alto            9      37000   \n",
              "4           4  Ford Ecosport     Ford  Ecosport            6      30000   \n",
              "\n",
              "  seller_type fuel_type transmission_type  mileage  engine  max_power  seats  \\\n",
              "0  Individual    Petrol            Manual    19.70     796      46.30      5   \n",
              "1  Individual    Petrol            Manual    18.90    1197      82.00      5   \n",
              "2  Individual    Petrol            Manual    17.00    1197      80.00      5   \n",
              "3  Individual    Petrol            Manual    20.92     998      67.10      5   \n",
              "4      Dealer    Diesel            Manual    22.77    1498      98.59      5   \n",
              "\n",
              "   selling_price  \n",
              "0         120000  \n",
              "1         550000  \n",
              "2         215000  \n",
              "3         226000  \n",
              "4         570000  "
            ]
          },
          "execution_count": 5,
          "metadata": {},
          "output_type": "execute_result"
        }
      ],
      "source": [
        "# Step 3\n",
        "df.head()"
      ]
    },
    {
      "cell_type": "code",
      "execution_count": 6,
      "metadata": {
        "id": "T9g1pnDB6Pm9"
      },
      "outputs": [
        {
          "data": {
            "text/html": [
              "<div>\n",
              "<style scoped>\n",
              "    .dataframe tbody tr th:only-of-type {\n",
              "        vertical-align: middle;\n",
              "    }\n",
              "\n",
              "    .dataframe tbody tr th {\n",
              "        vertical-align: top;\n",
              "    }\n",
              "\n",
              "    .dataframe thead th {\n",
              "        text-align: right;\n",
              "    }\n",
              "</style>\n",
              "<table border=\"1\" class=\"dataframe\">\n",
              "  <thead>\n",
              "    <tr style=\"text-align: right;\">\n",
              "      <th></th>\n",
              "      <th>Unnamed: 0</th>\n",
              "      <th>car_name</th>\n",
              "      <th>brand</th>\n",
              "      <th>model</th>\n",
              "      <th>vehicle_age</th>\n",
              "      <th>km_driven</th>\n",
              "      <th>seller_type</th>\n",
              "      <th>fuel_type</th>\n",
              "      <th>transmission_type</th>\n",
              "      <th>mileage</th>\n",
              "      <th>engine</th>\n",
              "      <th>max_power</th>\n",
              "      <th>seats</th>\n",
              "      <th>selling_price</th>\n",
              "    </tr>\n",
              "  </thead>\n",
              "  <tbody>\n",
              "    <tr>\n",
              "      <th>15406</th>\n",
              "      <td>19537</td>\n",
              "      <td>Hyundai i10</td>\n",
              "      <td>Hyundai</td>\n",
              "      <td>i10</td>\n",
              "      <td>9</td>\n",
              "      <td>10723</td>\n",
              "      <td>Dealer</td>\n",
              "      <td>Petrol</td>\n",
              "      <td>Manual</td>\n",
              "      <td>19.81</td>\n",
              "      <td>1086</td>\n",
              "      <td>68.05</td>\n",
              "      <td>5</td>\n",
              "      <td>250000</td>\n",
              "    </tr>\n",
              "    <tr>\n",
              "      <th>15407</th>\n",
              "      <td>19540</td>\n",
              "      <td>Maruti Ertiga</td>\n",
              "      <td>Maruti</td>\n",
              "      <td>Ertiga</td>\n",
              "      <td>2</td>\n",
              "      <td>18000</td>\n",
              "      <td>Dealer</td>\n",
              "      <td>Petrol</td>\n",
              "      <td>Manual</td>\n",
              "      <td>17.50</td>\n",
              "      <td>1373</td>\n",
              "      <td>91.10</td>\n",
              "      <td>7</td>\n",
              "      <td>925000</td>\n",
              "    </tr>\n",
              "    <tr>\n",
              "      <th>15408</th>\n",
              "      <td>19541</td>\n",
              "      <td>Skoda Rapid</td>\n",
              "      <td>Skoda</td>\n",
              "      <td>Rapid</td>\n",
              "      <td>6</td>\n",
              "      <td>67000</td>\n",
              "      <td>Dealer</td>\n",
              "      <td>Diesel</td>\n",
              "      <td>Manual</td>\n",
              "      <td>21.14</td>\n",
              "      <td>1498</td>\n",
              "      <td>103.52</td>\n",
              "      <td>5</td>\n",
              "      <td>425000</td>\n",
              "    </tr>\n",
              "    <tr>\n",
              "      <th>15409</th>\n",
              "      <td>19542</td>\n",
              "      <td>Mahindra XUV500</td>\n",
              "      <td>Mahindra</td>\n",
              "      <td>XUV500</td>\n",
              "      <td>5</td>\n",
              "      <td>3800000</td>\n",
              "      <td>Dealer</td>\n",
              "      <td>Diesel</td>\n",
              "      <td>Manual</td>\n",
              "      <td>16.00</td>\n",
              "      <td>2179</td>\n",
              "      <td>140.00</td>\n",
              "      <td>7</td>\n",
              "      <td>1225000</td>\n",
              "    </tr>\n",
              "    <tr>\n",
              "      <th>15410</th>\n",
              "      <td>19543</td>\n",
              "      <td>Honda City</td>\n",
              "      <td>Honda</td>\n",
              "      <td>City</td>\n",
              "      <td>2</td>\n",
              "      <td>13000</td>\n",
              "      <td>Dealer</td>\n",
              "      <td>Petrol</td>\n",
              "      <td>Automatic</td>\n",
              "      <td>18.00</td>\n",
              "      <td>1497</td>\n",
              "      <td>117.60</td>\n",
              "      <td>5</td>\n",
              "      <td>1200000</td>\n",
              "    </tr>\n",
              "  </tbody>\n",
              "</table>\n",
              "</div>"
            ],
            "text/plain": [
              "       Unnamed: 0         car_name     brand   model  vehicle_age  km_driven  \\\n",
              "15406       19537      Hyundai i10   Hyundai     i10            9      10723   \n",
              "15407       19540    Maruti Ertiga    Maruti  Ertiga            2      18000   \n",
              "15408       19541      Skoda Rapid     Skoda   Rapid            6      67000   \n",
              "15409       19542  Mahindra XUV500  Mahindra  XUV500            5    3800000   \n",
              "15410       19543       Honda City     Honda    City            2      13000   \n",
              "\n",
              "      seller_type fuel_type transmission_type  mileage  engine  max_power  \\\n",
              "15406      Dealer    Petrol            Manual    19.81    1086      68.05   \n",
              "15407      Dealer    Petrol            Manual    17.50    1373      91.10   \n",
              "15408      Dealer    Diesel            Manual    21.14    1498     103.52   \n",
              "15409      Dealer    Diesel            Manual    16.00    2179     140.00   \n",
              "15410      Dealer    Petrol         Automatic    18.00    1497     117.60   \n",
              "\n",
              "       seats  selling_price  \n",
              "15406      5         250000  \n",
              "15407      7         925000  \n",
              "15408      5         425000  \n",
              "15409      7        1225000  \n",
              "15410      5        1200000  "
            ]
          },
          "execution_count": 6,
          "metadata": {},
          "output_type": "execute_result"
        }
      ],
      "source": [
        "#\n",
        "df.tail()"
      ]
    },
    {
      "cell_type": "code",
      "execution_count": 7,
      "metadata": {
        "id": "zPjvAHTR7f61"
      },
      "outputs": [
        {
          "name": "stdout",
          "output_type": "stream",
          "text": [
            "<class 'pandas.core.frame.DataFrame'>\n",
            "RangeIndex: 15411 entries, 0 to 15410\n",
            "Data columns (total 14 columns):\n",
            " #   Column             Non-Null Count  Dtype  \n",
            "---  ------             --------------  -----  \n",
            " 0   Unnamed: 0         15411 non-null  int64  \n",
            " 1   car_name           15411 non-null  object \n",
            " 2   brand              15411 non-null  object \n",
            " 3   model              15411 non-null  object \n",
            " 4   vehicle_age        15411 non-null  int64  \n",
            " 5   km_driven          15411 non-null  int64  \n",
            " 6   seller_type        15411 non-null  object \n",
            " 7   fuel_type          15411 non-null  object \n",
            " 8   transmission_type  15411 non-null  object \n",
            " 9   mileage            15411 non-null  float64\n",
            " 10  engine             15411 non-null  int64  \n",
            " 11  max_power          15411 non-null  float64\n",
            " 12  seats              15411 non-null  int64  \n",
            " 13  selling_price      15411 non-null  int64  \n",
            "dtypes: float64(2), int64(6), object(6)\n",
            "memory usage: 1.6+ MB\n"
          ]
        }
      ],
      "source": [
        "#\n",
        "df.info()"
      ]
    },
    {
      "cell_type": "code",
      "execution_count": 8,
      "metadata": {
        "id": "PA_uEZEE7oCN"
      },
      "outputs": [
        {
          "name": "stdout",
          "output_type": "stream",
          "text": [
            "Dataset contains\n",
            "Rows: 15411\n",
            "Columns: 14\n"
          ]
        }
      ],
      "source": [
        "#df.shape: The df.shape aribute returns a tuple representing the dimensionality of\n",
        "#the DataFrame (rows, columns).\n",
        "\n",
        "r,c = df.shape\n",
        "print(f'''Dataset contains\n",
        "Rows: {r}\n",
        "Columns: {c}''')"
      ]
    },
    {
      "cell_type": "code",
      "execution_count": 9,
      "metadata": {
        "id": "OXe5dKpD8EJ0"
      },
      "outputs": [
        {
          "data": {
            "text/plain": [
              "Index(['Unnamed: 0', 'car_name', 'brand', 'model', 'vehicle_age', 'km_driven',\n",
              "       'seller_type', 'fuel_type', 'transmission_type', 'mileage', 'engine',\n",
              "       'max_power', 'seats', 'selling_price'],\n",
              "      dtype='object')"
            ]
          },
          "execution_count": 9,
          "metadata": {},
          "output_type": "execute_result"
        }
      ],
      "source": [
        "# list of columns\n",
        "df.columns"
      ]
    },
    {
      "cell_type": "code",
      "execution_count": null,
      "metadata": {
        "id": "gBVdFT7480CO"
      },
      "outputs": [],
      "source": [
        "# 'Unnamed: 0': Wrong Col"
      ]
    },
    {
      "cell_type": "code",
      "execution_count": null,
      "metadata": {
        "id": "70Z624ZY9Dmf"
      },
      "outputs": [],
      "source": [
        "df.drop('Unnamed: 0',axis = 1,inplace = True)\n",
        "'''axis=1 species that we are dropping a column ( axis=0 would be for a row)'''"
      ]
    },
    {
      "cell_type": "code",
      "execution_count": 11,
      "metadata": {
        "id": "DvJYMypc9JQT"
      },
      "outputs": [
        {
          "data": {
            "text/html": [
              "<div>\n",
              "<style scoped>\n",
              "    .dataframe tbody tr th:only-of-type {\n",
              "        vertical-align: middle;\n",
              "    }\n",
              "\n",
              "    .dataframe tbody tr th {\n",
              "        vertical-align: top;\n",
              "    }\n",
              "\n",
              "    .dataframe thead th {\n",
              "        text-align: right;\n",
              "    }\n",
              "</style>\n",
              "<table border=\"1\" class=\"dataframe\">\n",
              "  <thead>\n",
              "    <tr style=\"text-align: right;\">\n",
              "      <th></th>\n",
              "      <th>car_name</th>\n",
              "      <th>brand</th>\n",
              "      <th>model</th>\n",
              "      <th>vehicle_age</th>\n",
              "      <th>km_driven</th>\n",
              "      <th>seller_type</th>\n",
              "      <th>fuel_type</th>\n",
              "      <th>transmission_type</th>\n",
              "      <th>mileage</th>\n",
              "      <th>engine</th>\n",
              "      <th>max_power</th>\n",
              "      <th>seats</th>\n",
              "      <th>selling_price</th>\n",
              "    </tr>\n",
              "  </thead>\n",
              "  <tbody>\n",
              "    <tr>\n",
              "      <th>9352</th>\n",
              "      <td>Maruti Wagon R</td>\n",
              "      <td>Maruti</td>\n",
              "      <td>Wagon R</td>\n",
              "      <td>7</td>\n",
              "      <td>85000</td>\n",
              "      <td>Dealer</td>\n",
              "      <td>Petrol</td>\n",
              "      <td>Manual</td>\n",
              "      <td>21.79</td>\n",
              "      <td>998</td>\n",
              "      <td>67.05</td>\n",
              "      <td>5</td>\n",
              "      <td>325000</td>\n",
              "    </tr>\n",
              "    <tr>\n",
              "      <th>9397</th>\n",
              "      <td>Hyundai i20</td>\n",
              "      <td>Hyundai</td>\n",
              "      <td>i20</td>\n",
              "      <td>3</td>\n",
              "      <td>30000</td>\n",
              "      <td>Individual</td>\n",
              "      <td>Diesel</td>\n",
              "      <td>Manual</td>\n",
              "      <td>22.54</td>\n",
              "      <td>1396</td>\n",
              "      <td>88.73</td>\n",
              "      <td>5</td>\n",
              "      <td>731000</td>\n",
              "    </tr>\n",
              "    <tr>\n",
              "      <th>10612</th>\n",
              "      <td>Mercedes-Benz E-Class</td>\n",
              "      <td>Mercedes-Benz</td>\n",
              "      <td>E-Class</td>\n",
              "      <td>4</td>\n",
              "      <td>48000</td>\n",
              "      <td>Dealer</td>\n",
              "      <td>Petrol</td>\n",
              "      <td>Automatic</td>\n",
              "      <td>12.00</td>\n",
              "      <td>1991</td>\n",
              "      <td>184.00</td>\n",
              "      <td>5</td>\n",
              "      <td>3990000</td>\n",
              "    </tr>\n",
              "  </tbody>\n",
              "</table>\n",
              "</div>"
            ],
            "text/plain": [
              "                    car_name          brand    model  vehicle_age  km_driven  \\\n",
              "9352          Maruti Wagon R         Maruti  Wagon R            7      85000   \n",
              "9397             Hyundai i20        Hyundai      i20            3      30000   \n",
              "10612  Mercedes-Benz E-Class  Mercedes-Benz  E-Class            4      48000   \n",
              "\n",
              "      seller_type fuel_type transmission_type  mileage  engine  max_power  \\\n",
              "9352       Dealer    Petrol            Manual    21.79     998      67.05   \n",
              "9397   Individual    Diesel            Manual    22.54    1396      88.73   \n",
              "10612      Dealer    Petrol         Automatic    12.00    1991     184.00   \n",
              "\n",
              "       seats  selling_price  \n",
              "9352       5         325000  \n",
              "9397       5         731000  \n",
              "10612      5        3990000  "
            ]
          },
          "execution_count": 11,
          "metadata": {},
          "output_type": "execute_result"
        }
      ],
      "source": [
        "# sample\n",
        "df.sample(3)"
      ]
    },
    {
      "cell_type": "code",
      "execution_count": 12,
      "metadata": {
        "id": "VKKL2eRm9fof"
      },
      "outputs": [
        {
          "data": {
            "text/plain": [
              "RangeIndex(start=0, stop=15411, step=1)"
            ]
          },
          "execution_count": 12,
          "metadata": {},
          "output_type": "execute_result"
        }
      ],
      "source": [
        "df.index  # it will check index range"
      ]
    },
    {
      "cell_type": "code",
      "execution_count": 13,
      "metadata": {
        "id": "jpSGmIzt_HkQ"
      },
      "outputs": [
        {
          "data": {
            "text/plain": [
              "car_name             0\n",
              "brand                0\n",
              "model                0\n",
              "vehicle_age          0\n",
              "km_driven            0\n",
              "seller_type          0\n",
              "fuel_type            0\n",
              "transmission_type    0\n",
              "mileage              0\n",
              "engine               0\n",
              "max_power            0\n",
              "seats                0\n",
              "selling_price        0\n",
              "dtype: int64"
            ]
          },
          "execution_count": 13,
          "metadata": {},
          "output_type": "execute_result"
        }
      ],
      "source": [
        "# missing value\n",
        "df.isna().sum()  # Zero represents no null value found"
      ]
    },
    {
      "cell_type": "code",
      "execution_count": 14,
      "metadata": {
        "id": "qGjx8hJy_cVa"
      },
      "outputs": [
        {
          "data": {
            "text/plain": [
              "car_name             0\n",
              "brand                0\n",
              "model                0\n",
              "vehicle_age          0\n",
              "km_driven            0\n",
              "seller_type          0\n",
              "fuel_type            0\n",
              "transmission_type    0\n",
              "mileage              0\n",
              "engine               0\n",
              "max_power            0\n",
              "seats                0\n",
              "selling_price        0\n",
              "dtype: int64"
            ]
          },
          "execution_count": 14,
          "metadata": {},
          "output_type": "execute_result"
        }
      ],
      "source": [
        "df.isnull().sum()"
      ]
    },
    {
      "cell_type": "code",
      "execution_count": 15,
      "metadata": {
        "id": "BzMEm1nN_x4M"
      },
      "outputs": [
        {
          "data": {
            "text/plain": [
              "<Axes: >"
            ]
          },
          "execution_count": 15,
          "metadata": {},
          "output_type": "execute_result"
        },
        {
          "data": {
            "image/png": "[encoded data removed]",
            "text/plain": [
              "<Figure size 640x480 with 2 Axes>"
            ]
          },
          "metadata": {},
          "output_type": "display_data"
        }
      ],
      "source": [
        "# graph/viusals : heatmap\n",
        "'''sns.heatmap() creates a graphical representation of data where values are depicted\n",
        "by color. When used on df.isnull(), it creates a chart that visually shows the paern of\n",
        "missing data. A solid color block indicates no missing values.\n",
        "'''\n",
        "\n",
        "import seaborn as sns\n",
        "sns.heatmap(df.isnull())"
      ]
    },
    {
      "cell_type": "code",
      "execution_count": null,
      "metadata": {
        "id": "escXe_XLACBW"
      },
      "outputs": [],
      "source": [
        "# Missing Values:\n",
        "# Replace/ Fill/Remove/Ignore"
      ]
    },
    {
      "cell_type": "markdown",
      "metadata": {},
      "source": [
        "Descriptive Statistics"
      ]
    },
    {
      "cell_type": "markdown",
      "metadata": {},
      "source": [
        "Numerical Summary"
      ]
    },
    {
      "cell_type": "code",
      "execution_count": 16,
      "metadata": {
        "id": "zMX7J_JBAw3P"
      },
      "outputs": [
        {
          "data": {
            "text/html": [
              "<div>\n",
              "<style scoped>\n",
              "    .dataframe tbody tr th:only-of-type {\n",
              "        vertical-align: middle;\n",
              "    }\n",
              "\n",
              "    .dataframe tbody tr th {\n",
              "        vertical-align: top;\n",
              "    }\n",
              "\n",
              "    .dataframe thead th {\n",
              "        text-align: right;\n",
              "    }\n",
              "</style>\n",
              "<table border=\"1\" class=\"dataframe\">\n",
              "  <thead>\n",
              "    <tr style=\"text-align: right;\">\n",
              "      <th></th>\n",
              "      <th>vehicle_age</th>\n",
              "      <th>km_driven</th>\n",
              "      <th>mileage</th>\n",
              "      <th>engine</th>\n",
              "      <th>max_power</th>\n",
              "      <th>seats</th>\n",
              "      <th>selling_price</th>\n",
              "    </tr>\n",
              "  </thead>\n",
              "  <tbody>\n",
              "    <tr>\n",
              "      <th>count</th>\n",
              "      <td>15411.00</td>\n",
              "      <td>15411.00</td>\n",
              "      <td>15411.00</td>\n",
              "      <td>15411.00</td>\n",
              "      <td>15411.00</td>\n",
              "      <td>15411.00</td>\n",
              "      <td>15411.00</td>\n",
              "    </tr>\n",
              "    <tr>\n",
              "      <th>mean</th>\n",
              "      <td>6.04</td>\n",
              "      <td>55616.48</td>\n",
              "      <td>19.70</td>\n",
              "      <td>1486.06</td>\n",
              "      <td>100.59</td>\n",
              "      <td>5.33</td>\n",
              "      <td>774971.12</td>\n",
              "    </tr>\n",
              "    <tr>\n",
              "      <th>std</th>\n",
              "      <td>3.01</td>\n",
              "      <td>51618.55</td>\n",
              "      <td>4.17</td>\n",
              "      <td>521.11</td>\n",
              "      <td>42.97</td>\n",
              "      <td>0.81</td>\n",
              "      <td>894128.36</td>\n",
              "    </tr>\n",
              "    <tr>\n",
              "      <th>min</th>\n",
              "      <td>0.00</td>\n",
              "      <td>100.00</td>\n",
              "      <td>4.00</td>\n",
              "      <td>793.00</td>\n",
              "      <td>38.40</td>\n",
              "      <td>0.00</td>\n",
              "      <td>40000.00</td>\n",
              "    </tr>\n",
              "    <tr>\n",
              "      <th>25%</th>\n",
              "      <td>4.00</td>\n",
              "      <td>30000.00</td>\n",
              "      <td>17.00</td>\n",
              "      <td>1197.00</td>\n",
              "      <td>74.00</td>\n",
              "      <td>5.00</td>\n",
              "      <td>385000.00</td>\n",
              "    </tr>\n",
              "    <tr>\n",
              "      <th>50%</th>\n",
              "      <td>6.00</td>\n",
              "      <td>50000.00</td>\n",
              "      <td>19.67</td>\n",
              "      <td>1248.00</td>\n",
              "      <td>88.50</td>\n",
              "      <td>5.00</td>\n",
              "      <td>556000.00</td>\n",
              "    </tr>\n",
              "    <tr>\n",
              "      <th>75%</th>\n",
              "      <td>8.00</td>\n",
              "      <td>70000.00</td>\n",
              "      <td>22.70</td>\n",
              "      <td>1582.00</td>\n",
              "      <td>117.30</td>\n",
              "      <td>5.00</td>\n",
              "      <td>825000.00</td>\n",
              "    </tr>\n",
              "    <tr>\n",
              "      <th>max</th>\n",
              "      <td>29.00</td>\n",
              "      <td>3800000.00</td>\n",
              "      <td>33.54</td>\n",
              "      <td>6592.00</td>\n",
              "      <td>626.00</td>\n",
              "      <td>9.00</td>\n",
              "      <td>39500000.00</td>\n",
              "    </tr>\n",
              "  </tbody>\n",
              "</table>\n",
              "</div>"
            ],
            "text/plain": [
              "       vehicle_age   km_driven   mileage    engine  max_power     seats  \\\n",
              "count     15411.00    15411.00  15411.00  15411.00   15411.00  15411.00   \n",
              "mean          6.04    55616.48     19.70   1486.06     100.59      5.33   \n",
              "std           3.01    51618.55      4.17    521.11      42.97      0.81   \n",
              "min           0.00      100.00      4.00    793.00      38.40      0.00   \n",
              "25%           4.00    30000.00     17.00   1197.00      74.00      5.00   \n",
              "50%           6.00    50000.00     19.67   1248.00      88.50      5.00   \n",
              "75%           8.00    70000.00     22.70   1582.00     117.30      5.00   \n",
              "max          29.00  3800000.00     33.54   6592.00     626.00      9.00   \n",
              "\n",
              "       selling_price  \n",
              "count       15411.00  \n",
              "mean       774971.12  \n",
              "std        894128.36  \n",
              "min         40000.00  \n",
              "25%        385000.00  \n",
              "50%        556000.00  \n",
              "75%        825000.00  \n",
              "max      39500000.00  "
            ]
          },
          "execution_count": 16,
          "metadata": {},
          "output_type": "execute_result"
        }
      ],
      "source": [
        "# stats: by-default: numerical(): Ignore: object/category\n",
        "'''df.describe() generates descriptive statistics for the numerical columns by default.\n",
        "This includes count, mean, standard deviation, min, max, and quartile values.\n",
        "round(2) rounds the results to two decimal places'''\n",
        "df.describe().round(2)"
      ]
    },
    {
      "cell_type": "markdown",
      "metadata": {},
      "source": [
        "Categorical Summary"
      ]
    },
    {
      "cell_type": "code",
      "execution_count": 17,
      "metadata": {
        "id": "CHPZbAALA4Na"
      },
      "outputs": [
        {
          "data": {
            "text/html": [
              "<div>\n",
              "<style scoped>\n",
              "    .dataframe tbody tr th:only-of-type {\n",
              "        vertical-align: middle;\n",
              "    }\n",
              "\n",
              "    .dataframe tbody tr th {\n",
              "        vertical-align: top;\n",
              "    }\n",
              "\n",
              "    .dataframe thead th {\n",
              "        text-align: right;\n",
              "    }\n",
              "</style>\n",
              "<table border=\"1\" class=\"dataframe\">\n",
              "  <thead>\n",
              "    <tr style=\"text-align: right;\">\n",
              "      <th></th>\n",
              "      <th>car_name</th>\n",
              "      <th>brand</th>\n",
              "      <th>model</th>\n",
              "      <th>seller_type</th>\n",
              "      <th>fuel_type</th>\n",
              "      <th>transmission_type</th>\n",
              "    </tr>\n",
              "  </thead>\n",
              "  <tbody>\n",
              "    <tr>\n",
              "      <th>count</th>\n",
              "      <td>15411</td>\n",
              "      <td>15411</td>\n",
              "      <td>15411</td>\n",
              "      <td>15411</td>\n",
              "      <td>15411</td>\n",
              "      <td>15411</td>\n",
              "    </tr>\n",
              "    <tr>\n",
              "      <th>unique</th>\n",
              "      <td>121</td>\n",
              "      <td>32</td>\n",
              "      <td>120</td>\n",
              "      <td>3</td>\n",
              "      <td>5</td>\n",
              "      <td>2</td>\n",
              "    </tr>\n",
              "    <tr>\n",
              "      <th>top</th>\n",
              "      <td>Hyundai i20</td>\n",
              "      <td>Maruti</td>\n",
              "      <td>i20</td>\n",
              "      <td>Dealer</td>\n",
              "      <td>Petrol</td>\n",
              "      <td>Manual</td>\n",
              "    </tr>\n",
              "    <tr>\n",
              "      <th>freq</th>\n",
              "      <td>906</td>\n",
              "      <td>4992</td>\n",
              "      <td>906</td>\n",
              "      <td>9539</td>\n",
              "      <td>7643</td>\n",
              "      <td>12225</td>\n",
              "    </tr>\n",
              "  </tbody>\n",
              "</table>\n",
              "</div>"
            ],
            "text/plain": [
              "           car_name   brand  model seller_type fuel_type transmission_type\n",
              "count         15411   15411  15411       15411     15411             15411\n",
              "unique          121      32    120           3         5                 2\n",
              "top     Hyundai i20  Maruti    i20      Dealer    Petrol            Manual\n",
              "freq            906    4992    906        9539      7643             12225"
            ]
          },
          "execution_count": 17,
          "metadata": {},
          "output_type": "execute_result"
        }
      ],
      "source": [
        "'''By specifying include=['O'] (for 'Object' datatype), describe() provides a summary for\n",
        "the categorical columns. This includes the count, the number of unique categories,\n",
        "the most frequent category (top), and its frequency (freq).'''\n",
        "df.describe(include=['O'])"
      ]
    },
    {
      "cell_type": "code",
      "execution_count": null,
      "metadata": {
        "id": "ulAsJtAcDuhA"
      },
      "outputs": [],
      "source": [
        "# Findings:\n",
        "# Car dekho website has most demanded model i20 freq: 906"
      ]
    },
    {
      "cell_type": "code",
      "execution_count": null,
      "metadata": {
        "id": "K1lZPEntFCMQ"
      },
      "outputs": [],
      "source": [
        "# Analysis\n",
        "# Univariate, Bivariate and Multivariate data and its analysis\n",
        "# Univariate,: Single col\n",
        "# Bivariate : double col\n",
        "# Multivariate: more than 2 col"
      ]
    },
    {
      "cell_type": "code",
      "execution_count": 18,
      "metadata": {
        "id": "B7c3eGQkF_QD"
      },
      "outputs": [
        {
          "data": {
            "text/plain": [
              "Index(['car_name', 'brand', 'model', 'vehicle_age', 'km_driven', 'seller_type',\n",
              "       'fuel_type', 'transmission_type', 'mileage', 'engine', 'max_power',\n",
              "       'seats', 'selling_price'],\n",
              "      dtype='object')"
            ]
          },
          "execution_count": 18,
          "metadata": {},
          "output_type": "execute_result"
        }
      ],
      "source": [
        "df.columns"
      ]
    },
    {
      "cell_type": "code",
      "execution_count": null,
      "metadata": {
        "id": "ozTDXOZxGBbS"
      },
      "outputs": [],
      "source": [
        "# Univariate: Single Col Analysis"
      ]
    },
    {
      "cell_type": "code",
      "execution_count": null,
      "metadata": {
        "id": "c59VnF0iG8a9"
      },
      "outputs": [],
      "source": []
    },
    {
      "cell_type": "code",
      "execution_count": 21,
      "metadata": {
        "id": "yRlNSn0TGzVd"
      },
      "outputs": [],
      "source": [
        "# Separating Column Types:\n",
        "cat_col = list(df.describe(include=['O']).columns)\n",
        "num_col = list(df.describe().columns)\n",
        "\n",
        "#This code cleverly uses the output of describe() to get lists of categorical and numerical\n",
        "#column names."
      ]
    },
    {
      "cell_type": "code",
      "execution_count": 22,
      "metadata": {
        "id": "6OQG_9OEHIg5"
      },
      "outputs": [
        {
          "name": "stdout",
          "output_type": "stream",
          "text": [
            "['car_name', 'brand', 'model', 'seller_type', 'fuel_type', 'transmission_type']\n"
          ]
        }
      ],
      "source": [
        "print(cat_col)"
      ]
    },
    {
      "cell_type": "code",
      "execution_count": 23,
      "metadata": {
        "id": "oDiOaKp_HNX9"
      },
      "outputs": [
        {
          "name": "stdout",
          "output_type": "stream",
          "text": [
            "['vehicle_age', 'km_driven', 'mileage', 'engine', 'max_power', 'seats', 'selling_price']\n"
          ]
        }
      ],
      "source": [
        "print(num_col)"
      ]
    },
    {
      "cell_type": "code",
      "execution_count": null,
      "metadata": {
        "id": "weVAwyWHHPVB"
      },
      "outputs": [],
      "source": [
        "# unique, # nunique, value_counts"
      ]
    },
    {
      "cell_type": "code",
      "execution_count": 24,
      "metadata": {
        "id": "yli5dHYFIEiP"
      },
      "outputs": [
        {
          "name": "stdout",
          "output_type": "stream",
          "text": [
            "<class 'pandas.core.frame.DataFrame'>\n"
          ]
        }
      ],
      "source": [
        "print(type(df))"
      ]
    },
    {
      "cell_type": "code",
      "execution_count": null,
      "metadata": {
        "id": "gPv5_NlVIIa6"
      },
      "outputs": [],
      "source": [
        "# series: single col(series)"
      ]
    },
    {
      "cell_type": "code",
      "execution_count": 25,
      "metadata": {
        "id": "ctfm2HA8IO63"
      },
      "outputs": [
        {
          "name": "stdout",
          "output_type": "stream",
          "text": [
            "<class 'pandas.core.series.Series'>\n"
          ]
        }
      ],
      "source": [
        "print(type(df['car_name']))"
      ]
    },
    {
      "cell_type": "code",
      "execution_count": 26,
      "metadata": {
        "id": "H69fD5i8IXCN"
      },
      "outputs": [
        {
          "data": {
            "text/plain": [
              "car_name\n",
              "Hyundai i20           906\n",
              "Maruti Swift Dzire    890\n",
              "Maruti Swift          781\n",
              "Maruti Alto           778\n",
              "Honda City            757\n",
              "Maruti Wagon R        717\n",
              "Hyundai Grand         580\n",
              "Toyota Innova         545\n",
              "Hyundai Verna         492\n",
              "Hyundai i10           410\n",
              "Name: count, dtype: int64"
            ]
          },
          "execution_count": 26,
          "metadata": {},
          "output_type": "execute_result"
        }
      ],
      "source": [
        "# value_counts()\n",
        "'''.value_counts() returns a Series containing counts of unique values, sorted in\n",
        "descending order. This is perfect for finding the most common items'''\n",
        "# Top 10 Car By Name\n",
        "df['car_name'].value_counts().head(10)\n"
      ]
    },
    {
      "cell_type": "code",
      "execution_count": 27,
      "metadata": {
        "id": "GXRHrVvjIk03"
      },
      "outputs": [
        {
          "data": {
            "text/plain": [
              "car_name\n",
              "ISUZU MUX                2\n",
              "Hyundai Aura             1\n",
              "Maserati Ghibli          1\n",
              "Ferrari GTC4Lusso        1\n",
              "Tata Altroz              1\n",
              "Mercedes-AMG C           1\n",
              "Rolls-Royce Ghost        1\n",
              "Maserati Quattroporte    1\n",
              "Isuzu MUX                1\n",
              "Force Gurkha             1\n",
              "Name: count, dtype: int64"
            ]
          },
          "execution_count": 27,
          "metadata": {},
          "output_type": "execute_result"
        }
      ],
      "source": [
        "# Top 10 Car By Name\n",
        "df['car_name'].value_counts().tail(10)"
      ]
    },
    {
      "cell_type": "code",
      "execution_count": 28,
      "metadata": {
        "id": "Lcu2bfecJzpE"
      },
      "outputs": [
        {
          "name": "stdout",
          "output_type": "stream",
          "text": [
            "\n",
            "\n",
            "Top 10 Analysis by car_name\n",
            "\n"
          ]
        },
        {
          "data": {
            "text/plain": [
              "car_name\n",
              "Hyundai i20           906\n",
              "Maruti Swift Dzire    890\n",
              "Maruti Swift          781\n",
              "Maruti Alto           778\n",
              "Honda City            757\n",
              "Maruti Wagon R        717\n",
              "Hyundai Grand         580\n",
              "Toyota Innova         545\n",
              "Hyundai Verna         492\n",
              "Hyundai i10           410\n",
              "Name: count, dtype: int64"
            ]
          },
          "metadata": {},
          "output_type": "display_data"
        },
        {
          "name": "stdout",
          "output_type": "stream",
          "text": [
            "\n",
            "\n",
            "Top 10 Analysis by brand\n",
            "\n"
          ]
        },
        {
          "data": {
            "text/plain": [
              "brand\n",
              "Maruti        4992\n",
              "Hyundai       2982\n",
              "Honda         1485\n",
              "Mahindra      1011\n",
              "Toyota         793\n",
              "Ford           790\n",
              "Volkswagen     620\n",
              "Renault        536\n",
              "BMW            439\n",
              "Tata           430\n",
              "Name: count, dtype: int64"
            ]
          },
          "metadata": {},
          "output_type": "display_data"
        },
        {
          "name": "stdout",
          "output_type": "stream",
          "text": [
            "\n",
            "\n",
            "Top 10 Analysis by model\n",
            "\n"
          ]
        },
        {
          "data": {
            "text/plain": [
              "model\n",
              "i20            906\n",
              "Swift Dzire    890\n",
              "Swift          781\n",
              "Alto           778\n",
              "City           757\n",
              "Wagon R        717\n",
              "Grand          580\n",
              "Innova         545\n",
              "Verna          492\n",
              "i10            410\n",
              "Name: count, dtype: int64"
            ]
          },
          "metadata": {},
          "output_type": "display_data"
        },
        {
          "name": "stdout",
          "output_type": "stream",
          "text": [
            "\n",
            "\n",
            "Top 10 Analysis by seller_type\n",
            "\n"
          ]
        },
        {
          "data": {
            "text/plain": [
              "seller_type\n",
              "Dealer              9539\n",
              "Individual          5699\n",
              "Trustmark Dealer     173\n",
              "Name: count, dtype: int64"
            ]
          },
          "metadata": {},
          "output_type": "display_data"
        },
        {
          "name": "stdout",
          "output_type": "stream",
          "text": [
            "\n",
            "\n",
            "Top 10 Analysis by fuel_type\n",
            "\n"
          ]
        },
        {
          "data": {
            "text/plain": [
              "fuel_type\n",
              "Petrol      7643\n",
              "Diesel      7419\n",
              "CNG          301\n",
              "LPG           44\n",
              "Electric       4\n",
              "Name: count, dtype: int64"
            ]
          },
          "metadata": {},
          "output_type": "display_data"
        },
        {
          "name": "stdout",
          "output_type": "stream",
          "text": [
            "\n",
            "\n",
            "Top 10 Analysis by transmission_type\n",
            "\n"
          ]
        },
        {
          "data": {
            "text/plain": [
              "transmission_type\n",
              "Manual       12225\n",
              "Automatic     3186\n",
              "Name: count, dtype: int64"
            ]
          },
          "metadata": {},
          "output_type": "display_data"
        }
      ],
      "source": [
        "# Top 10 Analysis For Categorical Columns\n",
        "\n",
        "for i in cat_col:\n",
        "  print(f'\\n\\nTop 10 Analysis by {i}\\n')\n",
        "  display(df[i].value_counts().head(10))\n"
      ]
    },
    {
      "cell_type": "code",
      "execution_count": 29,
      "metadata": {
        "id": "VmIbZJUkKc_l"
      },
      "outputs": [
        {
          "name": "stdout",
          "output_type": "stream",
          "text": [
            "\n",
            "\n",
            "Top 10 Analysis by car_name\n",
            "\n"
          ]
        },
        {
          "data": {
            "text/plain": [
              "car_name\n",
              "Hyundai i20           13.21\n",
              "Maruti Swift Dzire    12.98\n",
              "Maruti Swift          11.39\n",
              "Maruti Alto           11.35\n",
              "Honda City            11.04\n",
              "Maruti Wagon R        10.46\n",
              "Hyundai Grand          8.46\n",
              "Toyota Innova          7.95\n",
              "Hyundai Verna          7.18\n",
              "Hyundai i10            5.98\n",
              "Name: count, dtype: float64"
            ]
          },
          "metadata": {},
          "output_type": "display_data"
        },
        {
          "name": "stdout",
          "output_type": "stream",
          "text": [
            "\n",
            "\n",
            "Top 10 Analysis by brand\n",
            "\n"
          ]
        },
        {
          "data": {
            "text/plain": [
              "brand\n",
              "Maruti        35.46\n",
              "Hyundai       21.18\n",
              "Honda         10.55\n",
              "Mahindra       7.18\n",
              "Toyota         5.63\n",
              "Ford           5.61\n",
              "Volkswagen     4.40\n",
              "Renault        3.81\n",
              "BMW            3.12\n",
              "Tata           3.05\n",
              "Name: count, dtype: float64"
            ]
          },
          "metadata": {},
          "output_type": "display_data"
        },
        {
          "name": "stdout",
          "output_type": "stream",
          "text": [
            "\n",
            "\n",
            "Top 10 Analysis by model\n",
            "\n"
          ]
        },
        {
          "data": {
            "text/plain": [
              "model\n",
              "i20            13.21\n",
              "Swift Dzire    12.98\n",
              "Swift          11.39\n",
              "Alto           11.35\n",
              "City           11.04\n",
              "Wagon R        10.46\n",
              "Grand           8.46\n",
              "Innova          7.95\n",
              "Verna           7.18\n",
              "i10             5.98\n",
              "Name: count, dtype: float64"
            ]
          },
          "metadata": {},
          "output_type": "display_data"
        },
        {
          "name": "stdout",
          "output_type": "stream",
          "text": [
            "\n",
            "\n",
            "Top 10 Analysis by seller_type\n",
            "\n"
          ]
        },
        {
          "data": {
            "text/plain": [
              "seller_type\n",
              "Dealer              61.90\n",
              "Individual          36.98\n",
              "Trustmark Dealer     1.12\n",
              "Name: count, dtype: float64"
            ]
          },
          "metadata": {},
          "output_type": "display_data"
        },
        {
          "name": "stdout",
          "output_type": "stream",
          "text": [
            "\n",
            "\n",
            "Top 10 Analysis by fuel_type\n",
            "\n"
          ]
        },
        {
          "data": {
            "text/plain": [
              "fuel_type\n",
              "Petrol      49.59\n",
              "Diesel      48.14\n",
              "CNG          1.95\n",
              "LPG          0.29\n",
              "Electric     0.03\n",
              "Name: count, dtype: float64"
            ]
          },
          "metadata": {},
          "output_type": "display_data"
        },
        {
          "name": "stdout",
          "output_type": "stream",
          "text": [
            "\n",
            "\n",
            "Top 10 Analysis by transmission_type\n",
            "\n"
          ]
        },
        {
          "data": {
            "text/plain": [
              "transmission_type\n",
              "Manual       79.33\n",
              "Automatic    20.67\n",
              "Name: count, dtype: float64"
            ]
          },
          "metadata": {},
          "output_type": "display_data"
        }
      ],
      "source": [
        "# Top 10 Analysis For Categorical Columns in %\n",
        "\n",
        "for i in cat_col:\n",
        "  print(f'\\n\\nTop 10 Analysis by {i}\\n')\n",
        "  top_10 = df[i].value_counts().head(10)\n",
        "\n",
        "  ans = (top_10/top_10.sum())*100\n",
        "\n",
        "  display(ans.round(2))"
      ]
    },
    {
      "cell_type": "code",
      "execution_count": null,
      "metadata": {
        "id": "0LMYsj6-Mi_5"
      },
      "outputs": [],
      "source": [
        "# top_10_series = df['car_name'].value_counts().head(10)\n",
        "# (top_10_series/r)*100"
      ]
    },
    {
      "cell_type": "code",
      "execution_count": null,
      "metadata": {
        "id": "iBcQG4QiNCuN"
      },
      "outputs": [],
      "source": []
    },
    {
      "cell_type": "code",
      "execution_count": 30,
      "metadata": {
        "id": "pdmRk3MjMrBc"
      },
      "outputs": [
        {
          "name": "stdout",
          "output_type": "stream",
          "text": [
            "\n",
            "\n",
            "Bottom 10 Analysis by car_name\n",
            "\n"
          ]
        },
        {
          "data": {
            "text/plain": [
              "car_name\n",
              "ISUZU MUX                2\n",
              "Hyundai Aura             1\n",
              "Maserati Ghibli          1\n",
              "Ferrari GTC4Lusso        1\n",
              "Tata Altroz              1\n",
              "Mercedes-AMG C           1\n",
              "Rolls-Royce Ghost        1\n",
              "Maserati Quattroporte    1\n",
              "Isuzu MUX                1\n",
              "Force Gurkha             1\n",
              "Name: count, dtype: int64"
            ]
          },
          "metadata": {},
          "output_type": "display_data"
        },
        {
          "name": "stdout",
          "output_type": "stream",
          "text": [
            "\n",
            "\n",
            "Bottom 10 Analysis by brand\n",
            "\n"
          ]
        },
        {
          "data": {
            "text/plain": [
              "brand\n",
              "Nissan          11\n",
              "Lexus           10\n",
              "Isuzu            8\n",
              "Bentley          3\n",
              "Maserati         2\n",
              "ISUZU            2\n",
              "Ferrari          1\n",
              "Mercedes-AMG     1\n",
              "Rolls-Royce      1\n",
              "Force            1\n",
              "Name: count, dtype: int64"
            ]
          },
          "metadata": {},
          "output_type": "display_data"
        },
        {
          "name": "stdout",
          "output_type": "stream",
          "text": [
            "\n",
            "\n",
            "Bottom 10 Analysis by model\n",
            "\n"
          ]
        },
        {
          "data": {
            "text/plain": [
              "model\n",
              "Dzire LXI       2\n",
              "Macan           2\n",
              "Ghibli          1\n",
              "Aura            1\n",
              "GTC4Lusso       1\n",
              "Altroz          1\n",
              "C               1\n",
              "Ghost           1\n",
              "Quattroporte    1\n",
              "Gurkha          1\n",
              "Name: count, dtype: int64"
            ]
          },
          "metadata": {},
          "output_type": "display_data"
        },
        {
          "name": "stdout",
          "output_type": "stream",
          "text": [
            "\n",
            "\n",
            "Bottom 10 Analysis by seller_type\n",
            "\n"
          ]
        },
        {
          "data": {
            "text/plain": [
              "seller_type\n",
              "Dealer              9539\n",
              "Individual          5699\n",
              "Trustmark Dealer     173\n",
              "Name: count, dtype: int64"
            ]
          },
          "metadata": {},
          "output_type": "display_data"
        },
        {
          "name": "stdout",
          "output_type": "stream",
          "text": [
            "\n",
            "\n",
            "Bottom 10 Analysis by fuel_type\n",
            "\n"
          ]
        },
        {
          "data": {
            "text/plain": [
              "fuel_type\n",
              "Petrol      7643\n",
              "Diesel      7419\n",
              "CNG          301\n",
              "LPG           44\n",
              "Electric       4\n",
              "Name: count, dtype: int64"
            ]
          },
          "metadata": {},
          "output_type": "display_data"
        },
        {
          "name": "stdout",
          "output_type": "stream",
          "text": [
            "\n",
            "\n",
            "Bottom 10 Analysis by transmission_type\n",
            "\n"
          ]
        },
        {
          "data": {
            "text/plain": [
              "transmission_type\n",
              "Manual       12225\n",
              "Automatic     3186\n",
              "Name: count, dtype: int64"
            ]
          },
          "metadata": {},
          "output_type": "display_data"
        }
      ],
      "source": [
        "#Bottom 10 Analysis For Categorical Columns\n",
        "\n",
        "for i in cat_col:\n",
        "  print(f'\\n\\nBottom 10 Analysis by {i}\\n')\n",
        "  bottom_10 = df[i].value_counts().tail(10)\n",
        "  display(bottom_10)"
      ]
    },
    {
      "cell_type": "code",
      "execution_count": 31,
      "metadata": {
        "id": "eMTTW9Q4O49z"
      },
      "outputs": [
        {
          "data": {
            "text/plain": [
              "<Axes: ylabel='count'>"
            ]
          },
          "execution_count": 31,
          "metadata": {},
          "output_type": "execute_result"
        },
        {
          "data": {
            "image/png": "[encoded data removed]",
            "text/plain": [
              "<Figure size 640x480 with 1 Axes>"
            ]
          },
          "metadata": {},
          "output_type": "display_data"
        }
      ],
      "source": [
        "df['car_name'].value_counts().head(10).plot(kind = 'pie',autopct = '%.2f%%')"
      ]
    },
    {
      "cell_type": "code",
      "execution_count": 32,
      "metadata": {
        "id": "j5b4k38UP2pX"
      },
      "outputs": [],
      "source": [
        "import matplotlib.pyplot as plt\n",
        "\n",
        "def graph_plot(col_name):\n",
        "\n",
        "  x = df[col_name].value_counts().head(10).index\n",
        "  y = df[col_name].value_counts().head(10).values\n",
        "\n",
        "  plt.figure(figsize = (8,5))\n",
        "  plt.title(f'Top 10 {col_name} By Inventory',fontsize = 20,color = 'Brown')\n",
        "  # ax = plt.bar(x,y, color = 'red')\n",
        "\n",
        "  ax = plt.bar(x,y, color = sns.color_palette('rainbow',10))  # cool, hot, rainbow, # magma\n",
        "  plt.bar_label(ax)\n",
        "  plt.xticks(rotation = 45)\n",
        "  plt.show()"
      ]
    },
    {
      "cell_type": "code",
      "execution_count": 33,
      "metadata": {
        "id": "dvX_X7rfRbh0"
      },
      "outputs": [
        {
          "data": {
            "image/png": "[encoded data removed]",
            "text/plain": [
              "<Figure size 800x500 with 1 Axes>"
            ]
          },
          "metadata": {},
          "output_type": "display_data"
        },
        {
          "data": {
            "image/png": "[encoded data removed]",
            "text/plain": [
              "<Figure size 800x500 with 1 Axes>"
            ]
          },
          "metadata": {},
          "output_type": "display_data"
        },
        {
          "data": {
            "image/png": "[encoded data removed]",
            "text/plain": [
              "<Figure size 800x500 with 1 Axes>"
            ]
          },
          "metadata": {},
          "output_type": "display_data"
        },
        {
          "data": {
            "image/png": "[encoded data removed]",
            "text/plain": [
              "<Figure size 800x500 with 1 Axes>"
            ]
          },
          "metadata": {},
          "output_type": "display_data"
        },
        {
          "data": {
            "image/png": "[encoded data removed]",
            "text/plain": [
              "<Figure size 800x500 with 1 Axes>"
            ]
          },
          "metadata": {},
          "output_type": "display_data"
        },
        {
          "data": {
            "image/png": "[encoded data removed]",
            "text/plain": [
              "<Figure size 800x500 with 1 Axes>"
            ]
          },
          "metadata": {},
          "output_type": "display_data"
        }
      ],
      "source": [
        "for i in cat_col:\n",
        "  graph_plot(i)"
      ]
    },
    {
      "cell_type": "code",
      "execution_count": null,
      "metadata": {
        "id": "WcFoooqFjX63"
      },
      "outputs": [],
      "source": [
        "num_col"
      ]
    },
    {
      "cell_type": "code",
      "execution_count": 34,
      "metadata": {
        "id": "W5Y8ebTEkiYL"
      },
      "outputs": [
        {
          "data": {
            "text/plain": [
              "<Axes: ylabel='Frequency'>"
            ]
          },
          "execution_count": 34,
          "metadata": {},
          "output_type": "execute_result"
        },
        {
          "data": {
            "image/png": "[encoded data removed]",
            "text/plain": [
              "<Figure size 640x480 with 1 Axes>"
            ]
          },
          "metadata": {},
          "output_type": "display_data"
        }
      ],
      "source": [
        "df['selling_price'].plot(kind='hist')"
      ]
    },
    {
      "cell_type": "code",
      "execution_count": 35,
      "metadata": {
        "id": "Z8bh4NJ1kkW6"
      },
      "outputs": [],
      "source": [
        "import numpy as np\n",
        "\n",
        "def plot_hist(col_name,bin_size = 100):\n",
        "  plt.title(f'\\n\\n{col_name} Distribution Analysis'.title(),fontsize = 20,color = 'Red')\n",
        "  plt.hist(df[col_name],color = 'red',bins = np.linspace(df[col_name].min(),df[col_name].max(),bin_size))\n",
        "\n",
        "  plt.show()"
      ]
    },
    {
      "cell_type": "code",
      "execution_count": 36,
      "metadata": {
        "id": "4TjRBoV5lNob"
      },
      "outputs": [
        {
          "data": {
            "image/png": "[encoded data removed]",
            "text/plain": [
              "<Figure size 640x480 with 1 Axes>"
            ]
          },
          "metadata": {},
          "output_type": "display_data"
        },
        {
          "data": {
            "image/png": "[encoded data removed]",
            "text/plain": [
              "<Figure size 640x480 with 1 Axes>"
            ]
          },
          "metadata": {},
          "output_type": "display_data"
        },
        {
          "data": {
            "image/png": "[encoded data removed]",
            "text/plain": [
              "<Figure size 640x480 with 1 Axes>"
            ]
          },
          "metadata": {},
          "output_type": "display_data"
        },
        {
          "data": {
            "image/png": "[encoded data removed]",
            "text/plain": [
              "<Figure size 640x480 with 1 Axes>"
            ]
          },
          "metadata": {},
          "output_type": "display_data"
        },
        {
          "data": {
            "image/png": "[encoded data removed]",
            "text/plain": [
              "<Figure size 640x480 with 1 Axes>"
            ]
          },
          "metadata": {},
          "output_type": "display_data"
        },
        {
          "data": {
            "image/png": "[encoded data removed]",
            "text/plain": [
              "<Figure size 640x480 with 1 Axes>"
            ]
          },
          "metadata": {},
          "output_type": "display_data"
        },
        {
          "data": {
            "image/png": "[encoded data removed]",
            "text/plain": [
              "<Figure size 640x480 with 1 Axes>"
            ]
          },
          "metadata": {},
          "output_type": "display_data"
        }
      ],
      "source": [
        "for i in num_col:\n",
        "  plot_hist(i)"
      ]
    },
    {
      "cell_type": "code",
      "execution_count": null,
      "metadata": {
        "id": "NskwKPBum4UC"
      },
      "outputs": [],
      "source": [
        "# How to filter DataFrame\n",
        "# Masking Technique"
      ]
    },
    {
      "cell_type": "code",
      "execution_count": 37,
      "metadata": {
        "id": "zfLui088s5AR"
      },
      "outputs": [
        {
          "data": {
            "text/plain": [
              "Index(['car_name', 'brand', 'model', 'vehicle_age', 'km_driven', 'seller_type',\n",
              "       'fuel_type', 'transmission_type', 'mileage', 'engine', 'max_power',\n",
              "       'seats', 'selling_price'],\n",
              "      dtype='object')"
            ]
          },
          "execution_count": 37,
          "metadata": {},
          "output_type": "execute_result"
        }
      ],
      "source": [
        "df.columns"
      ]
    },
    {
      "cell_type": "code",
      "execution_count": 38,
      "metadata": {
        "id": "EJu1kcVMs7cV"
      },
      "outputs": [
        {
          "data": {
            "text/plain": [
              "np.float64(4.0)"
            ]
          },
          "execution_count": 38,
          "metadata": {},
          "output_type": "execute_result"
        }
      ],
      "source": [
        "df['mileage'].min()"
      ]
    },
    {
      "cell_type": "code",
      "execution_count": 39,
      "metadata": {
        "id": "As4Ngo9atDPp"
      },
      "outputs": [
        {
          "data": {
            "text/html": [
              "<div>\n",
              "<style scoped>\n",
              "    .dataframe tbody tr th:only-of-type {\n",
              "        vertical-align: middle;\n",
              "    }\n",
              "\n",
              "    .dataframe tbody tr th {\n",
              "        vertical-align: top;\n",
              "    }\n",
              "\n",
              "    .dataframe thead th {\n",
              "        text-align: right;\n",
              "    }\n",
              "</style>\n",
              "<table border=\"1\" class=\"dataframe\">\n",
              "  <thead>\n",
              "    <tr style=\"text-align: right;\">\n",
              "      <th></th>\n",
              "      <th>car_name</th>\n",
              "      <th>brand</th>\n",
              "      <th>model</th>\n",
              "      <th>vehicle_age</th>\n",
              "      <th>km_driven</th>\n",
              "      <th>seller_type</th>\n",
              "      <th>fuel_type</th>\n",
              "      <th>transmission_type</th>\n",
              "      <th>mileage</th>\n",
              "      <th>engine</th>\n",
              "      <th>max_power</th>\n",
              "      <th>seats</th>\n",
              "      <th>selling_price</th>\n",
              "    </tr>\n",
              "  </thead>\n",
              "  <tbody>\n",
              "    <tr>\n",
              "      <th>3799</th>\n",
              "      <td>Ferrari GTC4Lusso</td>\n",
              "      <td>Ferrari</td>\n",
              "      <td>GTC4Lusso</td>\n",
              "      <td>2</td>\n",
              "      <td>3800</td>\n",
              "      <td>Dealer</td>\n",
              "      <td>Petrol</td>\n",
              "      <td>Automatic</td>\n",
              "      <td>4.0</td>\n",
              "      <td>3855</td>\n",
              "      <td>601.0</td>\n",
              "      <td>4</td>\n",
              "      <td>39500000</td>\n",
              "    </tr>\n",
              "  </tbody>\n",
              "</table>\n",
              "</div>"
            ],
            "text/plain": [
              "               car_name    brand      model  vehicle_age  km_driven  \\\n",
              "3799  Ferrari GTC4Lusso  Ferrari  GTC4Lusso            2       3800   \n",
              "\n",
              "     seller_type fuel_type transmission_type  mileage  engine  max_power  \\\n",
              "3799      Dealer    Petrol         Automatic      4.0    3855      601.0   \n",
              "\n",
              "      seats  selling_price  \n",
              "3799      4       39500000  "
            ]
          },
          "execution_count": 39,
          "metadata": {},
          "output_type": "execute_result"
        }
      ],
      "source": [
        "df[df['mileage'] == df['mileage'].min()]"
      ]
    },
    {
      "cell_type": "code",
      "execution_count": 40,
      "metadata": {
        "id": "4Vik0ptWutth"
      },
      "outputs": [
        {
          "data": {
            "text/html": [
              "<div>\n",
              "<style scoped>\n",
              "    .dataframe tbody tr th:only-of-type {\n",
              "        vertical-align: middle;\n",
              "    }\n",
              "\n",
              "    .dataframe tbody tr th {\n",
              "        vertical-align: top;\n",
              "    }\n",
              "\n",
              "    .dataframe thead th {\n",
              "        text-align: right;\n",
              "    }\n",
              "</style>\n",
              "<table border=\"1\" class=\"dataframe\">\n",
              "  <thead>\n",
              "    <tr style=\"text-align: right;\">\n",
              "      <th></th>\n",
              "      <th>car_name</th>\n",
              "      <th>brand</th>\n",
              "      <th>model</th>\n",
              "      <th>vehicle_age</th>\n",
              "      <th>km_driven</th>\n",
              "      <th>seller_type</th>\n",
              "      <th>fuel_type</th>\n",
              "      <th>transmission_type</th>\n",
              "      <th>mileage</th>\n",
              "      <th>engine</th>\n",
              "      <th>max_power</th>\n",
              "      <th>seats</th>\n",
              "      <th>selling_price</th>\n",
              "    </tr>\n",
              "  </thead>\n",
              "  <tbody>\n",
              "    <tr>\n",
              "      <th>169</th>\n",
              "      <td>Maruti Wagon R</td>\n",
              "      <td>Maruti</td>\n",
              "      <td>Wagon R</td>\n",
              "      <td>3</td>\n",
              "      <td>52000</td>\n",
              "      <td>Dealer</td>\n",
              "      <td>CNG</td>\n",
              "      <td>Manual</td>\n",
              "      <td>33.54</td>\n",
              "      <td>998</td>\n",
              "      <td>67.04</td>\n",
              "      <td>5</td>\n",
              "      <td>435000</td>\n",
              "    </tr>\n",
              "    <tr>\n",
              "      <th>182</th>\n",
              "      <td>Maruti Wagon R</td>\n",
              "      <td>Maruti</td>\n",
              "      <td>Wagon R</td>\n",
              "      <td>8</td>\n",
              "      <td>64000</td>\n",
              "      <td>Dealer</td>\n",
              "      <td>CNG</td>\n",
              "      <td>Manual</td>\n",
              "      <td>33.54</td>\n",
              "      <td>998</td>\n",
              "      <td>67.04</td>\n",
              "      <td>5</td>\n",
              "      <td>270000</td>\n",
              "    </tr>\n",
              "    <tr>\n",
              "      <th>1250</th>\n",
              "      <td>Maruti Wagon R</td>\n",
              "      <td>Maruti</td>\n",
              "      <td>Wagon R</td>\n",
              "      <td>4</td>\n",
              "      <td>32013</td>\n",
              "      <td>Trustmark Dealer</td>\n",
              "      <td>CNG</td>\n",
              "      <td>Manual</td>\n",
              "      <td>33.54</td>\n",
              "      <td>998</td>\n",
              "      <td>67.04</td>\n",
              "      <td>5</td>\n",
              "      <td>380000</td>\n",
              "    </tr>\n",
              "    <tr>\n",
              "      <th>1574</th>\n",
              "      <td>Maruti Wagon R</td>\n",
              "      <td>Maruti</td>\n",
              "      <td>Wagon R</td>\n",
              "      <td>6</td>\n",
              "      <td>55000</td>\n",
              "      <td>Dealer</td>\n",
              "      <td>CNG</td>\n",
              "      <td>Manual</td>\n",
              "      <td>33.54</td>\n",
              "      <td>998</td>\n",
              "      <td>67.04</td>\n",
              "      <td>5</td>\n",
              "      <td>335000</td>\n",
              "    </tr>\n",
              "    <tr>\n",
              "      <th>2271</th>\n",
              "      <td>Maruti Wagon R</td>\n",
              "      <td>Maruti</td>\n",
              "      <td>Wagon R</td>\n",
              "      <td>9</td>\n",
              "      <td>62000</td>\n",
              "      <td>Dealer</td>\n",
              "      <td>CNG</td>\n",
              "      <td>Manual</td>\n",
              "      <td>33.54</td>\n",
              "      <td>998</td>\n",
              "      <td>67.04</td>\n",
              "      <td>5</td>\n",
              "      <td>340000</td>\n",
              "    </tr>\n",
              "    <tr>\n",
              "      <th>2303</th>\n",
              "      <td>Maruti Wagon R</td>\n",
              "      <td>Maruti</td>\n",
              "      <td>Wagon R</td>\n",
              "      <td>7</td>\n",
              "      <td>135975</td>\n",
              "      <td>Dealer</td>\n",
              "      <td>CNG</td>\n",
              "      <td>Manual</td>\n",
              "      <td>33.54</td>\n",
              "      <td>998</td>\n",
              "      <td>67.04</td>\n",
              "      <td>5</td>\n",
              "      <td>295000</td>\n",
              "    </tr>\n",
              "    <tr>\n",
              "      <th>2364</th>\n",
              "      <td>Maruti Wagon R</td>\n",
              "      <td>Maruti</td>\n",
              "      <td>Wagon R</td>\n",
              "      <td>8</td>\n",
              "      <td>63000</td>\n",
              "      <td>Dealer</td>\n",
              "      <td>CNG</td>\n",
              "      <td>Manual</td>\n",
              "      <td>33.54</td>\n",
              "      <td>998</td>\n",
              "      <td>67.04</td>\n",
              "      <td>5</td>\n",
              "      <td>351000</td>\n",
              "    </tr>\n",
              "    <tr>\n",
              "      <th>2750</th>\n",
              "      <td>Maruti Wagon R</td>\n",
              "      <td>Maruti</td>\n",
              "      <td>Wagon R</td>\n",
              "      <td>8</td>\n",
              "      <td>55853</td>\n",
              "      <td>Dealer</td>\n",
              "      <td>CNG</td>\n",
              "      <td>Manual</td>\n",
              "      <td>33.54</td>\n",
              "      <td>998</td>\n",
              "      <td>67.04</td>\n",
              "      <td>5</td>\n",
              "      <td>349000</td>\n",
              "    </tr>\n",
              "    <tr>\n",
              "      <th>2925</th>\n",
              "      <td>Maruti Wagon R</td>\n",
              "      <td>Maruti</td>\n",
              "      <td>Wagon R</td>\n",
              "      <td>3</td>\n",
              "      <td>32000</td>\n",
              "      <td>Dealer</td>\n",
              "      <td>CNG</td>\n",
              "      <td>Manual</td>\n",
              "      <td>33.54</td>\n",
              "      <td>998</td>\n",
              "      <td>67.04</td>\n",
              "      <td>5</td>\n",
              "      <td>485000</td>\n",
              "    </tr>\n",
              "    <tr>\n",
              "      <th>3342</th>\n",
              "      <td>Maruti Wagon R</td>\n",
              "      <td>Maruti</td>\n",
              "      <td>Wagon R</td>\n",
              "      <td>5</td>\n",
              "      <td>64224</td>\n",
              "      <td>Dealer</td>\n",
              "      <td>CNG</td>\n",
              "      <td>Manual</td>\n",
              "      <td>33.54</td>\n",
              "      <td>998</td>\n",
              "      <td>67.04</td>\n",
              "      <td>5</td>\n",
              "      <td>375000</td>\n",
              "    </tr>\n",
              "    <tr>\n",
              "      <th>3743</th>\n",
              "      <td>Maruti Wagon R</td>\n",
              "      <td>Maruti</td>\n",
              "      <td>Wagon R</td>\n",
              "      <td>7</td>\n",
              "      <td>69000</td>\n",
              "      <td>Dealer</td>\n",
              "      <td>CNG</td>\n",
              "      <td>Manual</td>\n",
              "      <td>33.54</td>\n",
              "      <td>998</td>\n",
              "      <td>67.04</td>\n",
              "      <td>5</td>\n",
              "      <td>349000</td>\n",
              "    </tr>\n",
              "    <tr>\n",
              "      <th>6989</th>\n",
              "      <td>Maruti Wagon R</td>\n",
              "      <td>Maruti</td>\n",
              "      <td>Wagon R</td>\n",
              "      <td>6</td>\n",
              "      <td>69000</td>\n",
              "      <td>Dealer</td>\n",
              "      <td>CNG</td>\n",
              "      <td>Manual</td>\n",
              "      <td>33.54</td>\n",
              "      <td>998</td>\n",
              "      <td>67.04</td>\n",
              "      <td>5</td>\n",
              "      <td>350000</td>\n",
              "    </tr>\n",
              "    <tr>\n",
              "      <th>9193</th>\n",
              "      <td>Maruti Wagon R</td>\n",
              "      <td>Maruti</td>\n",
              "      <td>Wagon R</td>\n",
              "      <td>2</td>\n",
              "      <td>19022</td>\n",
              "      <td>Dealer</td>\n",
              "      <td>CNG</td>\n",
              "      <td>Manual</td>\n",
              "      <td>33.54</td>\n",
              "      <td>998</td>\n",
              "      <td>67.04</td>\n",
              "      <td>5</td>\n",
              "      <td>470000</td>\n",
              "    </tr>\n",
              "    <tr>\n",
              "      <th>9483</th>\n",
              "      <td>Maruti Wagon R</td>\n",
              "      <td>Maruti</td>\n",
              "      <td>Wagon R</td>\n",
              "      <td>3</td>\n",
              "      <td>33955</td>\n",
              "      <td>Trustmark Dealer</td>\n",
              "      <td>CNG</td>\n",
              "      <td>Manual</td>\n",
              "      <td>33.54</td>\n",
              "      <td>998</td>\n",
              "      <td>67.04</td>\n",
              "      <td>5</td>\n",
              "      <td>425000</td>\n",
              "    </tr>\n",
              "    <tr>\n",
              "      <th>9908</th>\n",
              "      <td>Maruti Wagon R</td>\n",
              "      <td>Maruti</td>\n",
              "      <td>Wagon R</td>\n",
              "      <td>5</td>\n",
              "      <td>37208</td>\n",
              "      <td>Trustmark Dealer</td>\n",
              "      <td>CNG</td>\n",
              "      <td>Manual</td>\n",
              "      <td>33.54</td>\n",
              "      <td>998</td>\n",
              "      <td>67.04</td>\n",
              "      <td>5</td>\n",
              "      <td>365000</td>\n",
              "    </tr>\n",
              "    <tr>\n",
              "      <th>9960</th>\n",
              "      <td>Maruti Wagon R</td>\n",
              "      <td>Maruti</td>\n",
              "      <td>Wagon R</td>\n",
              "      <td>3</td>\n",
              "      <td>55000</td>\n",
              "      <td>Dealer</td>\n",
              "      <td>CNG</td>\n",
              "      <td>Manual</td>\n",
              "      <td>33.54</td>\n",
              "      <td>998</td>\n",
              "      <td>67.04</td>\n",
              "      <td>5</td>\n",
              "      <td>380000</td>\n",
              "    </tr>\n",
              "    <tr>\n",
              "      <th>10303</th>\n",
              "      <td>Maruti Wagon R</td>\n",
              "      <td>Maruti</td>\n",
              "      <td>Wagon R</td>\n",
              "      <td>9</td>\n",
              "      <td>71000</td>\n",
              "      <td>Dealer</td>\n",
              "      <td>CNG</td>\n",
              "      <td>Manual</td>\n",
              "      <td>33.54</td>\n",
              "      <td>998</td>\n",
              "      <td>67.04</td>\n",
              "      <td>5</td>\n",
              "      <td>275000</td>\n",
              "    </tr>\n",
              "    <tr>\n",
              "      <th>10361</th>\n",
              "      <td>Maruti Wagon R</td>\n",
              "      <td>Maruti</td>\n",
              "      <td>Wagon R</td>\n",
              "      <td>4</td>\n",
              "      <td>75000</td>\n",
              "      <td>Dealer</td>\n",
              "      <td>CNG</td>\n",
              "      <td>Manual</td>\n",
              "      <td>33.54</td>\n",
              "      <td>998</td>\n",
              "      <td>67.04</td>\n",
              "      <td>5</td>\n",
              "      <td>375000</td>\n",
              "    </tr>\n",
              "    <tr>\n",
              "      <th>11310</th>\n",
              "      <td>Maruti Wagon R</td>\n",
              "      <td>Maruti</td>\n",
              "      <td>Wagon R</td>\n",
              "      <td>5</td>\n",
              "      <td>65000</td>\n",
              "      <td>Dealer</td>\n",
              "      <td>CNG</td>\n",
              "      <td>Manual</td>\n",
              "      <td>33.54</td>\n",
              "      <td>998</td>\n",
              "      <td>67.04</td>\n",
              "      <td>5</td>\n",
              "      <td>310000</td>\n",
              "    </tr>\n",
              "    <tr>\n",
              "      <th>11685</th>\n",
              "      <td>Maruti Wagon R</td>\n",
              "      <td>Maruti</td>\n",
              "      <td>Wagon R</td>\n",
              "      <td>4</td>\n",
              "      <td>28763</td>\n",
              "      <td>Trustmark Dealer</td>\n",
              "      <td>CNG</td>\n",
              "      <td>Manual</td>\n",
              "      <td>33.54</td>\n",
              "      <td>998</td>\n",
              "      <td>67.04</td>\n",
              "      <td>5</td>\n",
              "      <td>400000</td>\n",
              "    </tr>\n",
              "    <tr>\n",
              "      <th>11727</th>\n",
              "      <td>Maruti Wagon R</td>\n",
              "      <td>Maruti</td>\n",
              "      <td>Wagon R</td>\n",
              "      <td>4</td>\n",
              "      <td>30000</td>\n",
              "      <td>Individual</td>\n",
              "      <td>CNG</td>\n",
              "      <td>Manual</td>\n",
              "      <td>33.54</td>\n",
              "      <td>998</td>\n",
              "      <td>67.04</td>\n",
              "      <td>5</td>\n",
              "      <td>450000</td>\n",
              "    </tr>\n",
              "    <tr>\n",
              "      <th>12260</th>\n",
              "      <td>Maruti Wagon R</td>\n",
              "      <td>Maruti</td>\n",
              "      <td>Wagon R</td>\n",
              "      <td>5</td>\n",
              "      <td>56000</td>\n",
              "      <td>Dealer</td>\n",
              "      <td>CNG</td>\n",
              "      <td>Manual</td>\n",
              "      <td>33.54</td>\n",
              "      <td>998</td>\n",
              "      <td>67.04</td>\n",
              "      <td>5</td>\n",
              "      <td>360000</td>\n",
              "    </tr>\n",
              "    <tr>\n",
              "      <th>12696</th>\n",
              "      <td>Maruti Wagon R</td>\n",
              "      <td>Maruti</td>\n",
              "      <td>Wagon R</td>\n",
              "      <td>5</td>\n",
              "      <td>53000</td>\n",
              "      <td>Dealer</td>\n",
              "      <td>CNG</td>\n",
              "      <td>Manual</td>\n",
              "      <td>33.54</td>\n",
              "      <td>998</td>\n",
              "      <td>67.04</td>\n",
              "      <td>5</td>\n",
              "      <td>380000</td>\n",
              "    </tr>\n",
              "    <tr>\n",
              "      <th>15226</th>\n",
              "      <td>Maruti Wagon R</td>\n",
              "      <td>Maruti</td>\n",
              "      <td>Wagon R</td>\n",
              "      <td>5</td>\n",
              "      <td>74844</td>\n",
              "      <td>Dealer</td>\n",
              "      <td>CNG</td>\n",
              "      <td>Manual</td>\n",
              "      <td>33.54</td>\n",
              "      <td>998</td>\n",
              "      <td>67.04</td>\n",
              "      <td>5</td>\n",
              "      <td>390000</td>\n",
              "    </tr>\n",
              "  </tbody>\n",
              "</table>\n",
              "</div>"
            ],
            "text/plain": [
              "             car_name   brand    model  vehicle_age  km_driven  \\\n",
              "169    Maruti Wagon R  Maruti  Wagon R            3      52000   \n",
              "182    Maruti Wagon R  Maruti  Wagon R            8      64000   \n",
              "1250   Maruti Wagon R  Maruti  Wagon R            4      32013   \n",
              "1574   Maruti Wagon R  Maruti  Wagon R            6      55000   \n",
              "2271   Maruti Wagon R  Maruti  Wagon R            9      62000   \n",
              "2303   Maruti Wagon R  Maruti  Wagon R            7     135975   \n",
              "2364   Maruti Wagon R  Maruti  Wagon R            8      63000   \n",
              "2750   Maruti Wagon R  Maruti  Wagon R            8      55853   \n",
              "2925   Maruti Wagon R  Maruti  Wagon R            3      32000   \n",
              "3342   Maruti Wagon R  Maruti  Wagon R            5      64224   \n",
              "3743   Maruti Wagon R  Maruti  Wagon R            7      69000   \n",
              "6989   Maruti Wagon R  Maruti  Wagon R            6      69000   \n",
              "9193   Maruti Wagon R  Maruti  Wagon R            2      19022   \n",
              "9483   Maruti Wagon R  Maruti  Wagon R            3      33955   \n",
              "9908   Maruti Wagon R  Maruti  Wagon R            5      37208   \n",
              "9960   Maruti Wagon R  Maruti  Wagon R            3      55000   \n",
              "10303  Maruti Wagon R  Maruti  Wagon R            9      71000   \n",
              "10361  Maruti Wagon R  Maruti  Wagon R            4      75000   \n",
              "11310  Maruti Wagon R  Maruti  Wagon R            5      65000   \n",
              "11685  Maruti Wagon R  Maruti  Wagon R            4      28763   \n",
              "11727  Maruti Wagon R  Maruti  Wagon R            4      30000   \n",
              "12260  Maruti Wagon R  Maruti  Wagon R            5      56000   \n",
              "12696  Maruti Wagon R  Maruti  Wagon R            5      53000   \n",
              "15226  Maruti Wagon R  Maruti  Wagon R            5      74844   \n",
              "\n",
              "            seller_type fuel_type transmission_type  mileage  engine  \\\n",
              "169              Dealer       CNG            Manual    33.54     998   \n",
              "182              Dealer       CNG            Manual    33.54     998   \n",
              "1250   Trustmark Dealer       CNG            Manual    33.54     998   \n",
              "1574             Dealer       CNG            Manual    33.54     998   \n",
              "2271             Dealer       CNG            Manual    33.54     998   \n",
              "2303             Dealer       CNG            Manual    33.54     998   \n",
              "2364             Dealer       CNG            Manual    33.54     998   \n",
              "2750             Dealer       CNG            Manual    33.54     998   \n",
              "2925             Dealer       CNG            Manual    33.54     998   \n",
              "3342             Dealer       CNG            Manual    33.54     998   \n",
              "3743             Dealer       CNG            Manual    33.54     998   \n",
              "6989             Dealer       CNG            Manual    33.54     998   \n",
              "9193             Dealer       CNG            Manual    33.54     998   \n",
              "9483   Trustmark Dealer       CNG            Manual    33.54     998   \n",
              "9908   Trustmark Dealer       CNG            Manual    33.54     998   \n",
              "9960             Dealer       CNG            Manual    33.54     998   \n",
              "10303            Dealer       CNG            Manual    33.54     998   \n",
              "10361            Dealer       CNG            Manual    33.54     998   \n",
              "11310            Dealer       CNG            Manual    33.54     998   \n",
              "11685  Trustmark Dealer       CNG            Manual    33.54     998   \n",
              "11727        Individual       CNG            Manual    33.54     998   \n",
              "12260            Dealer       CNG            Manual    33.54     998   \n",
              "12696            Dealer       CNG            Manual    33.54     998   \n",
              "15226            Dealer       CNG            Manual    33.54     998   \n",
              "\n",
              "       max_power  seats  selling_price  \n",
              "169        67.04      5         435000  \n",
              "182        67.04      5         270000  \n",
              "1250       67.04      5         380000  \n",
              "1574       67.04      5         335000  \n",
              "2271       67.04      5         340000  \n",
              "2303       67.04      5         295000  \n",
              "2364       67.04      5         351000  \n",
              "2750       67.04      5         349000  \n",
              "2925       67.04      5         485000  \n",
              "3342       67.04      5         375000  \n",
              "3743       67.04      5         349000  \n",
              "6989       67.04      5         350000  \n",
              "9193       67.04      5         470000  \n",
              "9483       67.04      5         425000  \n",
              "9908       67.04      5         365000  \n",
              "9960       67.04      5         380000  \n",
              "10303      67.04      5         275000  \n",
              "10361      67.04      5         375000  \n",
              "11310      67.04      5         310000  \n",
              "11685      67.04      5         400000  \n",
              "11727      67.04      5         450000  \n",
              "12260      67.04      5         360000  \n",
              "12696      67.04      5         380000  \n",
              "15226      67.04      5         390000  "
            ]
          },
          "execution_count": 40,
          "metadata": {},
          "output_type": "execute_result"
        }
      ],
      "source": [
        "# Max Mileage car name\n",
        "df[df['mileage'] == df['mileage'].max()]"
      ]
    },
    {
      "cell_type": "code",
      "execution_count": 41,
      "metadata": {
        "id": "vxrnQYVLvW-r"
      },
      "outputs": [
        {
          "data": {
            "text/plain": [
              "Index(['car_name', 'brand', 'model', 'vehicle_age', 'km_driven', 'seller_type',\n",
              "       'fuel_type', 'transmission_type', 'mileage', 'engine', 'max_power',\n",
              "       'seats', 'selling_price'],\n",
              "      dtype='object')"
            ]
          },
          "execution_count": 41,
          "metadata": {},
          "output_type": "execute_result"
        }
      ],
      "source": [
        "df.columns"
      ]
    },
    {
      "cell_type": "code",
      "execution_count": 42,
      "metadata": {
        "id": "yWvZHxM8veL1"
      },
      "outputs": [
        {
          "data": {
            "text/html": [
              "<div>\n",
              "<style scoped>\n",
              "    .dataframe tbody tr th:only-of-type {\n",
              "        vertical-align: middle;\n",
              "    }\n",
              "\n",
              "    .dataframe tbody tr th {\n",
              "        vertical-align: top;\n",
              "    }\n",
              "\n",
              "    .dataframe thead th {\n",
              "        text-align: right;\n",
              "    }\n",
              "</style>\n",
              "<table border=\"1\" class=\"dataframe\">\n",
              "  <thead>\n",
              "    <tr style=\"text-align: right;\">\n",
              "      <th></th>\n",
              "      <th>car_name</th>\n",
              "      <th>brand</th>\n",
              "      <th>model</th>\n",
              "      <th>vehicle_age</th>\n",
              "      <th>km_driven</th>\n",
              "      <th>seller_type</th>\n",
              "      <th>fuel_type</th>\n",
              "      <th>transmission_type</th>\n",
              "      <th>mileage</th>\n",
              "      <th>engine</th>\n",
              "      <th>max_power</th>\n",
              "      <th>seats</th>\n",
              "      <th>selling_price</th>\n",
              "    </tr>\n",
              "  </thead>\n",
              "  <tbody>\n",
              "    <tr>\n",
              "      <th>3799</th>\n",
              "      <td>Ferrari GTC4Lusso</td>\n",
              "      <td>Ferrari</td>\n",
              "      <td>GTC4Lusso</td>\n",
              "      <td>2</td>\n",
              "      <td>3800</td>\n",
              "      <td>Dealer</td>\n",
              "      <td>Petrol</td>\n",
              "      <td>Automatic</td>\n",
              "      <td>4.0</td>\n",
              "      <td>3855</td>\n",
              "      <td>601.0</td>\n",
              "      <td>4</td>\n",
              "      <td>39500000</td>\n",
              "    </tr>\n",
              "  </tbody>\n",
              "</table>\n",
              "</div>"
            ],
            "text/plain": [
              "               car_name    brand      model  vehicle_age  km_driven  \\\n",
              "3799  Ferrari GTC4Lusso  Ferrari  GTC4Lusso            2       3800   \n",
              "\n",
              "     seller_type fuel_type transmission_type  mileage  engine  max_power  \\\n",
              "3799      Dealer    Petrol         Automatic      4.0    3855      601.0   \n",
              "\n",
              "      seats  selling_price  \n",
              "3799      4       39500000  "
            ]
          },
          "execution_count": 42,
          "metadata": {},
          "output_type": "execute_result"
        }
      ],
      "source": [
        "# Costly car\n",
        "\n",
        "df[df['selling_price'] == df['selling_price'].max()]"
      ]
    },
    {
      "cell_type": "code",
      "execution_count": 43,
      "metadata": {
        "id": "oW5_FgRvvuVT"
      },
      "outputs": [
        {
          "data": {
            "text/html": [
              "<div>\n",
              "<style scoped>\n",
              "    .dataframe tbody tr th:only-of-type {\n",
              "        vertical-align: middle;\n",
              "    }\n",
              "\n",
              "    .dataframe tbody tr th {\n",
              "        vertical-align: top;\n",
              "    }\n",
              "\n",
              "    .dataframe thead th {\n",
              "        text-align: right;\n",
              "    }\n",
              "</style>\n",
              "<table border=\"1\" class=\"dataframe\">\n",
              "  <thead>\n",
              "    <tr style=\"text-align: right;\">\n",
              "      <th></th>\n",
              "      <th>car_name</th>\n",
              "      <th>brand</th>\n",
              "      <th>model</th>\n",
              "      <th>vehicle_age</th>\n",
              "      <th>km_driven</th>\n",
              "      <th>seller_type</th>\n",
              "      <th>fuel_type</th>\n",
              "      <th>transmission_type</th>\n",
              "      <th>mileage</th>\n",
              "      <th>engine</th>\n",
              "      <th>max_power</th>\n",
              "      <th>seats</th>\n",
              "      <th>selling_price</th>\n",
              "    </tr>\n",
              "  </thead>\n",
              "  <tbody>\n",
              "    <tr>\n",
              "      <th>7607</th>\n",
              "      <td>Maruti Wagon R</td>\n",
              "      <td>Maruti</td>\n",
              "      <td>Wagon R</td>\n",
              "      <td>21</td>\n",
              "      <td>80000</td>\n",
              "      <td>Individual</td>\n",
              "      <td>Petrol</td>\n",
              "      <td>Manual</td>\n",
              "      <td>18.9</td>\n",
              "      <td>998</td>\n",
              "      <td>67.1</td>\n",
              "      <td>5</td>\n",
              "      <td>40000</td>\n",
              "    </tr>\n",
              "  </tbody>\n",
              "</table>\n",
              "</div>"
            ],
            "text/plain": [
              "            car_name   brand    model  vehicle_age  km_driven seller_type  \\\n",
              "7607  Maruti Wagon R  Maruti  Wagon R           21      80000  Individual   \n",
              "\n",
              "     fuel_type transmission_type  mileage  engine  max_power  seats  \\\n",
              "7607    Petrol            Manual     18.9     998       67.1      5   \n",
              "\n",
              "      selling_price  \n",
              "7607          40000  "
            ]
          },
          "execution_count": 43,
          "metadata": {},
          "output_type": "execute_result"
        }
      ],
      "source": [
        "df[df['selling_price'] == df['selling_price'].min()]"
      ]
    },
    {
      "cell_type": "code",
      "execution_count": null,
      "metadata": {
        "id": "rDQ8B2AHvx5S"
      },
      "outputs": [],
      "source": []
    },
    {
      "cell_type": "code",
      "execution_count": 44,
      "metadata": {
        "id": "byvbdXtrwOB6"
      },
      "outputs": [],
      "source": [
        "second_min_price = df['selling_price'].sort_values().values[1]"
      ]
    },
    {
      "cell_type": "code",
      "execution_count": 45,
      "metadata": {
        "id": "PvbC9Cx9wVwg"
      },
      "outputs": [
        {
          "data": {
            "text/html": [
              "<div>\n",
              "<style scoped>\n",
              "    .dataframe tbody tr th:only-of-type {\n",
              "        vertical-align: middle;\n",
              "    }\n",
              "\n",
              "    .dataframe tbody tr th {\n",
              "        vertical-align: top;\n",
              "    }\n",
              "\n",
              "    .dataframe thead th {\n",
              "        text-align: right;\n",
              "    }\n",
              "</style>\n",
              "<table border=\"1\" class=\"dataframe\">\n",
              "  <thead>\n",
              "    <tr style=\"text-align: right;\">\n",
              "      <th></th>\n",
              "      <th>car_name</th>\n",
              "      <th>brand</th>\n",
              "      <th>model</th>\n",
              "      <th>vehicle_age</th>\n",
              "      <th>km_driven</th>\n",
              "      <th>seller_type</th>\n",
              "      <th>fuel_type</th>\n",
              "      <th>transmission_type</th>\n",
              "      <th>mileage</th>\n",
              "      <th>engine</th>\n",
              "      <th>max_power</th>\n",
              "      <th>seats</th>\n",
              "      <th>selling_price</th>\n",
              "    </tr>\n",
              "  </thead>\n",
              "  <tbody>\n",
              "    <tr>\n",
              "      <th>13676</th>\n",
              "      <td>Maruti Alto</td>\n",
              "      <td>Maruti</td>\n",
              "      <td>Alto</td>\n",
              "      <td>17</td>\n",
              "      <td>110000</td>\n",
              "      <td>Individual</td>\n",
              "      <td>Petrol</td>\n",
              "      <td>Manual</td>\n",
              "      <td>19.7</td>\n",
              "      <td>796</td>\n",
              "      <td>46.3</td>\n",
              "      <td>5</td>\n",
              "      <td>45000</td>\n",
              "    </tr>\n",
              "  </tbody>\n",
              "</table>\n",
              "</div>"
            ],
            "text/plain": [
              "          car_name   brand model  vehicle_age  km_driven seller_type  \\\n",
              "13676  Maruti Alto  Maruti  Alto           17     110000  Individual   \n",
              "\n",
              "      fuel_type transmission_type  mileage  engine  max_power  seats  \\\n",
              "13676    Petrol            Manual     19.7     796       46.3      5   \n",
              "\n",
              "       selling_price  \n",
              "13676          45000  "
            ]
          },
          "execution_count": 45,
          "metadata": {},
          "output_type": "execute_result"
        }
      ],
      "source": [
        "df[df['selling_price'] == second_min_price]"
      ]
    },
    {
      "cell_type": "code",
      "execution_count": 46,
      "metadata": {
        "id": "R3zsr18LwzA0"
      },
      "outputs": [],
      "source": [
        "# Second highest Costly car\n",
        "second_max_price = df['selling_price'].sort_values(ascending = False).values[1]"
      ]
    },
    {
      "cell_type": "code",
      "execution_count": 47,
      "metadata": {
        "id": "ghNr1bOlxig7"
      },
      "outputs": [
        {
          "data": {
            "text/html": [
              "<div>\n",
              "<style scoped>\n",
              "    .dataframe tbody tr th:only-of-type {\n",
              "        vertical-align: middle;\n",
              "    }\n",
              "\n",
              "    .dataframe tbody tr th {\n",
              "        vertical-align: top;\n",
              "    }\n",
              "\n",
              "    .dataframe thead th {\n",
              "        text-align: right;\n",
              "    }\n",
              "</style>\n",
              "<table border=\"1\" class=\"dataframe\">\n",
              "  <thead>\n",
              "    <tr style=\"text-align: right;\">\n",
              "      <th></th>\n",
              "      <th>car_name</th>\n",
              "      <th>brand</th>\n",
              "      <th>model</th>\n",
              "      <th>vehicle_age</th>\n",
              "      <th>km_driven</th>\n",
              "      <th>seller_type</th>\n",
              "      <th>fuel_type</th>\n",
              "      <th>transmission_type</th>\n",
              "      <th>mileage</th>\n",
              "      <th>engine</th>\n",
              "      <th>max_power</th>\n",
              "      <th>seats</th>\n",
              "      <th>selling_price</th>\n",
              "    </tr>\n",
              "  </thead>\n",
              "  <tbody>\n",
              "    <tr>\n",
              "      <th>10969</th>\n",
              "      <td>Rolls-Royce Ghost</td>\n",
              "      <td>Rolls-Royce</td>\n",
              "      <td>Ghost</td>\n",
              "      <td>4</td>\n",
              "      <td>5000</td>\n",
              "      <td>Individual</td>\n",
              "      <td>Petrol</td>\n",
              "      <td>Automatic</td>\n",
              "      <td>10.2</td>\n",
              "      <td>6592</td>\n",
              "      <td>563.0</td>\n",
              "      <td>4</td>\n",
              "      <td>24200000</td>\n",
              "    </tr>\n",
              "  </tbody>\n",
              "</table>\n",
              "</div>"
            ],
            "text/plain": [
              "                car_name        brand  model  vehicle_age  km_driven  \\\n",
              "10969  Rolls-Royce Ghost  Rolls-Royce  Ghost            4       5000   \n",
              "\n",
              "      seller_type fuel_type transmission_type  mileage  engine  max_power  \\\n",
              "10969  Individual    Petrol         Automatic     10.2    6592      563.0   \n",
              "\n",
              "       seats  selling_price  \n",
              "10969      4       24200000  "
            ]
          },
          "execution_count": 47,
          "metadata": {},
          "output_type": "execute_result"
        }
      ],
      "source": [
        "df[df['selling_price'] == second_max_price]"
      ]
    },
    {
      "cell_type": "code",
      "execution_count": 48,
      "metadata": {
        "id": "DgvbHed7xtud"
      },
      "outputs": [
        {
          "data": {
            "text/plain": [
              "Index(['car_name', 'brand', 'model', 'vehicle_age', 'km_driven', 'seller_type',\n",
              "       'fuel_type', 'transmission_type', 'mileage', 'engine', 'max_power',\n",
              "       'seats', 'selling_price'],\n",
              "      dtype='object')"
            ]
          },
          "execution_count": 48,
          "metadata": {},
          "output_type": "execute_result"
        }
      ],
      "source": [
        "df.columns"
      ]
    },
    {
      "cell_type": "code",
      "execution_count": 49,
      "metadata": {
        "id": "GEkZasJEx9kw"
      },
      "outputs": [],
      "source": [
        "# Top 10 cars by sp\n",
        "\n",
        "top_10_sp_df = df.sort_values(by = 'selling_price',ascending = False).head(10)"
      ]
    },
    {
      "cell_type": "code",
      "execution_count": 50,
      "metadata": {
        "id": "gYGmfyzezOE9"
      },
      "outputs": [
        {
          "data": {
            "text/plain": [
              "Index(['car_name', 'brand', 'model', 'vehicle_age', 'km_driven', 'seller_type',\n",
              "       'fuel_type', 'transmission_type', 'mileage', 'engine', 'max_power',\n",
              "       'seats', 'selling_price'],\n",
              "      dtype='object')"
            ]
          },
          "execution_count": 50,
          "metadata": {},
          "output_type": "execute_result"
        }
      ],
      "source": [
        "# columns slicing\n",
        "df.columns"
      ]
    },
    {
      "cell_type": "code",
      "execution_count": null,
      "metadata": {
        "id": "RkbPEdd2za0a"
      },
      "outputs": [
        {
          "data": {
            "text/html": [
              "<div>\n",
              "<style scoped>\n",
              "    .dataframe tbody tr th:only-of-type {\n",
              "        vertical-align: middle;\n",
              "    }\n",
              "\n",
              "    .dataframe tbody tr th {\n",
              "        vertical-align: top;\n",
              "    }\n",
              "\n",
              "    .dataframe thead th {\n",
              "        text-align: right;\n",
              "    }\n",
              "</style>\n",
              "<table border=\"1\" class=\"dataframe\">\n",
              "  <thead>\n",
              "    <tr style=\"text-align: right;\">\n",
              "      <th></th>\n",
              "      <th>car_name</th>\n",
              "      <th>vehicle_age</th>\n",
              "      <th>fuel_type</th>\n",
              "      <th>selling_price</th>\n",
              "    </tr>\n",
              "  </thead>\n",
              "  <tbody>\n",
              "    <tr>\n",
              "      <th>3799</th>\n",
              "      <td>Ferrari GTC4Lusso</td>\n",
              "      <td>2</td>\n",
              "      <td>Petrol</td>\n",
              "      <td>39500000</td>\n",
              "    </tr>\n",
              "    <tr>\n",
              "      <th>10969</th>\n",
              "      <td>Rolls-Royce Ghost</td>\n",
              "      <td>4</td>\n",
              "      <td>Petrol</td>\n",
              "      <td>24200000</td>\n",
              "    </tr>\n",
              "    <tr>\n",
              "      <th>1172</th>\n",
              "      <td>Bentley Continental</td>\n",
              "      <td>9</td>\n",
              "      <td>Petrol</td>\n",
              "      <td>14500000</td>\n",
              "    </tr>\n",
              "    <tr>\n",
              "      <th>9722</th>\n",
              "      <td>Mercedes-Benz S-Class</td>\n",
              "      <td>3</td>\n",
              "      <td>Petrol</td>\n",
              "      <td>13000000</td>\n",
              "    </tr>\n",
              "    <tr>\n",
              "      <th>9364</th>\n",
              "      <td>Porsche Cayenne</td>\n",
              "      <td>4</td>\n",
              "      <td>Petrol</td>\n",
              "      <td>11100000</td>\n",
              "    </tr>\n",
              "    <tr>\n",
              "      <th>10989</th>\n",
              "      <td>Mercedes-Benz S-Class</td>\n",
              "      <td>2</td>\n",
              "      <td>Petrol</td>\n",
              "      <td>11000000</td>\n",
              "    </tr>\n",
              "    <tr>\n",
              "      <th>1888</th>\n",
              "      <td>Mercedes-Benz S-Class</td>\n",
              "      <td>5</td>\n",
              "      <td>Petrol</td>\n",
              "      <td>11000000</td>\n",
              "    </tr>\n",
              "    <tr>\n",
              "      <th>11000</th>\n",
              "      <td>Land Rover Rover</td>\n",
              "      <td>4</td>\n",
              "      <td>Diesel</td>\n",
              "      <td>9200000</td>\n",
              "    </tr>\n",
              "    <tr>\n",
              "      <th>8439</th>\n",
              "      <td>BMW 7</td>\n",
              "      <td>3</td>\n",
              "      <td>Diesel</td>\n",
              "      <td>8500000</td>\n",
              "    </tr>\n",
              "    <tr>\n",
              "      <th>3096</th>\n",
              "      <td>BMW 7</td>\n",
              "      <td>3</td>\n",
              "      <td>Diesel</td>\n",
              "      <td>8500000</td>\n",
              "    </tr>\n",
              "  </tbody>\n",
              "</table>\n",
              "</div>"
            ],
            "text/plain": [
              "                    car_name  vehicle_age fuel_type  selling_price\n",
              "3799       Ferrari GTC4Lusso            2    Petrol       39500000\n",
              "10969      Rolls-Royce Ghost            4    Petrol       24200000\n",
              "1172     Bentley Continental            9    Petrol       14500000\n",
              "9722   Mercedes-Benz S-Class            3    Petrol       13000000\n",
              "9364         Porsche Cayenne            4    Petrol       11100000\n",
              "10989  Mercedes-Benz S-Class            2    Petrol       11000000\n",
              "1888   Mercedes-Benz S-Class            5    Petrol       11000000\n",
              "11000       Land Rover Rover            4    Diesel        9200000\n",
              "8439                   BMW 7            3    Diesel        8500000\n",
              "3096                   BMW 7            3    Diesel        8500000"
            ]
          },
          "execution_count": 51,
          "metadata": {},
          "output_type": "execute_result"
        }
      ],
      "source": [
        "top_10_sp_df[['car_name','vehicle_age','fuel_type','selling_price']]\n",
        "# we use double bracker here because we are passing a list of columns for the DF"
      ]
    },
    {
      "cell_type": "code",
      "execution_count": 52,
      "metadata": {
        "id": "0RI2ESBjzrSs"
      },
      "outputs": [
        {
          "data": {
            "text/html": [
              "<div>\n",
              "<style scoped>\n",
              "    .dataframe tbody tr th:only-of-type {\n",
              "        vertical-align: middle;\n",
              "    }\n",
              "\n",
              "    .dataframe tbody tr th {\n",
              "        vertical-align: top;\n",
              "    }\n",
              "\n",
              "    .dataframe thead th {\n",
              "        text-align: right;\n",
              "    }\n",
              "</style>\n",
              "<table border=\"1\" class=\"dataframe\">\n",
              "  <thead>\n",
              "    <tr style=\"text-align: right;\">\n",
              "      <th></th>\n",
              "      <th>car_name</th>\n",
              "      <th>vehicle_age</th>\n",
              "      <th>fuel_type</th>\n",
              "      <th>selling_price</th>\n",
              "    </tr>\n",
              "  </thead>\n",
              "  <tbody>\n",
              "    <tr>\n",
              "      <th>2596</th>\n",
              "      <td>Maruti Alto</td>\n",
              "      <td>29</td>\n",
              "      <td>Petrol</td>\n",
              "      <td>60000</td>\n",
              "    </tr>\n",
              "    <tr>\n",
              "      <th>15329</th>\n",
              "      <td>BMW 3</td>\n",
              "      <td>25</td>\n",
              "      <td>Petrol</td>\n",
              "      <td>1000000</td>\n",
              "    </tr>\n",
              "    <tr>\n",
              "      <th>14317</th>\n",
              "      <td>Honda City</td>\n",
              "      <td>22</td>\n",
              "      <td>Petrol</td>\n",
              "      <td>70000</td>\n",
              "    </tr>\n",
              "    <tr>\n",
              "      <th>7607</th>\n",
              "      <td>Maruti Wagon R</td>\n",
              "      <td>21</td>\n",
              "      <td>Petrol</td>\n",
              "      <td>40000</td>\n",
              "    </tr>\n",
              "    <tr>\n",
              "      <th>6660</th>\n",
              "      <td>Maruti Wagon R</td>\n",
              "      <td>21</td>\n",
              "      <td>Petrol</td>\n",
              "      <td>85000</td>\n",
              "    </tr>\n",
              "    <tr>\n",
              "      <th>8146</th>\n",
              "      <td>Maruti Wagon R</td>\n",
              "      <td>21</td>\n",
              "      <td>Petrol</td>\n",
              "      <td>95000</td>\n",
              "    </tr>\n",
              "    <tr>\n",
              "      <th>8000</th>\n",
              "      <td>Maruti Wagon R</td>\n",
              "      <td>19</td>\n",
              "      <td>Petrol</td>\n",
              "      <td>80000</td>\n",
              "    </tr>\n",
              "    <tr>\n",
              "      <th>7687</th>\n",
              "      <td>Maruti Alto</td>\n",
              "      <td>19</td>\n",
              "      <td>Petrol</td>\n",
              "      <td>90000</td>\n",
              "    </tr>\n",
              "    <tr>\n",
              "      <th>3787</th>\n",
              "      <td>Maruti Alto</td>\n",
              "      <td>19</td>\n",
              "      <td>Petrol</td>\n",
              "      <td>50000</td>\n",
              "    </tr>\n",
              "    <tr>\n",
              "      <th>6539</th>\n",
              "      <td>Maruti Alto</td>\n",
              "      <td>19</td>\n",
              "      <td>Petrol</td>\n",
              "      <td>100000</td>\n",
              "    </tr>\n",
              "  </tbody>\n",
              "</table>\n",
              "</div>"
            ],
            "text/plain": [
              "             car_name  vehicle_age fuel_type  selling_price\n",
              "2596      Maruti Alto           29    Petrol          60000\n",
              "15329           BMW 3           25    Petrol        1000000\n",
              "14317      Honda City           22    Petrol          70000\n",
              "7607   Maruti Wagon R           21    Petrol          40000\n",
              "6660   Maruti Wagon R           21    Petrol          85000\n",
              "8146   Maruti Wagon R           21    Petrol          95000\n",
              "8000   Maruti Wagon R           19    Petrol          80000\n",
              "7687      Maruti Alto           19    Petrol          90000\n",
              "3787      Maruti Alto           19    Petrol          50000\n",
              "6539      Maruti Alto           19    Petrol         100000"
            ]
          },
          "execution_count": 52,
          "metadata": {},
          "output_type": "execute_result"
        }
      ],
      "source": [
        "df.sort_values(by = 'vehicle_age',ascending = False).head(10)[['car_name','vehicle_age','fuel_type','selling_price']]"
      ]
    },
    {
      "cell_type": "code",
      "execution_count": 53,
      "metadata": {
        "id": "wM2axM-_1OFy"
      },
      "outputs": [
        {
          "data": {
            "text/plain": [
              "Index(['car_name', 'brand', 'model', 'vehicle_age', 'km_driven', 'seller_type',\n",
              "       'fuel_type', 'transmission_type', 'mileage', 'engine', 'max_power',\n",
              "       'seats', 'selling_price'],\n",
              "      dtype='object')"
            ]
          },
          "execution_count": 53,
          "metadata": {},
          "output_type": "execute_result"
        }
      ],
      "source": [
        "df.columns"
      ]
    },
    {
      "cell_type": "code",
      "execution_count": 54,
      "metadata": {
        "id": "U1TPS8k-2vbC"
      },
      "outputs": [
        {
          "data": {
            "text/plain": [
              "array(['Maruti', 'Hyundai', 'Ford', 'Renault', 'Mini', 'Mercedes-Benz',\n",
              "       'Toyota', 'Volkswagen', 'Honda', 'Mahindra', 'Datsun', 'Tata',\n",
              "       'Kia', 'BMW', 'Audi', 'Land Rover', 'Jaguar', 'MG', 'Isuzu',\n",
              "       'Porsche', 'Skoda', 'Volvo', 'Lexus', 'Jeep', 'Maserati',\n",
              "       'Bentley', 'Nissan', 'ISUZU', 'Ferrari', 'Mercedes-AMG',\n",
              "       'Rolls-Royce', 'Force'], dtype=object)"
            ]
          },
          "execution_count": 54,
          "metadata": {},
          "output_type": "execute_result"
        }
      ],
      "source": [
        "# unique\n",
        "df['brand'].unique()"
      ]
    },
    {
      "cell_type": "code",
      "execution_count": 55,
      "metadata": {
        "id": "Tec2hCAM3BnJ"
      },
      "outputs": [
        {
          "data": {
            "text/plain": [
              "32"
            ]
          },
          "execution_count": 55,
          "metadata": {},
          "output_type": "execute_result"
        }
      ],
      "source": [
        "df['brand'].nunique()"
      ]
    },
    {
      "cell_type": "code",
      "execution_count": 56,
      "metadata": {
        "id": "qQwSE02-3RU7"
      },
      "outputs": [
        {
          "data": {
            "text/plain": [
              "brand\n",
              "Ferrari          39500000.00\n",
              "Rolls-Royce      24200000.00\n",
              "Bentley           9266666.67\n",
              "Maserati          6100000.00\n",
              "Porsche           5161190.48\n",
              "Lexus             5146500.00\n",
              "Mercedes-AMG      5100000.00\n",
              "Land Rover        3823901.96\n",
              "Volvo             3729700.00\n",
              "BMW               2693826.88\n",
              "Jaguar            2643033.90\n",
              "Mercedes-Benz     2480741.84\n",
              "Mini              2182647.06\n",
              "Audi              1966864.58\n",
              "ISUZU             1897500.00\n",
              "Jeep              1795804.88\n",
              "MG                1752947.37\n",
              "Kia               1735250.00\n",
              "Toyota            1371316.52\n",
              "Isuzu             1355000.00\n",
              "Nissan             955363.64\n",
              "Mahindra           787455.00\n",
              "Skoda              784089.82\n",
              "Force              700000.00\n",
              "Tata               683534.88\n",
              "Ford               645224.05\n",
              "Honda              617756.90\n",
              "Hyundai            576153.92\n",
              "Volkswagen         516546.77\n",
              "Maruti             487089.32\n",
              "Renault            440985.07\n",
              "Datsun             320517.65\n",
              "Name: selling_price, dtype: float64"
            ]
          },
          "execution_count": 56,
          "metadata": {},
          "output_type": "execute_result"
        }
      ],
      "source": [
        "# group by\n",
        "\n",
        "df.groupby('brand')['selling_price'].mean().round(2).sort_values(ascending = 0)"
      ]
    },
    {
      "cell_type": "code",
      "execution_count": 57,
      "metadata": {
        "id": "gO6xXGJ53xp7"
      },
      "outputs": [
        {
          "data": {
            "text/plain": [
              "Index(['car_name', 'brand', 'model', 'vehicle_age', 'km_driven', 'seller_type',\n",
              "       'fuel_type', 'transmission_type', 'mileage', 'engine', 'max_power',\n",
              "       'seats', 'selling_price'],\n",
              "      dtype='object')"
            ]
          },
          "execution_count": 57,
          "metadata": {},
          "output_type": "execute_result"
        }
      ],
      "source": [
        "df.columns"
      ]
    },
    {
      "cell_type": "code",
      "execution_count": 58,
      "metadata": {
        "id": "D6iRoirG5KoV"
      },
      "outputs": [
        {
          "data": {
            "text/plain": [
              "array(['Individual', 'Dealer', 'Trustmark Dealer'], dtype=object)"
            ]
          },
          "execution_count": 58,
          "metadata": {},
          "output_type": "execute_result"
        }
      ],
      "source": [
        "df['seller_type'].unique()"
      ]
    },
    {
      "cell_type": "code",
      "execution_count": 59,
      "metadata": {
        "id": "r5pnctQW5fg7"
      },
      "outputs": [
        {
          "data": {
            "text/html": [
              "<div>\n",
              "<style scoped>\n",
              "    .dataframe tbody tr th:only-of-type {\n",
              "        vertical-align: middle;\n",
              "    }\n",
              "\n",
              "    .dataframe tbody tr th {\n",
              "        vertical-align: top;\n",
              "    }\n",
              "\n",
              "    .dataframe thead th {\n",
              "        text-align: right;\n",
              "    }\n",
              "</style>\n",
              "<table border=\"1\" class=\"dataframe\">\n",
              "  <thead>\n",
              "    <tr style=\"text-align: right;\">\n",
              "      <th></th>\n",
              "      <th>min</th>\n",
              "      <th>max</th>\n",
              "      <th>mean</th>\n",
              "    </tr>\n",
              "    <tr>\n",
              "      <th>seller_type</th>\n",
              "      <th></th>\n",
              "      <th></th>\n",
              "      <th></th>\n",
              "    </tr>\n",
              "  </thead>\n",
              "  <tbody>\n",
              "    <tr>\n",
              "      <th>Dealer</th>\n",
              "      <td>55000</td>\n",
              "      <td>39500000</td>\n",
              "      <td>872506.0</td>\n",
              "    </tr>\n",
              "    <tr>\n",
              "      <th>Individual</th>\n",
              "      <td>40000</td>\n",
              "      <td>24200000</td>\n",
              "      <td>617880.0</td>\n",
              "    </tr>\n",
              "    <tr>\n",
              "      <th>Trustmark Dealer</th>\n",
              "      <td>210000</td>\n",
              "      <td>1575000</td>\n",
              "      <td>571960.0</td>\n",
              "    </tr>\n",
              "  </tbody>\n",
              "</table>\n",
              "</div>"
            ],
            "text/plain": [
              "                     min       max      mean\n",
              "seller_type                                 \n",
              "Dealer             55000  39500000  872506.0\n",
              "Individual         40000  24200000  617880.0\n",
              "Trustmark Dealer  210000   1575000  571960.0"
            ]
          },
          "execution_count": 59,
          "metadata": {},
          "output_type": "execute_result"
        }
      ],
      "source": [
        "df.groupby('seller_type')['selling_price'].agg(['min','max','mean']).round()"
      ]
    },
    {
      "cell_type": "code",
      "execution_count": null,
      "metadata": {
        "id": "_h1e-JdY52WX"
      },
      "outputs": [],
      "source": []
    }
  ],
  "metadata": {
    "colab": {
      "private_outputs": true,
      "provenance": []
    },
    "kernelspec": {
      "display_name": "myenv (3.13.5)",
      "language": "python",
      "name": "python3"
    },
    "language_info": {
      "codemirror_mode": {
        "name": "ipython",
        "version": 3
      },
      "file_extension": ".py",
      "mimetype": "text/x-python",
      "name": "python",
      "nbconvert_exporter": "python",
      "pygments_lexer": "ipython3",
      "version": "3.13.5"
    }
  },
  "nbformat": 4,
  "nbformat_minor": 0
}
