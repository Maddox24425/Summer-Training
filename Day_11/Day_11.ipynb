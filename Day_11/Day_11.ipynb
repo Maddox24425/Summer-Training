{
  "cells": [
    {
      "cell_type": "code",
      "execution_count": null,
      "metadata": {
        "id": "PoAiMP3SyTl8"
      },
      "outputs": [],
      "source": [
        "import qrcode\n",
        "img = qrcode.make('https://colab.research.google.com/drive/17qdEJHd2jXsfFI1yzdiboK9IFgFxZyfv?usp=sharing')\n",
        "img.save('myqr.png')\n"
      ]
    },
    {
      "cell_type": "code",
      "execution_count": null,
      "metadata": {
        "id": "9CH1X0QZzRm0"
      },
      "outputs": [],
      "source": [
        "# pip install qrcode"
      ]
    },
    {
      "cell_type": "code",
      "execution_count": null,
      "metadata": {
        "id": "cAjVu8HIzTWv"
      },
      "outputs": [],
      "source": [
        "# DataTypes Pandas\n",
        "# Read File\n",
        "# Head\n",
        "# Info\n",
        "# tail\n",
        "# Sample\n",
        "# describe\n",
        "# corr\n",
        "# columns\n",
        "# index\n",
        "# isna\n",
        "# fillna\n",
        "# replace\n",
        "# drop\n",
        "# outliers detection\n",
        "# plots\n",
        "# masking\n",
        "# group by\n",
        "# pivot table\n",
        "# Analysis"
      ]
    },
    {
      "cell_type": "code",
      "execution_count": null,
      "metadata": {
        "id": "VTRoK9kO07e1"
      },
      "outputs": [],
      "source": [
        "'''https://www.kaggle.com/datasets/manishkr1754/cardekho-used-car-data'''"
      ]
    },
    {
      "cell_type": "code",
      "execution_count": null,
      "metadata": {
        "id": "SHTvNwJO11Q9"
      },
      "outputs": [],
      "source": [
        "import kagglehub\n",
        "\n",
        "# Download latest version\n",
        "path = kagglehub.dataset_download(\"manishkr1754/cardekho-used-car-data\")\n",
        "\n",
        "print(\"Path to dataset files:\", path)"
      ]
    },
    {
      "cell_type": "code",
      "execution_count": null,
      "metadata": {
        "id": "qv3TiNE-2DJp"
      },
      "outputs": [],
      "source": [
        "import os\n",
        "all_files = os.listdir(path)\n",
        "all_files"
      ]
    },
    {
      "cell_type": "code",
      "execution_count": null,
      "metadata": {
        "id": "zNQpHUPW2gul"
      },
      "outputs": [],
      "source": [
        "file_path = path + '/'+ all_files[0]\n",
        "file_path"
      ]
    },
    {
      "cell_type": "code",
      "execution_count": null,
      "metadata": {
        "id": "4tjxZikO2iPi"
      },
      "outputs": [],
      "source": [
        "import pandas as pd\n",
        "df = pd.read_csv(file_path)\n",
        "print('File Loaded Successfully!!')"
      ]
    },
    {
      "cell_type": "code",
      "execution_count": null,
      "metadata": {
        "id": "web5Zs-v59o0"
      },
      "outputs": [],
      "source": [
        "# Step 1\n",
        "# Module Import\n",
        "\n",
        "# Step 2\n",
        "# File Read"
      ]
    },
    {
      "cell_type": "code",
      "execution_count": null,
      "metadata": {
        "id": "LbEQ0eTh6Nzj"
      },
      "outputs": [],
      "source": [
        "# Step 3\n",
        "df.head()"
      ]
    },
    {
      "cell_type": "code",
      "execution_count": null,
      "metadata": {
        "id": "T9g1pnDB6Pm9"
      },
      "outputs": [],
      "source": [
        "#\n",
        "df.tail()"
      ]
    },
    {
      "cell_type": "code",
      "execution_count": null,
      "metadata": {
        "id": "zPjvAHTR7f61"
      },
      "outputs": [],
      "source": [
        "#\n",
        "df.info()"
      ]
    },
    {
      "cell_type": "code",
      "execution_count": null,
      "metadata": {
        "id": "PA_uEZEE7oCN"
      },
      "outputs": [],
      "source": [
        "#\n",
        "r,c = df.shape\n",
        "print(f'''Dataset contains\n",
        "Rows: {r}\n",
        "Columns: {c}''')"
      ]
    },
    {
      "cell_type": "code",
      "execution_count": null,
      "metadata": {
        "id": "OXe5dKpD8EJ0"
      },
      "outputs": [],
      "source": [
        "# list of columns\n",
        "df.columns"
      ]
    },
    {
      "cell_type": "code",
      "execution_count": null,
      "metadata": {
        "id": "gBVdFT7480CO"
      },
      "outputs": [],
      "source": [
        "# 'Unnamed: 0': Wrong Col"
      ]
    },
    {
      "cell_type": "code",
      "execution_count": null,
      "metadata": {
        "id": "70Z624ZY9Dmf"
      },
      "outputs": [],
      "source": [
        "df.drop('Unnamed: 0',axis = 1,inplace = True)"
      ]
    },
    {
      "cell_type": "code",
      "execution_count": null,
      "metadata": {
        "id": "DvJYMypc9JQT"
      },
      "outputs": [],
      "source": [
        "# sample\n",
        "df.sample(3)"
      ]
    },
    {
      "cell_type": "code",
      "execution_count": null,
      "metadata": {
        "id": "VKKL2eRm9fof"
      },
      "outputs": [],
      "source": [
        "df.index  # it will check index range"
      ]
    },
    {
      "cell_type": "code",
      "execution_count": null,
      "metadata": {
        "id": "jpSGmIzt_HkQ"
      },
      "outputs": [],
      "source": [
        "# missing value\n",
        "df.isna().sum()  # Zero represents no null value found"
      ]
    },
    {
      "cell_type": "code",
      "execution_count": null,
      "metadata": {
        "id": "qGjx8hJy_cVa"
      },
      "outputs": [],
      "source": [
        "df.isnull().sum()"
      ]
    },
    {
      "cell_type": "code",
      "execution_count": null,
      "metadata": {
        "id": "BzMEm1nN_x4M"
      },
      "outputs": [],
      "source": [
        "# graph/viusals : heatmap\n",
        "\n",
        "import seaborn as sns\n",
        "sns.heatmap(df.isnull())"
      ]
    },
    {
      "cell_type": "code",
      "execution_count": null,
      "metadata": {
        "id": "escXe_XLACBW"
      },
      "outputs": [],
      "source": [
        "# Missing Values:\n",
        "# Replace/ Fill/Remove/Ignore"
      ]
    },
    {
      "cell_type": "code",
      "execution_count": null,
      "metadata": {
        "id": "zMX7J_JBAw3P"
      },
      "outputs": [],
      "source": [
        "# stats: by-default: numerical(): Ignore: object/category\n",
        "df.describe().round(2)"
      ]
    },
    {
      "cell_type": "code",
      "execution_count": null,
      "metadata": {
        "id": "CHPZbAALA4Na"
      },
      "outputs": [],
      "source": [
        "df.describe(include=['O'])"
      ]
    },
    {
      "cell_type": "code",
      "execution_count": null,
      "metadata": {
        "id": "ulAsJtAcDuhA"
      },
      "outputs": [],
      "source": [
        "# Findings:\n",
        "# Car dekho website has most demanded model i20 freq: 906"
      ]
    },
    {
      "cell_type": "code",
      "execution_count": null,
      "metadata": {
        "id": "K1lZPEntFCMQ"
      },
      "outputs": [],
      "source": [
        "# Analysis\n",
        "# Univariate, Bivariate and Multivariate data and its analysis\n",
        "# Univariate,: Single col\n",
        "# Bivariate : double col\n",
        "# Multivariate: more than 2 col"
      ]
    },
    {
      "cell_type": "code",
      "execution_count": null,
      "metadata": {
        "id": "B7c3eGQkF_QD"
      },
      "outputs": [],
      "source": [
        "df.columns"
      ]
    },
    {
      "cell_type": "code",
      "execution_count": null,
      "metadata": {
        "id": "ozTDXOZxGBbS"
      },
      "outputs": [],
      "source": [
        "# Univariate: Single Col Analysis"
      ]
    },
    {
      "cell_type": "code",
      "execution_count": null,
      "metadata": {
        "id": "c59VnF0iG8a9"
      },
      "outputs": [],
      "source": []
    },
    {
      "cell_type": "code",
      "execution_count": null,
      "metadata": {
        "id": "yRlNSn0TGzVd"
      },
      "outputs": [],
      "source": [
        "cat_col = list(df.describe(include=['O']).columns)\n",
        "num_col = list(df.describe().columns)"
      ]
    },
    {
      "cell_type": "code",
      "execution_count": null,
      "metadata": {
        "id": "6OQG_9OEHIg5"
      },
      "outputs": [],
      "source": [
        "print(cat_col)"
      ]
    },
    {
      "cell_type": "code",
      "execution_count": null,
      "metadata": {
        "id": "oDiOaKp_HNX9"
      },
      "outputs": [],
      "source": [
        "print(num_col)"
      ]
    },
    {
      "cell_type": "code",
      "execution_count": null,
      "metadata": {
        "id": "weVAwyWHHPVB"
      },
      "outputs": [],
      "source": [
        "# unique, # nunique, value_counts"
      ]
    },
    {
      "cell_type": "code",
      "execution_count": null,
      "metadata": {
        "id": "yli5dHYFIEiP"
      },
      "outputs": [],
      "source": [
        "print(type(df))"
      ]
    },
    {
      "cell_type": "code",
      "execution_count": null,
      "metadata": {
        "id": "gPv5_NlVIIa6"
      },
      "outputs": [],
      "source": [
        "# series: single col(series)"
      ]
    },
    {
      "cell_type": "code",
      "execution_count": null,
      "metadata": {
        "id": "ctfm2HA8IO63"
      },
      "outputs": [],
      "source": [
        "print(type(df['car_name']))"
      ]
    },
    {
      "cell_type": "code",
      "execution_count": null,
      "metadata": {
        "id": "H69fD5i8IXCN"
      },
      "outputs": [],
      "source": [
        "# value_counts()\n",
        "# Top 10 Car By Name\n",
        "df['car_name'].value_counts().head(10)"
      ]
    },
    {
      "cell_type": "code",
      "execution_count": null,
      "metadata": {
        "id": "GXRHrVvjIk03"
      },
      "outputs": [],
      "source": [
        "# Top 10 Car By Name\n",
        "df['car_name'].value_counts().tail(10)"
      ]
    },
    {
      "cell_type": "code",
      "execution_count": null,
      "metadata": {
        "id": "Lcu2bfecJzpE"
      },
      "outputs": [],
      "source": [
        "# Top 10 Analysis For Categorical Columns\n",
        "\n",
        "for i in cat_col:\n",
        "  print(f'\\n\\nTop 10 Analysis by {i}\\n')\n",
        "  display(df[i].value_counts().head(10))\n"
      ]
    },
    {
      "cell_type": "code",
      "execution_count": null,
      "metadata": {
        "id": "VmIbZJUkKc_l"
      },
      "outputs": [],
      "source": [
        "# Top 10 Analysis For Categorical Columns in %\n",
        "\n",
        "for i in cat_col:\n",
        "  print(f'\\n\\nTop 10 Analysis by {i}\\n')\n",
        "  top_10 = df[i].value_counts().head(10)\n",
        "\n",
        "  ans = (top_10/top_10.sum())*100\n",
        "\n",
        "  display(ans.round(2))"
      ]
    },
    {
      "cell_type": "code",
      "execution_count": null,
      "metadata": {
        "id": "0LMYsj6-Mi_5"
      },
      "outputs": [],
      "source": [
        "# top_10_series = df['car_name'].value_counts().head(10)\n",
        "# (top_10_series/r)*100"
      ]
    },
    {
      "cell_type": "code",
      "execution_count": null,
      "metadata": {
        "id": "iBcQG4QiNCuN"
      },
      "outputs": [],
      "source": []
    },
    {
      "cell_type": "code",
      "execution_count": null,
      "metadata": {
        "id": "pdmRk3MjMrBc"
      },
      "outputs": [],
      "source": [
        "#Bottom 10 Analysis For Categorical Columns\n",
        "\n",
        "for i in cat_col:\n",
        "  print(f'\\n\\nBottom 10 Analysis by {i}\\n')\n",
        "  bottom_10 = df[i].value_counts().tail(10)\n",
        "  display(bottom_10)"
      ]
    },
    {
      "cell_type": "code",
      "execution_count": null,
      "metadata": {
        "id": "eMTTW9Q4O49z"
      },
      "outputs": [],
      "source": [
        "df['car_name'].value_counts().head(10).plot(kind = 'pie',autopct = '%.2f%%')"
      ]
    },
    {
      "cell_type": "code",
      "execution_count": null,
      "metadata": {
        "id": "j5b4k38UP2pX"
      },
      "outputs": [],
      "source": [
        "import matplotlib.pyplot as plt\n",
        "\n",
        "def graph_plot(col_name):\n",
        "\n",
        "  x = df[col_name].value_counts().head(10).index\n",
        "  y = df[col_name].value_counts().head(10).values\n",
        "\n",
        "  plt.figure(figsize = (8,5))\n",
        "  plt.title(f'Top 10 {col_name} By Inventory',fontsize = 20,color = 'Brown')\n",
        "  # ax = plt.bar(x,y, color = 'red')\n",
        "\n",
        "  ax = plt.bar(x,y, color = sns.color_palette('rainbow',10))  # cool, hot, rainbow, # magma\n",
        "  plt.bar_label(ax)\n",
        "  plt.xticks(rotation = 45)\n",
        "  plt.show()"
      ]
    },
    {
      "cell_type": "code",
      "execution_count": null,
      "metadata": {
        "id": "dvX_X7rfRbh0"
      },
      "outputs": [],
      "source": [
        "for i in cat_col:\n",
        "  graph_plot(i)"
      ]
    },
    {
      "cell_type": "code",
      "execution_count": null,
      "metadata": {
        "id": "WcFoooqFjX63"
      },
      "outputs": [],
      "source": [
        "num_col"
      ]
    },
    {
      "cell_type": "code",
      "execution_count": null,
      "metadata": {
        "id": "W5Y8ebTEkiYL"
      },
      "outputs": [],
      "source": [
        "df['selling_price'].plot(kind='hist')"
      ]
    },
    {
      "cell_type": "code",
      "execution_count": null,
      "metadata": {
        "id": "Z8bh4NJ1kkW6"
      },
      "outputs": [],
      "source": [
        "import numpy as np\n",
        "\n",
        "def plot_hist(col_name,bin_size = 100):\n",
        "  plt.title(f'\\n\\n{col_name} Distribution Analysis'.title(),fontsize = 20,color = 'Red')\n",
        "  plt.hist(df[col_name],color = 'red',bins = np.linspace(df[col_name].min(),df[col_name].max(),bin_size))\n",
        "\n",
        "  plt.show()"
      ]
    },
    {
      "cell_type": "code",
      "execution_count": null,
      "metadata": {
        "id": "4TjRBoV5lNob"
      },
      "outputs": [],
      "source": [
        "for i in num_col:\n",
        "  plot_hist(i)"
      ]
    },
    {
      "cell_type": "code",
      "execution_count": null,
      "metadata": {
        "id": "NskwKPBum4UC"
      },
      "outputs": [],
      "source": [
        "# How to filter DataFrame\n",
        "# Masking Technique"
      ]
    },
    {
      "cell_type": "code",
      "execution_count": null,
      "metadata": {
        "id": "zfLui088s5AR"
      },
      "outputs": [],
      "source": [
        "df.columns"
      ]
    },
    {
      "cell_type": "code",
      "execution_count": null,
      "metadata": {
        "id": "EJu1kcVMs7cV"
      },
      "outputs": [],
      "source": [
        "df['mileage'].min()"
      ]
    },
    {
      "cell_type": "code",
      "execution_count": null,
      "metadata": {
        "id": "As4Ngo9atDPp"
      },
      "outputs": [],
      "source": [
        "df[df['mileage'] == df['mileage'].min()]"
      ]
    },
    {
      "cell_type": "code",
      "execution_count": null,
      "metadata": {
        "id": "4Vik0ptWutth"
      },
      "outputs": [],
      "source": [
        "# Max Mileage car name\n",
        "df[df['mileage'] == df['mileage'].max()]"
      ]
    },
    {
      "cell_type": "code",
      "execution_count": null,
      "metadata": {
        "id": "vxrnQYVLvW-r"
      },
      "outputs": [],
      "source": [
        "df.columns"
      ]
    },
    {
      "cell_type": "code",
      "execution_count": null,
      "metadata": {
        "id": "yWvZHxM8veL1"
      },
      "outputs": [],
      "source": [
        "# Costly car\n",
        "\n",
        "df[df['selling_price'] == df['selling_price'].max()]"
      ]
    },
    {
      "cell_type": "code",
      "execution_count": null,
      "metadata": {
        "id": "oW5_FgRvvuVT"
      },
      "outputs": [],
      "source": [
        "df[df['selling_price'] == df['selling_price'].min()]"
      ]
    },
    {
      "cell_type": "code",
      "execution_count": null,
      "metadata": {
        "id": "rDQ8B2AHvx5S"
      },
      "outputs": [],
      "source": []
    },
    {
      "cell_type": "code",
      "execution_count": null,
      "metadata": {
        "id": "byvbdXtrwOB6"
      },
      "outputs": [],
      "source": [
        "second_min_price = df['selling_price'].sort_values().values[1]"
      ]
    },
    {
      "cell_type": "code",
      "execution_count": null,
      "metadata": {
        "id": "PvbC9Cx9wVwg"
      },
      "outputs": [],
      "source": [
        "df[df['selling_price'] == second_min_price]"
      ]
    },
    {
      "cell_type": "code",
      "execution_count": null,
      "metadata": {
        "id": "R3zsr18LwzA0"
      },
      "outputs": [],
      "source": [
        "# Second highest Costly car\n",
        "second_max_price = df['selling_price'].sort_values(ascending = False).values[1]"
      ]
    },
    {
      "cell_type": "code",
      "execution_count": null,
      "metadata": {
        "id": "ghNr1bOlxig7"
      },
      "outputs": [],
      "source": [
        "df[df['selling_price'] == second_max_price]"
      ]
    },
    {
      "cell_type": "code",
      "execution_count": null,
      "metadata": {
        "id": "DgvbHed7xtud"
      },
      "outputs": [],
      "source": [
        "df.columns"
      ]
    },
    {
      "cell_type": "code",
      "execution_count": null,
      "metadata": {
        "id": "GEkZasJEx9kw"
      },
      "outputs": [],
      "source": [
        "# Top 10 cars by sp\n",
        "\n",
        "top_10_sp_df = df.sort_values(by = 'selling_price',ascending = False).head(10)"
      ]
    },
    {
      "cell_type": "code",
      "execution_count": null,
      "metadata": {
        "id": "gYGmfyzezOE9"
      },
      "outputs": [],
      "source": [
        "# columns slicing\n",
        "df.columns"
      ]
    },
    {
      "cell_type": "code",
      "execution_count": null,
      "metadata": {
        "id": "RkbPEdd2za0a"
      },
      "outputs": [],
      "source": [
        "top_10_sp_df[['car_name','vehicle_age','fuel_type','selling_price']]"
      ]
    },
    {
      "cell_type": "code",
      "execution_count": null,
      "metadata": {
        "id": "0RI2ESBjzrSs"
      },
      "outputs": [],
      "source": [
        "df.sort_values(by = 'vehicle_age',ascending = False).head(10)[['car_name','vehicle_age','fuel_type','selling_price']]"
      ]
    },
    {
      "cell_type": "code",
      "execution_count": null,
      "metadata": {
        "id": "wM2axM-_1OFy"
      },
      "outputs": [],
      "source": [
        "df.columns"
      ]
    },
    {
      "cell_type": "code",
      "execution_count": null,
      "metadata": {
        "id": "U1TPS8k-2vbC"
      },
      "outputs": [],
      "source": [
        "# unique\n",
        "df['brand'].unique()"
      ]
    },
    {
      "cell_type": "code",
      "execution_count": null,
      "metadata": {
        "id": "Tec2hCAM3BnJ"
      },
      "outputs": [],
      "source": [
        "df['brand'].nunique()"
      ]
    },
    {
      "cell_type": "code",
      "execution_count": null,
      "metadata": {
        "id": "qQwSE02-3RU7"
      },
      "outputs": [],
      "source": [
        "# group by\n",
        "\n",
        "df.groupby('brand')['selling_price'].mean().round(2).sort_values(ascending = 0)"
      ]
    },
    {
      "cell_type": "code",
      "execution_count": null,
      "metadata": {
        "id": "gO6xXGJ53xp7"
      },
      "outputs": [],
      "source": [
        "df.columns"
      ]
    },
    {
      "cell_type": "code",
      "execution_count": null,
      "metadata": {
        "id": "D6iRoirG5KoV"
      },
      "outputs": [],
      "source": [
        "df['seller_type'].unique()"
      ]
    },
    {
      "cell_type": "code",
      "execution_count": null,
      "metadata": {
        "id": "r5pnctQW5fg7"
      },
      "outputs": [],
      "source": [
        "df.groupby('seller_type')['selling_price'].agg(['min','max','mean']).round()"
      ]
    },
    {
      "cell_type": "code",
      "execution_count": null,
      "metadata": {
        "id": "_h1e-JdY52WX"
      },
      "outputs": [],
      "source": []
    }
  ],
  "metadata": {
    "colab": {
      "private_outputs": true,
      "provenance": []
    },
    "kernelspec": {
      "display_name": "Python 3",
      "name": "python3"
    },
    "language_info": {
      "name": "python"
    }
  },
  "nbformat": 4,
  "nbformat_minor": 0
}
