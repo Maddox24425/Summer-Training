{
 "cells": [
  {
   "cell_type": "markdown",
   "id": "787486f1",
   "metadata": {},
   "source": [
    "Day 3"
   ]
  },
  {
   "cell_type": "markdown",
   "id": "1bb3502b",
   "metadata": {},
   "source": [
    "Function Programming"
   ]
  },
  {
   "cell_type": "code",
   "execution_count": 1,
   "id": "a2e12852",
   "metadata": {},
   "outputs": [
    {
     "name": "stdout",
     "output_type": "stream",
     "text": [
      "This is type error\n"
     ]
    }
   ],
   "source": [
    "#Exception Handling\n",
    "\n",
    "a='23'\n",
    "try:\n",
    "    if a>=10:\n",
    "        print(\"Greater\")\n",
    "    else:\n",
    "        print(\"Lower\")\n",
    "\n",
    "except TypeError:\n",
    "    print(\"This is type error\")\n",
    "\n",
    "except: #No need to mention the type of exception explicitly, then it will handle any exception type\n",
    "    print(f'Something went wrong')\n",
    "\n"
   ]
  },
  {
   "cell_type": "code",
   "execution_count": 2,
   "id": "1b43a4ca",
   "metadata": {},
   "outputs": [
    {
     "data": {
      "text/html": [
       "<div>\n",
       "<style scoped>\n",
       "    .dataframe tbody tr th:only-of-type {\n",
       "        vertical-align: middle;\n",
       "    }\n",
       "\n",
       "    .dataframe tbody tr th {\n",
       "        vertical-align: top;\n",
       "    }\n",
       "\n",
       "    .dataframe thead th {\n",
       "        text-align: right;\n",
       "    }\n",
       "</style>\n",
       "<table border=\"1\" class=\"dataframe\">\n",
       "  <thead>\n",
       "    <tr style=\"text-align: right;\">\n",
       "      <th></th>\n",
       "      <th>Name</th>\n",
       "      <th>Age</th>\n",
       "      <th>Roll_No</th>\n",
       "      <th>Course</th>\n",
       "      <th>Section</th>\n",
       "      <th>Score</th>\n",
       "    </tr>\n",
       "  </thead>\n",
       "  <tbody>\n",
       "    <tr>\n",
       "      <th>0</th>\n",
       "      <td>Farhan</td>\n",
       "      <td>19</td>\n",
       "      <td>17</td>\n",
       "      <td>BCA</td>\n",
       "      <td>M1</td>\n",
       "      <td>A</td>\n",
       "    </tr>\n",
       "    <tr>\n",
       "      <th>1</th>\n",
       "      <td>Abhinav</td>\n",
       "      <td>20</td>\n",
       "      <td>11</td>\n",
       "      <td>BCA</td>\n",
       "      <td>M2</td>\n",
       "      <td>B</td>\n",
       "    </tr>\n",
       "    <tr>\n",
       "      <th>2</th>\n",
       "      <td>Tejashvi</td>\n",
       "      <td>21</td>\n",
       "      <td>1</td>\n",
       "      <td>BCA</td>\n",
       "      <td>M1</td>\n",
       "      <td>O</td>\n",
       "    </tr>\n",
       "  </tbody>\n",
       "</table>\n",
       "</div>"
      ],
      "text/plain": [
       "       Name  Age  Roll_No Course Section Score\n",
       "0    Farhan   19       17    BCA      M1     A\n",
       "1   Abhinav   20       11    BCA      M2     B\n",
       "2  Tejashvi   21        1    BCA      M1     O"
      ]
     },
     "metadata": {},
     "output_type": "display_data"
    }
   ],
   "source": [
    "#Kewword Arguments(**kwargs), one will be key and other will be the data just like dictionary\n",
    "import pandas as pd\n",
    "def student_records(**kwargs):\n",
    "    #keys=list(kwargs) #Type Casting will provide us the keys of the dictionary\n",
    "    \n",
    "    try:\n",
    "        result=pd.DataFrame(kwargs)\n",
    "        return result\n",
    "    except:\n",
    "        result=pd.DataFrame(kwargs, index=[1])\n",
    "        return result\n",
    "\n",
    "data1=student_records(Name=[\"Farhan\",\"Abhinav\",'Tejashvi'],\n",
    "Age=[19,20,21],Roll_No=[17,11,1],\n",
    "Course=[\"BCA\",\"BCA\",'BCA'],\n",
    "Section=['M1','M2','M1'],\n",
    "Score=list('ABO')) #Check this one\n",
    "display(data1)"
   ]
  },
  {
   "cell_type": "code",
   "execution_count": 3,
   "id": "92a35378",
   "metadata": {},
   "outputs": [
    {
     "name": "stdout",
     "output_type": "stream",
     "text": [
      "Sun Jul 13 17:57:21 2025\n",
      "Timer Stopped\n"
     ]
    }
   ],
   "source": [
    "#While loop show_time() with exception handling\n",
    "import time\n",
    "def show_time():\n",
    "    try:\n",
    "        while True:\n",
    "            print(time.asctime())\n",
    "            time.sleep(1)\n",
    "            display(clear=True)\n",
    "    except:\n",
    "        print(\"Timer Stopped\")\n",
    "show_time()\n"
   ]
  },
  {
   "cell_type": "markdown",
   "id": "ff5649f7",
   "metadata": {},
   "source": [
    "Modules (Importing)"
   ]
  },
  {
   "cell_type": "code",
   "execution_count": 4,
   "id": "a34738de",
   "metadata": {},
   "outputs": [
    {
     "name": "stdout",
     "output_type": "stream",
     "text": [
      "This is Day3_Modules file\n",
      "      Info: www.google.com\n",
      "Imported\n",
      "=\n",
      "==\n",
      "===\n",
      "====\n",
      "=====\n"
     ]
    }
   ],
   "source": [
    "#Importing the module here\n",
    "import Day3_Modules as mods\n",
    "print('Imported')\n",
    "#mods.factorial(5)\n",
    "#mods.show_time()\n",
    "mods.print_star(5,'left','=')\n",
    "#mods.sound_box(100,'PayTM')"
   ]
  },
  {
   "cell_type": "code",
   "execution_count": 5,
   "id": "a3e3d0ef",
   "metadata": {},
   "outputs": [
    {
     "name": "stdout",
     "output_type": "stream",
     "text": [
      "Sun Jul 13 17:57:34 2025\n",
      "Timer Stopped\n"
     ]
    }
   ],
   "source": [
    "from Day3_Modules import show_time\n",
    "show_time()\n"
   ]
  },
  {
   "cell_type": "code",
   "execution_count": 6,
   "id": "39e119b7",
   "metadata": {},
   "outputs": [
    {
     "name": "stdout",
     "output_type": "stream",
     "text": [
      "Sun Jul 13 17:57:37 2025\n",
      "Timer Stopped\n"
     ]
    }
   ],
   "source": [
    "from Day3_Modules import *\n",
    "show_time()"
   ]
  },
  {
   "cell_type": "markdown",
   "id": "f665bdf6",
   "metadata": {},
   "source": [
    "Pre-Defined Module (Turtle)"
   ]
  },
  {
   "cell_type": "code",
   "execution_count": 7,
   "id": "11feff0a",
   "metadata": {},
   "outputs": [],
   "source": [
    "import turtle \n",
    "import random\n",
    "for i in range(120):\n",
    "    turtle.speed(0)\n",
    "    turtle.bgcolor('blue')\n",
    "    col=['red','green','blue']\n",
    "    which=random.choice(col)\n",
    "    turtle.color('black')\n",
    "    turtle.circle(100)#100 radius circle 4 times\n",
    "    turtle.left(3)"
   ]
  },
  {
   "cell_type": "code",
   "execution_count": null,
   "id": "8e9db010",
   "metadata": {},
   "outputs": [],
   "source": [
    "import turtle\n",
    "for i in range(6):\n",
    "    turtle.color('blue')\n",
    "    turtle.forward(100)\n",
    "    turtle.left(60)"
   ]
  },
  {
   "cell_type": "markdown",
   "id": "26f5f177",
   "metadata": {},
   "source": [
    "File Handling"
   ]
  },
  {
   "cell_type": "code",
   "execution_count": 8,
   "id": "5aafb923",
   "metadata": {},
   "outputs": [
    {
     "name": "stdout",
     "output_type": "stream",
     "text": [
      "            return what\n",
      "\n"
     ]
    }
   ],
   "source": [
    "#readline\n",
    "file=open('Day3_Modules.py',mode='r')\n",
    "for i in range(10):\n",
    "    if i ==5:\n",
    "        print(file.readline())\n",
    "    else:\n",
    "        file.readline()\n",
    "file.close()"
   ]
  },
  {
   "cell_type": "code",
   "execution_count": 9,
   "id": "a6ff290d",
   "metadata": {},
   "outputs": [
    {
     "name": "stdout",
     "output_type": "stream",
     "text": [
      "        #     print(\"It is a Prime Number\")\n",
      "\n",
      "        if word==word[::-1]:\n",
      "\n",
      "            return \"a Palindrome\"\n",
      "\n",
      "        else:\n",
      "\n",
      "            return \"not a Palindrome\"\n",
      "\n",
      "    else:\n",
      "\n",
      "        print(\"Type casting to String\")\n",
      "\n",
      "        new_word=typecasting(word)\n",
      "\n",
      "        returning_from_here=check_palindromes(new_word)\n",
      "\n",
      "        return returning_from_here\n",
      "\n",
      "    \n",
      "\n",
      "def fibo_no(how_many):\n",
      "\n",
      "    fibo=[0,1]\n",
      "\n",
      "    for i in range (how_many-2):\n",
      "\n",
      "        last_number=fibo[-1]\n",
      "\n",
      "        second_last_number=fibo[-2]\n",
      "\n",
      "        next_number=last_number+second_last_number\n",
      "\n",
      "        fibo.append(next_number)\n",
      "\n",
      "    return fibo\n",
      "\n",
      "\n",
      "\n",
      "def prime_number(number):\n",
      "\n",
      "    for i in range (2,number):\n",
      "\n",
      "        if number%i==0:\n",
      "\n",
      "            print(f\"{number} is not a Prime Number \")\n",
      "\n",
      "            break\n",
      "\n",
      "        # else:\n",
      "\n",
      "        #     print(\"It is a Prime Number\")\n",
      "\n",
      "done\n"
     ]
    }
   ],
   "source": [
    "#readlines with an s\n",
    "file=open('Day3_Modules.py',mode='r')\n",
    "data=file.readlines()\n",
    "print(data[35])\n",
    "for i in range(10,36):\n",
    "    print(data[i])\n",
    "file.close()\n",
    "print('done')"
   ]
  }
 ],
 "metadata": {
  "kernelspec": {
   "display_name": "myenv",
   "language": "python",
   "name": "python3"
  },
  "language_info": {
   "codemirror_mode": {
    "name": "ipython",
    "version": 3
   },
   "file_extension": ".py",
   "mimetype": "text/x-python",
   "name": "python",
   "nbconvert_exporter": "python",
   "pygments_lexer": "ipython3",
   "version": "3.13.5"
  }
 },
 "nbformat": 4,
 "nbformat_minor": 5
}
