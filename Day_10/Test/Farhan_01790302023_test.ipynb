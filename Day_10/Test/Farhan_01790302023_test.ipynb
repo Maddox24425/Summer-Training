{
 "cells": [
  {
   "cell_type": "code",
   "execution_count": null,
   "id": "9cc2b490",
   "metadata": {},
   "outputs": [],
   "source": [
    "#What's the main difference between a list and a tuple in Python? Give one example of each.\n",
    "\n",
    "'''List and tuples are both a data structure and data type with some subtle differences.\n",
    "Tuples is the data type where multiple values are provided in a paraanthesis (),\n",
    "here the data is immutable i.e., once the tuple is created we cannnot change the value \n",
    "of the tuple.\n",
    "Tuple can only perform methods which dont change the values inside the tuple. Methods like\n",
    "concat() and index() can work with tuples.  '''\n",
    "a=(1,2,3,4,5)\n",
    "b=(6,7,8,9,10)\n",
    "print(type(a))\n",
    "c= a+b\n",
    "print(c)\n",
    "\n",
    "'''List are the datatype which is defined inside [], this data structure is mutable,\n",
    "i.e., once a list is initialised the data can be changed later.\n",
    "unlike tuples, list can perform many other methods which can also change the value \n",
    "inside the list'''\n",
    "lis1=[1,2,3,4,5]\n",
    "b=[6,7,8,9,0]\n",
    "print(type(lis1))\n",
    "print(lis1+b)"
   ]
  },
  {
   "cell_type": "code",
   "execution_count": null,
   "id": "841f41e8",
   "metadata": {},
   "outputs": [],
   "source": [
    "#Explain what happens when you use the input() function in Python. What data type does it\n",
    "#return,and how would you convert it to an integer?\n",
    "\n",
    "'''input() method is a method which allow a user to give their own input and save it to\n",
    "any other variable. by default intput() method stores the input in String method\n",
    "and to change the datatype of the input whe have to perform type casting. e.g.'''\n",
    "\n",
    "a=(input('Enter a Number')) #String Input\n",
    "print(type(a))\n",
    "\n",
    "b=int(input(\"Enter another number\"))\n",
    "print(type(b))"
   ]
  },
  {
   "cell_type": "code",
   "execution_count": null,
   "id": "d69e524e",
   "metadata": {},
   "outputs": [],
   "source": [
    "#What are Python dictionaries? Write the syntax to create a dictionary with \n",
    "# three key-value pairs.\n",
    "\n",
    "'''Python dictionary is another datatype and data structure which allow us to store\n",
    "data in the form of keys and values. dictionaries can't have more than one key\n",
    "with the same name. if we try to make another key with the same name then the value of\n",
    "the later key with the same name will override the value for the key instead \n",
    "of making another key with the same name\n",
    "Dictionary is defined by the following way\n",
    "\n",
    "Dict1={'Key':'Value','Key':'Value'} '''\n",
    "\n",
    "dict1={'One':1,'Two':2,'Three':3}\n",
    "print(dict1,type(dict1))"
   ]
  },
  {
   "cell_type": "code",
   "execution_count": null,
   "id": "e9fd55be",
   "metadata": {},
   "outputs": [],
   "source": [
    "# Describe what a for loop does in Python. Write a simple example that prints numbers 1 to 5\n",
    "\n",
    "'''For loop in python allow us to provide a condition for a loop which can itterate through\n",
    "a block of code until the condition is false. here we provide a range or a dictiona\n",
    "where 'i' can iterate through and provide us the value in that dictionary \n",
    "or we can just provide the range from 0 (or any other initial value) '''\n",
    "\n",
    "for i in range(1,6):\n",
    "    print(i)"
   ]
  },
  {
   "cell_type": "code",
   "execution_count": null,
   "id": "6d9d0047",
   "metadata": {},
   "outputs": [],
   "source": [
    "# What is exception handling in Python? Explain the purpose of try , except , \n",
    "#and finally blocks with a basic example.\n",
    "\n",
    "'''Exception handling is a concept in python where we can handle any error under\n",
    "Try block using using except block. Except block always follows the try block \n",
    "which handles the the error.\n",
    "we can also show which error has occurred by explicitly calling the type of error\n",
    "Finally block is the block of code which always get executed even if there were no \n",
    "error and no exception was handled'''\n",
    "\n",
    "try:\n",
    "    a=1/0\n",
    "except :\n",
    "    print('Error Occured')\n",
    "finally:\n",
    "    print('This is Finally Block')\n"
   ]
  },
  {
   "cell_type": "code",
   "execution_count": null,
   "id": "c9791621",
   "metadata": {},
   "outputs": [],
   "source": [
    "# What are Python modules? Explain the difference between import math and from math \n",
    "#import sqrt .Give examples of how you'd use both.\n",
    "\n",
    "'''Python is a programming language which is popular because of it's modeule.\n",
    "python has many modules which allow to to perform trsks which are not natively supported\n",
    "by python like array, DF, etc.\n",
    "we can either call the whole module by importing the whole module using'''\n",
    "import math\n",
    "b=math.sqrt(4)\n",
    "print(b)\n",
    "'''or we can just improt a single method fromn the module by'''\n",
    "from math import sqrt\n",
    "\n",
    "a=sqrt(9)\n",
    "print(a)\n"
   ]
  },
  {
   "cell_type": "code",
   "execution_count": null,
   "id": "ac2fda77",
   "metadata": {},
   "outputs": [],
   "source": [
    "# Explain what object-oriented programming means in Python. What are classes and objects?\n",
    "#Give a simple example.\n",
    "\n",
    "'''Object oriented programming is a concept in programming which shift the focus from\n",
    "functional programming to objects and classes.\n",
    "Even the most single data type like int or string are classes and the variable we make\n",
    "is the object of int and String Class\n",
    "Object oriented programming consists of many concepts like\n",
    "Polymorphism\n",
    "Abstraction\n",
    "Encapsulation\n",
    "Inheritance\n",
    "Object\n",
    "Class'''\n",
    "\n",
    "class A:\n",
    "    def __init__(self):\n",
    "        print(\"constructor called\")\n",
    "hello=A()\n"
   ]
  },
  {
   "cell_type": "code",
   "execution_count": null,
   "id": "6102deb2",
   "metadata": {},
   "outputs": [],
   "source": [
    "#What is list comprehension in Python? Rewrite this code using list comprehension:\n",
    "result = []\n",
    "for x in range(10):\n",
    "    if x % 2 == 0:\n",
    "        result.append(x * 2)\n",
    "print(result)\n",
    "#New One\n",
    "# result2=[]\n",
    "# for i in range(10):result2.append(i*2)if i%2==0"
   ]
  },
  {
   "cell_type": "code",
   "execution_count": null,
   "id": "44f04832",
   "metadata": {},
   "outputs": [],
   "source": [
    "# #Write a Python function called calculate_area that takes the radius of a circle as \n",
    "#input and returns its area. Use the formula: Area = π × r². \n",
    "#Test your function with radius = 5.\n",
    "\n",
    "def calculate_are(radius):\n",
    "    area=3.14*radius**2\n",
    "    return area\n",
    "Area=calculate_are(5)\n",
    "print(Area)"
   ]
  },
  {
   "cell_type": "code",
   "execution_count": null,
   "id": "32dce11b",
   "metadata": {},
   "outputs": [],
   "source": [
    "# Create a program that asks the user for their name and age, then prints a message like \n",
    "# \"Hello [name], you are [age] years old!\"\n",
    "\n",
    "def greeting(a,b):\n",
    "    print(f\"Hello {name}, you are {age} years old!\")\n",
    "name=input(\"Please Enter Your Name: \")\n",
    "age=int(input(\"Please Enter Your Age: \"))\n",
    "greeting(name,age)\n"
   ]
  },
  {
   "cell_type": "code",
   "execution_count": null,
   "id": "03b5948f",
   "metadata": {},
   "outputs": [],
   "source": [
    "# Write a Python program that creates a list of 5 fruits and then prints each fruit \n",
    "#along with its position in the list (starting from 1).\n",
    "#enumerate\n",
    "fruits=['Apple','Mango','Banana','Peach','Kiwi']\n",
    "for location, value in enumerate(fruits):\n",
    "    print(f\"Position: {location} Values: {value}\\n\")"
   ]
  },
  {
   "cell_type": "code",
   "execution_count": null,
   "id": "8a423a0b",
   "metadata": {},
   "outputs": [],
   "source": [
    "# Write a function called grade_calculator that takes a student's score (0-100) and \n",
    "#returns their letter\n",
    "# grade:\n",
    "# 90-100: A\n",
    "# 80-89: B\n",
    "# 70-79: C\n",
    "# 60-69: D\n",
    "# Below 60: F\n",
    "# Test it with at least three different scores.\n",
    "\n",
    "def grade_calculator(marks):\n",
    "    if marks>=90 and marks<=100:\n",
    "        print(\"Grade A\")\n",
    "    elif marks>=80 and marks<=89:\n",
    "        print(\"Grade B\")\n",
    "    elif marks>=70 and marks<=79:\n",
    "        print(\"Grade C\")\n",
    "    elif marks>=60 and marks<=69:\n",
    "        print(\"Grade F\")\n",
    "    elif marks<60 and marks>=0:\n",
    "        print(\"Grade F\")\n",
    "    elif marks<0:\n",
    "        print(\"Invalid Input\")\n",
    "    else:\n",
    "        print(\"Invalid Input\")\n",
    "\n",
    "\n",
    "for i in range(3):\n",
    "    a=int(input(f\"Enter {i}st Student Marks: \"))\n",
    "    grade_calculator(a)"
   ]
  },
  {
   "cell_type": "code",
   "execution_count": null,
   "id": "4dbb42f4",
   "metadata": {},
   "outputs": [
    {
     "name": "stdout",
     "output_type": "stream",
     "text": [
      "Sum written to result.txt successfully.\n"
     ]
    }
   ],
   "source": [
    "# Create a simple program that reads a text file called \"numbers.txt\" \n",
    "#(assume it contains numbers, one per line), calculates their sum, and writes the \n",
    "#result to a new file called \"result.txt\". Include proper error handling.\n",
    "\n",
    "# Create a sample \"numbers.txt\" file with some numbers\n",
    "\n",
    "with open(\"numbers.txt\", \"w\") as f:\n",
    "    f.write(\"10\\n20\\n30\\n40\\n50\\n\")\n",
    "\n",
    "try:\n",
    "    with open(\"numbers.txt\", \"r\") as file:\n",
    "        numbers = file.readlines()\n",
    "        total = sum(int(num.strip()) for num in numbers)\n",
    "    with open(\"result.txt\", \"w\") as result_file:\n",
    "        result_file.write(f\"Sum: {total}\\n\")\n",
    "    print(\"Sum written to result.txt successfully.\")\n",
    "except FileNotFoundError:\n",
    "    print(\"The file was not found.\")\n",
    "except ValueError:\n",
    "    print(\"The file contains non-numeric data.\")\n",
    "except Exception as e:\n",
    "    print(f\"An error occurred: {e}\")\n"
   ]
  },
  {
   "cell_type": "code",
   "execution_count": null,
   "id": "dec5a278",
   "metadata": {},
   "outputs": [],
   "source": [
    "# Design a simple class called BankAccount with the following features:\n",
    "# Initialize with account holder name and starting balance\n",
    "# Method to deposit money\n",
    "# Method to withdraw money (should check if sufficient balance exists)\n",
    "# Method to display current balance\n",
    "# Create an account, perform some transactions, and show the final balance.\n",
    "\n",
    "class BankAccount:\n",
    "    def __init__(self,name,balance):\n",
    "        self.holder_name=name\n",
    "        self.balance=balance\n",
    "\n",
    "    def deposit(self,amount):\n",
    "        self.balance+=amount\n",
    "    \n",
    "    def withdraw(self,amount):\n",
    "        if self.balance>=amount:\n",
    "            self.balance-=amount\n",
    "        else:\n",
    "            print('Not Enough Balance')\n",
    "\n",
    "    def Balance_left(self):\n",
    "        print(self.balance)\n",
    "\n",
    "names=input(\"Enter your name: \")\n",
    "bal=int(input(\"enter you opening balance: \"))\n",
    "\n",
    "\n",
    "first=BankAccount(names,bal)\n",
    "print(first.holder_name)\n",
    "print(first.balance)\n",
    "first.deposit(500)\n",
    "print(first.balance)\n",
    "first.withdraw(10501)\n",
    "print(first.balance)\n",
    "\n",
    "\n"
   ]
  },
  {
   "cell_type": "code",
   "execution_count": null,
   "id": "dfaae202",
   "metadata": {},
   "outputs": [
    {
     "name": "stdout",
     "output_type": "stream",
     "text": [
      "The prime numbers are:\n",
      "\n",
      "2 3 5 7 11 13 17 19 23 29 31 37 41 43 47 \n"
     ]
    }
   ],
   "source": [
    "# Write a program that finds all the prime numbers between 1 and 50. A prime number is only\n",
    "# divisible by 1 and itself. Display the results in a nicely formatted way.\n",
    "print(\"The prime numbers are:\\n\")\n",
    "for num in range(2, 51):\n",
    "    is_prime = True\n",
    "    for i in range(2, int(num ** 0.5) + 1):\n",
    "        if num % i == 0:\n",
    "            is_prime = False\n",
    "            break\n",
    "    if is_prime:\n",
    "        print(num, end=' ')\n",
    "print()\n",
    "\n",
    "\n"
   ]
  }
 ],
 "metadata": {
  "kernelspec": {
   "display_name": "myenv (3.13.5)",
   "language": "python",
   "name": "python3"
  },
  "language_info": {
   "codemirror_mode": {
    "name": "ipython",
    "version": 3
   },
   "file_extension": ".py",
   "mimetype": "text/x-python",
   "name": "python",
   "nbconvert_exporter": "python",
   "pygments_lexer": "ipython3",
   "version": "3.13.5"
  }
 },
 "nbformat": 4,
 "nbformat_minor": 5
}
