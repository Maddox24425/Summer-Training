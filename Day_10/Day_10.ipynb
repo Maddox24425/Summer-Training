{
 "cells": [
  {
   "cell_type": "markdown",
   "id": "33736d61",
   "metadata": {},
   "source": [
    "NumPy Continue"
   ]
  },
  {
   "cell_type": "code",
   "execution_count": null,
   "id": "aa04c88b",
   "metadata": {},
   "outputs": [],
   "source": [
    "import numpy as np\n",
    "import matplotlib.pyplot as plt\n",
    "import time \n",
    "try:\n",
    "    while True:\n",
    "        a=np.random.randint(0,255,(50,50,3))\n",
    "        plt.imshow(a)\n",
    "        plt.show()\n",
    "        time.sleep(0.03)\n",
    "        display(clear=True)\n",
    "        \n",
    "except:\n",
    "    print('Stopped')"
   ]
  },
  {
   "cell_type": "code",
   "execution_count": null,
   "id": "d8b11bbd",
   "metadata": {},
   "outputs": [],
   "source": [
    "import numpy as np\n",
    "import matplotlib.pyplot as plt\n",
    "arr=np.random.randint(1,10,(4,3,3))\n",
    "print(arr)\n",
    "\n",
    "splitted_arr=np.split(arr,2)\n",
    "print(splitted_arr)"
   ]
  },
  {
   "cell_type": "code",
   "execution_count": null,
   "id": "e8908737",
   "metadata": {},
   "outputs": [],
   "source": [
    "import numpy as np\n",
    "import matplotlib.pyplot as plt\n",
    "arr=np.random.randint(0,255,(4,4,3))\n",
    "print(f\"Original Array\\n{arr}\\n Splitted Array \")\n",
    "two_split_arr=np.split(arr,2)\n",
    "print(two_split_arr)\n",
    "'''plt.imshow(new_arr[0]) #to print first half of the splitted array\n",
    "plt.show()\n",
    "plt.imshow(new_arr[1]) #to print second half of the splitted array\n",
    "plt.show()'''\n",
    "\n",
    "four_split_arr=np.split(arr,4)\n",
    "print(four_split_arr)\n",
    "\n",
    "print(np.split(arr,2, axis=1))"
   ]
  },
  {
   "cell_type": "code",
   "execution_count": null,
   "id": "1b82d783",
   "metadata": {},
   "outputs": [],
   "source": [
    "#To split the image in half\n",
    "import numpy as np\n",
    "import matplotlib.pyplot as plt\n",
    "url='D:\\\\Data Science\\\\Summer-Training-Project\\\\Day_9\\\\20250713_154809.jpg'\n",
    "arr=plt.imread(url)\n",
    "punch_cat=arr.copy() #Need to make a copy first\n",
    "punch_cat.shape #Check the shape of the image array first\n",
    "print(arr.shape)\n",
    "print(arr)\n",
    "\n",
    "# plt.imshow(punch_cat)\n",
    "plt.imshow(np.split(arr,2,axis=0)[0])\n",
    "plt.imshow(np.split(arr,4,axis=1)[3])\n",
    "\n",
    "\n",
    "# 1080//7 = 154\n",
    "# plt.show(punch_cat[:,:154,:]) "
   ]
  },
  {
   "cell_type": "code",
   "execution_count": null,
   "id": "68da8efd",
   "metadata": {},
   "outputs": [],
   "source": [
    "#np.where()\n",
    "import numpy as np\n",
    "arr=np.random.randint(1,500,(4,4))\n",
    "print(arr)\n",
    "location=np.where(arr>200)\n",
    "print(type(location))\n",
    "display(np.where(arr>200,'High Sales','Low Sales'))\n",
    "display(np.where(arr>200,'High Sales',arr))\n",
    "\n",
    "\n",
    "#Clip() to handle outliers (same as upper whisker and lower whisker)\n",
    "np.clip(arr,100,300) #100 is lower whisker, 300 is upper whisker"
   ]
  },
  {
   "cell_type": "markdown",
   "id": "64ef20cf",
   "metadata": {},
   "source": [
    "Broadcasting"
   ]
  },
  {
   "cell_type": "code",
   "execution_count": null,
   "id": "18dde208",
   "metadata": {},
   "outputs": [],
   "source": [
    "import numpy as np\n",
    "arr_1=np.random.randint(1,10,4)\n",
    "arr_2=np.random.randint(1,10,(2,4))\n",
    "print(f\"1D Array: \\n{arr_1}\")\n",
    "print(f\"2D Array: \\n{arr_2}\")\n",
    "print(f\"Broadcasted array:\\n{arr_2+arr_1}\")\n"
   ]
  },
  {
   "cell_type": "code",
   "execution_count": null,
   "id": "d6530046",
   "metadata": {},
   "outputs": [],
   "source": [
    "import numpy as np\n",
    "a = np.random.randint(1,10,7)\n",
    "b = np.random.randint(1,10,(1,7))\n",
    "\n",
    "print(a)\n",
    "print('\\n\\n')\n",
    "print(b)\n",
    "print('\\n\\n')\n",
    "print(a+b)"
   ]
  },
  {
   "cell_type": "markdown",
   "id": "c078689a",
   "metadata": {},
   "source": [
    "Pandas: Panel Data Analysis"
   ]
  },
  {
   "cell_type": "code",
   "execution_count": null,
   "id": "2a0ac6da",
   "metadata": {},
   "outputs": [],
   "source": [
    "import pandas as pd\n",
    "import numpy as np\n",
    "import random\n",
    "products=['Chair','Table','Laptop','Mobile Phones','Charger']\n",
    "region=['East','West','North','South']\n",
    "all_date=pd.date_range('01-01-2025','23-07-2025')\n",
    "dict1={'Order ID':np.arange(1,1001),\n",
    "       'Region Name':random.choices(region,k=1000),\n",
    "       'Date':random.choices(all_date,k=1000),\n",
    "       'Product Name':random.choices(products,k=1000),\n",
    "       'Sales':np.random.randint(100,100000,1000),\n",
    "       'Qty':np.random.randint(1,10,1000),\n",
    "       'Profit':np.random.randint(-10000,10000,1000)}\n",
    "df=pd.DataFrame(dict1)\n",
    "# display(df)\n",
    "display(df.info())\n",
    "display(df.head(10))\n",
    "display(df.tail(10))\n",
    "display(df.sample())\n",
    "# print(df.isnull().sum())\n",
    "# df.fillna(df['Qty'].mean())\n",
    "# df.dropna()\n",
    "# print(df.duplicated().sum())\n",
    "# df.drop_duplicates()\n",
    "\n",
    "\n"
   ]
  }
 ],
 "metadata": {
  "kernelspec": {
   "display_name": "myenv",
   "language": "python",
   "name": "python3"
  },
  "language_info": {
   "codemirror_mode": {
    "name": "ipython",
    "version": 3
   },
   "file_extension": ".py",
   "mimetype": "text/x-python",
   "name": "python",
   "nbconvert_exporter": "python",
   "pygments_lexer": "ipython3",
   "version": "3.13.5"
  }
 },
 "nbformat": 4,
 "nbformat_minor": 5
}
