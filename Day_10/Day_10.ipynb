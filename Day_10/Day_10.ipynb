{
 "cells": [
  {
   "cell_type": "markdown",
   "id": "33736d61",
   "metadata": {},
   "source": [
    "NumPy Continue"
   ]
  },
  {
   "cell_type": "code",
   "execution_count": null,
   "id": "aa04c88b",
   "metadata": {},
   "outputs": [],
   "source": [
    "import numpy as np\n",
    "import matplotlib.pyplot as plt\n",
    "import time \n",
    "try:\n",
    "    while True:\n",
    "        a=np.random.randint(0,255,(50,50,3))\n",
    "        plt.imshow(a)\n",
    "        plt.show()\n",
    "        time.sleep(0.03)\n",
    "        display(clear=True)\n",
    "        \n",
    "except:\n",
    "    print('Stopped')"
   ]
  },
  {
   "cell_type": "code",
   "execution_count": null,
   "id": "d8b11bbd",
   "metadata": {},
   "outputs": [],
   "source": [
    "import numpy as np\n",
    "import matplotlib.pyplot as plt\n",
    "arr=np.random.randint(1,10,(4,3,3))\n",
    "print(arr)\n",
    "\n",
    "splitted_arr=np.split(arr,2)\n",
    "print(splitted_arr)"
   ]
  },
  {
   "cell_type": "code",
   "execution_count": null,
   "id": "e8908737",
   "metadata": {},
   "outputs": [],
   "source": [
    "import numpy as np\n",
    "import matplotlib.pyplot as plt\n",
    "arr=np.random.randint(0,255,(4,4,3))\n",
    "print(f\"Original Array\\n{arr}\\n Splitted Array \")\n",
    "two_split_arr=np.split(arr,2)\n",
    "print(two_split_arr)\n",
    "'''plt.imshow(new_arr[0]) #to print first half of the splitted array\n",
    "plt.show()\n",
    "plt.imshow(new_arr[1]) #to print second half of the splitted array\n",
    "plt.show()'''\n",
    "\n",
    "four_split_arr=np.split(arr,4)\n",
    "print(four_split_arr)\n",
    "\n",
    "print(np.split(arr,2, axis=1))"
   ]
  },
  {
   "cell_type": "code",
   "execution_count": null,
   "id": "1b82d783",
   "metadata": {},
   "outputs": [],
   "source": [
    "#To split the image in half\n",
    "import numpy as np\n",
    "import matplotlib.pyplot as plt\n",
    "url='D:\\\\Data Science\\\\Summer-Training-Project\\\\Day_9\\\\20250713_154809.jpg'\n",
    "arr=plt.imread(url)\n",
    "punch_cat=arr.copy() #Need to make a copy first\n",
    "punch_cat.shape #Check the shape of the image array first\n",
    "print(arr.shape)\n",
    "print(arr)\n",
    "\n",
    "# plt.imshow(punch_cat)\n",
    "plt.imshow(np.split(arr,2,axis=0)[0])\n",
    "plt.imshow(np.split(arr,4,axis=1)[3])\n",
    "\n",
    "\n",
    "# 1080//7 = 154\n",
    "# plt.show(punch_cat[:,:154,:]) "
   ]
  },
  {
   "cell_type": "code",
   "execution_count": null,
   "id": "68da8efd",
   "metadata": {},
   "outputs": [],
   "source": [
    "#np.where()\n",
    "import numpy as np\n",
    "arr=np.random.randint(1,500,(4,4))\n",
    "print(arr)\n",
    "location=np.where(arr>200)\n",
    "print(type(location))\n",
    "display(np.where(arr>200,'High Sales','Low Sales'))\n",
    "display(np.where(arr>200,'High Sales',arr))\n",
    "\n",
    "\n",
    "#Clip() to handle outliers (same as upper whisker and lower whisker)\n",
    "np.clip(arr,100,300) #100 is lower whisker, 300 is upper whisker"
   ]
  },
  {
   "cell_type": "markdown",
   "id": "64ef20cf",
   "metadata": {},
   "source": [
    "Broadcasting"
   ]
  },
  {
   "cell_type": "code",
   "execution_count": null,
   "id": "18dde208",
   "metadata": {},
   "outputs": [
    {
     "name": "stdout",
     "output_type": "stream",
     "text": [
      "1D Array: \n",
      "[4 8 2 3]\n",
      "2D Array: \n",
      "[[1 9 1 4]\n",
      " [2 6 9 9]]\n",
      "Broadcasted array:\n",
      "[[ 5 17  3  7]\n",
      " [ 6 14 11 12]]\n"
     ]
    }
   ],
   "source": [
    "import numpy as np\n",
    "arr_1=np.random.randint(1,10,4)\n",
    "arr_2=np.random.randint(1,10,(2,4))\n",
    "print(f\"1D Array: \\n{arr_1}\")\n",
    "print(f\"2D Array: \\n{arr_2}\")\n",
    "print(f\"Broadcasted array:\\n{arr_2+arr_1}\")\n"
   ]
  }
 ],
 "metadata": {
  "kernelspec": {
   "display_name": "myenv",
   "language": "python",
   "name": "python3"
  },
  "language_info": {
   "codemirror_mode": {
    "name": "ipython",
    "version": 3
   },
   "file_extension": ".py",
   "mimetype": "text/x-python",
   "name": "python",
   "nbconvert_exporter": "python",
   "pygments_lexer": "ipython3",
   "version": "3.13.5"
  }
 },
 "nbformat": 4,
 "nbformat_minor": 5
}
