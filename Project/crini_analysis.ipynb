{
 "cells": [
  {
   "cell_type": "code",
   "execution_count": 70,
   "id": "38d7fc64",
   "metadata": {},
   "outputs": [
    {
     "name": "stdout",
     "output_type": "stream",
     "text": [
      "Libraries Imported\n"
     ]
    }
   ],
   "source": [
    "import pandas as pd\n",
    "import numpy as np\n",
    "import warnings\n",
    "import matplotlib.pyplot as plt\n",
    "import seaborn as sns\n",
    "print('Libraries Imported')"
   ]
  },
  {
   "cell_type": "code",
   "execution_count": 71,
   "id": "16195962",
   "metadata": {},
   "outputs": [
    {
     "data": {
      "text/html": [
       "<div>\n",
       "<style scoped>\n",
       "    .dataframe tbody tr th:only-of-type {\n",
       "        vertical-align: middle;\n",
       "    }\n",
       "\n",
       "    .dataframe tbody tr th {\n",
       "        vertical-align: top;\n",
       "    }\n",
       "\n",
       "    .dataframe thead th {\n",
       "        text-align: right;\n",
       "    }\n",
       "</style>\n",
       "<table border=\"1\" class=\"dataframe\">\n",
       "  <thead>\n",
       "    <tr style=\"text-align: right;\">\n",
       "      <th></th>\n",
       "      <th>Rank</th>\n",
       "      <th>Value Rating</th>\n",
       "      <th>Model</th>\n",
       "      <th>Price (MSRP)</th>\n",
       "      <th>Signature</th>\n",
       "      <th>Comments</th>\n",
       "      <th>Tone Grade</th>\n",
       "      <th>Technical Grade</th>\n",
       "      <th>Setup</th>\n",
       "      <th>Status</th>\n",
       "      <th>Ranksort</th>\n",
       "      <th>Tonesort</th>\n",
       "      <th>Techsort</th>\n",
       "      <th>Pricesort</th>\n",
       "    </tr>\n",
       "  </thead>\n",
       "  <tbody>\n",
       "    <tr>\n",
       "      <th>2040</th>\n",
       "      <td>D</td>\n",
       "      <td>NaN</td>\n",
       "      <td>Kojo KJB-01 “Keyagu”</td>\n",
       "      <td>910</td>\n",
       "      <td>V-shaped</td>\n",
       "      <td>NaN</td>\n",
       "      <td>D</td>\n",
       "      <td>C-</td>\n",
       "      <td>DD</td>\n",
       "      <td>e-Earphone demo unit</td>\n",
       "      <td>316</td>\n",
       "      <td>183</td>\n",
       "      <td>133</td>\n",
       "      <td>910</td>\n",
       "    </tr>\n",
       "    <tr>\n",
       "      <th>141</th>\n",
       "      <td>B</td>\n",
       "      <td>NaN</td>\n",
       "      <td>Unique Melody Martian</td>\n",
       "      <td>700</td>\n",
       "      <td>Neutral with bass boost</td>\n",
       "      <td>Well-tuned hybrid with excellent bass response...</td>\n",
       "      <td>A-</td>\n",
       "      <td>B</td>\n",
       "      <td>2BA 2DD</td>\n",
       "      <td>Stereo SG demo unit</td>\n",
       "      <td>88</td>\n",
       "      <td>31</td>\n",
       "      <td>57</td>\n",
       "      <td>700</td>\n",
       "    </tr>\n",
       "  </tbody>\n",
       "</table>\n",
       "</div>"
      ],
      "text/plain": [
       "     Rank Value Rating                  Model Price (MSRP)  \\\n",
       "2040    D          NaN   Kojo KJB-01 “Keyagu”          910   \n",
       "141     B          NaN  Unique Melody Martian          700   \n",
       "\n",
       "                    Signature  \\\n",
       "2040                 V-shaped   \n",
       "141   Neutral with bass boost   \n",
       "\n",
       "                                               Comments Tone Grade  \\\n",
       "2040                                                NaN          D   \n",
       "141   Well-tuned hybrid with excellent bass response...         A-   \n",
       "\n",
       "     Technical Grade    Setup                Status Ranksort Tonesort  \\\n",
       "2040              C-       DD  e-Earphone demo unit      316      183   \n",
       "141                B  2BA 2DD   Stereo SG demo unit       88       31   \n",
       "\n",
       "     Techsort Pricesort  \n",
       "2040      133       910  \n",
       "141        57       700  "
      ]
     },
     "execution_count": 71,
     "metadata": {},
     "output_type": "execute_result"
    }
   ],
   "source": [
    "df_iems=pd.read_csv('crinacle_iem_rankings.csv')\n",
    "df_iems.sample(2)"
   ]
  },
  {
   "cell_type": "markdown",
   "id": "f53985b5",
   "metadata": {},
   "source": [
    "EDA"
   ]
  },
  {
   "cell_type": "code",
   "execution_count": 72,
   "id": "fc8e8937",
   "metadata": {},
   "outputs": [
    {
     "name": "stdout",
     "output_type": "stream",
     "text": [
      "(2143, 14)\n",
      "<class 'pandas.core.frame.DataFrame'>\n",
      "RangeIndex: 2143 entries, 0 to 2142\n",
      "Data columns (total 14 columns):\n",
      " #   Column           Non-Null Count  Dtype \n",
      "---  ------           --------------  ----- \n",
      " 0   Rank             2143 non-null   object\n",
      " 1   Value Rating     155 non-null    object\n",
      " 2   Model            2143 non-null   object\n",
      " 3   Price (MSRP)     2141 non-null   object\n",
      " 4   Signature        2141 non-null   object\n",
      " 5   Comments         1793 non-null   object\n",
      " 6   Tone Grade       2141 non-null   object\n",
      " 7   Technical Grade  2141 non-null   object\n",
      " 8   Setup            2135 non-null   object\n",
      " 9   Status           2125 non-null   object\n",
      " 10  Ranksort         2143 non-null   object\n",
      " 11  Tonesort         2143 non-null   object\n",
      " 12  Techsort         2143 non-null   object\n",
      " 13  Pricesort        2143 non-null   object\n",
      "dtypes: object(14)\n",
      "memory usage: 234.5+ KB\n"
     ]
    }
   ],
   "source": [
    "print(df_iems.shape)\n",
    "df_iems.info()"
   ]
  },
  {
   "cell_type": "code",
   "execution_count": 73,
   "id": "c9467cda",
   "metadata": {},
   "outputs": [
    {
     "name": "stdout",
     "output_type": "stream",
     "text": [
      "155\n"
     ]
    },
    {
     "data": {
      "text/plain": [
       "Rank                  0\n",
       "Value Rating       1988\n",
       "Model                 0\n",
       "Price (MSRP)          2\n",
       "Signature             2\n",
       "Comments            350\n",
       "Tone Grade            2\n",
       "Technical Grade       2\n",
       "Setup                 8\n",
       "Status               18\n",
       "Ranksort              0\n",
       "Tonesort              0\n",
       "Techsort              0\n",
       "Pricesort             0\n",
       "dtype: int64"
      ]
     },
     "execution_count": 73,
     "metadata": {},
     "output_type": "execute_result"
    }
   ],
   "source": [
    "print(df_iems['Value Rating'].count())\n",
    "df_iems.isnull().sum()"
   ]
  },
  {
   "cell_type": "markdown",
   "id": "e65695f3",
   "metadata": {},
   "source": [
    "Drop the \"Value Rating\" as most of it is null"
   ]
  },
  {
   "cell_type": "code",
   "execution_count": 74,
   "id": "d723c4c4",
   "metadata": {},
   "outputs": [
    {
     "data": {
      "text/html": [
       "<div>\n",
       "<style scoped>\n",
       "    .dataframe tbody tr th:only-of-type {\n",
       "        vertical-align: middle;\n",
       "    }\n",
       "\n",
       "    .dataframe tbody tr th {\n",
       "        vertical-align: top;\n",
       "    }\n",
       "\n",
       "    .dataframe thead th {\n",
       "        text-align: right;\n",
       "    }\n",
       "</style>\n",
       "<table border=\"1\" class=\"dataframe\">\n",
       "  <thead>\n",
       "    <tr style=\"text-align: right;\">\n",
       "      <th></th>\n",
       "      <th>Rank</th>\n",
       "      <th>Model</th>\n",
       "      <th>Price (MSRP)</th>\n",
       "      <th>Signature</th>\n",
       "      <th>Comments</th>\n",
       "      <th>Tone Grade</th>\n",
       "      <th>Technical Grade</th>\n",
       "      <th>Setup</th>\n",
       "      <th>Status</th>\n",
       "      <th>Ranksort</th>\n",
       "      <th>Tonesort</th>\n",
       "      <th>Techsort</th>\n",
       "      <th>Pricesort</th>\n",
       "    </tr>\n",
       "  </thead>\n",
       "  <tbody>\n",
       "    <tr>\n",
       "      <th>2127</th>\n",
       "      <td>E</td>\n",
       "      <td>Sensaphonics 3MAX</td>\n",
       "      <td>1050</td>\n",
       "      <td>Warm</td>\n",
       "      <td>It's a slight improvement over the 2MAX but no...</td>\n",
       "      <td>E</td>\n",
       "      <td>D</td>\n",
       "      <td>3BA</td>\n",
       "      <td>Jaben Melbourne demo unit</td>\n",
       "      <td>605</td>\n",
       "      <td>422</td>\n",
       "      <td>183</td>\n",
       "      <td>1050</td>\n",
       "    </tr>\n",
       "    <tr>\n",
       "      <th>1299</th>\n",
       "      <td>B-</td>\n",
       "      <td>Sony WF-1000XM3</td>\n",
       "      <td>230</td>\n",
       "      <td>Neutral with bass boost</td>\n",
       "      <td>Proper tonality, solid technicalities yet with...</td>\n",
       "      <td>B+</td>\n",
       "      <td>B-</td>\n",
       "      <td>DD</td>\n",
       "      <td>ConnectIT demo unit</td>\n",
       "      <td>116</td>\n",
       "      <td>43</td>\n",
       "      <td>73</td>\n",
       "      <td>230</td>\n",
       "    </tr>\n",
       "  </tbody>\n",
       "</table>\n",
       "</div>"
      ],
      "text/plain": [
       "     Rank              Model Price (MSRP)                Signature  \\\n",
       "2127    E  Sensaphonics 3MAX         1050                     Warm   \n",
       "1299   B-    Sony WF-1000XM3          230  Neutral with bass boost   \n",
       "\n",
       "                                               Comments Tone Grade  \\\n",
       "2127  It's a slight improvement over the 2MAX but no...          E   \n",
       "1299  Proper tonality, solid technicalities yet with...         B+   \n",
       "\n",
       "     Technical Grade Setup                     Status Ranksort Tonesort  \\\n",
       "2127               D   3BA  Jaben Melbourne demo unit      605      422   \n",
       "1299              B-    DD        ConnectIT demo unit      116       43   \n",
       "\n",
       "     Techsort Pricesort  \n",
       "2127      183      1050  \n",
       "1299       73       230  "
      ]
     },
     "execution_count": 74,
     "metadata": {},
     "output_type": "execute_result"
    }
   ],
   "source": [
    "df_iems=df_iems.drop(columns='Value Rating')\n",
    "df_iems.sample(2)"
   ]
  },
  {
   "cell_type": "markdown",
   "id": "99067789",
   "metadata": {},
   "source": [
    "Drop all unecessary hidden column from the original data"
   ]
  },
  {
   "cell_type": "code",
   "execution_count": 75,
   "id": "49e22c4f",
   "metadata": {},
   "outputs": [
    {
     "data": {
      "text/html": [
       "<div>\n",
       "<style scoped>\n",
       "    .dataframe tbody tr th:only-of-type {\n",
       "        vertical-align: middle;\n",
       "    }\n",
       "\n",
       "    .dataframe tbody tr th {\n",
       "        vertical-align: top;\n",
       "    }\n",
       "\n",
       "    .dataframe thead th {\n",
       "        text-align: right;\n",
       "    }\n",
       "</style>\n",
       "<table border=\"1\" class=\"dataframe\">\n",
       "  <thead>\n",
       "    <tr style=\"text-align: right;\">\n",
       "      <th></th>\n",
       "      <th>Rank</th>\n",
       "      <th>Model</th>\n",
       "      <th>Price (MSRP)</th>\n",
       "      <th>Signature</th>\n",
       "      <th>Comments</th>\n",
       "      <th>Tone Grade</th>\n",
       "      <th>Technical Grade</th>\n",
       "      <th>Setup</th>\n",
       "      <th>Status</th>\n",
       "    </tr>\n",
       "  </thead>\n",
       "  <tbody>\n",
       "    <tr>\n",
       "      <th>432</th>\n",
       "      <td>C+</td>\n",
       "      <td>Ultimate Ears UE7 Pro</td>\n",
       "      <td>850</td>\n",
       "      <td>Warm neutral</td>\n",
       "      <td>Good clarity and detail with boosted, warm bas...</td>\n",
       "      <td>B-</td>\n",
       "      <td>C+</td>\n",
       "      <td>3BA</td>\n",
       "      <td>Zeppelin &amp; Co demo unit</td>\n",
       "    </tr>\n",
       "    <tr>\n",
       "      <th>527</th>\n",
       "      <td>C</td>\n",
       "      <td>FiiO F3</td>\n",
       "      <td>25</td>\n",
       "      <td>U-shaped</td>\n",
       "      <td>Well-balanced U-shaped sound that's rather aty...</td>\n",
       "      <td>B-</td>\n",
       "      <td>C</td>\n",
       "      <td>DD</td>\n",
       "      <td>E1 demo unit</td>\n",
       "    </tr>\n",
       "  </tbody>\n",
       "</table>\n",
       "</div>"
      ],
      "text/plain": [
       "    Rank                  Model Price (MSRP)     Signature  \\\n",
       "432   C+  Ultimate Ears UE7 Pro          850  Warm neutral   \n",
       "527    C                FiiO F3           25      U-shaped   \n",
       "\n",
       "                                              Comments Tone Grade  \\\n",
       "432  Good clarity and detail with boosted, warm bas...         B-   \n",
       "527  Well-balanced U-shaped sound that's rather aty...         B-   \n",
       "\n",
       "    Technical Grade Setup                   Status  \n",
       "432              C+   3BA  Zeppelin & Co demo unit  \n",
       "527               C    DD             E1 demo unit  "
      ]
     },
     "execution_count": 75,
     "metadata": {},
     "output_type": "execute_result"
    }
   ],
   "source": [
    "df_iems=df_iems.drop(columns=['Ranksort','Tonesort','Techsort','Pricesort'])\n",
    "df_iems.sample(2)"
   ]
  },
  {
   "cell_type": "markdown",
   "id": "0d5db694",
   "metadata": {},
   "source": [
    "Exploring Price Column"
   ]
  },
  {
   "cell_type": "code",
   "execution_count": 76,
   "id": "258c8fd1",
   "metadata": {},
   "outputs": [
    {
     "data": {
      "text/html": [
       "<div>\n",
       "<style scoped>\n",
       "    .dataframe tbody tr th:only-of-type {\n",
       "        vertical-align: middle;\n",
       "    }\n",
       "\n",
       "    .dataframe tbody tr th {\n",
       "        vertical-align: top;\n",
       "    }\n",
       "\n",
       "    .dataframe thead th {\n",
       "        text-align: right;\n",
       "    }\n",
       "</style>\n",
       "<table border=\"1\" class=\"dataframe\">\n",
       "  <thead>\n",
       "    <tr style=\"text-align: right;\">\n",
       "      <th></th>\n",
       "      <th>Rank</th>\n",
       "      <th>Model</th>\n",
       "      <th>Price</th>\n",
       "      <th>Signature</th>\n",
       "      <th>Comments</th>\n",
       "      <th>Tone Grade</th>\n",
       "      <th>Technical Grade</th>\n",
       "      <th>Setup</th>\n",
       "      <th>Status</th>\n",
       "    </tr>\n",
       "  </thead>\n",
       "  <tbody>\n",
       "    <tr>\n",
       "      <th>1726</th>\n",
       "      <td>C</td>\n",
       "      <td>QKZ VK4</td>\n",
       "      <td>20</td>\n",
       "      <td>V-shaped</td>\n",
       "      <td>Stealth-revised. Latest version is just anothe...</td>\n",
       "      <td>C</td>\n",
       "      <td>C</td>\n",
       "      <td>DD</td>\n",
       "      <td>Third party unit</td>\n",
       "    </tr>\n",
       "    <tr>\n",
       "      <th>1638</th>\n",
       "      <td>C</td>\n",
       "      <td>Shuoer D13</td>\n",
       "      <td>120</td>\n",
       "      <td>V-shaped</td>\n",
       "      <td>NaN</td>\n",
       "      <td>C</td>\n",
       "      <td>C+</td>\n",
       "      <td>DD</td>\n",
       "      <td>Available for demo at The Hangout</td>\n",
       "    </tr>\n",
       "  </tbody>\n",
       "</table>\n",
       "</div>"
      ],
      "text/plain": [
       "     Rank       Model Price Signature  \\\n",
       "1726    C     QKZ VK4    20  V-shaped   \n",
       "1638    C  Shuoer D13   120  V-shaped   \n",
       "\n",
       "                                               Comments Tone Grade  \\\n",
       "1726  Stealth-revised. Latest version is just anothe...          C   \n",
       "1638                                                NaN          C   \n",
       "\n",
       "     Technical Grade Setup                             Status  \n",
       "1726               C    DD                   Third party unit  \n",
       "1638              C+    DD  Available for demo at The Hangout  "
      ]
     },
     "execution_count": 76,
     "metadata": {},
     "output_type": "execute_result"
    }
   ],
   "source": [
    "#Renaming it for better calling\n",
    "\n",
    "df_iems.rename({'Price (MSRP)':'Price'}, axis=1, inplace=True)\n",
    "df_iems.sample(2)"
   ]
  },
  {
   "cell_type": "code",
   "execution_count": 77,
   "id": "191c4285",
   "metadata": {},
   "outputs": [
    {
     "name": "stdout",
     "output_type": "stream",
     "text": [
      "<class 'pandas.core.frame.DataFrame'>\n",
      "RangeIndex: 2143 entries, 0 to 2142\n",
      "Data columns (total 9 columns):\n",
      " #   Column           Non-Null Count  Dtype  \n",
      "---  ------           --------------  -----  \n",
      " 0   Rank             2143 non-null   object \n",
      " 1   Model            2143 non-null   object \n",
      " 2   Price            1886 non-null   float64\n",
      " 3   Signature        2141 non-null   object \n",
      " 4   Comments         1793 non-null   object \n",
      " 5   Tone Grade       2141 non-null   object \n",
      " 6   Technical Grade  2141 non-null   object \n",
      " 7   Setup            2135 non-null   object \n",
      " 8   Status           2125 non-null   object \n",
      "dtypes: float64(1), object(8)\n",
      "memory usage: 150.8+ KB\n"
     ]
    }
   ],
   "source": [
    "#Convert the price column to numeric, non number are marked as null\n",
    "df_iems['Price']=pd.to_numeric(df_iems['Price'], errors='coerce') #stored it in float\n",
    "df_iems.info()"
   ]
  },
  {
   "cell_type": "code",
   "execution_count": 88,
   "id": "293e0e4a",
   "metadata": {},
   "outputs": [
    {
     "data": {
      "text/plain": [
       "(1886, 9)"
      ]
     },
     "metadata": {},
     "output_type": "display_data"
    },
    {
     "data": {
      "text/plain": [
       "Rank                 0\n",
       "Model                0\n",
       "Price                0\n",
       "Signature            0\n",
       "Comments           336\n",
       "Tone Grade           0\n",
       "Technical Grade      0\n",
       "Setup                4\n",
       "Status              12\n",
       "dtype: int64"
      ]
     },
     "execution_count": 88,
     "metadata": {},
     "output_type": "execute_result"
    }
   ],
   "source": [
    "df_iems['Price'].isnull().sum()\n",
    "df_iems.dropna(subset=['Price'], inplace=True)\n",
    "display(df_iems.shape)\n",
    "df_iems.isna().sum()\n"
   ]
  },
  {
   "cell_type": "code",
   "execution_count": 92,
   "id": "67b48036",
   "metadata": {},
   "outputs": [
    {
     "data": {
      "text/plain": [
       "Rank               0\n",
       "Model              0\n",
       "Price              0\n",
       "Signature          0\n",
       "Comments           0\n",
       "Tone Grade         0\n",
       "Technical Grade    0\n",
       "Setup              4\n",
       "Status             0\n",
       "dtype: int64"
      ]
     },
     "execution_count": 92,
     "metadata": {},
     "output_type": "execute_result"
    }
   ],
   "source": [
    "warnings.filterwarnings('ignore')\n",
    "df_iems['Comments'].fillna('No Comments', inplace=True)\n",
    "df_iems['Status'].fillna('No Status', inplace=True)\n",
    "df_iems.isna().sum()"
   ]
  },
  {
   "cell_type": "markdown",
   "id": "cd01d9d5",
   "metadata": {},
   "source": [
    "Treating Setup column"
   ]
  }
 ],
 "metadata": {
  "kernelspec": {
   "display_name": "myenv (3.13.5)",
   "language": "python",
   "name": "python3"
  },
  "language_info": {
   "codemirror_mode": {
    "name": "ipython",
    "version": 3
   },
   "file_extension": ".py",
   "mimetype": "text/x-python",
   "name": "python",
   "nbconvert_exporter": "python",
   "pygments_lexer": "ipython3",
   "version": "3.13.5"
  }
 },
 "nbformat": 4,
 "nbformat_minor": 5
}
