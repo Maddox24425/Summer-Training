{
 "cells": [
  {
   "cell_type": "code",
   "execution_count": 242,
   "id": "38d7fc64",
   "metadata": {},
   "outputs": [
    {
     "name": "stdout",
     "output_type": "stream",
     "text": [
      "Libraries Imported\n"
     ]
    }
   ],
   "source": [
    "import pandas as pd\n",
    "import numpy as np\n",
    "import warnings\n",
    "import matplotlib.pyplot as plt\n",
    "import seaborn as sns\n",
    "print('Libraries Imported')"
   ]
  },
  {
   "cell_type": "code",
   "execution_count": 243,
   "id": "16195962",
   "metadata": {},
   "outputs": [
    {
     "data": {
      "text/html": [
       "<div>\n",
       "<style scoped>\n",
       "    .dataframe tbody tr th:only-of-type {\n",
       "        vertical-align: middle;\n",
       "    }\n",
       "\n",
       "    .dataframe tbody tr th {\n",
       "        vertical-align: top;\n",
       "    }\n",
       "\n",
       "    .dataframe thead th {\n",
       "        text-align: right;\n",
       "    }\n",
       "</style>\n",
       "<table border=\"1\" class=\"dataframe\">\n",
       "  <thead>\n",
       "    <tr style=\"text-align: right;\">\n",
       "      <th></th>\n",
       "      <th>Rank</th>\n",
       "      <th>Value Rating</th>\n",
       "      <th>Model</th>\n",
       "      <th>Price (MSRP)</th>\n",
       "      <th>Signature</th>\n",
       "      <th>Comments</th>\n",
       "      <th>Tone Grade</th>\n",
       "      <th>Technical Grade</th>\n",
       "      <th>Setup</th>\n",
       "      <th>Status</th>\n",
       "      <th>Ranksort</th>\n",
       "      <th>Tonesort</th>\n",
       "      <th>Techsort</th>\n",
       "      <th>Pricesort</th>\n",
       "    </tr>\n",
       "  </thead>\n",
       "  <tbody>\n",
       "    <tr>\n",
       "      <th>459</th>\n",
       "      <td>C+</td>\n",
       "      <td>NaN</td>\n",
       "      <td>Seek Real Audio Airship</td>\n",
       "      <td>180</td>\n",
       "      <td>V-shaped</td>\n",
       "      <td>NaN</td>\n",
       "      <td>B</td>\n",
       "      <td>C</td>\n",
       "      <td>DD</td>\n",
       "      <td>Available for demo at The Hangout</td>\n",
       "      <td>168</td>\n",
       "      <td>57</td>\n",
       "      <td>111</td>\n",
       "      <td>180</td>\n",
       "    </tr>\n",
       "    <tr>\n",
       "      <th>1095</th>\n",
       "      <td>A</td>\n",
       "      <td>★★★</td>\n",
       "      <td>7Hz Timeless</td>\n",
       "      <td>220</td>\n",
       "      <td>Neutral with bass boost</td>\n",
       "      <td>Easily the best-tuned planar IEM by a country ...</td>\n",
       "      <td>A</td>\n",
       "      <td>A</td>\n",
       "      <td>Planar</td>\n",
       "      <td>Available for demo at The Hangout</td>\n",
       "      <td>42</td>\n",
       "      <td>21</td>\n",
       "      <td>21</td>\n",
       "      <td>220</td>\n",
       "    </tr>\n",
       "  </tbody>\n",
       "</table>\n",
       "</div>"
      ],
      "text/plain": [
       "     Rank Value Rating                    Model Price (MSRP)  \\\n",
       "459    C+          NaN  Seek Real Audio Airship          180   \n",
       "1095    A          ★★★             7Hz Timeless          220   \n",
       "\n",
       "                    Signature  \\\n",
       "459                  V-shaped   \n",
       "1095  Neutral with bass boost   \n",
       "\n",
       "                                               Comments Tone Grade  \\\n",
       "459                                                 NaN          B   \n",
       "1095  Easily the best-tuned planar IEM by a country ...          A   \n",
       "\n",
       "     Technical Grade   Setup                             Status Ranksort  \\\n",
       "459                C      DD  Available for demo at The Hangout      168   \n",
       "1095               A  Planar  Available for demo at The Hangout       42   \n",
       "\n",
       "     Tonesort Techsort Pricesort  \n",
       "459        57      111       180  \n",
       "1095       21       21       220  "
      ]
     },
     "execution_count": 243,
     "metadata": {},
     "output_type": "execute_result"
    }
   ],
   "source": [
    "df_iems=pd.read_csv('crinacle_iem_rankings.csv')\n",
    "df_iems.sample(2)"
   ]
  },
  {
   "cell_type": "markdown",
   "id": "f53985b5",
   "metadata": {},
   "source": [
    "EDA"
   ]
  },
  {
   "cell_type": "code",
   "execution_count": 244,
   "id": "fc8e8937",
   "metadata": {},
   "outputs": [
    {
     "name": "stdout",
     "output_type": "stream",
     "text": [
      "(2143, 14)\n",
      "<class 'pandas.core.frame.DataFrame'>\n",
      "RangeIndex: 2143 entries, 0 to 2142\n",
      "Data columns (total 14 columns):\n",
      " #   Column           Non-Null Count  Dtype \n",
      "---  ------           --------------  ----- \n",
      " 0   Rank             2143 non-null   object\n",
      " 1   Value Rating     155 non-null    object\n",
      " 2   Model            2143 non-null   object\n",
      " 3   Price (MSRP)     2141 non-null   object\n",
      " 4   Signature        2141 non-null   object\n",
      " 5   Comments         1793 non-null   object\n",
      " 6   Tone Grade       2141 non-null   object\n",
      " 7   Technical Grade  2141 non-null   object\n",
      " 8   Setup            2135 non-null   object\n",
      " 9   Status           2125 non-null   object\n",
      " 10  Ranksort         2143 non-null   object\n",
      " 11  Tonesort         2143 non-null   object\n",
      " 12  Techsort         2143 non-null   object\n",
      " 13  Pricesort        2143 non-null   object\n",
      "dtypes: object(14)\n",
      "memory usage: 234.5+ KB\n"
     ]
    }
   ],
   "source": [
    "print(df_iems.shape)\n",
    "df_iems.info()"
   ]
  },
  {
   "cell_type": "code",
   "execution_count": 245,
   "id": "c9467cda",
   "metadata": {},
   "outputs": [
    {
     "name": "stdout",
     "output_type": "stream",
     "text": [
      "155\n"
     ]
    },
    {
     "data": {
      "text/plain": [
       "Rank                  0\n",
       "Value Rating       1988\n",
       "Model                 0\n",
       "Price (MSRP)          2\n",
       "Signature             2\n",
       "Comments            350\n",
       "Tone Grade            2\n",
       "Technical Grade       2\n",
       "Setup                 8\n",
       "Status               18\n",
       "Ranksort              0\n",
       "Tonesort              0\n",
       "Techsort              0\n",
       "Pricesort             0\n",
       "dtype: int64"
      ]
     },
     "execution_count": 245,
     "metadata": {},
     "output_type": "execute_result"
    }
   ],
   "source": [
    "print(df_iems['Value Rating'].count())\n",
    "df_iems.isnull().sum()"
   ]
  },
  {
   "cell_type": "markdown",
   "id": "e65695f3",
   "metadata": {},
   "source": [
    "Drop the \"Value Rating\" as most of it is null"
   ]
  },
  {
   "cell_type": "code",
   "execution_count": 246,
   "id": "d723c4c4",
   "metadata": {},
   "outputs": [
    {
     "data": {
      "text/html": [
       "<div>\n",
       "<style scoped>\n",
       "    .dataframe tbody tr th:only-of-type {\n",
       "        vertical-align: middle;\n",
       "    }\n",
       "\n",
       "    .dataframe tbody tr th {\n",
       "        vertical-align: top;\n",
       "    }\n",
       "\n",
       "    .dataframe thead th {\n",
       "        text-align: right;\n",
       "    }\n",
       "</style>\n",
       "<table border=\"1\" class=\"dataframe\">\n",
       "  <thead>\n",
       "    <tr style=\"text-align: right;\">\n",
       "      <th></th>\n",
       "      <th>Rank</th>\n",
       "      <th>Model</th>\n",
       "      <th>Price (MSRP)</th>\n",
       "      <th>Signature</th>\n",
       "      <th>Comments</th>\n",
       "      <th>Tone Grade</th>\n",
       "      <th>Technical Grade</th>\n",
       "      <th>Setup</th>\n",
       "      <th>Status</th>\n",
       "      <th>Ranksort</th>\n",
       "      <th>Tonesort</th>\n",
       "      <th>Techsort</th>\n",
       "      <th>Pricesort</th>\n",
       "    </tr>\n",
       "  </thead>\n",
       "  <tbody>\n",
       "    <tr>\n",
       "      <th>1929</th>\n",
       "      <td>C-</td>\n",
       "      <td>Audiosense AQ7</td>\n",
       "      <td>500</td>\n",
       "      <td>Unique</td>\n",
       "      <td>Sub-bass boost, odd midrange and rolled-off tr...</td>\n",
       "      <td>D+</td>\n",
       "      <td>C+</td>\n",
       "      <td>6BA 1DD</td>\n",
       "      <td>Available for demo at The Hangout</td>\n",
       "      <td>248</td>\n",
       "      <td>157</td>\n",
       "      <td>91</td>\n",
       "      <td>500</td>\n",
       "    </tr>\n",
       "    <tr>\n",
       "      <th>1141</th>\n",
       "      <td>B+</td>\n",
       "      <td>HYLA TE-5B</td>\n",
       "      <td>1300</td>\n",
       "      <td>U-shaped</td>\n",
       "      <td>Similar to the CE-5 though ever-so-slightly th...</td>\n",
       "      <td>B+</td>\n",
       "      <td>A</td>\n",
       "      <td>1Piezo 2BA 1DD</td>\n",
       "      <td>Zeppelin &amp; Co demo unit</td>\n",
       "      <td>64</td>\n",
       "      <td>43</td>\n",
       "      <td>21</td>\n",
       "      <td>1300</td>\n",
       "    </tr>\n",
       "  </tbody>\n",
       "</table>\n",
       "</div>"
      ],
      "text/plain": [
       "     Rank           Model Price (MSRP) Signature  \\\n",
       "1929   C-  Audiosense AQ7          500    Unique   \n",
       "1141   B+      HYLA TE-5B         1300  U-shaped   \n",
       "\n",
       "                                               Comments Tone Grade  \\\n",
       "1929  Sub-bass boost, odd midrange and rolled-off tr...         D+   \n",
       "1141  Similar to the CE-5 though ever-so-slightly th...         B+   \n",
       "\n",
       "     Technical Grade           Setup                             Status  \\\n",
       "1929              C+         6BA 1DD  Available for demo at The Hangout   \n",
       "1141               A  1Piezo 2BA 1DD            Zeppelin & Co demo unit   \n",
       "\n",
       "     Ranksort Tonesort Techsort Pricesort  \n",
       "1929      248      157       91       500  \n",
       "1141       64       43       21      1300  "
      ]
     },
     "execution_count": 246,
     "metadata": {},
     "output_type": "execute_result"
    }
   ],
   "source": [
    "df_iems=df_iems.drop(columns='Value Rating')\n",
    "df_iems.sample(2)"
   ]
  },
  {
   "cell_type": "markdown",
   "id": "99067789",
   "metadata": {},
   "source": [
    "Drop all unecessary hidden column from the original data"
   ]
  },
  {
   "cell_type": "code",
   "execution_count": 247,
   "id": "49e22c4f",
   "metadata": {},
   "outputs": [
    {
     "data": {
      "text/html": [
       "<div>\n",
       "<style scoped>\n",
       "    .dataframe tbody tr th:only-of-type {\n",
       "        vertical-align: middle;\n",
       "    }\n",
       "\n",
       "    .dataframe tbody tr th {\n",
       "        vertical-align: top;\n",
       "    }\n",
       "\n",
       "    .dataframe thead th {\n",
       "        text-align: right;\n",
       "    }\n",
       "</style>\n",
       "<table border=\"1\" class=\"dataframe\">\n",
       "  <thead>\n",
       "    <tr style=\"text-align: right;\">\n",
       "      <th></th>\n",
       "      <th>Rank</th>\n",
       "      <th>Model</th>\n",
       "      <th>Price (MSRP)</th>\n",
       "      <th>Signature</th>\n",
       "      <th>Comments</th>\n",
       "      <th>Tone Grade</th>\n",
       "      <th>Technical Grade</th>\n",
       "      <th>Setup</th>\n",
       "      <th>Status</th>\n",
       "    </tr>\n",
       "  </thead>\n",
       "  <tbody>\n",
       "    <tr>\n",
       "      <th>1742</th>\n",
       "      <td>C</td>\n",
       "      <td>Meze 12 Classics</td>\n",
       "      <td>70</td>\n",
       "      <td>V-shaped</td>\n",
       "      <td>Generic V-shape tuning with middling technical...</td>\n",
       "      <td>C</td>\n",
       "      <td>C</td>\n",
       "      <td>DD</td>\n",
       "      <td>AV One demo unit</td>\n",
       "    </tr>\n",
       "    <tr>\n",
       "      <th>131</th>\n",
       "      <td>B</td>\n",
       "      <td>Fearless Lancelot</td>\n",
       "      <td>1300</td>\n",
       "      <td>Warm</td>\n",
       "      <td>Rather generic tuning with no redeeming qualit...</td>\n",
       "      <td>B</td>\n",
       "      <td>A-</td>\n",
       "      <td>2EST 6BA</td>\n",
       "      <td>Music Sanctuary demo unit</td>\n",
       "    </tr>\n",
       "  </tbody>\n",
       "</table>\n",
       "</div>"
      ],
      "text/plain": [
       "     Rank              Model Price (MSRP) Signature  \\\n",
       "1742    C   Meze 12 Classics           70  V-shaped   \n",
       "131     B  Fearless Lancelot         1300      Warm   \n",
       "\n",
       "                                               Comments Tone Grade  \\\n",
       "1742  Generic V-shape tuning with middling technical...          C   \n",
       "131   Rather generic tuning with no redeeming qualit...          B   \n",
       "\n",
       "     Technical Grade     Setup                     Status  \n",
       "1742               C        DD           AV One demo unit  \n",
       "131               A-  2EST 6BA  Music Sanctuary demo unit  "
      ]
     },
     "execution_count": 247,
     "metadata": {},
     "output_type": "execute_result"
    }
   ],
   "source": [
    "df_iems=df_iems.drop(columns=['Ranksort','Tonesort','Techsort','Pricesort'])\n",
    "df_iems.sample(2)"
   ]
  },
  {
   "cell_type": "markdown",
   "id": "0d5db694",
   "metadata": {},
   "source": [
    "Exploring Price Column"
   ]
  },
  {
   "cell_type": "code",
   "execution_count": 248,
   "id": "258c8fd1",
   "metadata": {},
   "outputs": [
    {
     "data": {
      "text/html": [
       "<div>\n",
       "<style scoped>\n",
       "    .dataframe tbody tr th:only-of-type {\n",
       "        vertical-align: middle;\n",
       "    }\n",
       "\n",
       "    .dataframe tbody tr th {\n",
       "        vertical-align: top;\n",
       "    }\n",
       "\n",
       "    .dataframe thead th {\n",
       "        text-align: right;\n",
       "    }\n",
       "</style>\n",
       "<table border=\"1\" class=\"dataframe\">\n",
       "  <thead>\n",
       "    <tr style=\"text-align: right;\">\n",
       "      <th></th>\n",
       "      <th>Rank</th>\n",
       "      <th>Model</th>\n",
       "      <th>Price</th>\n",
       "      <th>Signature</th>\n",
       "      <th>Comments</th>\n",
       "      <th>Tone Grade</th>\n",
       "      <th>Technical Grade</th>\n",
       "      <th>Setup</th>\n",
       "      <th>Status</th>\n",
       "    </tr>\n",
       "  </thead>\n",
       "  <tbody>\n",
       "    <tr>\n",
       "      <th>1111</th>\n",
       "      <td>A-</td>\n",
       "      <td>Kumitate KL-Sirius</td>\n",
       "      <td>815</td>\n",
       "      <td>Neutral</td>\n",
       "      <td>Excellent technical ability, well tuned with a...</td>\n",
       "      <td>A</td>\n",
       "      <td>A-</td>\n",
       "      <td>4BA</td>\n",
       "      <td>Third party custom</td>\n",
       "    </tr>\n",
       "    <tr>\n",
       "      <th>39</th>\n",
       "      <td>A-</td>\n",
       "      <td>Kumitate KL-Sirius</td>\n",
       "      <td>815</td>\n",
       "      <td>Neutral</td>\n",
       "      <td>Excellent technical ability, well tuned with a...</td>\n",
       "      <td>A</td>\n",
       "      <td>A-</td>\n",
       "      <td>4BA</td>\n",
       "      <td>Third party custom</td>\n",
       "    </tr>\n",
       "  </tbody>\n",
       "</table>\n",
       "</div>"
      ],
      "text/plain": [
       "     Rank               Model Price Signature  \\\n",
       "1111   A-  Kumitate KL-Sirius   815   Neutral   \n",
       "39     A-  Kumitate KL-Sirius   815   Neutral   \n",
       "\n",
       "                                               Comments Tone Grade  \\\n",
       "1111  Excellent technical ability, well tuned with a...          A   \n",
       "39    Excellent technical ability, well tuned with a...          A   \n",
       "\n",
       "     Technical Grade Setup              Status  \n",
       "1111              A-   4BA  Third party custom  \n",
       "39                A-   4BA  Third party custom  "
      ]
     },
     "execution_count": 248,
     "metadata": {},
     "output_type": "execute_result"
    }
   ],
   "source": [
    "#Renaming it for better calling\n",
    "\n",
    "df_iems.rename({'Price (MSRP)':'Price'}, axis=1, inplace=True)\n",
    "df_iems.sample(2)"
   ]
  },
  {
   "cell_type": "code",
   "execution_count": 249,
   "id": "191c4285",
   "metadata": {},
   "outputs": [
    {
     "name": "stdout",
     "output_type": "stream",
     "text": [
      "<class 'pandas.core.frame.DataFrame'>\n",
      "RangeIndex: 2143 entries, 0 to 2142\n",
      "Data columns (total 9 columns):\n",
      " #   Column           Non-Null Count  Dtype  \n",
      "---  ------           --------------  -----  \n",
      " 0   Rank             2143 non-null   object \n",
      " 1   Model            2143 non-null   object \n",
      " 2   Price            1886 non-null   float64\n",
      " 3   Signature        2141 non-null   object \n",
      " 4   Comments         1793 non-null   object \n",
      " 5   Tone Grade       2141 non-null   object \n",
      " 6   Technical Grade  2141 non-null   object \n",
      " 7   Setup            2135 non-null   object \n",
      " 8   Status           2125 non-null   object \n",
      "dtypes: float64(1), object(8)\n",
      "memory usage: 150.8+ KB\n"
     ]
    }
   ],
   "source": [
    "#Convert the price column to numeric, non number are marked as null\n",
    "df_iems['Price']=pd.to_numeric(df_iems['Price'], errors='coerce') #stored it in float\n",
    "df_iems.info()"
   ]
  },
  {
   "cell_type": "code",
   "execution_count": 250,
   "id": "293e0e4a",
   "metadata": {},
   "outputs": [
    {
     "data": {
      "text/plain": [
       "(1886, 9)"
      ]
     },
     "metadata": {},
     "output_type": "display_data"
    },
    {
     "data": {
      "text/plain": [
       "Rank                 0\n",
       "Model                0\n",
       "Price                0\n",
       "Signature            0\n",
       "Comments           336\n",
       "Tone Grade           0\n",
       "Technical Grade      0\n",
       "Setup                4\n",
       "Status              12\n",
       "dtype: int64"
      ]
     },
     "execution_count": 250,
     "metadata": {},
     "output_type": "execute_result"
    }
   ],
   "source": [
    "df_iems['Price'].isnull().sum()\n",
    "df_iems.dropna(subset=['Price'], inplace=True)\n",
    "display(df_iems.shape)\n",
    "df_iems.isna().sum()\n"
   ]
  },
  {
   "cell_type": "code",
   "execution_count": 251,
   "id": "67b48036",
   "metadata": {},
   "outputs": [
    {
     "data": {
      "text/plain": [
       "Rank               0\n",
       "Model              0\n",
       "Price              0\n",
       "Signature          0\n",
       "Comments           0\n",
       "Tone Grade         0\n",
       "Technical Grade    0\n",
       "Setup              4\n",
       "Status             0\n",
       "dtype: int64"
      ]
     },
     "execution_count": 251,
     "metadata": {},
     "output_type": "execute_result"
    }
   ],
   "source": [
    "warnings.filterwarnings('ignore')\n",
    "df_iems['Comments'].fillna('No Comments', inplace=True)\n",
    "df_iems['Status'].fillna('No Status', inplace=True)\n",
    "df_iems.isna().sum()"
   ]
  },
  {
   "cell_type": "markdown",
   "id": "3cd2f0c6",
   "metadata": {},
   "source": [
    "Removing Duplicate rows according to models and price"
   ]
  },
  {
   "cell_type": "code",
   "execution_count": 252,
   "id": "0aa4ffbb",
   "metadata": {},
   "outputs": [
    {
     "name": "stdout",
     "output_type": "stream",
     "text": [
      "943\n"
     ]
    },
    {
     "data": {
      "text/html": [
       "<div>\n",
       "<style scoped>\n",
       "    .dataframe tbody tr th:only-of-type {\n",
       "        vertical-align: middle;\n",
       "    }\n",
       "\n",
       "    .dataframe tbody tr th {\n",
       "        vertical-align: top;\n",
       "    }\n",
       "\n",
       "    .dataframe thead th {\n",
       "        text-align: right;\n",
       "    }\n",
       "</style>\n",
       "<table border=\"1\" class=\"dataframe\">\n",
       "  <thead>\n",
       "    <tr style=\"text-align: right;\">\n",
       "      <th></th>\n",
       "      <th>Rank</th>\n",
       "      <th>Model</th>\n",
       "      <th>Price</th>\n",
       "      <th>Signature</th>\n",
       "      <th>Comments</th>\n",
       "      <th>Tone Grade</th>\n",
       "      <th>Technical Grade</th>\n",
       "      <th>Setup</th>\n",
       "      <th>Status</th>\n",
       "    </tr>\n",
       "  </thead>\n",
       "  <tbody>\n",
       "    <tr>\n",
       "      <th>485</th>\n",
       "      <td>C+</td>\n",
       "      <td>1Custom SA03</td>\n",
       "      <td>300.0</td>\n",
       "      <td>Warm V-shape</td>\n",
       "      <td>Warm lower-mid response balanced out by a forw...</td>\n",
       "      <td>C+</td>\n",
       "      <td>C+</td>\n",
       "      <td>3BA</td>\n",
       "      <td>Jaben SG demo unit</td>\n",
       "    </tr>\n",
       "    <tr>\n",
       "      <th>1557</th>\n",
       "      <td>C+</td>\n",
       "      <td>1Custom SA03</td>\n",
       "      <td>300.0</td>\n",
       "      <td>Warm V-shape</td>\n",
       "      <td>Warm lower-mid response balanced out by a forw...</td>\n",
       "      <td>C+</td>\n",
       "      <td>C+</td>\n",
       "      <td>3BA</td>\n",
       "      <td>Jaben SG demo unit</td>\n",
       "    </tr>\n",
       "    <tr>\n",
       "      <th>974</th>\n",
       "      <td>D</td>\n",
       "      <td>1More Piston</td>\n",
       "      <td>15.0</td>\n",
       "      <td>V-shaped</td>\n",
       "      <td>Tonally alright, technically distrastrous.</td>\n",
       "      <td>C-</td>\n",
       "      <td>D</td>\n",
       "      <td>DD</td>\n",
       "      <td>AV One demo unit</td>\n",
       "    </tr>\n",
       "    <tr>\n",
       "      <th>2046</th>\n",
       "      <td>D</td>\n",
       "      <td>1More Piston</td>\n",
       "      <td>15.0</td>\n",
       "      <td>V-shaped</td>\n",
       "      <td>Tonally alright, technically distrastrous.</td>\n",
       "      <td>C-</td>\n",
       "      <td>D</td>\n",
       "      <td>DD</td>\n",
       "      <td>AV One demo unit</td>\n",
       "    </tr>\n",
       "    <tr>\n",
       "      <th>841</th>\n",
       "      <td>C-</td>\n",
       "      <td>1More Quad Driver</td>\n",
       "      <td>200.0</td>\n",
       "      <td>\"Balanced\"</td>\n",
       "      <td>Okay-ish technical ability in a mainstream tun...</td>\n",
       "      <td>C</td>\n",
       "      <td>C-</td>\n",
       "      <td>3BA 1DD</td>\n",
       "      <td>Jaben Melbourne demo unit</td>\n",
       "    </tr>\n",
       "    <tr>\n",
       "      <th>...</th>\n",
       "      <td>...</td>\n",
       "      <td>...</td>\n",
       "      <td>...</td>\n",
       "      <td>...</td>\n",
       "      <td>...</td>\n",
       "      <td>...</td>\n",
       "      <td>...</td>\n",
       "      <td>...</td>\n",
       "      <td>...</td>\n",
       "    </tr>\n",
       "    <tr>\n",
       "      <th>1335</th>\n",
       "      <td>B-</td>\n",
       "      <td>qdc Neptune</td>\n",
       "      <td>200.0</td>\n",
       "      <td>Warm neutral</td>\n",
       "      <td>Tuning and configuration is simple but goes a ...</td>\n",
       "      <td>B</td>\n",
       "      <td>B-</td>\n",
       "      <td>BA</td>\n",
       "      <td>Music Sanctuary demo unit</td>\n",
       "    </tr>\n",
       "    <tr>\n",
       "      <th>71</th>\n",
       "      <td>B+</td>\n",
       "      <td>qdc Tiger</td>\n",
       "      <td>1500.0</td>\n",
       "      <td>Mild V-shape</td>\n",
       "      <td>No Comments</td>\n",
       "      <td>B+</td>\n",
       "      <td>A</td>\n",
       "      <td>2EST 6BA</td>\n",
       "      <td>e-Earphone demo unit</td>\n",
       "    </tr>\n",
       "    <tr>\n",
       "      <th>1143</th>\n",
       "      <td>B+</td>\n",
       "      <td>qdc Tiger</td>\n",
       "      <td>1500.0</td>\n",
       "      <td>Mild V-shape</td>\n",
       "      <td>No Comments</td>\n",
       "      <td>B+</td>\n",
       "      <td>A</td>\n",
       "      <td>2EST 6BA</td>\n",
       "      <td>e-Earphone demo unit</td>\n",
       "    </tr>\n",
       "    <tr>\n",
       "      <th>393</th>\n",
       "      <td>C+</td>\n",
       "      <td>qdc Uranus</td>\n",
       "      <td>200.0</td>\n",
       "      <td>Warm</td>\n",
       "      <td>Sounds like another variation of the qdc Fusio...</td>\n",
       "      <td>C+</td>\n",
       "      <td>B-</td>\n",
       "      <td>1BA 1DD</td>\n",
       "      <td>Music Sanctuary demo unit</td>\n",
       "    </tr>\n",
       "    <tr>\n",
       "      <th>1465</th>\n",
       "      <td>C+</td>\n",
       "      <td>qdc Uranus</td>\n",
       "      <td>200.0</td>\n",
       "      <td>Warm</td>\n",
       "      <td>Sounds like another variation of the qdc Fusio...</td>\n",
       "      <td>C+</td>\n",
       "      <td>B-</td>\n",
       "      <td>1BA 1DD</td>\n",
       "      <td>Music Sanctuary demo unit</td>\n",
       "    </tr>\n",
       "  </tbody>\n",
       "</table>\n",
       "<p>1886 rows × 9 columns</p>\n",
       "</div>"
      ],
      "text/plain": [
       "     Rank              Model   Price     Signature  \\\n",
       "485    C+       1Custom SA03   300.0  Warm V-shape   \n",
       "1557   C+       1Custom SA03   300.0  Warm V-shape   \n",
       "974     D       1More Piston    15.0      V-shaped   \n",
       "2046    D       1More Piston    15.0      V-shaped   \n",
       "841    C-  1More Quad Driver   200.0    \"Balanced\"   \n",
       "...   ...                ...     ...           ...   \n",
       "1335   B-        qdc Neptune   200.0  Warm neutral   \n",
       "71     B+          qdc Tiger  1500.0  Mild V-shape   \n",
       "1143   B+          qdc Tiger  1500.0  Mild V-shape   \n",
       "393    C+         qdc Uranus   200.0          Warm   \n",
       "1465   C+         qdc Uranus   200.0          Warm   \n",
       "\n",
       "                                               Comments Tone Grade  \\\n",
       "485   Warm lower-mid response balanced out by a forw...         C+   \n",
       "1557  Warm lower-mid response balanced out by a forw...         C+   \n",
       "974          Tonally alright, technically distrastrous.         C-   \n",
       "2046         Tonally alright, technically distrastrous.         C-   \n",
       "841   Okay-ish technical ability in a mainstream tun...          C   \n",
       "...                                                 ...        ...   \n",
       "1335  Tuning and configuration is simple but goes a ...          B   \n",
       "71                                          No Comments         B+   \n",
       "1143                                        No Comments         B+   \n",
       "393   Sounds like another variation of the qdc Fusio...         C+   \n",
       "1465  Sounds like another variation of the qdc Fusio...         C+   \n",
       "\n",
       "     Technical Grade     Setup                     Status  \n",
       "485               C+       3BA         Jaben SG demo unit  \n",
       "1557              C+       3BA         Jaben SG demo unit  \n",
       "974                D        DD           AV One demo unit  \n",
       "2046               D        DD           AV One demo unit  \n",
       "841               C-   3BA 1DD  Jaben Melbourne demo unit  \n",
       "...              ...       ...                        ...  \n",
       "1335              B-        BA  Music Sanctuary demo unit  \n",
       "71                 A  2EST 6BA       e-Earphone demo unit  \n",
       "1143               A  2EST 6BA       e-Earphone demo unit  \n",
       "393               B-   1BA 1DD  Music Sanctuary demo unit  \n",
       "1465              B-   1BA 1DD  Music Sanctuary demo unit  \n",
       "\n",
       "[1886 rows x 9 columns]"
      ]
     },
     "metadata": {},
     "output_type": "display_data"
    }
   ],
   "source": [
    "duplicated_rows=df_iems[df_iems.duplicated(subset=['Model', 'Price'], keep=False)].sort_values(by=['Model','Price'])\n",
    "print(df_iems.duplicated(subset=['Model', 'Price']).sum())\n",
    "display(duplicated_rows)"
   ]
  },
  {
   "cell_type": "code",
   "execution_count": 253,
   "id": "b1db7ef6",
   "metadata": {},
   "outputs": [
    {
     "name": "stdout",
     "output_type": "stream",
     "text": [
      "0\n"
     ]
    },
    {
     "data": {
      "text/html": [
       "<div>\n",
       "<style scoped>\n",
       "    .dataframe tbody tr th:only-of-type {\n",
       "        vertical-align: middle;\n",
       "    }\n",
       "\n",
       "    .dataframe tbody tr th {\n",
       "        vertical-align: top;\n",
       "    }\n",
       "\n",
       "    .dataframe thead th {\n",
       "        text-align: right;\n",
       "    }\n",
       "</style>\n",
       "<table border=\"1\" class=\"dataframe\">\n",
       "  <thead>\n",
       "    <tr style=\"text-align: right;\">\n",
       "      <th></th>\n",
       "      <th>Rank</th>\n",
       "      <th>Model</th>\n",
       "      <th>Price</th>\n",
       "      <th>Signature</th>\n",
       "      <th>Comments</th>\n",
       "      <th>Tone Grade</th>\n",
       "      <th>Technical Grade</th>\n",
       "      <th>Setup</th>\n",
       "      <th>Status</th>\n",
       "    </tr>\n",
       "  </thead>\n",
       "  <tbody>\n",
       "    <tr>\n",
       "      <th>974</th>\n",
       "      <td>D</td>\n",
       "      <td>1More Piston</td>\n",
       "      <td>15.0</td>\n",
       "      <td>V-shaped</td>\n",
       "      <td>Tonally alright, technically distrastrous.</td>\n",
       "      <td>C-</td>\n",
       "      <td>D</td>\n",
       "      <td>DD</td>\n",
       "      <td>AV One demo unit</td>\n",
       "    </tr>\n",
       "  </tbody>\n",
       "</table>\n",
       "</div>"
      ],
      "text/plain": [
       "    Rank         Model  Price Signature  \\\n",
       "974    D  1More Piston   15.0  V-shaped   \n",
       "\n",
       "                                       Comments Tone Grade Technical Grade  \\\n",
       "974  Tonally alright, technically distrastrous.         C-               D   \n",
       "\n",
       "    Setup            Status  \n",
       "974    DD  AV One demo unit  "
      ]
     },
     "execution_count": 253,
     "metadata": {},
     "output_type": "execute_result"
    }
   ],
   "source": [
    "df_iems = df_iems.drop_duplicates(subset=['Model', 'Price'], keep='first')\n",
    "print(df_iems.duplicated(subset=['Model', 'Price']).sum())\n",
    "df_iems.shape\n",
    "df_iems[df_iems['Model']=='1More Piston']"
   ]
  },
  {
   "cell_type": "markdown",
   "id": "cd01d9d5",
   "metadata": {},
   "source": [
    "Treating Setup column"
   ]
  },
  {
   "cell_type": "code",
   "execution_count": 254,
   "id": "e423610a",
   "metadata": {},
   "outputs": [
    {
     "name": "stdout",
     "output_type": "stream",
     "text": [
      "[80, 1033]\n",
      "<class 'list'>\n"
     ]
    },
    {
     "data": {
      "text/html": [
       "<div>\n",
       "<style scoped>\n",
       "    .dataframe tbody tr th:only-of-type {\n",
       "        vertical-align: middle;\n",
       "    }\n",
       "\n",
       "    .dataframe tbody tr th {\n",
       "        vertical-align: top;\n",
       "    }\n",
       "\n",
       "    .dataframe thead th {\n",
       "        text-align: right;\n",
       "    }\n",
       "</style>\n",
       "<table border=\"1\" class=\"dataframe\">\n",
       "  <thead>\n",
       "    <tr style=\"text-align: right;\">\n",
       "      <th></th>\n",
       "      <th>Rank</th>\n",
       "      <th>Model</th>\n",
       "      <th>Price</th>\n",
       "      <th>Signature</th>\n",
       "      <th>Comments</th>\n",
       "      <th>Tone Grade</th>\n",
       "      <th>Technical Grade</th>\n",
       "      <th>Setup</th>\n",
       "      <th>Status</th>\n",
       "    </tr>\n",
       "  </thead>\n",
       "  <tbody>\n",
       "    <tr>\n",
       "      <th>80</th>\n",
       "      <td>B+</td>\n",
       "      <td>Fatfreq Maestro SE</td>\n",
       "      <td>1900.0</td>\n",
       "      <td>Neutral with bass boost</td>\n",
       "      <td>No Comments</td>\n",
       "      <td>A</td>\n",
       "      <td>B+</td>\n",
       "      <td>NaN</td>\n",
       "      <td>Showfloor demo unit</td>\n",
       "    </tr>\n",
       "    <tr>\n",
       "      <th>1033</th>\n",
       "      <td>D-</td>\n",
       "      <td>Rhapsodio Clipper</td>\n",
       "      <td>55.0</td>\n",
       "      <td>Bassy</td>\n",
       "      <td>Lots and lots of bass. Slams you in the face w...</td>\n",
       "      <td>D</td>\n",
       "      <td>D-</td>\n",
       "      <td>NaN</td>\n",
       "      <td>Zeppelin &amp; Co demo unit</td>\n",
       "    </tr>\n",
       "  </tbody>\n",
       "</table>\n",
       "</div>"
      ],
      "text/plain": [
       "     Rank               Model   Price                Signature  \\\n",
       "80     B+  Fatfreq Maestro SE  1900.0  Neutral with bass boost   \n",
       "1033   D-   Rhapsodio Clipper    55.0                    Bassy   \n",
       "\n",
       "                                               Comments Tone Grade  \\\n",
       "80                                          No Comments          A   \n",
       "1033  Lots and lots of bass. Slams you in the face w...          D   \n",
       "\n",
       "     Technical Grade Setup                   Status  \n",
       "80                B+   NaN      Showfloor demo unit  \n",
       "1033              D-   NaN  Zeppelin & Co demo unit  "
      ]
     },
     "execution_count": 254,
     "metadata": {},
     "output_type": "execute_result"
    }
   ],
   "source": [
    "setup_list=df_iems[df_iems['Setup'].isna()].index.tolist()\n",
    "print(setup_list)\n",
    "print(type(setup_list))\n",
    "df_iems[df_iems['Setup'].isna()]"
   ]
  },
  {
   "cell_type": "code",
   "execution_count": 255,
   "id": "e48d4233",
   "metadata": {},
   "outputs": [
    {
     "data": {
      "text/html": [
       "<div>\n",
       "<style scoped>\n",
       "    .dataframe tbody tr th:only-of-type {\n",
       "        vertical-align: middle;\n",
       "    }\n",
       "\n",
       "    .dataframe tbody tr th {\n",
       "        vertical-align: top;\n",
       "    }\n",
       "\n",
       "    .dataframe thead th {\n",
       "        text-align: right;\n",
       "    }\n",
       "</style>\n",
       "<table border=\"1\" class=\"dataframe\">\n",
       "  <thead>\n",
       "    <tr style=\"text-align: right;\">\n",
       "      <th></th>\n",
       "      <th>Rank</th>\n",
       "      <th>Model</th>\n",
       "      <th>Price</th>\n",
       "      <th>Signature</th>\n",
       "      <th>Comments</th>\n",
       "      <th>Tone Grade</th>\n",
       "      <th>Technical Grade</th>\n",
       "      <th>Setup</th>\n",
       "      <th>Status</th>\n",
       "    </tr>\n",
       "  </thead>\n",
       "  <tbody>\n",
       "    <tr>\n",
       "      <th>80</th>\n",
       "      <td>B+</td>\n",
       "      <td>Fatfreq Maestro SE</td>\n",
       "      <td>1900.0</td>\n",
       "      <td>Neutral with bass boost</td>\n",
       "      <td>No Comments</td>\n",
       "      <td>A</td>\n",
       "      <td>B+</td>\n",
       "      <td>1DD 7BA 4EST</td>\n",
       "      <td>Showfloor demo unit</td>\n",
       "    </tr>\n",
       "    <tr>\n",
       "      <th>1033</th>\n",
       "      <td>D-</td>\n",
       "      <td>Rhapsodio Clipper</td>\n",
       "      <td>55.0</td>\n",
       "      <td>Bassy</td>\n",
       "      <td>Lots and lots of bass. Slams you in the face w...</td>\n",
       "      <td>D</td>\n",
       "      <td>D-</td>\n",
       "      <td>1DD</td>\n",
       "      <td>Zeppelin &amp; Co demo unit</td>\n",
       "    </tr>\n",
       "  </tbody>\n",
       "</table>\n",
       "</div>"
      ],
      "text/plain": [
       "     Rank               Model   Price                Signature  \\\n",
       "80     B+  Fatfreq Maestro SE  1900.0  Neutral with bass boost   \n",
       "1033   D-   Rhapsodio Clipper    55.0                    Bassy   \n",
       "\n",
       "                                               Comments Tone Grade  \\\n",
       "80                                          No Comments          A   \n",
       "1033  Lots and lots of bass. Slams you in the face w...          D   \n",
       "\n",
       "     Technical Grade         Setup                   Status  \n",
       "80                B+  1DD 7BA 4EST      Showfloor demo unit  \n",
       "1033              D-           1DD  Zeppelin & Co demo unit  "
      ]
     },
     "metadata": {},
     "output_type": "display_data"
    }
   ],
   "source": [
    "setup_input_list = ['1DD 7BA 4EST', '1DD']\n",
    "\n",
    "df_iems.loc[setup_list, 'Setup'] = setup_input_list\n",
    "display(df_iems.loc[setup_list])\n",
    "    "
   ]
  },
  {
   "cell_type": "code",
   "execution_count": 256,
   "id": "bc481dcf",
   "metadata": {},
   "outputs": [
    {
     "data": {
      "text/plain": [
       "Rank               0\n",
       "Model              0\n",
       "Price              0\n",
       "Signature          0\n",
       "Comments           0\n",
       "Tone Grade         0\n",
       "Technical Grade    0\n",
       "Setup              0\n",
       "Status             0\n",
       "dtype: int64"
      ]
     },
     "execution_count": 256,
     "metadata": {},
     "output_type": "execute_result"
    }
   ],
   "source": [
    "df_iems.isna().sum()"
   ]
  },
  {
   "cell_type": "markdown",
   "id": "2de53ecf",
   "metadata": {},
   "source": [
    "All Null Values and duplicated rows Treated here"
   ]
  },
  {
   "cell_type": "markdown",
   "id": "c7b6d959",
   "metadata": {},
   "source": [
    "Encoding Grades\n"
   ]
  },
  {
   "cell_type": "code",
   "execution_count": 257,
   "id": "f4e7b1de",
   "metadata": {},
   "outputs": [
    {
     "data": {
      "text/plain": [
       "array(['S-', 'A+', 'A', 'A-', 'B+', 'B', 'B-', 'C+', 'C', 'C-', 'D+', 'D',\n",
       "       'D-', 'E', 'F'], dtype=object)"
      ]
     },
     "execution_count": 257,
     "metadata": {},
     "output_type": "execute_result"
    }
   ],
   "source": [
    "df_iems['Rank'].unique()"
   ]
  },
  {
   "cell_type": "code",
   "execution_count": 258,
   "id": "0d21e004",
   "metadata": {},
   "outputs": [],
   "source": [
    "grade_map={\n",
    "    'S+':13, 'S':12, 'S-':11,\n",
    "    'A+':10, 'A':9, 'A-':8,\n",
    "    'B+':7, 'B':6, 'B-':5,\n",
    "    'C+':4, 'C':3, 'C-':2,\n",
    "    'D+':1, 'D':0, 'D-':-1,\n",
    "    'E+':-2, 'E':-3, 'E-':-4,\n",
    "    'F+':-5, 'F':-6, 'F-':-7\n",
    "}"
   ]
  },
  {
   "cell_type": "code",
   "execution_count": 259,
   "id": "8a3b5c4d",
   "metadata": {},
   "outputs": [
    {
     "data": {
      "text/html": [
       "<div>\n",
       "<style scoped>\n",
       "    .dataframe tbody tr th:only-of-type {\n",
       "        vertical-align: middle;\n",
       "    }\n",
       "\n",
       "    .dataframe tbody tr th {\n",
       "        vertical-align: top;\n",
       "    }\n",
       "\n",
       "    .dataframe thead th {\n",
       "        text-align: right;\n",
       "    }\n",
       "</style>\n",
       "<table border=\"1\" class=\"dataframe\">\n",
       "  <thead>\n",
       "    <tr style=\"text-align: right;\">\n",
       "      <th></th>\n",
       "      <th>Rank</th>\n",
       "      <th>Rank_encoded</th>\n",
       "      <th>Tone Grade</th>\n",
       "      <th>Tone_Grade_encoded</th>\n",
       "      <th>Technical Grade</th>\n",
       "      <th>Technical_Grade_encoded</th>\n",
       "    </tr>\n",
       "  </thead>\n",
       "  <tbody>\n",
       "    <tr>\n",
       "      <th>0</th>\n",
       "      <td>S-</td>\n",
       "      <td>11</td>\n",
       "      <td>S-</td>\n",
       "      <td>11</td>\n",
       "      <td>S</td>\n",
       "      <td>12</td>\n",
       "    </tr>\n",
       "    <tr>\n",
       "      <th>1</th>\n",
       "      <td>S-</td>\n",
       "      <td>11</td>\n",
       "      <td>S+</td>\n",
       "      <td>13</td>\n",
       "      <td>A+</td>\n",
       "      <td>10</td>\n",
       "    </tr>\n",
       "    <tr>\n",
       "      <th>2</th>\n",
       "      <td>S-</td>\n",
       "      <td>11</td>\n",
       "      <td>S+</td>\n",
       "      <td>13</td>\n",
       "      <td>A+</td>\n",
       "      <td>10</td>\n",
       "    </tr>\n",
       "    <tr>\n",
       "      <th>3</th>\n",
       "      <td>A+</td>\n",
       "      <td>10</td>\n",
       "      <td>A+</td>\n",
       "      <td>10</td>\n",
       "      <td>S</td>\n",
       "      <td>12</td>\n",
       "    </tr>\n",
       "    <tr>\n",
       "      <th>4</th>\n",
       "      <td>A+</td>\n",
       "      <td>10</td>\n",
       "      <td>A+</td>\n",
       "      <td>10</td>\n",
       "      <td>S-</td>\n",
       "      <td>11</td>\n",
       "    </tr>\n",
       "  </tbody>\n",
       "</table>\n",
       "</div>"
      ],
      "text/plain": [
       "  Rank  Rank_encoded Tone Grade  Tone_Grade_encoded Technical Grade  \\\n",
       "0   S-            11         S-                  11               S   \n",
       "1   S-            11         S+                  13              A+   \n",
       "2   S-            11         S+                  13              A+   \n",
       "3   A+            10         A+                  10               S   \n",
       "4   A+            10         A+                  10              S-   \n",
       "\n",
       "   Technical_Grade_encoded  \n",
       "0                       12  \n",
       "1                       10  \n",
       "2                       10  \n",
       "3                       12  \n",
       "4                       11  "
      ]
     },
     "metadata": {},
     "output_type": "display_data"
    }
   ],
   "source": [
    "#mapping with the dict made above\n",
    "df_iems['Rank_encoded']=df_iems['Rank'].map(grade_map)\n",
    "df_iems['Technical_Grade_encoded']=df_iems['Technical Grade'].map(grade_map)\n",
    "df_iems['Tone_Grade_encoded']=df_iems['Tone Grade'].map(grade_map)\n",
    "#here to display the result to check if it is encoded\n",
    "display(df_iems[['Rank', 'Rank_encoded', 'Tone Grade', 'Tone_Grade_encoded', 'Technical Grade', 'Technical_Grade_encoded']].head())"
   ]
  },
  {
   "cell_type": "code",
   "execution_count": 260,
   "id": "a9fa626d",
   "metadata": {},
   "outputs": [
    {
     "data": {
      "text/html": [
       "<div>\n",
       "<style scoped>\n",
       "    .dataframe tbody tr th:only-of-type {\n",
       "        vertical-align: middle;\n",
       "    }\n",
       "\n",
       "    .dataframe tbody tr th {\n",
       "        vertical-align: top;\n",
       "    }\n",
       "\n",
       "    .dataframe thead th {\n",
       "        text-align: right;\n",
       "    }\n",
       "</style>\n",
       "<table border=\"1\" class=\"dataframe\">\n",
       "  <thead>\n",
       "    <tr style=\"text-align: right;\">\n",
       "      <th></th>\n",
       "      <th>Rank</th>\n",
       "      <th>Model</th>\n",
       "      <th>Price</th>\n",
       "      <th>Signature</th>\n",
       "      <th>Comments</th>\n",
       "      <th>Tone Grade</th>\n",
       "      <th>Technical Grade</th>\n",
       "      <th>Setup</th>\n",
       "      <th>Status</th>\n",
       "      <th>Rank_encoded</th>\n",
       "      <th>Technical_Grade_encoded</th>\n",
       "      <th>Tone_Grade_encoded</th>\n",
       "    </tr>\n",
       "  </thead>\n",
       "  <tbody>\n",
       "    <tr>\n",
       "      <th>704</th>\n",
       "      <td>C</td>\n",
       "      <td>Audio Technica ATH-ANC300TW</td>\n",
       "      <td>200.0</td>\n",
       "      <td>V-shaped</td>\n",
       "      <td>Weirdly bloated, weirdly sibilant, not the bes...</td>\n",
       "      <td>C</td>\n",
       "      <td>C</td>\n",
       "      <td>DD</td>\n",
       "      <td>Zeppelin &amp; Co demo unit</td>\n",
       "      <td>3</td>\n",
       "      <td>3</td>\n",
       "      <td>3</td>\n",
       "    </tr>\n",
       "    <tr>\n",
       "      <th>578</th>\n",
       "      <td>C</td>\n",
       "      <td>Custom Art FIBAE 2</td>\n",
       "      <td>550.0</td>\n",
       "      <td>Warm</td>\n",
       "      <td>Slight downsloping response with a generally p...</td>\n",
       "      <td>C</td>\n",
       "      <td>C+</td>\n",
       "      <td>2BA</td>\n",
       "      <td>Music Sanctuary demo unit</td>\n",
       "      <td>3</td>\n",
       "      <td>4</td>\n",
       "      <td>3</td>\n",
       "    </tr>\n",
       "  </tbody>\n",
       "</table>\n",
       "</div>"
      ],
      "text/plain": [
       "    Rank                        Model  Price Signature  \\\n",
       "704    C  Audio Technica ATH-ANC300TW  200.0  V-shaped   \n",
       "578    C           Custom Art FIBAE 2  550.0      Warm   \n",
       "\n",
       "                                              Comments Tone Grade  \\\n",
       "704  Weirdly bloated, weirdly sibilant, not the bes...          C   \n",
       "578  Slight downsloping response with a generally p...          C   \n",
       "\n",
       "    Technical Grade Setup                     Status  Rank_encoded  \\\n",
       "704               C    DD    Zeppelin & Co demo unit             3   \n",
       "578              C+   2BA  Music Sanctuary demo unit             3   \n",
       "\n",
       "     Technical_Grade_encoded  Tone_Grade_encoded  \n",
       "704                        3                   3  \n",
       "578                        4                   3  "
      ]
     },
     "execution_count": 260,
     "metadata": {},
     "output_type": "execute_result"
    }
   ],
   "source": [
    "df_iems.sample(2)"
   ]
  },
  {
   "cell_type": "markdown",
   "id": "64bb3266",
   "metadata": {},
   "source": [
    "Trying Ordinal Encoder form sklearn"
   ]
  },
  {
   "cell_type": "code",
   "execution_count": null,
   "id": "c49ab06b",
   "metadata": {},
   "outputs": [],
   "source": [
    "from sklearn.preprocessing import OrdinalEncoder\n",
    "import pandas as pd\n",
    "\n",
    "# 1. Define the correct order for your grades, from lowest to highest\n",
    "#    This must be a list of lists, one for each column you're transforming.\n",
    "grade_order=['D-', 'D', 'D+', 'C-', 'C', 'C+', 'B-', 'B', 'B+', 'A-', 'A', 'A+', 'S-', 'S', 'S+']\n",
    "\n",
    "# 2. Create the encoder, passing the correct order\n",
    "#    Let's assume 'Rank' and 'Technical Grade' use this order.\n",
    "encoder=OrdinalEncoder(categories=[grade_order, grade_order])\n",
    "\n",
    "# 3. Apply the encoder to the desired columns\n",
    "#    Note: The encoder requires a 2D array, so we use double brackets [[]].\n",
    "encoded_columns=encoder.fit_transform(df_iems[['Rank', 'Technical Grade', 'Tone Grade']])\n",
    "\n",
    "# 4. Add the new encoded columns back to the DataFrame\n",
    "df_iems[['Rank_encoded', 'Technical_Grade_encoded']]=encoded_columns\n",
    "\n",
    "print(df_iems[['Rank', 'Rank_encoded', 'Technical Grade', 'Technical_Grade_encoded']].head())"
   ]
  }
 ],
 "metadata": {
  "kernelspec": {
   "display_name": "myenv (3.13.5)",
   "language": "python",
   "name": "python3"
  },
  "language_info": {
   "codemirror_mode": {
    "name": "ipython",
    "version": 3
   },
   "file_extension": ".py",
   "mimetype": "text/x-python",
   "name": "python",
   "nbconvert_exporter": "python",
   "pygments_lexer": "ipython3",
   "version": "3.13.5"
  }
 },
 "nbformat": 4,
 "nbformat_minor": 5
}
