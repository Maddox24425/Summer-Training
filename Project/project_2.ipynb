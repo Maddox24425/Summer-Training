{
 "cells": [
  {
   "cell_type": "code",
   "execution_count": null,
   "id": "61dc8aeb",
   "metadata": {},
   "outputs": [],
   "source": [
    "import kagglehub\n",
    "\n",
    "# Download latest version\n",
    "path = kagglehub.dataset_download(\"joebeachcapital/top-1000-steam-games\")\n",
    "\n",
    "print(\"Path to dataset files:\", path)"
   ]
  }
 ],
 "metadata": {
  "language_info": {
   "name": "python"
  }
 },
 "nbformat": 4,
 "nbformat_minor": 5
}
