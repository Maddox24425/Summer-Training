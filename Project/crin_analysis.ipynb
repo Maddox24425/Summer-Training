{
 "cells": [
  {
   "cell_type": "code",
   "execution_count": 2,
   "id": "7b7f3991",
   "metadata": {},
   "outputs": [],
   "source": [
    "import pandas as pd\n",
    "import numpy as np\n",
    "import matplotlib.pyplot as plt\n",
    "import seaborn as sns\n",
    "import warnings"
   ]
  },
  {
   "cell_type": "code",
   "execution_count": 3,
   "id": "91d4386f",
   "metadata": {},
   "outputs": [
    {
     "data": {
      "text/html": [
       "<div>\n",
       "<style scoped>\n",
       "    .dataframe tbody tr th:only-of-type {\n",
       "        vertical-align: middle;\n",
       "    }\n",
       "\n",
       "    .dataframe tbody tr th {\n",
       "        vertical-align: top;\n",
       "    }\n",
       "\n",
       "    .dataframe thead th {\n",
       "        text-align: right;\n",
       "    }\n",
       "</style>\n",
       "<table border=\"1\" class=\"dataframe\">\n",
       "  <thead>\n",
       "    <tr style=\"text-align: right;\">\n",
       "      <th></th>\n",
       "      <th>Rank</th>\n",
       "      <th>Value Rating</th>\n",
       "      <th>Model</th>\n",
       "      <th>Price (MSRP)</th>\n",
       "      <th>Signature</th>\n",
       "      <th>Comments</th>\n",
       "      <th>Tone Grade</th>\n",
       "      <th>Technical Grade</th>\n",
       "      <th>Setup</th>\n",
       "      <th>Status</th>\n",
       "      <th>Ranksort</th>\n",
       "      <th>Tonesort</th>\n",
       "      <th>Techsort</th>\n",
       "      <th>Pricesort</th>\n",
       "    </tr>\n",
       "  </thead>\n",
       "  <tbody>\n",
       "    <tr>\n",
       "      <th>1342</th>\n",
       "      <td>B-</td>\n",
       "      <td>NaN</td>\n",
       "      <td>ARC Mira</td>\n",
       "      <td>410</td>\n",
       "      <td>Neutral</td>\n",
       "      <td>A well-tuned basic setup with strengths in ver...</td>\n",
       "      <td>B</td>\n",
       "      <td>B-</td>\n",
       "      <td>2BA</td>\n",
       "      <td>Showfloor demo unit</td>\n",
       "      <td>130</td>\n",
       "      <td>57</td>\n",
       "      <td>73</td>\n",
       "      <td>410</td>\n",
       "    </tr>\n",
       "    <tr>\n",
       "      <th>1306</th>\n",
       "      <td>B-</td>\n",
       "      <td>★</td>\n",
       "      <td>Sony MDR-EX800ST / MDR7550</td>\n",
       "      <td>350</td>\n",
       "      <td>Bright neutral</td>\n",
       "      <td>A more forgiving, warmer version of the EX1000.</td>\n",
       "      <td>C+</td>\n",
       "      <td>A-</td>\n",
       "      <td>DD</td>\n",
       "      <td>Third party unit</td>\n",
       "      <td>122</td>\n",
       "      <td>91</td>\n",
       "      <td>31</td>\n",
       "      <td>350</td>\n",
       "    </tr>\n",
       "    <tr>\n",
       "      <th>1324</th>\n",
       "      <td>B-</td>\n",
       "      <td>NaN</td>\n",
       "      <td>Fearless S6Rui</td>\n",
       "      <td>390</td>\n",
       "      <td>V-shaped</td>\n",
       "      <td>Similar to the S4/S5H though with smoother upp...</td>\n",
       "      <td>B-</td>\n",
       "      <td>B</td>\n",
       "      <td>6BA</td>\n",
       "      <td>Music Sanctuary demo unit</td>\n",
       "      <td>130</td>\n",
       "      <td>73</td>\n",
       "      <td>57</td>\n",
       "      <td>390</td>\n",
       "    </tr>\n",
       "    <tr>\n",
       "      <th>2123</th>\n",
       "      <td>E</td>\n",
       "      <td>NaN</td>\n",
       "      <td>Shozy Ceres</td>\n",
       "      <td>180</td>\n",
       "      <td>Warm</td>\n",
       "      <td>NaN</td>\n",
       "      <td>E</td>\n",
       "      <td>D</td>\n",
       "      <td>1BA 1DD</td>\n",
       "      <td>Available for demo at The Hangout</td>\n",
       "      <td>605</td>\n",
       "      <td>422</td>\n",
       "      <td>183</td>\n",
       "      <td>180</td>\n",
       "    </tr>\n",
       "    <tr>\n",
       "      <th>284</th>\n",
       "      <td>B-</td>\n",
       "      <td>NaN</td>\n",
       "      <td>Sennheiser IE800S</td>\n",
       "      <td>1200</td>\n",
       "      <td>Warm</td>\n",
       "      <td>Very subtle refinement to the original IE800.</td>\n",
       "      <td>C+</td>\n",
       "      <td>B+</td>\n",
       "      <td>DD</td>\n",
       "      <td>Jaben Melbourne demo unit</td>\n",
       "      <td>134</td>\n",
       "      <td>91</td>\n",
       "      <td>43</td>\n",
       "      <td>1200</td>\n",
       "    </tr>\n",
       "  </tbody>\n",
       "</table>\n",
       "</div>"
      ],
      "text/plain": [
       "     Rank Value Rating                       Model Price (MSRP)  \\\n",
       "1342   B-          NaN                    ARC Mira          410   \n",
       "1306   B-            ★  Sony MDR-EX800ST / MDR7550          350   \n",
       "1324   B-          NaN              Fearless S6Rui          390   \n",
       "2123    E          NaN                 Shozy Ceres          180   \n",
       "284    B-          NaN           Sennheiser IE800S         1200   \n",
       "\n",
       "           Signature                                           Comments  \\\n",
       "1342         Neutral  A well-tuned basic setup with strengths in ver...   \n",
       "1306  Bright neutral    A more forgiving, warmer version of the EX1000.   \n",
       "1324        V-shaped  Similar to the S4/S5H though with smoother upp...   \n",
       "2123            Warm                                                NaN   \n",
       "284             Warm      Very subtle refinement to the original IE800.   \n",
       "\n",
       "     Tone Grade Technical Grade    Setup                             Status  \\\n",
       "1342          B              B-      2BA                Showfloor demo unit   \n",
       "1306         C+              A-       DD                   Third party unit   \n",
       "1324         B-               B      6BA          Music Sanctuary demo unit   \n",
       "2123          E               D  1BA 1DD  Available for demo at The Hangout   \n",
       "284          C+              B+       DD          Jaben Melbourne demo unit   \n",
       "\n",
       "     Ranksort Tonesort Techsort Pricesort  \n",
       "1342      130       57       73       410  \n",
       "1306      122       91       31       350  \n",
       "1324      130       73       57       390  \n",
       "2123      605      422      183       180  \n",
       "284       134       91       43      1200  "
      ]
     },
     "execution_count": 3,
     "metadata": {},
     "output_type": "execute_result"
    }
   ],
   "source": [
    "df=pd.read_csv('crinacle_iem_rankings.csv')\n",
    "df.sample(5)"
   ]
  },
  {
   "cell_type": "code",
   "execution_count": 23,
   "id": "5e506bb3",
   "metadata": {},
   "outputs": [
    {
     "data": {
      "text/plain": [
       "{'S-': 0,\n",
       " 'A+': 1,\n",
       " 'A': 2,\n",
       " 'A-': 3,\n",
       " 'B+': 4,\n",
       " 'B': 5,\n",
       " 'B-': 6,\n",
       " 'C+': 7,\n",
       " 'C': 8,\n",
       " 'C-': 9,\n",
       " 'D+': 10,\n",
       " 'D': 11,\n",
       " 'D-': 12,\n",
       " 'E': 13,\n",
       " 'F': 14,\n",
       " 'DQ': 15,\n",
       " 'Rank': 16}"
      ]
     },
     "execution_count": 23,
     "metadata": {},
     "output_type": "execute_result"
    }
   ],
   "source": [
    "df['Rank'].unique()\n",
    "oe = dict(zip(df['Rank'].unique(),range(len(df['Rank'].unique()))))\n",
    "oe"
   ]
  },
  {
   "cell_type": "code",
   "execution_count": 26,
   "id": "428adadf",
   "metadata": {},
   "outputs": [
    {
     "data": {
      "text/plain": [
       "8.0     494\n",
       "7.0     338\n",
       "9.0     284\n",
       "6.0     238\n",
       "5.0     182\n",
       "10.0    140\n",
       "4.0     116\n",
       "11.0     94\n",
       "3.0      76\n",
       "12.0     66\n",
       "13.0     48\n",
       "2.0      34\n",
       "1.0      16\n",
       "14.0      8\n",
       "0.0       6\n",
       "15.0      2\n",
       "16.0      1\n",
       "Name: count, dtype: int64"
      ]
     },
     "execution_count": 26,
     "metadata": {},
     "output_type": "execute_result"
    }
   ],
   "source": [
    "from sklearn.preprocessing import OrdinalEncoder\n",
    "OE = OrdinalEncoder(categories=[list(df['Rank'].unique())])\n",
    "pd.Series(OE.fit_transform(df[['Rank']]).flatten()).value_counts()"
   ]
  },
  {
   "cell_type": "code",
   "execution_count": 25,
   "id": "95699558",
   "metadata": {},
   "outputs": [
    {
     "data": {
      "text/plain": [
       "Rank\n",
       "8     494\n",
       "7     338\n",
       "9     284\n",
       "6     238\n",
       "5     182\n",
       "10    140\n",
       "4     116\n",
       "11     94\n",
       "3      76\n",
       "12     66\n",
       "13     48\n",
       "2      34\n",
       "1      16\n",
       "14      8\n",
       "0       6\n",
       "15      2\n",
       "16      1\n",
       "Name: count, dtype: int64"
      ]
     },
     "execution_count": 25,
     "metadata": {},
     "output_type": "execute_result"
    }
   ],
   "source": [
    "df['Rank'].map(oe).value_counts()"
   ]
  },
  {
   "cell_type": "markdown",
   "id": "890fd4e8",
   "metadata": {},
   "source": [
    "Change the value of Pricesort column which are discontinued (or remove the column)"
   ]
  },
  {
   "cell_type": "code",
   "execution_count": 4,
   "id": "30a94237",
   "metadata": {},
   "outputs": [
    {
     "data": {
      "text/plain": [
       "Rank                  0\n",
       "Value Rating       1988\n",
       "Model                 0\n",
       "Price (MSRP)          2\n",
       "Signature             2\n",
       "Comments            350\n",
       "Tone Grade            2\n",
       "Technical Grade       2\n",
       "Setup                 8\n",
       "Status               18\n",
       "Ranksort              0\n",
       "Tonesort              0\n",
       "Techsort              0\n",
       "Pricesort             0\n",
       "dtype: int64"
      ]
     },
     "execution_count": 4,
     "metadata": {},
     "output_type": "execute_result"
    }
   ],
   "source": [
    "#check the null values\n",
    "df.isnull().sum()"
   ]
  }
 ],
 "metadata": {
  "kernelspec": {
   "display_name": "myenv (3.13.5)",
   "language": "python",
   "name": "python3"
  },
  "language_info": {
   "codemirror_mode": {
    "name": "ipython",
    "version": 3
   },
   "file_extension": ".py",
   "mimetype": "text/x-python",
   "name": "python",
   "nbconvert_exporter": "python",
   "pygments_lexer": "ipython3",
   "version": "3.13.5"
  }
 },
 "nbformat": 4,
 "nbformat_minor": 5
}
