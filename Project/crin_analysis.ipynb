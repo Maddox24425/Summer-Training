{
 "cells": [
  {
   "cell_type": "code",
   "execution_count": 7,
   "id": "7b7f3991",
   "metadata": {},
   "outputs": [],
   "source": [
    "import pandas as pd\n",
    "import numpy as np\n",
    "import matplotlib.pyplot as plt\n",
    "import seaborn as sns\n",
    "import warnings"
   ]
  },
  {
   "cell_type": "code",
   "execution_count": 10,
   "id": "91d4386f",
   "metadata": {},
   "outputs": [
    {
     "data": {
      "text/html": [
       "<div>\n",
       "<style scoped>\n",
       "    .dataframe tbody tr th:only-of-type {\n",
       "        vertical-align: middle;\n",
       "    }\n",
       "\n",
       "    .dataframe tbody tr th {\n",
       "        vertical-align: top;\n",
       "    }\n",
       "\n",
       "    .dataframe thead th {\n",
       "        text-align: right;\n",
       "    }\n",
       "</style>\n",
       "<table border=\"1\" class=\"dataframe\">\n",
       "  <thead>\n",
       "    <tr style=\"text-align: right;\">\n",
       "      <th></th>\n",
       "      <th>Rank</th>\n",
       "      <th>Value Rating</th>\n",
       "      <th>Model</th>\n",
       "      <th>Price (MSRP)</th>\n",
       "      <th>Signature</th>\n",
       "      <th>Comments</th>\n",
       "      <th>Tone Grade</th>\n",
       "      <th>Technical Grade</th>\n",
       "      <th>Setup</th>\n",
       "      <th>Status</th>\n",
       "      <th>Ranksort</th>\n",
       "      <th>Tonesort</th>\n",
       "      <th>Techsort</th>\n",
       "      <th>Pricesort</th>\n",
       "    </tr>\n",
       "  </thead>\n",
       "  <tbody>\n",
       "    <tr>\n",
       "      <th>771</th>\n",
       "      <td>C-</td>\n",
       "      <td>NaN</td>\n",
       "      <td>KBEar Neon</td>\n",
       "      <td>50</td>\n",
       "      <td>Neutral</td>\n",
       "      <td>NaN</td>\n",
       "      <td>C+</td>\n",
       "      <td>C-</td>\n",
       "      <td>BA</td>\n",
       "      <td>Available for demo at The Hangout</td>\n",
       "      <td>224</td>\n",
       "      <td>91</td>\n",
       "      <td>133</td>\n",
       "      <td>50</td>\n",
       "    </tr>\n",
       "    <tr>\n",
       "      <th>945</th>\n",
       "      <td>D+</td>\n",
       "      <td>NaN</td>\n",
       "      <td>FiR Xenon 6</td>\n",
       "      <td>3900</td>\n",
       "      <td>Bassy</td>\n",
       "      <td>NaN</td>\n",
       "      <td>D</td>\n",
       "      <td>C</td>\n",
       "      <td>1EST 4BA 1DD</td>\n",
       "      <td>e-Earphone demo unit</td>\n",
       "      <td>294</td>\n",
       "      <td>183</td>\n",
       "      <td>111</td>\n",
       "      <td>3900</td>\n",
       "    </tr>\n",
       "    <tr>\n",
       "      <th>1521</th>\n",
       "      <td>C+</td>\n",
       "      <td>NaN</td>\n",
       "      <td>Final Audio E500</td>\n",
       "      <td>20</td>\n",
       "      <td>Neutral</td>\n",
       "      <td>Very well-balanced though plagued by the usual...</td>\n",
       "      <td>B</td>\n",
       "      <td>C</td>\n",
       "      <td>DD</td>\n",
       "      <td>Personal unit</td>\n",
       "      <td>168</td>\n",
       "      <td>57</td>\n",
       "      <td>111</td>\n",
       "      <td>20</td>\n",
       "    </tr>\n",
       "  </tbody>\n",
       "</table>\n",
       "</div>"
      ],
      "text/plain": [
       "     Rank Value Rating             Model Price (MSRP) Signature  \\\n",
       "771    C-          NaN        KBEar Neon           50   Neutral   \n",
       "945    D+          NaN       FiR Xenon 6         3900     Bassy   \n",
       "1521   C+          NaN  Final Audio E500           20   Neutral   \n",
       "\n",
       "                                               Comments Tone Grade  \\\n",
       "771                                                 NaN         C+   \n",
       "945                                                 NaN          D   \n",
       "1521  Very well-balanced though plagued by the usual...          B   \n",
       "\n",
       "     Technical Grade         Setup                             Status  \\\n",
       "771               C-            BA  Available for demo at The Hangout   \n",
       "945                C  1EST 4BA 1DD               e-Earphone demo unit   \n",
       "1521               C            DD                      Personal unit   \n",
       "\n",
       "     Ranksort Tonesort Techsort Pricesort  \n",
       "771       224       91      133        50  \n",
       "945       294      183      111      3900  \n",
       "1521      168       57      111        20  "
      ]
     },
     "execution_count": 10,
     "metadata": {},
     "output_type": "execute_result"
    }
   ],
   "source": [
    "df=pd.read_csv('crinacle_iem_rankings.csv')\n",
    "df.sample(3)"
   ]
  },
  {
   "cell_type": "markdown",
   "id": "890fd4e8",
   "metadata": {},
   "source": [
    "Change the value of Pricesort column which are discontinued (or remove the column)"
   ]
  },
  {
   "cell_type": "code",
   "execution_count": 9,
   "id": "30a94237",
   "metadata": {},
   "outputs": [
    {
     "data": {
      "text/plain": [
       "Rank                  0\n",
       "Value Rating       1988\n",
       "Model                 0\n",
       "Price (MSRP)          2\n",
       "Signature             2\n",
       "Comments            350\n",
       "Tone Grade            2\n",
       "Technical Grade       2\n",
       "Setup                 8\n",
       "Status               18\n",
       "Ranksort              0\n",
       "Tonesort              0\n",
       "Techsort              0\n",
       "Pricesort             0\n",
       "dtype: int64"
      ]
     },
     "execution_count": 9,
     "metadata": {},
     "output_type": "execute_result"
    }
   ],
   "source": [
    "#check the null values\n",
    "df.isnull().sum()"
   ]
  }
 ],
 "metadata": {
  "kernelspec": {
   "display_name": "myenv (3.13.5)",
   "language": "python",
   "name": "python3"
  },
  "language_info": {
   "codemirror_mode": {
    "name": "ipython",
    "version": 3
   },
   "file_extension": ".py",
   "mimetype": "text/x-python",
   "name": "python",
   "nbconvert_exporter": "python",
   "pygments_lexer": "ipython3",
   "version": "3.13.5"
  }
 },
 "nbformat": 4,
 "nbformat_minor": 5
}
