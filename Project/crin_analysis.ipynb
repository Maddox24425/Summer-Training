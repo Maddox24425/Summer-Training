{
 "cells": [
  {
   "cell_type": "code",
   "execution_count": 3,
   "id": "7b7f3991",
   "metadata": {},
   "outputs": [],
   "source": [
    "import pandas as pd\n",
    "import numpy as np\n",
    "import matplotlib.pyplot as plt\n",
    "import seaborn as sns\n",
    "import warnings"
   ]
  },
  {
   "cell_type": "code",
   "execution_count": 8,
   "id": "0f03379c",
   "metadata": {},
   "outputs": [
    {
     "name": "stderr",
     "output_type": "stream",
     "text": [
      "<>:1: SyntaxWarning: invalid escape sequence '\\D'\n",
      "<>:1: SyntaxWarning: invalid escape sequence '\\D'\n",
      "C:\\Users\\Maddox\\AppData\\Local\\Temp\\ipykernel_272\\4219223726.py:1: SyntaxWarning: invalid escape sequence '\\D'\n",
      "  df = pd.read_csv('D:\\Data Science\\Summer-Training-Project\\Project\\crinacle_iem_rankings.csv')\n"
     ]
    },
    {
     "data": {
      "text/plain": [
       "(2143, 14)"
      ]
     },
     "execution_count": 8,
     "metadata": {},
     "output_type": "execute_result"
    }
   ],
   "source": [
    "df = pd.read_csv('D:\\Data Science\\Summer-Training-Project\\Project\\crinacle_iem_rankings.csv')\n",
    "df.shape"
   ]
  },
  {
   "cell_type": "code",
   "execution_count": 9,
   "id": "7aaa44ef",
   "metadata": {},
   "outputs": [
    {
     "data": {
      "text/plain": [
       "Index(['Rank', 'Value Rating', 'Model', 'Price (MSRP)', 'Signature',\n",
       "       'Comments', 'Tone Grade', 'Technical Grade', 'Setup', 'Status',\n",
       "       'Ranksort', 'Tonesort', 'Techsort', 'Pricesort'],\n",
       "      dtype='object')"
      ]
     },
     "execution_count": 9,
     "metadata": {},
     "output_type": "execute_result"
    }
   ],
   "source": [
    "df.columns"
   ]
  },
  {
   "cell_type": "code",
   "execution_count": 10,
   "id": "1add8388",
   "metadata": {},
   "outputs": [
    {
     "data": {
      "text/plain": [
       "Price (MSRP)\n",
       "Discont.        240\n",
       "200              92\n",
       "500              76\n",
       "300              66\n",
       "100              62\n",
       "               ... \n",
       "510               2\n",
       "7400              2\n",
       "10000             2\n",
       "14                2\n",
       "Price (MSRP)      1\n",
       "Name: count, Length: 173, dtype: int64"
      ]
     },
     "execution_count": 10,
     "metadata": {},
     "output_type": "execute_result"
    }
   ],
   "source": [
    "df['Price (MSRP)'].value_counts()"
   ]
  },
  {
   "cell_type": "code",
   "execution_count": 17,
   "id": "e408a098",
   "metadata": {},
   "outputs": [],
   "source": [
    "# df.groupby(['Signature','Price (MSRP)']).count()"
   ]
  },
  {
   "cell_type": "code",
   "execution_count": null,
   "id": "9f2ec90e",
   "metadata": {},
   "outputs": [
    {
     "name": "stderr",
     "output_type": "stream",
     "text": [
      "C:\\Users\\Maddox\\AppData\\Local\\Temp\\ipykernel_272\\3606397213.py:2: SettingWithCopyWarning: \n",
      "A value is trying to be set on a copy of a slice from a DataFrame.\n",
      "Try using .loc[row_indexer,col_indexer] = value instead\n",
      "\n",
      "See the caveats in the documentation: https://pandas.pydata.org/pandas-docs/stable/user_guide/indexing.html#returning-a-view-versus-a-copy\n",
      "  temp_df['Price (MSRP)'] = pd.to_numeric(temp_df['Price (MSRP)'],errors='coerce')\n"
     ]
    }
   ],
   "source": [
    "temp_df = df[df['Price (MSRP)'] != 'Discont.']\n",
    "temp_df['Price (MSRP)'] = pd.to_numeric(temp_df['Price (MSRP)'],errors='coerce')"
   ]
  },
  {
   "cell_type": "code",
   "execution_count": 51,
   "id": "57964927",
   "metadata": {},
   "outputs": [
    {
     "data": {
      "text/plain": [
       "{'\"Balanced\"': 810.921052631579,\n",
       " 'Bassy': 711.4102564102565,\n",
       " 'Bright': 595.2941176470588,\n",
       " 'Bright U-shape': 995.0,\n",
       " 'Bright V-shape': 492.57575757575756,\n",
       " 'Bright neutral': 825.4761904761905,\n",
       " 'Complete failure': 7.0,\n",
       " 'Dark': 871.2962962962963,\n",
       " 'Dark neutral': 1338.5714285714287,\n",
       " 'Mid-centric': 537.5,\n",
       " 'Mild U-shape': 50.0,\n",
       " 'Mild V-shape': 994.8809523809524,\n",
       " 'Neutral': 638.2842105263157,\n",
       " 'Neutral with bass boost': 892.0,\n",
       " 'Neutral with laid-back treble': 946.0,\n",
       " 'Signature': nan,\n",
       " 'U-shaped': 831.7924528301887,\n",
       " 'Unique': 4291.666666666667,\n",
       " 'V-shaped': 471.7148936170213,\n",
       " 'Variable': 1218.7142857142858,\n",
       " 'W-shaped': 3700.0,\n",
       " 'Warm': 827.1666666666666,\n",
       " 'Warm U-shape': 772.5,\n",
       " 'Warm U-shaped': 1300.0,\n",
       " 'Warm V-shape': 876.76,\n",
       " 'Warm neutral': 785.0}"
      ]
     },
     "execution_count": 51,
     "metadata": {},
     "output_type": "execute_result"
    }
   ],
   "source": [
    "fill_value = temp_df.groupby('Signature')['Price (MSRP)'].mean().to_dict()\n",
    "fill_value"
   ]
  },
  {
   "cell_type": "code",
   "execution_count": 42,
   "id": "e64ff2a6",
   "metadata": {},
   "outputs": [
    {
     "data": {
      "text/html": [
       "<div>\n",
       "<style scoped>\n",
       "    .dataframe tbody tr th:only-of-type {\n",
       "        vertical-align: middle;\n",
       "    }\n",
       "\n",
       "    .dataframe tbody tr th {\n",
       "        vertical-align: top;\n",
       "    }\n",
       "\n",
       "    .dataframe thead th {\n",
       "        text-align: right;\n",
       "    }\n",
       "</style>\n",
       "<table border=\"1\" class=\"dataframe\">\n",
       "  <thead>\n",
       "    <tr style=\"text-align: right;\">\n",
       "      <th></th>\n",
       "      <th>Rank</th>\n",
       "      <th>Value Rating</th>\n",
       "      <th>Model</th>\n",
       "      <th>Price (MSRP)</th>\n",
       "      <th>Signature</th>\n",
       "      <th>Comments</th>\n",
       "      <th>Tone Grade</th>\n",
       "      <th>Technical Grade</th>\n",
       "      <th>Setup</th>\n",
       "      <th>Status</th>\n",
       "      <th>Ranksort</th>\n",
       "      <th>Tonesort</th>\n",
       "      <th>Techsort</th>\n",
       "      <th>Pricesort</th>\n",
       "    </tr>\n",
       "  </thead>\n",
       "  <tbody>\n",
       "    <tr>\n",
       "      <th>11</th>\n",
       "      <td>A</td>\n",
       "      <td>NaN</td>\n",
       "      <td>ThieAudio Monarch</td>\n",
       "      <td>Discont.</td>\n",
       "      <td>Neutral with bass boost</td>\n",
       "      <td>Neutral with bass boost</td>\n",
       "      <td>S-</td>\n",
       "      <td>A</td>\n",
       "      <td>2EST 6BA 1DD</td>\n",
       "      <td>Available for demo at The Hangout</td>\n",
       "      <td>28</td>\n",
       "      <td>7</td>\n",
       "      <td>21</td>\n",
       "      <td>99999</td>\n",
       "    </tr>\n",
       "    <tr>\n",
       "      <th>12</th>\n",
       "      <td>A</td>\n",
       "      <td>NaN</td>\n",
       "      <td>Moondrop S8</td>\n",
       "      <td>Discont.</td>\n",
       "      <td>U-shaped</td>\n",
       "      <td>More faithful to the Harman target compared to...</td>\n",
       "      <td>S-</td>\n",
       "      <td>A</td>\n",
       "      <td>8BA</td>\n",
       "      <td>Oardio demo unit</td>\n",
       "      <td>28</td>\n",
       "      <td>7</td>\n",
       "      <td>21</td>\n",
       "      <td>99999</td>\n",
       "    </tr>\n",
       "    <tr>\n",
       "      <th>18</th>\n",
       "      <td>A</td>\n",
       "      <td>NaN</td>\n",
       "      <td>Moondrop Blessing 2</td>\n",
       "      <td>Discont.</td>\n",
       "      <td>Mild V-shape</td>\n",
       "      <td>Very well tuned from bass to treble, perhaps l...</td>\n",
       "      <td>A+</td>\n",
       "      <td>A</td>\n",
       "      <td>4BA 1DD</td>\n",
       "      <td>Available for demo at The Hangout</td>\n",
       "      <td>34</td>\n",
       "      <td>13</td>\n",
       "      <td>21</td>\n",
       "      <td>99999</td>\n",
       "    </tr>\n",
       "    <tr>\n",
       "      <th>22</th>\n",
       "      <td>A</td>\n",
       "      <td>NaN</td>\n",
       "      <td>DUNU Talos</td>\n",
       "      <td>Discont.</td>\n",
       "      <td>Bright neutral</td>\n",
       "      <td>NaN</td>\n",
       "      <td>A</td>\n",
       "      <td>A</td>\n",
       "      <td>1Planar 2BA</td>\n",
       "      <td>Available for demo at The Hangout</td>\n",
       "      <td>42</td>\n",
       "      <td>21</td>\n",
       "      <td>21</td>\n",
       "      <td>99999</td>\n",
       "    </tr>\n",
       "    <tr>\n",
       "      <th>25</th>\n",
       "      <td>A</td>\n",
       "      <td>NaN</td>\n",
       "      <td>Moondrop A8</td>\n",
       "      <td>Discont.</td>\n",
       "      <td>V-shaped</td>\n",
       "      <td>An odd but surprisingly decent take on the Har...</td>\n",
       "      <td>A</td>\n",
       "      <td>A</td>\n",
       "      <td>8BA</td>\n",
       "      <td>Oardio demo unit</td>\n",
       "      <td>42</td>\n",
       "      <td>21</td>\n",
       "      <td>21</td>\n",
       "      <td>99999</td>\n",
       "    </tr>\n",
       "    <tr>\n",
       "      <th>...</th>\n",
       "      <td>...</td>\n",
       "      <td>...</td>\n",
       "      <td>...</td>\n",
       "      <td>...</td>\n",
       "      <td>...</td>\n",
       "      <td>...</td>\n",
       "      <td>...</td>\n",
       "      <td>...</td>\n",
       "      <td>...</td>\n",
       "      <td>...</td>\n",
       "      <td>...</td>\n",
       "      <td>...</td>\n",
       "      <td>...</td>\n",
       "      <td>...</td>\n",
       "    </tr>\n",
       "    <tr>\n",
       "      <th>2088</th>\n",
       "      <td>D-</td>\n",
       "      <td>NaN</td>\n",
       "      <td>Ambient Acoustics AM16</td>\n",
       "      <td>Discont.</td>\n",
       "      <td>\"Balanced\"</td>\n",
       "      <td>Sounds weird and is completely average in pure...</td>\n",
       "      <td>D-</td>\n",
       "      <td>D+</td>\n",
       "      <td>16BA</td>\n",
       "      <td>Zeppelin &amp; Co demo unit</td>\n",
       "      <td>368</td>\n",
       "      <td>211</td>\n",
       "      <td>157</td>\n",
       "      <td>99999</td>\n",
       "    </tr>\n",
       "    <tr>\n",
       "      <th>2104</th>\n",
       "      <td>D-</td>\n",
       "      <td>NaN</td>\n",
       "      <td>Ocharaku Flat-4 Kaede Type 1</td>\n",
       "      <td>Discont.</td>\n",
       "      <td>Bright V-shape</td>\n",
       "      <td>As with the other Flat-4s, rather weird and im...</td>\n",
       "      <td>D-</td>\n",
       "      <td>D</td>\n",
       "      <td>2DD</td>\n",
       "      <td>Third party unit</td>\n",
       "      <td>394</td>\n",
       "      <td>211</td>\n",
       "      <td>183</td>\n",
       "      <td>99999</td>\n",
       "    </tr>\n",
       "    <tr>\n",
       "      <th>2131</th>\n",
       "      <td>E</td>\n",
       "      <td>NaN</td>\n",
       "      <td>AAW A2H Pro V1</td>\n",
       "      <td>Discont.</td>\n",
       "      <td>Dark</td>\n",
       "      <td>Dead, bloated, congested. Feels like I have to...</td>\n",
       "      <td>D</td>\n",
       "      <td>E</td>\n",
       "      <td>1BA 1DD</td>\n",
       "      <td>Jaben SG demo unit</td>\n",
       "      <td>605</td>\n",
       "      <td>183</td>\n",
       "      <td>422</td>\n",
       "      <td>99999</td>\n",
       "    </tr>\n",
       "    <tr>\n",
       "      <th>2137</th>\n",
       "      <td>E</td>\n",
       "      <td>NaN</td>\n",
       "      <td>VE Monk IE Smalls</td>\n",
       "      <td>Discont.</td>\n",
       "      <td>Dark</td>\n",
       "      <td>Sounds exactly like what would happen if you s...</td>\n",
       "      <td>E</td>\n",
       "      <td>E</td>\n",
       "      <td>DD</td>\n",
       "      <td>Third party unit</td>\n",
       "      <td>844</td>\n",
       "      <td>422</td>\n",
       "      <td>422</td>\n",
       "      <td>99999</td>\n",
       "    </tr>\n",
       "    <tr>\n",
       "      <th>2138</th>\n",
       "      <td>F</td>\n",
       "      <td>NaN</td>\n",
       "      <td>VE Monk IE Biggie</td>\n",
       "      <td>Discont.</td>\n",
       "      <td>Dark</td>\n",
       "      <td>Absolute mud and congestion. Could work as a s...</td>\n",
       "      <td>F</td>\n",
       "      <td>E</td>\n",
       "      <td>DD</td>\n",
       "      <td>Third party unit</td>\n",
       "      <td>1266</td>\n",
       "      <td>844</td>\n",
       "      <td>422</td>\n",
       "      <td>99999</td>\n",
       "    </tr>\n",
       "  </tbody>\n",
       "</table>\n",
       "<p>240 rows × 14 columns</p>\n",
       "</div>"
      ],
      "text/plain": [
       "     Rank Value Rating                         Model Price (MSRP)  \\\n",
       "11      A          NaN             ThieAudio Monarch     Discont.   \n",
       "12      A          NaN                   Moondrop S8     Discont.   \n",
       "18      A          NaN           Moondrop Blessing 2     Discont.   \n",
       "22      A          NaN                    DUNU Talos     Discont.   \n",
       "25      A          NaN                   Moondrop A8     Discont.   \n",
       "...   ...          ...                           ...          ...   \n",
       "2088   D-          NaN        Ambient Acoustics AM16     Discont.   \n",
       "2104   D-          NaN  Ocharaku Flat-4 Kaede Type 1     Discont.   \n",
       "2131    E          NaN                AAW A2H Pro V1     Discont.   \n",
       "2137    E          NaN             VE Monk IE Smalls     Discont.   \n",
       "2138    F          NaN             VE Monk IE Biggie     Discont.   \n",
       "\n",
       "                    Signature  \\\n",
       "11    Neutral with bass boost   \n",
       "12                   U-shaped   \n",
       "18               Mild V-shape   \n",
       "22             Bright neutral   \n",
       "25                   V-shaped   \n",
       "...                       ...   \n",
       "2088               \"Balanced\"   \n",
       "2104           Bright V-shape   \n",
       "2131                     Dark   \n",
       "2137                     Dark   \n",
       "2138                     Dark   \n",
       "\n",
       "                                               Comments Tone Grade  \\\n",
       "11                              Neutral with bass boost         S-   \n",
       "12    More faithful to the Harman target compared to...         S-   \n",
       "18    Very well tuned from bass to treble, perhaps l...         A+   \n",
       "22                                                  NaN          A   \n",
       "25    An odd but surprisingly decent take on the Har...          A   \n",
       "...                                                 ...        ...   \n",
       "2088  Sounds weird and is completely average in pure...         D-   \n",
       "2104  As with the other Flat-4s, rather weird and im...         D-   \n",
       "2131  Dead, bloated, congested. Feels like I have to...          D   \n",
       "2137  Sounds exactly like what would happen if you s...          E   \n",
       "2138  Absolute mud and congestion. Could work as a s...          F   \n",
       "\n",
       "     Technical Grade         Setup                             Status  \\\n",
       "11                 A  2EST 6BA 1DD  Available for demo at The Hangout   \n",
       "12                 A           8BA                   Oardio demo unit   \n",
       "18                 A       4BA 1DD  Available for demo at The Hangout   \n",
       "22                 A   1Planar 2BA  Available for demo at The Hangout   \n",
       "25                 A           8BA                   Oardio demo unit   \n",
       "...              ...           ...                                ...   \n",
       "2088              D+          16BA            Zeppelin & Co demo unit   \n",
       "2104               D           2DD                   Third party unit   \n",
       "2131               E       1BA 1DD                 Jaben SG demo unit   \n",
       "2137               E            DD                   Third party unit   \n",
       "2138               E            DD                   Third party unit   \n",
       "\n",
       "     Ranksort Tonesort Techsort Pricesort  \n",
       "11         28        7       21     99999  \n",
       "12         28        7       21     99999  \n",
       "18         34       13       21     99999  \n",
       "22         42       21       21     99999  \n",
       "25         42       21       21     99999  \n",
       "...       ...      ...      ...       ...  \n",
       "2088      368      211      157     99999  \n",
       "2104      394      211      183     99999  \n",
       "2131      605      183      422     99999  \n",
       "2137      844      422      422     99999  \n",
       "2138     1266      844      422     99999  \n",
       "\n",
       "[240 rows x 14 columns]"
      ]
     },
     "execution_count": 42,
     "metadata": {},
     "output_type": "execute_result"
    }
   ],
   "source": [
    "df[df['Price (MSRP)'] == 'Discont.']"
   ]
  },
  {
   "cell_type": "code",
   "execution_count": 48,
   "id": "1a18db20",
   "metadata": {},
   "outputs": [],
   "source": [
    "# df[df['Price (MSRP)'] == 'Discont.']['Signature'].to_dict()"
   ]
  },
  {
   "cell_type": "code",
   "execution_count": 52,
   "id": "f10176b6",
   "metadata": {},
   "outputs": [],
   "source": [
    "temp_dict = df[df['Price (MSRP)'] == 'Discont.']['Signature'].to_dict()"
   ]
  },
  {
   "cell_type": "code",
   "execution_count": 55,
   "id": "e7dbc9e2",
   "metadata": {},
   "outputs": [],
   "source": [
    "for i in temp_dict:\n",
    "    try:\n",
    "        # print(temp_dict[i],fill_value[temp_dict[i]])\n",
    "        price_value =fill_value[temp_dict[i]]\n",
    "        df.loc[i,'Price (MSRP)'] = price_value\n",
    "    except:\n",
    "        pass"
   ]
  },
  {
   "cell_type": "code",
   "execution_count": 58,
   "id": "91d4386f",
   "metadata": {},
   "outputs": [],
   "source": [
    "df['Price (MSRP)'].fillna(0,inplace = True)\n",
    "df['Price (MSRP)'] = pd.to_numeric(df['Price (MSRP)'],errors='coerce')"
   ]
  },
  {
   "cell_type": "code",
   "execution_count": null,
   "id": "331257cd",
   "metadata": {},
   "outputs": [
    {
     "data": {
      "text/plain": [
       "<Axes: ylabel='Frequency'>"
      ]
     },
     "execution_count": 60,
     "metadata": {},
     "output_type": "execute_result"
    },
    {
     "data": {
      "image/png": "[encoded data removed]",
      "text/plain": [
       "<Figure size 640x480 with 1 Axes>"
      ]
     },
     "metadata": {},
     "output_type": "display_data"
    }
   ],
   "source": [
    "df['Price (MSRP)']"
   ]
  },
  {
   "cell_type": "code",
   "execution_count": null,
   "id": "5e506bb3",
   "metadata": {},
   "outputs": [
    {
     "data": {
      "text/plain": [
       "{'S-': 0,\n",
       " 'A+': 1,\n",
       " 'A': 2,\n",
       " 'A-': 3,\n",
       " 'B+': 4,\n",
       " 'B': 5,\n",
       " 'B-': 6,\n",
       " 'C+': 7,\n",
       " 'C': 8,\n",
       " 'C-': 9,\n",
       " 'D+': 10,\n",
       " 'D': 11,\n",
       " 'D-': 12,\n",
       " 'E': 13,\n",
       " 'F': 14,\n",
       " 'DQ': 15,\n",
       " 'Rank': 16}"
      ]
     },
     "execution_count": 23,
     "metadata": {},
     "output_type": "execute_result"
    }
   ],
   "source": [
    "df['Rank'].unique()\n",
    "oe = dict(zip(df['Rank'].unique(),range(len(df['Rank'].unique()))))\n",
    "oe"
   ]
  },
  {
   "cell_type": "code",
   "execution_count": null,
   "id": "428adadf",
   "metadata": {},
   "outputs": [
    {
     "data": {
      "text/plain": [
       "8.0     494\n",
       "7.0     338\n",
       "9.0     284\n",
       "6.0     238\n",
       "5.0     182\n",
       "10.0    140\n",
       "4.0     116\n",
       "11.0     94\n",
       "3.0      76\n",
       "12.0     66\n",
       "13.0     48\n",
       "2.0      34\n",
       "1.0      16\n",
       "14.0      8\n",
       "0.0       6\n",
       "15.0      2\n",
       "16.0      1\n",
       "Name: count, dtype: int64"
      ]
     },
     "execution_count": 26,
     "metadata": {},
     "output_type": "execute_result"
    }
   ],
   "source": [
    "from sklearn.preprocessing import OrdinalEncoder\n",
    "OE = OrdinalEncoder(categories=[list(df['Rank'].unique())])\n",
    "pd.Series(OE.fit_transform(df[['Rank']]).flatten()).value_counts()"
   ]
  },
  {
   "cell_type": "code",
   "execution_count": null,
   "id": "95699558",
   "metadata": {},
   "outputs": [
    {
     "data": {
      "text/plain": [
       "Rank\n",
       "8     494\n",
       "7     338\n",
       "9     284\n",
       "6     238\n",
       "5     182\n",
       "10    140\n",
       "4     116\n",
       "11     94\n",
       "3      76\n",
       "12     66\n",
       "13     48\n",
       "2      34\n",
       "1      16\n",
       "14      8\n",
       "0       6\n",
       "15      2\n",
       "16      1\n",
       "Name: count, dtype: int64"
      ]
     },
     "execution_count": 25,
     "metadata": {},
     "output_type": "execute_result"
    }
   ],
   "source": [
    "df['Rank'].map(oe).value_counts()"
   ]
  },
  {
   "cell_type": "markdown",
   "id": "890fd4e8",
   "metadata": {},
   "source": [
    "Change the value of Pricesort column which are discontinued (or remove the column)"
   ]
  },
  {
   "cell_type": "code",
   "execution_count": null,
   "id": "30a94237",
   "metadata": {},
   "outputs": [
    {
     "data": {
      "text/plain": [
       "Rank                  0\n",
       "Value Rating       1988\n",
       "Model                 0\n",
       "Price (MSRP)          2\n",
       "Signature             2\n",
       "Comments            350\n",
       "Tone Grade            2\n",
       "Technical Grade       2\n",
       "Setup                 8\n",
       "Status               18\n",
       "Ranksort              0\n",
       "Tonesort              0\n",
       "Techsort              0\n",
       "Pricesort             0\n",
       "dtype: int64"
      ]
     },
     "execution_count": 4,
     "metadata": {},
     "output_type": "execute_result"
    }
   ],
   "source": [
    "#check the null values\n",
    "df.isnull().sum()"
   ]
  }
 ],
 "metadata": {
  "kernelspec": {
   "display_name": "myenv (3.13.5)",
   "language": "python",
   "name": "python3"
  },
  "language_info": {
   "codemirror_mode": {
    "name": "ipython",
    "version": 3
   },
   "file_extension": ".py",
   "mimetype": "text/x-python",
   "name": "python",
   "nbconvert_exporter": "python",
   "pygments_lexer": "ipython3",
   "version": "3.13.5"
  }
 },
 "nbformat": 4,
 "nbformat_minor": 5
}
