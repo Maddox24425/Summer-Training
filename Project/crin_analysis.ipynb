{
 "cells": [
  {
   "cell_type": "code",
   "execution_count": 2,
   "id": "7b7f3991",
   "metadata": {},
   "outputs": [],
   "source": [
    "import pandas as pd\n",
    "import numpy as np\n",
    "import matplotlib.pyplot as plt\n",
    "import seaborn as sns\n",
    "import warnings"
   ]
  },
  {
   "cell_type": "code",
   "execution_count": 32,
   "id": "91d4386f",
   "metadata": {},
   "outputs": [
    {
     "data": {
      "text/html": [
       "<div>\n",
       "<style scoped>\n",
       "    .dataframe tbody tr th:only-of-type {\n",
       "        vertical-align: middle;\n",
       "    }\n",
       "\n",
       "    .dataframe tbody tr th {\n",
       "        vertical-align: top;\n",
       "    }\n",
       "\n",
       "    .dataframe thead th {\n",
       "        text-align: right;\n",
       "    }\n",
       "</style>\n",
       "<table border=\"1\" class=\"dataframe\">\n",
       "  <thead>\n",
       "    <tr style=\"text-align: right;\">\n",
       "      <th></th>\n",
       "      <th>Rank</th>\n",
       "      <th>Value Rating</th>\n",
       "      <th>Model</th>\n",
       "      <th>Price (MSRP)</th>\n",
       "      <th>Signature</th>\n",
       "      <th>Comments</th>\n",
       "      <th>Tone Grade</th>\n",
       "      <th>Technical Grade</th>\n",
       "      <th>Setup</th>\n",
       "      <th>Status</th>\n",
       "      <th>Ranksort</th>\n",
       "      <th>Tonesort</th>\n",
       "      <th>Techsort</th>\n",
       "      <th>Pricesort</th>\n",
       "    </tr>\n",
       "  </thead>\n",
       "  <tbody>\n",
       "    <tr>\n",
       "      <th>11</th>\n",
       "      <td>A</td>\n",
       "      <td>NaN</td>\n",
       "      <td>ThieAudio Monarch</td>\n",
       "      <td>Discont.</td>\n",
       "      <td>Neutral with bass boost</td>\n",
       "      <td>Neutral with bass boost</td>\n",
       "      <td>S-</td>\n",
       "      <td>A</td>\n",
       "      <td>2EST 6BA 1DD</td>\n",
       "      <td>Available for demo at The Hangout</td>\n",
       "      <td>28</td>\n",
       "      <td>7</td>\n",
       "      <td>21</td>\n",
       "      <td>99999</td>\n",
       "    </tr>\n",
       "  </tbody>\n",
       "</table>\n",
       "</div>"
      ],
      "text/plain": [
       "   Rank Value Rating              Model Price (MSRP)                Signature  \\\n",
       "11    A          NaN  ThieAudio Monarch     Discont.  Neutral with bass boost   \n",
       "\n",
       "                   Comments Tone Grade Technical Grade         Setup  \\\n",
       "11  Neutral with bass boost         S-               A  2EST 6BA 1DD   \n",
       "\n",
       "                               Status Ranksort Tonesort Techsort Pricesort  \n",
       "11  Available for demo at The Hangout       28        7       21     99999  "
      ]
     },
     "metadata": {},
     "output_type": "display_data"
    },
    {
     "data": {
      "text/html": [
       "<div>\n",
       "<style scoped>\n",
       "    .dataframe tbody tr th:only-of-type {\n",
       "        vertical-align: middle;\n",
       "    }\n",
       "\n",
       "    .dataframe tbody tr th {\n",
       "        vertical-align: top;\n",
       "    }\n",
       "\n",
       "    .dataframe thead th {\n",
       "        text-align: right;\n",
       "    }\n",
       "</style>\n",
       "<table border=\"1\" class=\"dataframe\">\n",
       "  <thead>\n",
       "    <tr style=\"text-align: right;\">\n",
       "      <th></th>\n",
       "      <th>Rank</th>\n",
       "      <th>Value Rating</th>\n",
       "      <th>Model</th>\n",
       "      <th>Price (MSRP)</th>\n",
       "      <th>Signature</th>\n",
       "      <th>Comments</th>\n",
       "      <th>Tone Grade</th>\n",
       "      <th>Technical Grade</th>\n",
       "      <th>Setup</th>\n",
       "      <th>Status</th>\n",
       "      <th>Ranksort</th>\n",
       "      <th>Tonesort</th>\n",
       "      <th>Techsort</th>\n",
       "      <th>Pricesort</th>\n",
       "    </tr>\n",
       "  </thead>\n",
       "  <tbody>\n",
       "    <tr>\n",
       "      <th>0</th>\n",
       "      <td>S-</td>\n",
       "      <td>★</td>\n",
       "      <td>Elysian Annihilator (2021)</td>\n",
       "      <td>3700</td>\n",
       "      <td>U-shaped</td>\n",
       "      <td>NaN</td>\n",
       "      <td>S-</td>\n",
       "      <td>S</td>\n",
       "      <td>2EST 4BA 1DD</td>\n",
       "      <td>Zeppelin &amp; Co demo unit</td>\n",
       "      <td>10</td>\n",
       "      <td>7</td>\n",
       "      <td>3</td>\n",
       "      <td>3700</td>\n",
       "    </tr>\n",
       "  </tbody>\n",
       "</table>\n",
       "</div>"
      ],
      "text/plain": [
       "  Rank Value Rating                       Model Price (MSRP) Signature  \\\n",
       "0   S-            ★  Elysian Annihilator (2021)         3700  U-shaped   \n",
       "\n",
       "  Comments Tone Grade Technical Grade         Setup                   Status  \\\n",
       "0      NaN         S-               S  2EST 4BA 1DD  Zeppelin & Co demo unit   \n",
       "\n",
       "  Ranksort Tonesort Techsort Pricesort  \n",
       "0       10        7        3      3700  "
      ]
     },
     "execution_count": 32,
     "metadata": {},
     "output_type": "execute_result"
    }
   ],
   "source": [
    "df=pd.read_csv('crinacle_iem_rankings.csv')\n",
    "df.sample(5)\n",
    "display(df[df['Price (MSRP)']=='Discont.'].head(1))\n",
    "df[df['Price (MSRP)']!='Discont.'].head(1)"
   ]
  },
  {
   "cell_type": "code",
   "execution_count": 23,
   "id": "5e506bb3",
   "metadata": {},
   "outputs": [
    {
     "data": {
      "text/plain": [
       "{'S-': 0,\n",
       " 'A+': 1,\n",
       " 'A': 2,\n",
       " 'A-': 3,\n",
       " 'B+': 4,\n",
       " 'B': 5,\n",
       " 'B-': 6,\n",
       " 'C+': 7,\n",
       " 'C': 8,\n",
       " 'C-': 9,\n",
       " 'D+': 10,\n",
       " 'D': 11,\n",
       " 'D-': 12,\n",
       " 'E': 13,\n",
       " 'F': 14,\n",
       " 'DQ': 15,\n",
       " 'Rank': 16}"
      ]
     },
     "execution_count": 23,
     "metadata": {},
     "output_type": "execute_result"
    }
   ],
   "source": [
    "df['Rank'].unique()\n",
    "oe = dict(zip(df['Rank'].unique(),range(len(df['Rank'].unique()))))\n",
    "oe"
   ]
  },
  {
   "cell_type": "code",
   "execution_count": 26,
   "id": "428adadf",
   "metadata": {},
   "outputs": [
    {
     "data": {
      "text/plain": [
       "8.0     494\n",
       "7.0     338\n",
       "9.0     284\n",
       "6.0     238\n",
       "5.0     182\n",
       "10.0    140\n",
       "4.0     116\n",
       "11.0     94\n",
       "3.0      76\n",
       "12.0     66\n",
       "13.0     48\n",
       "2.0      34\n",
       "1.0      16\n",
       "14.0      8\n",
       "0.0       6\n",
       "15.0      2\n",
       "16.0      1\n",
       "Name: count, dtype: int64"
      ]
     },
     "execution_count": 26,
     "metadata": {},
     "output_type": "execute_result"
    }
   ],
   "source": [
    "from sklearn.preprocessing import OrdinalEncoder\n",
    "OE = OrdinalEncoder(categories=[list(df['Rank'].unique())])\n",
    "pd.Series(OE.fit_transform(df[['Rank']]).flatten()).value_counts()"
   ]
  },
  {
   "cell_type": "code",
   "execution_count": 25,
   "id": "95699558",
   "metadata": {},
   "outputs": [
    {
     "data": {
      "text/plain": [
       "Rank\n",
       "8     494\n",
       "7     338\n",
       "9     284\n",
       "6     238\n",
       "5     182\n",
       "10    140\n",
       "4     116\n",
       "11     94\n",
       "3      76\n",
       "12     66\n",
       "13     48\n",
       "2      34\n",
       "1      16\n",
       "14      8\n",
       "0       6\n",
       "15      2\n",
       "16      1\n",
       "Name: count, dtype: int64"
      ]
     },
     "execution_count": 25,
     "metadata": {},
     "output_type": "execute_result"
    }
   ],
   "source": [
    "df['Rank'].map(oe).value_counts()"
   ]
  },
  {
   "cell_type": "markdown",
   "id": "890fd4e8",
   "metadata": {},
   "source": [
    "Change the value of Pricesort column which are discontinued (or remove the column)"
   ]
  },
  {
   "cell_type": "code",
   "execution_count": 4,
   "id": "30a94237",
   "metadata": {},
   "outputs": [
    {
     "data": {
      "text/plain": [
       "Rank                  0\n",
       "Value Rating       1988\n",
       "Model                 0\n",
       "Price (MSRP)          2\n",
       "Signature             2\n",
       "Comments            350\n",
       "Tone Grade            2\n",
       "Technical Grade       2\n",
       "Setup                 8\n",
       "Status               18\n",
       "Ranksort              0\n",
       "Tonesort              0\n",
       "Techsort              0\n",
       "Pricesort             0\n",
       "dtype: int64"
      ]
     },
     "execution_count": 4,
     "metadata": {},
     "output_type": "execute_result"
    }
   ],
   "source": [
    "#check the null values\n",
    "df.isnull().sum()"
   ]
  }
 ],
 "metadata": {
  "kernelspec": {
   "display_name": "myenv (3.13.5)",
   "language": "python",
   "name": "python3"
  },
  "language_info": {
   "codemirror_mode": {
    "name": "ipython",
    "version": 3
   },
   "file_extension": ".py",
   "mimetype": "text/x-python",
   "name": "python",
   "nbconvert_exporter": "python",
   "pygments_lexer": "ipython3",
   "version": "3.13.5"
  }
 },
 "nbformat": 4,
 "nbformat_minor": 5
}
