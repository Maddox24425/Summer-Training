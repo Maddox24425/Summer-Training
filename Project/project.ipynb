{
 "cells": [
  {
   "cell_type": "code",
   "execution_count": 20,
   "id": "a79ad1fd",
   "metadata": {},
   "outputs": [],
   "source": [
    "import kagglehub\n",
    "import os\n",
    "import pandas as pd \n",
    "import numpy as np\n",
    "import matplotlib.pyplot as plt\n",
    "import seaborn as sns\n",
    "import warnings"
   ]
  },
  {
   "cell_type": "code",
   "execution_count": 21,
   "id": "f9e96fbb",
   "metadata": {},
   "outputs": [
    {
     "name": "stdout",
     "output_type": "stream",
     "text": [
      "Path to dataset files: C:\\Users\\Maddox\\.cache\\kagglehub\\datasets\\kanchana1990\\steam-store-2024-hot-picks-and-reviews\\versions\\1\n"
     ]
    }
   ],
   "source": [
    "path = kagglehub.dataset_download(\"kanchana1990/steam-store-2024-hot-picks-and-reviews\")\n",
    "\n",
    "print(\"Path to dataset files:\", path)"
   ]
  },
  {
   "cell_type": "code",
   "execution_count": 22,
   "id": "b5806f1b",
   "metadata": {},
   "outputs": [
    {
     "data": {
      "text/plain": [
       "'C:\\\\Users\\\\Maddox\\\\.cache\\\\kagglehub\\\\datasets\\\\kanchana1990\\\\steam-store-2024-hot-picks-and-reviews\\\\versions\\\\1/steam_store_data_2024.csv'"
      ]
     },
     "execution_count": 22,
     "metadata": {},
     "output_type": "execute_result"
    }
   ],
   "source": [
    "all_file=os.listdir(path)\n",
    "file_1=all_file\n",
    "\n",
    "\n",
    "file_path=path + '/'+ all_file[0]\n",
    "file_path"
   ]
  },
  {
   "cell_type": "markdown",
   "id": "d79c0289",
   "metadata": {},
   "source": [
    "import csv file as dataframe"
   ]
  },
  {
   "cell_type": "code",
   "execution_count": 23,
   "id": "01c09def",
   "metadata": {},
   "outputs": [
    {
     "data": {
      "text/html": [
       "<div>\n",
       "<style scoped>\n",
       "    .dataframe tbody tr th:only-of-type {\n",
       "        vertical-align: middle;\n",
       "    }\n",
       "\n",
       "    .dataframe tbody tr th {\n",
       "        vertical-align: top;\n",
       "    }\n",
       "\n",
       "    .dataframe thead th {\n",
       "        text-align: right;\n",
       "    }\n",
       "</style>\n",
       "<table border=\"1\" class=\"dataframe\">\n",
       "  <thead>\n",
       "    <tr style=\"text-align: right;\">\n",
       "      <th></th>\n",
       "      <th>title</th>\n",
       "      <th>description</th>\n",
       "      <th>price</th>\n",
       "      <th>salePercentage</th>\n",
       "      <th>recentReviews</th>\n",
       "      <th>allReviews</th>\n",
       "    </tr>\n",
       "  </thead>\n",
       "  <tbody>\n",
       "    <tr>\n",
       "      <th>0</th>\n",
       "      <td>Ori and the Will of the Wisps</td>\n",
       "      <td>Play the critically acclaimed masterpiece. Emb...</td>\n",
       "      <td>$9.89</td>\n",
       "      <td>-67%</td>\n",
       "      <td>Overwhelmingly Positive</td>\n",
       "      <td>Overwhelmingly Positive</td>\n",
       "    </tr>\n",
       "    <tr>\n",
       "      <th>1</th>\n",
       "      <td>Flashing Lights - Police, Firefighting, Emerge...</td>\n",
       "      <td>Play solo or in up to 10-player multiplayer co...</td>\n",
       "      <td>$8.49</td>\n",
       "      <td>-66%</td>\n",
       "      <td>Very Positive</td>\n",
       "      <td>Very Positive</td>\n",
       "    </tr>\n",
       "    <tr>\n",
       "      <th>2</th>\n",
       "      <td>Thronefall</td>\n",
       "      <td>A minimalist game about building and defending...</td>\n",
       "      <td>$5.24</td>\n",
       "      <td>-25%</td>\n",
       "      <td>Overwhelmingly Positive</td>\n",
       "      <td>Overwhelmingly Positive</td>\n",
       "    </tr>\n",
       "    <tr>\n",
       "      <th>3</th>\n",
       "      <td>DRAGON QUEST® XI S: Echoes of an Elusive Age™ ...</td>\n",
       "      <td>The Definitive Edition includes the critically...</td>\n",
       "      <td>$23.99</td>\n",
       "      <td>-40%</td>\n",
       "      <td>Very Positive</td>\n",
       "      <td>Very Positive</td>\n",
       "    </tr>\n",
       "    <tr>\n",
       "      <th>4</th>\n",
       "      <td>UNDYING</td>\n",
       "      <td>As Anling’s zombie infection sets in, her days...</td>\n",
       "      <td>$13.99</td>\n",
       "      <td>-30%</td>\n",
       "      <td>Mostly Positive</td>\n",
       "      <td>Mostly Positive</td>\n",
       "    </tr>\n",
       "  </tbody>\n",
       "</table>\n",
       "</div>"
      ],
      "text/plain": [
       "                                               title  \\\n",
       "0                      Ori and the Will of the Wisps   \n",
       "1  Flashing Lights - Police, Firefighting, Emerge...   \n",
       "2                                         Thronefall   \n",
       "3  DRAGON QUEST® XI S: Echoes of an Elusive Age™ ...   \n",
       "4                                            UNDYING   \n",
       "\n",
       "                                         description   price salePercentage  \\\n",
       "0  Play the critically acclaimed masterpiece. Emb...   $9.89           -67%   \n",
       "1  Play solo or in up to 10-player multiplayer co...   $8.49           -66%   \n",
       "2  A minimalist game about building and defending...   $5.24           -25%   \n",
       "3  The Definitive Edition includes the critically...  $23.99           -40%   \n",
       "4  As Anling’s zombie infection sets in, her days...  $13.99           -30%   \n",
       "\n",
       "             recentReviews               allReviews  \n",
       "0  Overwhelmingly Positive  Overwhelmingly Positive  \n",
       "1            Very Positive            Very Positive  \n",
       "2  Overwhelmingly Positive  Overwhelmingly Positive  \n",
       "3            Very Positive            Very Positive  \n",
       "4          Mostly Positive          Mostly Positive  "
      ]
     },
     "execution_count": 23,
     "metadata": {},
     "output_type": "execute_result"
    }
   ],
   "source": [
    "df_steam= pd.read_csv(file_path)\n",
    "df_steam.head()"
   ]
  },
  {
   "cell_type": "code",
   "execution_count": 24,
   "id": "6a106d77",
   "metadata": {},
   "outputs": [
    {
     "name": "stdout",
     "output_type": "stream",
     "text": [
      "Shape of the dataset\n",
      "(86, 6)\n",
      "First 5 rows of the dataset\n",
      "                                               title  \\\n",
      "0                      Ori and the Will of the Wisps   \n",
      "1  Flashing Lights - Police, Firefighting, Emerge...   \n",
      "2                                         Thronefall   \n",
      "3  DRAGON QUEST® XI S: Echoes of an Elusive Age™ ...   \n",
      "4                                            UNDYING   \n",
      "\n",
      "                                         description   price salePercentage  \\\n",
      "0  Play the critically acclaimed masterpiece. Emb...   $9.89           -67%   \n",
      "1  Play solo or in up to 10-player multiplayer co...   $8.49           -66%   \n",
      "2  A minimalist game about building and defending...   $5.24           -25%   \n",
      "3  The Definitive Edition includes the critically...  $23.99           -40%   \n",
      "4  As Anling’s zombie infection sets in, her days...  $13.99           -30%   \n",
      "\n",
      "             recentReviews               allReviews  \n",
      "0  Overwhelmingly Positive  Overwhelmingly Positive  \n",
      "1            Very Positive            Very Positive  \n",
      "2  Overwhelmingly Positive  Overwhelmingly Positive  \n",
      "3            Very Positive            Very Positive  \n",
      "4          Mostly Positive          Mostly Positive  \n",
      "Last 5 rows of the dataset\n",
      "                                                title  \\\n",
      "81                         Bendy and the Dark Revival   \n",
      "82  STAR WARS™ - The Force Unleashed™ Ultimate Sit...   \n",
      "83                                           Thymesia   \n",
      "84                                    Last Train Home   \n",
      "85                                         Fallout 76   \n",
      "\n",
      "                                          description   price salePercentage  \\\n",
      "81  Bendy and the Dark Revival® is a first-person ...   $5.99           -80%   \n",
      "82  A game that will show gamers the deepest, dark...   $6.99           -65%   \n",
      "83  Thymesia is a gruelling action-RPG with fast-p...  $14.99           -40%   \n",
      "84  The Great War is over - the fight continues. C...  $26.39           -34%   \n",
      "85  Bethesda Game Studios welcome you to Fallout 7...   $9.99           -75%   \n",
      "\n",
      "      recentReviews       allReviews  \n",
      "81    Very Positive    Very Positive  \n",
      "82    Very Positive    Very Positive  \n",
      "83    Very Positive    Very Positive  \n",
      "84    Very Positive    Very Positive  \n",
      "85  Mostly Positive  Mostly Positive  \n",
      "Columns in the dataset\n",
      "Index(['title', 'description', 'price', 'salePercentage', 'recentReviews',\n",
      "       'allReviews'],\n",
      "      dtype='object')\n",
      "<class 'pandas.core.frame.DataFrame'>\n",
      "RangeIndex: 86 entries, 0 to 85\n",
      "Data columns (total 6 columns):\n",
      " #   Column          Non-Null Count  Dtype \n",
      "---  ------          --------------  ----- \n",
      " 0   title           86 non-null     object\n",
      " 1   description     82 non-null     object\n",
      " 2   price           61 non-null     object\n",
      " 3   salePercentage  59 non-null     object\n",
      " 4   recentReviews   57 non-null     object\n",
      " 5   allReviews      57 non-null     object\n",
      "dtypes: object(6)\n",
      "memory usage: 4.2+ KB\n",
      "None\n"
     ]
    }
   ],
   "source": [
    "#Checking some characteristics of the data\n",
    "print(f\"Shape of the dataset\\n{df_steam.shape}\")\n",
    "print(f\"First 5 rows of the dataset\\n{df_steam.head()}\")\n",
    "print(f\"Last 5 rows of the dataset\\n{df_steam.tail()}\")\n",
    "print(f\"Columns in the dataset\\n{df_steam.columns}\")\n",
    "print(df_steam.info())\n"
   ]
  },
  {
   "cell_type": "code",
   "execution_count": 25,
   "id": "d59115c8",
   "metadata": {},
   "outputs": [
    {
     "name": "stdout",
     "output_type": "stream",
     "text": [
      "Null values in the dataset:\n",
      "title              0\n",
      "description        4\n",
      "price             25\n",
      "salePercentage    27\n",
      "recentReviews     29\n",
      "allReviews        29\n",
      "dtype: int64\n"
     ]
    }
   ],
   "source": [
    "#checking null values in the dataset\n",
    "print(f\"Null values in the dataset:\\n{df_steam.isnull().sum()}\")"
   ]
  },
  {
   "cell_type": "markdown",
   "id": "c40db545",
   "metadata": {},
   "source": [
    "Treating Sale Percentage"
   ]
  },
  {
   "cell_type": "code",
   "execution_count": 26,
   "id": "3c4cc93f",
   "metadata": {},
   "outputs": [
    {
     "data": {
      "text/plain": [
       "title              0\n",
       "description        4\n",
       "price             25\n",
       "salePercentage     0\n",
       "recentReviews     29\n",
       "allReviews        29\n",
       "dtype: int64"
      ]
     },
     "execution_count": 26,
     "metadata": {},
     "output_type": "execute_result"
    }
   ],
   "source": [
    "#i'll assume that null value for salePercentage means the game was never in sale\n",
    "df_steam['salePercentage'].fillna(0, inplace=True)\n",
    "df_steam.isnull().sum()"
   ]
  },
  {
   "cell_type": "markdown",
   "id": "5d3ee708",
   "metadata": {},
   "source": [
    "Treating price column now"
   ]
  },
  {
   "cell_type": "code",
   "execution_count": 27,
   "id": "83f2c4f5",
   "metadata": {},
   "outputs": [
    {
     "name": "stdout",
     "output_type": "stream",
     "text": [
      "object\n"
     ]
    },
    {
     "data": {
      "text/plain": [
       "0     9.89\n",
       "1     8.49\n",
       "2     5.24\n",
       "3    23.99\n",
       "4    13.99\n",
       "Name: price, dtype: float64"
      ]
     },
     "metadata": {},
     "output_type": "display_data"
    },
    {
     "data": {
      "text/plain": [
       "title              0\n",
       "description        4\n",
       "price              0\n",
       "salePercentage     0\n",
       "recentReviews     29\n",
       "allReviews        29\n",
       "dtype: int64"
      ]
     },
     "execution_count": 27,
     "metadata": {},
     "output_type": "execute_result"
    }
   ],
   "source": [
    "# median_price=df_steam['price'].median() \n",
    "#This is just giving an error because price has $ sign in it, so we need to remove that first\n",
    "warnings.filterwarnings(\"ignore\")\n",
    "print(df_steam['price'].dtype) #It was object :/ damn it\n",
    "df_steam['price']=df_steam['price'].replace({'\\$': '', ',': ''}, regex=True).astype(float)\n",
    "median_price=df_steam['price'].median()\n",
    "df_steam['price'].fillna(median_price,inplace=True)\n",
    "display(df_steam['price'].head())\n",
    "df_steam.isnull().sum()"
   ]
  },
  {
   "cell_type": "markdown",
   "id": "a35aea80",
   "metadata": {},
   "source": [
    "Treating reviews and description"
   ]
  },
  {
   "cell_type": "code",
   "execution_count": 28,
   "id": "5c1ba577",
   "metadata": {},
   "outputs": [
    {
     "name": "stdout",
     "output_type": "stream",
     "text": [
      "title             0\n",
      "description       0\n",
      "price             0\n",
      "salePercentage    0\n",
      "recentReviews     0\n",
      "allReviews        0\n",
      "dtype: int64\n"
     ]
    }
   ],
   "source": [
    "\n",
    "df_steam[['recentReviews','allReviews']]=df_steam[['recentReviews','allReviews']].fillna('No Reviews')\n",
    "df_steam[['description']]=df_steam[['description']].fillna('No Description')\n",
    "print(df_steam.isnull().sum())"
   ]
  },
  {
   "cell_type": "markdown",
   "id": "30b966e2",
   "metadata": {},
   "source": [
    "Now we'll check duplicated values "
   ]
  }
 ],
 "metadata": {
  "kernelspec": {
   "display_name": "myenv (3.13.5)",
   "language": "python",
   "name": "python3"
  },
  "language_info": {
   "codemirror_mode": {
    "name": "ipython",
    "version": 3
   },
   "file_extension": ".py",
   "mimetype": "text/x-python",
   "name": "python",
   "nbconvert_exporter": "python",
   "pygments_lexer": "ipython3",
   "version": "3.13.5"
  }
 },
 "nbformat": 4,
 "nbformat_minor": 5
}
