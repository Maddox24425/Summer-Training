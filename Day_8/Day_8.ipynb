{
 "cells": [
  {
   "cell_type": "markdown",
   "id": "3e94b1e7",
   "metadata": {},
   "source": [
    "Web Scrapping & Database connection"
   ]
  },
  {
   "cell_type": "code",
   "execution_count": null,
   "id": "e2effa33",
   "metadata": {},
   "outputs": [
    {
     "data": {
      "text/plain": [
       "<Response [200]>"
      ]
     },
     "execution_count": 2,
     "metadata": {},
     "output_type": "execute_result"
    }
   ],
   "source": [
    "import requests as r\n",
    "url=\"https://en.wikipedia.org/wiki/List_of_Indians_by_net_worth\"\n",
    "r.get(url)"
   ]
  }
 ],
 "metadata": {
  "kernelspec": {
   "display_name": "myenv",
   "language": "python",
   "name": "python3"
  },
  "language_info": {
   "codemirror_mode": {
    "name": "ipython",
    "version": 3
   },
   "file_extension": ".py",
   "mimetype": "text/x-python",
   "name": "python",
   "nbconvert_exporter": "python",
   "pygments_lexer": "ipython3",
   "version": "3.13.5"
  }
 },
 "nbformat": 4,
 "nbformat_minor": 5
}
