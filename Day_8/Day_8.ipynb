{
 "cells": [
  {
   "cell_type": "markdown",
   "id": "3e94b1e7",
   "metadata": {},
   "source": [
    "Web Scrapping & Database connection"
   ]
  },
  {
   "cell_type": "code",
   "execution_count": null,
   "id": "cbe2eb4c",
   "metadata": {},
   "outputs": [],
   "source": [
    "#Enumerate function Code\n",
    "#enumerate give us index for the data with the values\n",
    "students=['Farhan','Abhishek','Abhinav','Tejashvi']\n",
    "for index_values, data in enumerate(students):\n",
    "    if 1<=index_values<=2:\n",
    "        print(data)"
   ]
  },
  {
   "cell_type": "code",
   "execution_count": null,
   "id": "e2effa33",
   "metadata": {},
   "outputs": [],
   "source": [
    "import requests as r\n",
    "from bs4 import BeautifulSoup\n",
    "url=\"https://en.wikipedia.org/wiki/List_of_Indians_by_net_worth\"\n",
    "response=r.get(url)\n",
    "html_data=response.content #returns html data from the url\n",
    "soup=BeautifulSoup(html_data)\n",
    "print('Done')\n",
    "\n",
    "\n",
    "#soup.find_all('table',class='wikitable sortable jquery-tablesorter') #library couldn't find the content of this class\n",
    "hello=soup.find_all('tr') #We want to find table row (tr) tag\n",
    "\n",
    "\n",
    "#enumerate give us index for the data with the values\n",
    "for index_no, value in enumerate(soup.find_all('tr')): \n",
    "    if 0<=index_no <=24: #Need rows from 0 to 24\n",
    "        # print(index_no,value.text)\n",
    "        # print(value.text.splitlines()) #This will give us empty data\n",
    "        temp_data=value.text.splitlines()\n",
    "        while '' in temp_data: #This will remove empty data/ blank spaces\n",
    "            temp_data.remove('')\n",
    "        print(temp_data)\n"
   ]
  }
 ],
 "metadata": {
  "kernelspec": {
   "display_name": "myenv",
   "language": "python",
   "name": "python3"
  },
  "language_info": {
   "codemirror_mode": {
    "name": "ipython",
    "version": 3
   },
   "file_extension": ".py",
   "mimetype": "text/x-python",
   "name": "python",
   "nbconvert_exporter": "python",
   "pygments_lexer": "ipython3",
   "version": "3.13.5"
  }
 },
 "nbformat": 4,
 "nbformat_minor": 5
}
