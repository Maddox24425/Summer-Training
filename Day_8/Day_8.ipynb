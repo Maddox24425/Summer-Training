{
 "cells": [
  {
   "cell_type": "markdown",
   "id": "3e94b1e7",
   "metadata": {},
   "source": [
    "Web Scrapping & Database connection"
   ]
  },
  {
   "cell_type": "code",
   "execution_count": null,
   "id": "cbe2eb4c",
   "metadata": {},
   "outputs": [],
   "source": [
    "#Enumerate function Code\n",
    "#enumerate give us index for the data with the values\n",
    "students=['Farhan','Abhishek','Abhinav','Tejashvi']\n",
    "for index_values, data in enumerate(students):\n",
    "    if 1<=index_values<=2:\n",
    "        print(data)"
   ]
  },
  {
   "cell_type": "code",
   "execution_count": null,
   "id": "e2effa33",
   "metadata": {},
   "outputs": [],
   "source": [
    "import requests as r\n",
    "from bs4 import BeautifulSoup\n",
    "import pandas as pd\n",
    "\n",
    "all_data=[] #used later\n",
    "\n",
    "url=\"https://en.wikipedia.org/wiki/List_of_Indians_by_net_worth\"\n",
    "response=r.get(url)\n",
    "html_data=response.content #returns html data from the url\n",
    "soup=BeautifulSoup(html_data)\n",
    "print('Done')\n",
    "\n",
    "\n",
    "#soup.find_all('table',class='wikitable sortable jquery-tablesorter') #library couldn't find the content of this class\n",
    "hello=soup.find_all('tr') #We want to find table row (tr) tag\n",
    "\n",
    "\n",
    "#enumerate give us index for the data with the values\n",
    "for index_no, value in enumerate(soup.find_all('tr')): \n",
    "    if 0<=index_no <=24: #Need rows from 0 to 24\n",
    "        # print(index_no,value.text)\n",
    "        # print(value.text.splitlines()) #This will give us empty data\n",
    "        temp_data=value.text.splitlines()\n",
    "        while '' in temp_data: #This will remove empty data/ blank spaces\n",
    "            temp_data.remove('')\n",
    "        # print(temp_data)\n",
    "        all_data.append(temp_data)\n",
    "\n",
    "\n",
    "print('Done')\n",
    "\n",
    "#Now make a DataFrame of this list all_data\n",
    "cols=all_data[0]\n",
    "final_data=all_data[1:]\n",
    "final_cols=['Rank','Name','Net Worth','Company',\"Source of Wealth\",'None','None']\n",
    "\n",
    "listing=[]\n",
    "hello=len(final_data)\n",
    "for i in range(1,hello+1):\n",
    "    listing.append(i)\n",
    "\n",
    "\n",
    "rich_list_df=pd.DataFrame(final_data, index=listing ,columns=final_cols)\n",
    "rich_list_df.index.name=\"Rank\"\n",
    "final_df=rich_list_df.drop([\"Rank\",\"None\"], axis=1) #This will display the data too\n",
    "display(final_df)\n",
    "\n",
    "final_df.to_excel('Richest_People_in_India(1).xlsx') #export to excel file\n",
    "print('Done')"
   ]
  },
  {
   "cell_type": "markdown",
   "id": "219e30fa",
   "metadata": {},
   "source": [
    "Now Build a SQL connection to send excel to database"
   ]
  },
  {
   "cell_type": "code",
   "execution_count": null,
   "id": "0a7dd661",
   "metadata": {},
   "outputs": [
    {
     "name": "stdout",
     "output_type": "stream",
     "text": [
      "Connection created successfully\n"
     ]
    }
   ],
   "source": [
    "import pymysql as py\n",
    "conn=py.connect(user='root',\n",
    "    password='1234',\n",
    "    host='localhost',\n",
    "    autocommit=True) #autosave\n",
    "print('Connection created successfully')\n",
    "\n",
    "\n",
    "cur=conn.cursor()\n",
    "\n",
    "\n",
    "query='''create database wiki;'''\n",
    "cur.execute(query)\n",
    "print('Done')\n",
    "\n",
    "conn.close()\n",
    "\n"
   ]
  }
 ],
 "metadata": {
  "kernelspec": {
   "display_name": "myenv",
   "language": "python",
   "name": "python3"
  },
  "language_info": {
   "codemirror_mode": {
    "name": "ipython",
    "version": 3
   },
   "file_extension": ".py",
   "mimetype": "text/x-python",
   "name": "python",
   "nbconvert_exporter": "python",
   "pygments_lexer": "ipython3",
   "version": "3.13.5"
  }
 },
 "nbformat": 4,
 "nbformat_minor": 5
}
