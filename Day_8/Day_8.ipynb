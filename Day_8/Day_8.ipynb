{
 "cells": [
  {
   "cell_type": "markdown",
   "id": "3e94b1e7",
   "metadata": {},
   "source": [
    "Web Scrapping & Database connection"
   ]
  },
  {
   "cell_type": "code",
   "execution_count": null,
   "id": "e2effa33",
   "metadata": {},
   "outputs": [],
   "source": []
  }
 ],
 "metadata": {
  "kernelspec": {
   "display_name": "myenv",
   "language": "python",
   "name": "python3"
  },
  "language_info": {
   "name": "python",
   "version": "3.13.5"
  }
 },
 "nbformat": 4,
 "nbformat_minor": 5
}
