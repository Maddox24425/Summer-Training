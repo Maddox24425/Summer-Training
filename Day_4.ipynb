{
 "cells": [
  {
   "cell_type": "markdown",
   "id": "d8226276",
   "metadata": {},
   "source": [
    "File Handling"
   ]
  },
  {
   "cell_type": "markdown",
   "id": "748ff25f",
   "metadata": {},
   "source": [
    "Modes:\n",
    "write: w\n",
    "To create/write on a file\n",
    "Mode = x: it only create new file"
   ]
  },
  {
   "cell_type": "code",
   "execution_count": null,
   "id": "7b089e84",
   "metadata": {},
   "outputs": [],
   "source": [
    "#Search top 10 result from google and save in a file with the same name using w mode\n",
    "\n",
    "from googlesearch import search\n",
    "\n",
    "what=input(\"What do you want to search: \")\n",
    "how_many=int(input(\"How many top result do you want? \"))\n",
    "\n",
    "data=search(what,num_results=how_many)\n",
    "all_data=[]\n",
    "for i in data:\n",
    "    all_data.append(i+'\\n')\n",
    "what+='.txt'\n",
    "file=open(what,mode='w')\n",
    "file.writelines(all_data)\n",
    "file.close()\n",
    "print(\"Done\")"
   ]
  },
  {
   "cell_type": "code",
   "execution_count": null,
   "id": "a51712c5",
   "metadata": {},
   "outputs": [],
   "source": [
    "#Search top 10 result from google and save in a file with the same name using x mode\n",
    "\n",
    "\n",
    "from googlesearch import search\n",
    "\n",
    "what=input(\"What do you want to search: \")\n",
    "how_many=int(input(\"How many top result do you want? \"))\n",
    "try:\n",
    "    data=search(what,num_results=how_many)\n",
    "    all_data=[]\n",
    "    for i in data:\n",
    "        all_data.append(i+'\\n')\n",
    "    what+='.txt'\n",
    "    file=open(what,mode='x')\n",
    "    file.writelines(all_data)\n",
    "    file.close()\n",
    "except:\n",
    "    print(\"File already exist for x mode\")\n",
    "print(\"Done\")"
   ]
  },
  {
   "cell_type": "code",
   "execution_count": null,
   "id": "3c4d30dd",
   "metadata": {},
   "outputs": [],
   "source": [
    "#Search top 10 result from google and save in a file with the same name using a mode\n",
    "\n",
    "\n",
    "from googlesearch import search\n",
    "\n",
    "what=input(\"What do you want to search: \")\n",
    "how_many=int(input(\"How many top result do you want? \"))\n",
    "try:\n",
    "    data=search(what,num_results=how_many)\n",
    "    all_data=[]\n",
    "    for i in data:\n",
    "        all_data.append(i+'\\n')\n",
    "    what+='.txt'\n",
    "    file=open(what,mode='a')\n",
    "    file.writelines(all_data)\n",
    "    file.close()\n",
    "except:\n",
    "    print(\"File already exist for x mode\")\n",
    "print(\"Done\")"
   ]
  }
 ],
 "metadata": {
  "kernelspec": {
   "display_name": "myenv",
   "language": "python",
   "name": "python3"
  },
  "language_info": {
   "codemirror_mode": {
    "name": "ipython",
    "version": 3
   },
   "file_extension": ".py",
   "mimetype": "text/x-python",
   "name": "python",
   "nbconvert_exporter": "python",
   "pygments_lexer": "ipython3",
   "version": "3.13.5"
  }
 },
 "nbformat": 4,
 "nbformat_minor": 5
}
