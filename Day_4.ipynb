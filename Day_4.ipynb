{
 "cells": [
  {
   "cell_type": "markdown",
   "id": "d8226276",
   "metadata": {},
   "source": [
    "File Handling"
   ]
  },
  {
   "cell_type": "markdown",
   "id": "748ff25f",
   "metadata": {},
   "source": [
    "Modes:\n",
    "write: w\n",
    "To create/write on a file\n",
    "Mode = x: it only create new file"
   ]
  },
  {
   "cell_type": "code",
   "execution_count": null,
   "id": "7b089e84",
   "metadata": {},
   "outputs": [],
   "source": [
    "#Search top 10 result from google and save in a file with the same name using w mode\n",
    "\n",
    "from googlesearch import search\n",
    "\n",
    "what=input(\"What do you want to search: \")\n",
    "how_many=int(input(\"How many top result do you want? \"))\n",
    "\n",
    "data=search(what,num_results=how_many)\n",
    "all_data=[]\n",
    "for i in data:\n",
    "    all_data.append(i+'\\n')\n",
    "what+='.txt'\n",
    "file=open(what,mode='w')\n",
    "file.writelines(all_data)\n",
    "file.close()\n",
    "print(\"Done\")"
   ]
  },
  {
   "cell_type": "code",
   "execution_count": null,
   "id": "a51712c5",
   "metadata": {},
   "outputs": [],
   "source": [
    "#Search top 10 result from google and save in a file with the same name using x mode\n",
    "\n",
    "\n",
    "from googlesearch import search\n",
    "\n",
    "what=input(\"What do you want to search: \")\n",
    "how_many=int(input(\"How many top result do you want? \"))\n",
    "try:\n",
    "    data=search(what,num_results=how_many)\n",
    "    all_data=[]\n",
    "    for i in data:\n",
    "        all_data.append(i+'\\n')\n",
    "    what+='.txt'\n",
    "    file=open(what,mode='x')\n",
    "    file.writelines(all_data)\n",
    "    file.close()\n",
    "except:\n",
    "    print(\"File already exist for x mode\")\n",
    "print(\"Done\")"
   ]
  },
  {
   "cell_type": "code",
   "execution_count": null,
   "id": "3c4d30dd",
   "metadata": {},
   "outputs": [],
   "source": [
    "#Search top 10 result from google and save in a file with the same name using a mode\n",
    "\n",
    "\n",
    "from googlesearch import search\n",
    "\n",
    "what=input(\"What do you want to search: \")\n",
    "how_many=int(input(\"How many top result do you want? \"))\n",
    "try:\n",
    "    data=search(what,num_results=how_many)\n",
    "    all_data=[]\n",
    "    for i in data:\n",
    "        all_data.append(i+'\\n')\n",
    "    what+='.txt'\n",
    "    file=open(what,mode='a')\n",
    "    file.writelines(all_data)\n",
    "    file.write(\"------------------------------------------------------\\n\")\n",
    "    file.close()\n",
    "except:\n",
    "    print(\"File already exist for x mode\")\n",
    "print(\"Done\")"
   ]
  },
  {
   "cell_type": "markdown",
   "id": "3e9cafb0",
   "metadata": {},
   "source": [
    "Can we write on a file while reading it? using w+, r+"
   ]
  },
  {
   "cell_type": "code",
   "execution_count": null,
   "id": "a079fe3b",
   "metadata": {},
   "outputs": [],
   "source": [
    "what=input(\"What do you want to search: \")\n",
    "how_many=int(input(\"How many top result do you want? \"))\n",
    "try:\n",
    "    data=search(what,num_results=how_many)\n",
    "    all_data=[]\n",
    "    for i in data:\n",
    "        all_data.append(i+'\\n')\n",
    "    what+='.txt'\n",
    "    file=open(what,mode='w+')\n",
    "    file.writelines(all_data)\n",
    "    file.write(\"------------------------------------------------------\\n\")\n",
    "    print(file.read()) #This won't read because because the cursor is at the end, bring it to the first\n",
    "    file.close()   \n",
    "except:\n",
    "    print(\"There was an error\")\n",
    "print(\"Done\")"
   ]
  },
  {
   "cell_type": "code",
   "execution_count": null,
   "id": "5c5bf70e",
   "metadata": {},
   "outputs": [],
   "source": [
    "#Fix of the above code logic to read the file after writing \n",
    "\n",
    "what=input(\"What do you want to search: \")\n",
    "how_many=int(input(\"How many top result do you want? \"))\n",
    "try:\n",
    "    data=search(what,num_results=how_many)\n",
    "    all_data=[]\n",
    "    for i in data:\n",
    "        all_data.append(i+'\\n')\n",
    "    what+='.txt'\n",
    "    file=open(what,mode='w+')\n",
    "    file.writelines(all_data)\n",
    "    file.write(\"------------------------------------------------------\\n\")\n",
    "    file.seek(0) #Bring the pointer to the beginning\n",
    "    print(file.read()) \n",
    "    file.close()   \n",
    "except:\n",
    "    print(\"There was an error\")\n",
    "print(\"Done\")"
   ]
  },
  {
   "cell_type": "markdown",
   "id": "005f9157",
   "metadata": {},
   "source": [
    "How to create a copy of an existing file"
   ]
  },
  {
   "cell_type": "code",
   "execution_count": 12,
   "id": "18b87781",
   "metadata": {},
   "outputs": [],
   "source": [
    "file1=open('Day_4.txt','w')\n",
    "file1.write(\"This is text\")\n",
    "\n",
    "existing_data=input(\"Enter the name of the file you want to copy: \")\n",
    "existing_data+='.txt'\n",
    "f1=open(existing_data,'r')\n",
    "all_data=f1.read()\n",
    "\n",
    "new_file=input(\"Enter the name of the new file you want to copy to: \")\n",
    "new_file+='.txt'\n",
    "f2=open(new_file,'w')\n",
    "f2.write(all_data)\n",
    "\n",
    "file1.close()\n",
    "f1.close()\n",
    "f2.close()\n"
   ]
  }
 ],
 "metadata": {
  "kernelspec": {
   "display_name": "myenv",
   "language": "python",
   "name": "python3"
  },
  "language_info": {
   "codemirror_mode": {
    "name": "ipython",
    "version": 3
   },
   "file_extension": ".py",
   "mimetype": "text/x-python",
   "name": "python",
   "nbconvert_exporter": "python",
   "pygments_lexer": "ipython3",
   "version": "3.13.5"
  }
 },
 "nbformat": 4,
 "nbformat_minor": 5
}
