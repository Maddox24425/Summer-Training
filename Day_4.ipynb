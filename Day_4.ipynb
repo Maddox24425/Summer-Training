{
 "cells": [
  {
   "cell_type": "markdown",
   "id": "d8226276",
   "metadata": {},
   "source": [
    "File Handling"
   ]
  },
  {
   "cell_type": "markdown",
   "id": "748ff25f",
   "metadata": {},
   "source": [
    "Modes:\n",
    "write: w\n",
    "To create/write on a file"
   ]
  },
  {
   "cell_type": "code",
   "execution_count": null,
   "id": "7b089e84",
   "metadata": {},
   "outputs": [],
   "source": [
    "#Search top 10 result from google and save in a file with the same name\n",
    "\n",
    "from googlesearch import search\n",
    "what=input(\"What do you want to search: \")\n",
    "how_many=int(input(\"How many top result do you want? \"))\n",
    "\n",
    "data=search(what,num_results=how_many)\n",
    "all_data=[]\n",
    "for i in data:\n",
    "    all_data.append(i+'\\n')\n",
    "what+='.txt'\n",
    "file=open(what,mode='w')\n",
    "file.writelines(all_data)\n",
    "file.close()\n",
    "print(\"Done\")"
   ]
  }
 ],
 "metadata": {
  "kernelspec": {
   "display_name": "myenv",
   "language": "python",
   "name": "python3"
  },
  "language_info": {
   "codemirror_mode": {
    "name": "ipython",
    "version": 3
   },
   "file_extension": ".py",
   "mimetype": "text/x-python",
   "name": "python",
   "nbconvert_exporter": "python",
   "pygments_lexer": "ipython3",
   "version": "3.13.5"
  }
 },
 "nbformat": 4,
 "nbformat_minor": 5
}
