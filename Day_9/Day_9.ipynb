{
 "cells": [
  {
   "cell_type": "markdown",
   "id": "0b0d300a",
   "metadata": {},
   "source": [
    "**NumPy:** Complex Numerical Calculations"
   ]
  },
  {
   "cell_type": "code",
   "execution_count": null,
   "id": "4746915e",
   "metadata": {},
   "outputs": [],
   "source": [
    "import numpy as np\n",
    "a=np.array([[1,2],[2,3]])\n",
    "print(a.sum())\n",
    "print(a[0,1])\n",
    "print(f\"Dimension: {a.ndim}\")"
   ]
  },
  {
   "cell_type": "code",
   "execution_count": null,
   "id": "ea0084d5",
   "metadata": {},
   "outputs": [],
   "source": [
    "import numpy as np\n",
    "import matplotlib.pyplot as plt\n",
    "arr=plt.imread(\"C:\\\\Users\\\\Maddox\\\\OneDrive\\\\Pictures\\\\20250713_154809.jpg\")\n",
    "print(type(arr))\n",
    "plt.imshow(arr)\n",
    "# plt.imshow(arr-100)\n",
    "arr.shape #3D array for image"
   ]
  },
  {
   "cell_type": "code",
   "execution_count": null,
   "id": "3da63f09",
   "metadata": {},
   "outputs": [],
   "source": [
    "import numpy as np\n",
    "arr1=np.array([1,2,3,4,5,6,7,8,9,0])\n",
    "# print(arr1) #Not comma sep.\n",
    "# print(arr1.ndim)\n",
    "print(arr1.shape)\n",
    "\n",
    "\n",
    "zero_dim_arr=np.array(1)\n",
    "print(zero_dim_arr.shape)\n",
    "\n",
    "\n",
    "two_dim_arr=np.array([[1,2,3,4,5],[6,7,8,9,0]])\n",
    "print(two_dim_arr.shape)\n",
    "\n",
    "three_dim_arr=np.array([[[1,2,3],[4,5,6],[0,0,0]],\n",
    "                        [[7,8,9],[10,11,12],[0,0,0]],\n",
    "                        [[13,14,15],[16,17,18],[0,0,0]]])\n",
    "# print(three_dim_arr)\n",
    "print(three_dim_arr.shape)\n",
    "\n",
    "arr3=np.array([[[1,2,3],[1,2,3]],[[1,2,3],[1,2,3]]])\n",
    "# print(arr3)\n",
    "print(arr3.shape)\n",
    "\n",
    "arr_3_5_5=np.array([[[1,2,3,4,5],[1,2,3,4,5],[1,2,3,4,5],[1,2,3,4,5],[1,2,3,4,5]],\n",
    "                    [[1,2,3,4,5],[1,2,3,4,5],[1,2,3,4,5],[1,2,3,4,5],[1,2,3,4,5]],\n",
    "                    [[1,2,3,4,5],[1,2,3,4,5],[1,2,3,4,5],[1,2,3,4,5],[1,2,3,4,5]]])\n",
    "print(arr_3_5_5.shape)\n",
    "\n",
    "\n",
    "arr_5_3_3_5=np.array([[[[1,2,3,4,5],[1,2,3,4,5],[1,2,3,4,5]],[[1,2,3,4,5],[1,2,3,4,5],[1,2,3,4,5]],[[1,2,3,4,5],[1,2,3,4,5],[1,2,3,4,5]]],\n",
    "         [[[1,2,3,4,5],[1,2,3,4,5],[1,2,3,4,5]],[[1,2,3,4,5],[1,2,3,4,5],[1,2,3,4,5]],[[1,2,3,4,5],[1,2,3,4,5],[1,2,3,4,5]]],\n",
    "         [[[1,2,3,4,5],[1,2,3,4,5],[1,2,3,4,5]],[[1,2,3,4,5],[1,2,3,4,5],[1,2,3,4,5]],[[1,2,3,4,5],[1,2,3,4,5],[1,2,3,4,5]]],\n",
    "         [[[1,2,3,4,5],[1,2,3,4,5],[1,2,3,4,5]],[[1,2,3,4,5],[1,2,3,4,5],[1,2,3,4,5]],[[1,2,3,4,5],[1,2,3,4,5],[1,2,3,4,5]]],\n",
    "         [[[1,2,3,4,5],[1,2,3,4,5],[1,2,3,4,5]],[[1,2,3,4,5],[1,2,3,4,5],[1,2,3,4,5]],[[1,2,3,4,5],[1,2,3,4,5],[1,2,3,4,5]]]])\n",
    "print(arr_5_3_3_5.shape)\n",
    "# print(arr_5_3_3_5.size)\n"
   ]
  },
  {
   "cell_type": "code",
   "execution_count": null,
   "id": "051e309b",
   "metadata": {},
   "outputs": [],
   "source": [
    "#4D array Shortcut\n",
    "import numpy as np\n",
    "\n",
    "arr=np.random.randint(1,1000,(5,3,3,5))\n",
    "print(arr.shape)\n",
    "print(arr)"
   ]
  },
  {
   "cell_type": "code",
   "execution_count": null,
   "id": "4f7a1729",
   "metadata": {},
   "outputs": [],
   "source": [
    "#\n",
    "import numpy as np\n",
    "final_array=np.random.randint(1,9,(3,3,3))\n",
    "final_array+=1000\n",
    "print(final_array)\n",
    "print(final_array**.5)"
   ]
  },
  {
   "cell_type": "code",
   "execution_count": null,
   "id": "03c57fe9",
   "metadata": {},
   "outputs": [],
   "source": [
    "#To change the brightness of an image\n",
    "import numpy as np\n",
    "import matplotlib.pyplot as plt\n",
    "arr=plt.imread(\"C:\\\\Users\\\\Maddox\\\\OneDrive\\\\Pictures\\\\20250713_154809.jpg\").astype('int16')\n",
    "# plt.imshow(arr)\n",
    "plt.imshow(arr-100)\n",
    "arr.dtype"
   ]
  },
  {
   "cell_type": "code",
   "execution_count": null,
   "id": "8febb1b3",
   "metadata": {},
   "outputs": [],
   "source": [
    "#Change the brightness in an image according to the range in the loop\n",
    "import numpy as np\n",
    "import matplotlib.pyplot as plt\n",
    "import time\n",
    "arr=plt.imread(\"C:\\\\Users\\\\Maddox\\\\OneDrive\\\\Pictures\\\\20250713_154809.jpg\").astype('int16')\n",
    "# plt.imshow(arr)\n",
    "try:\n",
    "    for i in range (-100,100):\n",
    "        print(f\"Value of i: {i}\")\n",
    "        plt.imshow(arr+i)\n",
    "        plt.show()\n",
    "        time.sleep(0.05)\n",
    "        display(clear=True)\n",
    "except:\n",
    "    print(\"An Error Occured\")\n",
    "\n",
    "# arr.dtype"
   ]
  },
  {
   "cell_type": "markdown",
   "id": "00fb0dba",
   "metadata": {},
   "source": [
    "Slicing & Indexing"
   ]
  },
  {
   "cell_type": "code",
   "execution_count": null,
   "id": "e11e7538",
   "metadata": {},
   "outputs": [],
   "source": [
    "import numpy as np\n",
    "arr1=np.array([1,2,3,4,5,6,7,8,9])\n",
    "print(arr1[5])\n",
    "print(arr1[0:3])"
   ]
  },
  {
   "cell_type": "code",
   "execution_count": null,
   "id": "df2c760d",
   "metadata": {},
   "outputs": [],
   "source": [
    "import numpy as np\n",
    "arr=np.random.randint(1,10,(3,3))\n",
    "print(arr)\n",
    "print('\\n')\n",
    "arr[::2,::2]=100\n",
    "print(arr)"
   ]
  },
  {
   "cell_type": "code",
   "execution_count": null,
   "id": "3a779701",
   "metadata": {},
   "outputs": [],
   "source": [
    "import pandas as pd\n",
    "arr_3D=np.random.randint(1,10,(3,3,3))\n",
    "print(arr_3D)\n",
    "print(arr_3D[2,0,2])\n",
    "newone=arr_3D[:,::2,::2].reshape(3,4)\n",
    "print(newone)\n",
    "print(newone[2::])"
   ]
  }
 ],
 "metadata": {
  "kernelspec": {
   "display_name": "myenv",
   "language": "python",
   "name": "python3"
  },
  "language_info": {
   "codemirror_mode": {
    "name": "ipython",
    "version": 3
   },
   "file_extension": ".py",
   "mimetype": "text/x-python",
   "name": "python",
   "nbconvert_exporter": "python",
   "pygments_lexer": "ipython3",
   "version": "3.13.5"
  }
 },
 "nbformat": 4,
 "nbformat_minor": 5
}
