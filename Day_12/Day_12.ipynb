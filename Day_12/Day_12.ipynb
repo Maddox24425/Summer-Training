{
 "cells": [
  {
   "cell_type": "markdown",
   "id": "c1fd2213",
   "metadata": {},
   "source": [
    "Import Data"
   ]
  },
  {
   "cell_type": "code",
   "execution_count": null,
   "id": "190d3a1f",
   "metadata": {},
   "outputs": [],
   "source": [
    "import kagglehub\n",
    "\n",
    "# Download latest version\n",
    "path = kagglehub.dataset_download(\"patrickb1912/ipl-complete-dataset-20082020\")\n",
    "\n",
    "print(\"Path to dataset files:\", path)"
   ]
  },
  {
   "cell_type": "code",
   "execution_count": null,
   "id": "96976913",
   "metadata": {},
   "outputs": [],
   "source": [
    "import os\n",
    "all_file=os.listdir(path)\n",
    "file_1,file_2=all_file\n",
    "file_2"
   ]
  },
  {
   "cell_type": "code",
   "execution_count": null,
   "id": "d52484a3",
   "metadata": {},
   "outputs": [],
   "source": [
    "file_1_path=path + '/' + file_1\n",
    "print(file_1_path)\n",
    "\n",
    "file_2_path=path + '/' + file_2\n",
    "print(file_2_path)"
   ]
  },
  {
   "cell_type": "code",
   "execution_count": null,
   "id": "599ab10d",
   "metadata": {},
   "outputs": [],
   "source": [
    "#import all libraries\n",
    "import pandas as pd\n",
    "import matplotlib.pyplot as plt\n",
    "import seaborn as sns\n",
    "import numpy as np\n",
    "print(\"All modules called\")\n",
    "\n",
    "df_matches=pd.read_csv(file_2_path)\n",
    "df_delivery=pd.read_csv(file_1_path)\n",
    "\n"
   ]
  },
  {
   "cell_type": "code",
   "execution_count": null,
   "id": "e53d3185",
   "metadata": {},
   "outputs": [],
   "source": [
    "display(df_delivery.head(2))\n",
    "display(df_matches.head(2))\n",
    "\n",
    "print(df_matches.shape)\n",
    "print(df_delivery.shape)"
   ]
  },
  {
   "cell_type": "code",
   "execution_count": null,
   "id": "e386f583",
   "metadata": {},
   "outputs": [],
   "source": [
    "df_matches.info()\n",
    "#There are null data"
   ]
  },
  {
   "cell_type": "code",
   "execution_count": null,
   "id": "291d4baf",
   "metadata": {},
   "outputs": [],
   "source": [
    "display(df_matches.isnull().sum().sort_values(ascending=False))\n",
    "display(df_matches['winner'])"
   ]
  },
  {
   "cell_type": "code",
   "execution_count": null,
   "id": "b0828a98",
   "metadata": {},
   "outputs": [],
   "source": [
    "sns.heatmap(df_matches.isnull())"
   ]
  },
  {
   "cell_type": "code",
   "execution_count": null,
   "id": "df777c3f",
   "metadata": {},
   "outputs": [],
   "source": [
    "#null value count in percentage\n",
    "df_matches.isnull().mean().sort_values(ascending=False)*100"
   ]
  },
  {
   "cell_type": "code",
   "execution_count": null,
   "id": "05d2dd90",
   "metadata": {},
   "outputs": [],
   "source": [
    "#now check what this 'method' column is like\n",
    "display(df_matches['method'].value_counts())\n",
    "#only 1 data (D/L) which was used 21 times\n",
    "#we'll fill all other methods with \"Normal\" method"
   ]
  },
  {
   "cell_type": "code",
   "execution_count": null,
   "id": "6f12a2f9",
   "metadata": {},
   "outputs": [],
   "source": [
    "df_matches['method'].fillna('Normal Method',inplace=True)\n",
    "display(df_matches.isnull().sum().sort_values(ascending=False))\n",
    "#Now no missing values in df_matches['method']"
   ]
  },
  {
   "cell_type": "markdown",
   "id": "fea0ef1d",
   "metadata": {},
   "source": [
    "**Now lets treat the \"city\" column**"
   ]
  },
  {
   "cell_type": "code",
   "execution_count": null,
   "id": "77500ff7",
   "metadata": {},
   "outputs": [],
   "source": [
    "display(df_matches['city'].value_counts())\n",
    "display(df_matches['city'].value_counts().sum())"
   ]
  },
  {
   "cell_type": "code",
   "execution_count": null,
   "id": "5dc037ae",
   "metadata": {},
   "outputs": [],
   "source": [
    "#Display all the rows with null values in 'city' column \n",
    "df_matches[df_matches['city'].isnull()]\n",
    "#Fill the NaN values in 'city' column\n",
    "df_matches['city'].fillna('UAE',inplace=True)# all the venue shows that all city with NaN were in Dubai (UAE)"
   ]
  },
  {
   "cell_type": "markdown",
   "id": "c116cc0f",
   "metadata": {},
   "source": [
    "**Now we'll work on \"result_margin\" column**"
   ]
  },
  {
   "cell_type": "code",
   "execution_count": null,
   "id": "0ed638a5",
   "metadata": {},
   "outputs": [],
   "source": [
    "df_matches['result_margin'].info()\n",
    "df_matches['result_margin'].value_counts()\n",
    "df_matches['result_margin'].value_counts().sum()"
   ]
  },
  {
   "cell_type": "code",
   "execution_count": null,
   "id": "000eff5b",
   "metadata": {},
   "outputs": [],
   "source": [
    "#Display all the rows with null values in 'result_margin' column \n",
    "df_matches[df_matches['result_margin'].isnull()]\n",
    "#Fill the NaN values in 'city' column\n",
    "df_matches['result_margin'].fillna(0.00,inplace=True)"
   ]
  },
  {
   "cell_type": "code",
   "execution_count": null,
   "id": "fc01efe5",
   "metadata": {},
   "outputs": [],
   "source": [
    "#These columns with Null values left\n",
    "# winner             0.456621\n",
    "# player_of_match    0.456621\n",
    "# target_overs       0.273973\n",
    "# target_runs        0.273973"
   ]
  },
  {
   "cell_type": "markdown",
   "id": "a4cbf7e8",
   "metadata": {},
   "source": [
    "**Now we'll work on \"winner\" column and 'player_of_match'**"
   ]
  },
  {
   "cell_type": "code",
   "execution_count": null,
   "id": "f2d089a6",
   "metadata": {},
   "outputs": [],
   "source": [
    "# #Display all the rows with null values in 'result_margin' column \n",
    "# display(df_matches[df_matches['winner'].isnull()])\n",
    "# #Fill the NaN values in 'city' column\n",
    "# df_matches['winner'].fillna('No Winner',inplace=True)\n",
    "# #null value count in percentage\n",
    "# df_matches.isnull().mean().sort_values(ascending=False)*100"
   ]
  },
  {
   "cell_type": "code",
   "execution_count": null,
   "id": "f6e64f58",
   "metadata": {},
   "outputs": [],
   "source": [
    "#Display all the rows with null values in 'result_margin' column \n",
    "display(df_matches[df_matches['winner'].isnull()])\n",
    "#Fill the NaN values in 'city' column\n",
    "df_matches.fillna({'player_of_match':'No Player of the match',\n",
    "                   'winner':'No Winner'},inplace=True)\n",
    "#null value count in percentage\n",
    "df_matches.isnull().mean().sort_values(ascending=False)*100\n"
   ]
  }
 ],
 "metadata": {
  "kernelspec": {
   "display_name": "myenv (3.13.5)",
   "language": "python",
   "name": "python3"
  },
  "language_info": {
   "codemirror_mode": {
    "name": "ipython",
    "version": 3
   },
   "file_extension": ".py",
   "mimetype": "text/x-python",
   "name": "python",
   "nbconvert_exporter": "python",
   "pygments_lexer": "ipython3",
   "version": "3.13.5"
  }
 },
 "nbformat": 4,
 "nbformat_minor": 5
}
