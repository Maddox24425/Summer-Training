{
 "cells": [
  {
   "cell_type": "markdown",
   "id": "c1fd2213",
   "metadata": {},
   "source": [
    "Import Data"
   ]
  },
  {
   "cell_type": "code",
   "execution_count": null,
   "id": "190d3a1f",
   "metadata": {},
   "outputs": [],
   "source": [
    "# import kagglehub\n",
    "\n",
    "# # Download latest version\n",
    "# path = kagglehub.dataset_download(\"patrickb1912/ipl-complete-dataset-20082020\")\n",
    "path=r'C:\\Users\\Maddox\\.cache\\kagglehub\\datasets\\patrickb1912\\ipl-complete-dataset-20082020\\versions\\3'\n",
    "print(\"Path to dataset files:\", path)"
   ]
  },
  {
   "cell_type": "code",
   "execution_count": null,
   "id": "96976913",
   "metadata": {},
   "outputs": [],
   "source": [
    "import os\n",
    "all_file=os.listdir(path)\n",
    "file_1,file_2=all_file\n",
    "file_2"
   ]
  },
  {
   "cell_type": "code",
   "execution_count": null,
   "id": "d52484a3",
   "metadata": {},
   "outputs": [],
   "source": [
    "file_1_path=path + '/' + file_1\n",
    "print(file_1_path)\n",
    "\n",
    "file_2_path=path + '/' + file_2\n",
    "print(file_2_path)"
   ]
  },
  {
   "cell_type": "code",
   "execution_count": null,
   "id": "599ab10d",
   "metadata": {},
   "outputs": [],
   "source": [
    "#import all libraries\n",
    "import pandas as pd\n",
    "import matplotlib.pyplot as plt\n",
    "import seaborn as sns\n",
    "import numpy as np\n",
    "print(\"All modules called\")\n",
    "\n",
    "df_matches=pd.read_csv(file_2_path)\n",
    "df_delivery=pd.read_csv(file_1_path)\n",
    "\n"
   ]
  },
  {
   "cell_type": "code",
   "execution_count": null,
   "id": "e53d3185",
   "metadata": {},
   "outputs": [],
   "source": [
    "display(df_delivery.head(2))\n",
    "display(df_matches.head(2))\n",
    "\n",
    "print(df_matches.shape)\n",
    "print(df_delivery.shape)"
   ]
  },
  {
   "cell_type": "code",
   "execution_count": null,
   "id": "e386f583",
   "metadata": {},
   "outputs": [],
   "source": [
    "df_matches.info()\n",
    "#There are null data"
   ]
  },
  {
   "cell_type": "code",
   "execution_count": null,
   "id": "291d4baf",
   "metadata": {},
   "outputs": [],
   "source": [
    "display(df_matches.isnull().sum().sort_values(ascending=False))\n",
    "display(df_matches['winner'])"
   ]
  },
  {
   "cell_type": "code",
   "execution_count": null,
   "id": "b0828a98",
   "metadata": {},
   "outputs": [],
   "source": [
    "sns.heatmap(df_matches.isnull())"
   ]
  },
  {
   "cell_type": "code",
   "execution_count": null,
   "id": "df777c3f",
   "metadata": {},
   "outputs": [],
   "source": [
    "#null value count in percentage\n",
    "df_matches.isnull().mean().sort_values(ascending=False)*100"
   ]
  },
  {
   "cell_type": "code",
   "execution_count": null,
   "id": "05d2dd90",
   "metadata": {},
   "outputs": [],
   "source": [
    "#now check what this 'method' column is like\n",
    "display(df_matches['method'].value_counts())\n",
    "#only 1 data (D/L) which was used 21 times\n",
    "#we'll fill all other methods with \"Normal\" method"
   ]
  },
  {
   "cell_type": "code",
   "execution_count": null,
   "id": "6f12a2f9",
   "metadata": {},
   "outputs": [],
   "source": [
    "df_matches['method'].fillna('Normal Method',inplace=True)\n",
    "display(df_matches.isnull().sum().sort_values(ascending=False))\n",
    "#Now no missing values in df_matches['method']"
   ]
  },
  {
   "cell_type": "markdown",
   "id": "fea0ef1d",
   "metadata": {},
   "source": [
    "**Now lets treat the \"city\" column**"
   ]
  },
  {
   "cell_type": "code",
   "execution_count": null,
   "id": "77500ff7",
   "metadata": {},
   "outputs": [],
   "source": [
    "display(df_matches['city'].value_counts())\n",
    "display(df_matches['city'].value_counts().sum())"
   ]
  },
  {
   "cell_type": "code",
   "execution_count": null,
   "id": "5dc037ae",
   "metadata": {},
   "outputs": [],
   "source": [
    "#Display all the rows with null values in 'city' column \n",
    "df_matches[df_matches['city'].isnull()]\n",
    "#Fill the NaN values in 'city' column\n",
    "df_matches['city'].fillna('UAE',inplace=True)# all the venue shows that all city with NaN were in Dubai (UAE)"
   ]
  },
  {
   "cell_type": "markdown",
   "id": "c116cc0f",
   "metadata": {},
   "source": [
    "**Now we'll work on \"result_margin\" column**"
   ]
  },
  {
   "cell_type": "code",
   "execution_count": null,
   "id": "0ed638a5",
   "metadata": {},
   "outputs": [],
   "source": [
    "df_matches['result_margin'].info()\n",
    "df_matches['result_margin'].value_counts()\n",
    "df_matches['result_margin'].value_counts().sum()"
   ]
  },
  {
   "cell_type": "code",
   "execution_count": null,
   "id": "000eff5b",
   "metadata": {},
   "outputs": [],
   "source": [
    "#Display all the rows with null values in 'result_margin' column \n",
    "df_matches[df_matches['result_margin'].isnull()]\n",
    "#Fill the NaN values in 'city' column\n",
    "df_matches['result_margin'].fillna(0.00,inplace=True)"
   ]
  },
  {
   "cell_type": "code",
   "execution_count": null,
   "id": "fc01efe5",
   "metadata": {},
   "outputs": [],
   "source": [
    "#These columns with Null values left\n",
    "# winner             0.456621\n",
    "# player_of_match    0.456621\n",
    "# target_overs       0.273973\n",
    "# target_runs        0.273973"
   ]
  },
  {
   "cell_type": "markdown",
   "id": "a4cbf7e8",
   "metadata": {},
   "source": [
    "**Now we'll work on \"winner\" column and 'player_of_match'**"
   ]
  },
  {
   "cell_type": "code",
   "execution_count": null,
   "id": "f2d089a6",
   "metadata": {},
   "outputs": [],
   "source": [
    "# #Display all the rows with null values in 'result_margin' column \n",
    "# display(df_matches[df_matches['winner'].isnull()])\n",
    "# #Fill the NaN values in 'city' column\n",
    "# df_matches['winner'].fillna('No Winner',inplace=True)\n",
    "# #null value count in percentage\n",
    "# df_matches.isnull().mean().sort_values(ascending=False)*100"
   ]
  },
  {
   "cell_type": "code",
   "execution_count": null,
   "id": "f6e64f58",
   "metadata": {},
   "outputs": [],
   "source": [
    "#Display all the rows with null values in 'result_margin' column \n",
    "display(df_matches[df_matches['winner'].isnull()])\n",
    "#Fill the NaN values in 'city' column\n",
    "df_matches.fillna({'player_of_match':'No Player of the match',\n",
    "                   'winner':'No Winner'},inplace=True)\n",
    "#null value count in percentage after treating missing values\n",
    "df_matches.isnull().mean().sort_values(ascending=False)*100\n"
   ]
  },
  {
   "cell_type": "markdown",
   "id": "ab282774",
   "metadata": {},
   "source": [
    "**Now we'll work on \"target_overs\" column and 'targer_runs'**"
   ]
  },
  {
   "cell_type": "code",
   "execution_count": null,
   "id": "96934890",
   "metadata": {},
   "outputs": [],
   "source": [
    "#Here all the NaN values will filled with the value 0 i.e., 'target_runs','target_overs'\n",
    "df_matches.fillna(0,inplace=True)\n",
    "\n",
    "#null value count in percentage after treating missing values\n",
    "df_matches.isnull().mean().sort_values(ascending=False)*100\n"
   ]
  },
  {
   "cell_type": "markdown",
   "id": "69b8f163",
   "metadata": {},
   "source": [
    "**Done with Data Cleaning[fillna]**"
   ]
  },
  {
   "cell_type": "code",
   "execution_count": null,
   "id": "f86f7d54",
   "metadata": {},
   "outputs": [],
   "source": [
    "sns.heatmap(df_matches.isnull())"
   ]
  },
  {
   "cell_type": "code",
   "execution_count": null,
   "id": "f9a4b279",
   "metadata": {},
   "outputs": [],
   "source": [
    "display(df_matches['city'].value_counts())\n",
    "#We have different names for same place\n",
    "# df_matches[df_matches['city'].value_counts()=='Dubai']"
   ]
  },
  {
   "cell_type": "markdown",
   "id": "30025e2f",
   "metadata": {},
   "source": [
    "Let's change the name to a same name for same place with different names"
   ]
  },
  {
   "cell_type": "code",
   "execution_count": null,
   "id": "16239683",
   "metadata": {},
   "outputs": [],
   "source": [
    "# changing the data\n",
    "dict1={'Navi Mumbai':'Mumbai','Bengaluru':'Bangalore',\n",
    "       'Sharjah':'UAE', 'Abu Dhabi':'UAE',\n",
    "       'Kimberley':'Cape Town','Dubai':'UAE'}\n",
    "df_matches.replace(dict1,inplace=True)\n",
    "print('Done')"
   ]
  },
  {
   "cell_type": "markdown",
   "id": "6bb74b13",
   "metadata": {},
   "source": [
    "Check and drop duplicated"
   ]
  },
  {
   "cell_type": "code",
   "execution_count": null,
   "id": "e696c4a7",
   "metadata": {},
   "outputs": [],
   "source": [
    "display(df_matches.duplicated().value_counts())\n",
    "#No Duplicates!!! All False!!!\n",
    "display(df_matches.drop_duplicates(inplace=True))"
   ]
  },
  {
   "cell_type": "markdown",
   "id": "c796a055",
   "metadata": {},
   "source": [
    "Lets make data column as Data data_type instead of object data_type for ARIMA (Time series analysis)"
   ]
  },
  {
   "cell_type": "code",
   "execution_count": null,
   "id": "6f6507c8",
   "metadata": {},
   "outputs": [],
   "source": [
    "df_matches['date']=pd.to_datetime(df_matches['date'])\n",
    "print('Done')\n",
    "display(df_matches['date'].info())"
   ]
  },
  {
   "cell_type": "markdown",
   "id": "2ee76cd4",
   "metadata": {},
   "source": [
    "Done with Pre-Processing, starting with Analysis"
   ]
  },
  {
   "cell_type": "code",
   "execution_count": null,
   "id": "ca5cf5ec",
   "metadata": {},
   "outputs": [],
   "source": [
    "display(df_matches['venue'].value_counts())\n",
    "#we dont want the name of cities as shown in value columns"
   ]
  },
  {
   "cell_type": "code",
   "execution_count": null,
   "id": "e8414c23",
   "metadata": {},
   "outputs": [],
   "source": [
    "splitted_df=df_matches['venue'].str.split(',')\n",
    "#apply() itterate row wise in the data\n",
    "df_matches['venue']=df_matches['venue'].apply(lambda row: row.title().split(',')[0])"
   ]
  },
  {
   "cell_type": "code",
   "execution_count": null,
   "id": "ce95f2c9",
   "metadata": {},
   "outputs": [],
   "source": [
    "df_matches['venue'].value_counts()"
   ]
  },
  {
   "cell_type": "code",
   "execution_count": null,
   "id": "b40c02ee",
   "metadata": {},
   "outputs": [],
   "source": [
    "dict2={'M Chinnaswamy Stadium':'M.Chinnaswamy Stadium',\n",
    "       'Feroz Shah Kotla':'Arun Jaitley Stadium',\n",
    "       'Sardar Patel Stadium':'Narendra Modi Stadium',\n",
    "       'Punjab Cricket Association Is Bindra Stadium':'Punjab Cricket Association Stadium',\n",
    "       }\n",
    "df_matches['venue'].replace(dict2,inplace=True)\n",
    "print('Done')\n",
    "display(df_matches['venue'].value_counts())\n",
    "\n",
    "\n",
    "#Graph it\n",
    "\n",
    "x=df_matches['venue'].value_counts().head(10).index\n",
    "y=df_matches['venue'].value_counts().head(10).values\n",
    "plt.figure(figsize=(7,5))\n",
    "ax=plt.barh(x,y,color=sns.color_palette('rainbow',10))\n",
    "plt.bar_label(ax)\n",
    "plt.title(\"Top 10 Venues by number of matches player\")\n",
    "\n",
    "plt.xticks(rotation=90)\n",
    "\n",
    "plt.show"
   ]
  }
 ],
 "metadata": {
  "kernelspec": {
   "display_name": "myenv (3.13.5)",
   "language": "python",
   "name": "python3"
  },
  "language_info": {
   "codemirror_mode": {
    "name": "ipython",
    "version": 3
   },
   "file_extension": ".py",
   "mimetype": "text/x-python",
   "name": "python",
   "nbconvert_exporter": "python",
   "pygments_lexer": "ipython3",
   "version": "3.13.5"
  }
 },
 "nbformat": 4,
 "nbformat_minor": 5
}
