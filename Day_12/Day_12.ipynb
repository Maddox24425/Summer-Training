{
 "cells": [
  {
   "cell_type": "markdown",
   "id": "c1fd2213",
   "metadata": {},
   "source": [
    "Import Data"
   ]
  },
  {
   "cell_type": "code",
   "execution_count": 68,
   "id": "190d3a1f",
   "metadata": {},
   "outputs": [
    {
     "name": "stdout",
     "output_type": "stream",
     "text": [
      "Path to dataset files: C:\\Users\\Maddox\\.cache\\kagglehub\\datasets\\patrickb1912\\ipl-complete-dataset-20082020\\versions\\3\n"
     ]
    }
   ],
   "source": [
    "# import kagglehub\n",
    "\n",
    "# # Download latest version\n",
    "# path = kagglehub.dataset_download(\"patrickb1912/ipl-complete-dataset-20082020\")\n",
    "path=r'C:\\Users\\Maddox\\.cache\\kagglehub\\datasets\\patrickb1912\\ipl-complete-dataset-20082020\\versions\\3'\n",
    "print(\"Path to dataset files:\", path)"
   ]
  },
  {
   "cell_type": "code",
   "execution_count": 69,
   "id": "96976913",
   "metadata": {},
   "outputs": [
    {
     "data": {
      "text/plain": [
       "'matches.csv'"
      ]
     },
     "execution_count": 69,
     "metadata": {},
     "output_type": "execute_result"
    }
   ],
   "source": [
    "import os\n",
    "all_file=os.listdir(path)\n",
    "file_1,file_2=all_file\n",
    "file_2"
   ]
  },
  {
   "cell_type": "code",
   "execution_count": 70,
   "id": "d52484a3",
   "metadata": {},
   "outputs": [
    {
     "name": "stdout",
     "output_type": "stream",
     "text": [
      "C:\\Users\\Maddox\\.cache\\kagglehub\\datasets\\patrickb1912\\ipl-complete-dataset-20082020\\versions\\3/deliveries.csv\n",
      "C:\\Users\\Maddox\\.cache\\kagglehub\\datasets\\patrickb1912\\ipl-complete-dataset-20082020\\versions\\3/matches.csv\n"
     ]
    }
   ],
   "source": [
    "file_1_path=path + '/' + file_1\n",
    "print(file_1_path)\n",
    "\n",
    "file_2_path=path + '/' + file_2\n",
    "print(file_2_path)"
   ]
  },
  {
   "cell_type": "code",
   "execution_count": 71,
   "id": "599ab10d",
   "metadata": {},
   "outputs": [
    {
     "name": "stdout",
     "output_type": "stream",
     "text": [
      "All modules called\n"
     ]
    }
   ],
   "source": [
    "#import all libraries\n",
    "import pandas as pd\n",
    "import matplotlib.pyplot as plt\n",
    "import seaborn as sns\n",
    "import numpy as np\n",
    "print(\"All modules called\")\n",
    "\n",
    "df_matches=pd.read_csv(file_2_path)\n",
    "df_delivery=pd.read_csv(file_1_path)\n",
    "\n"
   ]
  },
  {
   "cell_type": "code",
   "execution_count": 72,
   "id": "e53d3185",
   "metadata": {},
   "outputs": [
    {
     "data": {
      "text/html": [
       "<div>\n",
       "<style scoped>\n",
       "    .dataframe tbody tr th:only-of-type {\n",
       "        vertical-align: middle;\n",
       "    }\n",
       "\n",
       "    .dataframe tbody tr th {\n",
       "        vertical-align: top;\n",
       "    }\n",
       "\n",
       "    .dataframe thead th {\n",
       "        text-align: right;\n",
       "    }\n",
       "</style>\n",
       "<table border=\"1\" class=\"dataframe\">\n",
       "  <thead>\n",
       "    <tr style=\"text-align: right;\">\n",
       "      <th></th>\n",
       "      <th>match_id</th>\n",
       "      <th>inning</th>\n",
       "      <th>batting_team</th>\n",
       "      <th>bowling_team</th>\n",
       "      <th>over</th>\n",
       "      <th>ball</th>\n",
       "      <th>batter</th>\n",
       "      <th>bowler</th>\n",
       "      <th>non_striker</th>\n",
       "      <th>batsman_runs</th>\n",
       "      <th>extra_runs</th>\n",
       "      <th>total_runs</th>\n",
       "      <th>extras_type</th>\n",
       "      <th>is_wicket</th>\n",
       "      <th>player_dismissed</th>\n",
       "      <th>dismissal_kind</th>\n",
       "      <th>fielder</th>\n",
       "    </tr>\n",
       "  </thead>\n",
       "  <tbody>\n",
       "    <tr>\n",
       "      <th>0</th>\n",
       "      <td>335982</td>\n",
       "      <td>1</td>\n",
       "      <td>Kolkata Knight Riders</td>\n",
       "      <td>Royal Challengers Bangalore</td>\n",
       "      <td>0</td>\n",
       "      <td>1</td>\n",
       "      <td>SC Ganguly</td>\n",
       "      <td>P Kumar</td>\n",
       "      <td>BB McCullum</td>\n",
       "      <td>0</td>\n",
       "      <td>1</td>\n",
       "      <td>1</td>\n",
       "      <td>legbyes</td>\n",
       "      <td>0</td>\n",
       "      <td>NaN</td>\n",
       "      <td>NaN</td>\n",
       "      <td>NaN</td>\n",
       "    </tr>\n",
       "    <tr>\n",
       "      <th>1</th>\n",
       "      <td>335982</td>\n",
       "      <td>1</td>\n",
       "      <td>Kolkata Knight Riders</td>\n",
       "      <td>Royal Challengers Bangalore</td>\n",
       "      <td>0</td>\n",
       "      <td>2</td>\n",
       "      <td>BB McCullum</td>\n",
       "      <td>P Kumar</td>\n",
       "      <td>SC Ganguly</td>\n",
       "      <td>0</td>\n",
       "      <td>0</td>\n",
       "      <td>0</td>\n",
       "      <td>NaN</td>\n",
       "      <td>0</td>\n",
       "      <td>NaN</td>\n",
       "      <td>NaN</td>\n",
       "      <td>NaN</td>\n",
       "    </tr>\n",
       "  </tbody>\n",
       "</table>\n",
       "</div>"
      ],
      "text/plain": [
       "   match_id  inning           batting_team                 bowling_team  over  \\\n",
       "0    335982       1  Kolkata Knight Riders  Royal Challengers Bangalore     0   \n",
       "1    335982       1  Kolkata Knight Riders  Royal Challengers Bangalore     0   \n",
       "\n",
       "   ball       batter   bowler  non_striker  batsman_runs  extra_runs  \\\n",
       "0     1   SC Ganguly  P Kumar  BB McCullum             0           1   \n",
       "1     2  BB McCullum  P Kumar   SC Ganguly             0           0   \n",
       "\n",
       "   total_runs extras_type  is_wicket player_dismissed dismissal_kind fielder  \n",
       "0           1     legbyes          0              NaN            NaN     NaN  \n",
       "1           0         NaN          0              NaN            NaN     NaN  "
      ]
     },
     "metadata": {},
     "output_type": "display_data"
    },
    {
     "data": {
      "text/html": [
       "<div>\n",
       "<style scoped>\n",
       "    .dataframe tbody tr th:only-of-type {\n",
       "        vertical-align: middle;\n",
       "    }\n",
       "\n",
       "    .dataframe tbody tr th {\n",
       "        vertical-align: top;\n",
       "    }\n",
       "\n",
       "    .dataframe thead th {\n",
       "        text-align: right;\n",
       "    }\n",
       "</style>\n",
       "<table border=\"1\" class=\"dataframe\">\n",
       "  <thead>\n",
       "    <tr style=\"text-align: right;\">\n",
       "      <th></th>\n",
       "      <th>id</th>\n",
       "      <th>season</th>\n",
       "      <th>city</th>\n",
       "      <th>date</th>\n",
       "      <th>match_type</th>\n",
       "      <th>player_of_match</th>\n",
       "      <th>venue</th>\n",
       "      <th>team1</th>\n",
       "      <th>team2</th>\n",
       "      <th>toss_winner</th>\n",
       "      <th>toss_decision</th>\n",
       "      <th>winner</th>\n",
       "      <th>result</th>\n",
       "      <th>result_margin</th>\n",
       "      <th>target_runs</th>\n",
       "      <th>target_overs</th>\n",
       "      <th>super_over</th>\n",
       "      <th>method</th>\n",
       "      <th>umpire1</th>\n",
       "      <th>umpire2</th>\n",
       "    </tr>\n",
       "  </thead>\n",
       "  <tbody>\n",
       "    <tr>\n",
       "      <th>0</th>\n",
       "      <td>335982</td>\n",
       "      <td>2007/08</td>\n",
       "      <td>Bangalore</td>\n",
       "      <td>2008-04-18</td>\n",
       "      <td>League</td>\n",
       "      <td>BB McCullum</td>\n",
       "      <td>M Chinnaswamy Stadium</td>\n",
       "      <td>Royal Challengers Bangalore</td>\n",
       "      <td>Kolkata Knight Riders</td>\n",
       "      <td>Royal Challengers Bangalore</td>\n",
       "      <td>field</td>\n",
       "      <td>Kolkata Knight Riders</td>\n",
       "      <td>runs</td>\n",
       "      <td>140.0</td>\n",
       "      <td>223.0</td>\n",
       "      <td>20.0</td>\n",
       "      <td>N</td>\n",
       "      <td>NaN</td>\n",
       "      <td>Asad Rauf</td>\n",
       "      <td>RE Koertzen</td>\n",
       "    </tr>\n",
       "    <tr>\n",
       "      <th>1</th>\n",
       "      <td>335983</td>\n",
       "      <td>2007/08</td>\n",
       "      <td>Chandigarh</td>\n",
       "      <td>2008-04-19</td>\n",
       "      <td>League</td>\n",
       "      <td>MEK Hussey</td>\n",
       "      <td>Punjab Cricket Association Stadium, Mohali</td>\n",
       "      <td>Kings XI Punjab</td>\n",
       "      <td>Chennai Super Kings</td>\n",
       "      <td>Chennai Super Kings</td>\n",
       "      <td>bat</td>\n",
       "      <td>Chennai Super Kings</td>\n",
       "      <td>runs</td>\n",
       "      <td>33.0</td>\n",
       "      <td>241.0</td>\n",
       "      <td>20.0</td>\n",
       "      <td>N</td>\n",
       "      <td>NaN</td>\n",
       "      <td>MR Benson</td>\n",
       "      <td>SL Shastri</td>\n",
       "    </tr>\n",
       "  </tbody>\n",
       "</table>\n",
       "</div>"
      ],
      "text/plain": [
       "       id   season        city        date match_type player_of_match  \\\n",
       "0  335982  2007/08   Bangalore  2008-04-18     League     BB McCullum   \n",
       "1  335983  2007/08  Chandigarh  2008-04-19     League      MEK Hussey   \n",
       "\n",
       "                                        venue                        team1  \\\n",
       "0                       M Chinnaswamy Stadium  Royal Challengers Bangalore   \n",
       "1  Punjab Cricket Association Stadium, Mohali              Kings XI Punjab   \n",
       "\n",
       "                   team2                  toss_winner toss_decision  \\\n",
       "0  Kolkata Knight Riders  Royal Challengers Bangalore         field   \n",
       "1    Chennai Super Kings          Chennai Super Kings           bat   \n",
       "\n",
       "                  winner result  result_margin  target_runs  target_overs  \\\n",
       "0  Kolkata Knight Riders   runs          140.0        223.0          20.0   \n",
       "1    Chennai Super Kings   runs           33.0        241.0          20.0   \n",
       "\n",
       "  super_over method    umpire1      umpire2  \n",
       "0          N    NaN  Asad Rauf  RE Koertzen  \n",
       "1          N    NaN  MR Benson   SL Shastri  "
      ]
     },
     "metadata": {},
     "output_type": "display_data"
    },
    {
     "name": "stdout",
     "output_type": "stream",
     "text": [
      "(1095, 20)\n",
      "(260920, 17)\n"
     ]
    }
   ],
   "source": [
    "display(df_delivery.head(2))\n",
    "display(df_matches.head(2))\n",
    "\n",
    "print(df_matches.shape)\n",
    "print(df_delivery.shape)"
   ]
  },
  {
   "cell_type": "code",
   "execution_count": 73,
   "id": "e386f583",
   "metadata": {},
   "outputs": [
    {
     "name": "stdout",
     "output_type": "stream",
     "text": [
      "<class 'pandas.core.frame.DataFrame'>\n",
      "RangeIndex: 1095 entries, 0 to 1094\n",
      "Data columns (total 20 columns):\n",
      " #   Column           Non-Null Count  Dtype  \n",
      "---  ------           --------------  -----  \n",
      " 0   id               1095 non-null   int64  \n",
      " 1   season           1095 non-null   object \n",
      " 2   city             1044 non-null   object \n",
      " 3   date             1095 non-null   object \n",
      " 4   match_type       1095 non-null   object \n",
      " 5   player_of_match  1090 non-null   object \n",
      " 6   venue            1095 non-null   object \n",
      " 7   team1            1095 non-null   object \n",
      " 8   team2            1095 non-null   object \n",
      " 9   toss_winner      1095 non-null   object \n",
      " 10  toss_decision    1095 non-null   object \n",
      " 11  winner           1090 non-null   object \n",
      " 12  result           1095 non-null   object \n",
      " 13  result_margin    1076 non-null   float64\n",
      " 14  target_runs      1092 non-null   float64\n",
      " 15  target_overs     1092 non-null   float64\n",
      " 16  super_over       1095 non-null   object \n",
      " 17  method           21 non-null     object \n",
      " 18  umpire1          1095 non-null   object \n",
      " 19  umpire2          1095 non-null   object \n",
      "dtypes: float64(3), int64(1), object(16)\n",
      "memory usage: 171.2+ KB\n"
     ]
    }
   ],
   "source": [
    "df_matches.info()\n",
    "#There are null data"
   ]
  },
  {
   "cell_type": "code",
   "execution_count": 74,
   "id": "291d4baf",
   "metadata": {},
   "outputs": [
    {
     "data": {
      "text/plain": [
       "method             1074\n",
       "city                 51\n",
       "result_margin        19\n",
       "player_of_match       5\n",
       "winner                5\n",
       "target_runs           3\n",
       "target_overs          3\n",
       "id                    0\n",
       "date                  0\n",
       "season                0\n",
       "venue                 0\n",
       "match_type            0\n",
       "toss_decision         0\n",
       "toss_winner           0\n",
       "team2                 0\n",
       "team1                 0\n",
       "result                0\n",
       "super_over            0\n",
       "umpire1               0\n",
       "umpire2               0\n",
       "dtype: int64"
      ]
     },
     "metadata": {},
     "output_type": "display_data"
    },
    {
     "data": {
      "text/plain": [
       "0             Kolkata Knight Riders\n",
       "1               Chennai Super Kings\n",
       "2                  Delhi Daredevils\n",
       "3       Royal Challengers Bangalore\n",
       "4             Kolkata Knight Riders\n",
       "                   ...             \n",
       "1090            Sunrisers Hyderabad\n",
       "1091          Kolkata Knight Riders\n",
       "1092               Rajasthan Royals\n",
       "1093            Sunrisers Hyderabad\n",
       "1094          Kolkata Knight Riders\n",
       "Name: winner, Length: 1095, dtype: object"
      ]
     },
     "metadata": {},
     "output_type": "display_data"
    }
   ],
   "source": [
    "display(df_matches.isnull().sum().sort_values(ascending=False))\n",
    "display(df_matches['winner'])"
   ]
  },
  {
   "cell_type": "code",
   "execution_count": 75,
   "id": "b0828a98",
   "metadata": {},
   "outputs": [
    {
     "data": {
      "text/plain": [
       "<Axes: >"
      ]
     },
     "execution_count": 75,
     "metadata": {},
     "output_type": "execute_result"
    },
    {
     "data": {
      "image/png": "[encoded data removed]",
      "text/plain": [
       "<Figure size 640x480 with 2 Axes>"
      ]
     },
     "metadata": {},
     "output_type": "display_data"
    }
   ],
   "source": [
    "sns.heatmap(df_matches.isnull())"
   ]
  },
  {
   "cell_type": "code",
   "execution_count": 76,
   "id": "df777c3f",
   "metadata": {},
   "outputs": [
    {
     "data": {
      "text/plain": [
       "method             98.082192\n",
       "city                4.657534\n",
       "result_margin       1.735160\n",
       "player_of_match     0.456621\n",
       "winner              0.456621\n",
       "target_runs         0.273973\n",
       "target_overs        0.273973\n",
       "id                  0.000000\n",
       "date                0.000000\n",
       "season              0.000000\n",
       "venue               0.000000\n",
       "match_type          0.000000\n",
       "toss_decision       0.000000\n",
       "toss_winner         0.000000\n",
       "team2               0.000000\n",
       "team1               0.000000\n",
       "result              0.000000\n",
       "super_over          0.000000\n",
       "umpire1             0.000000\n",
       "umpire2             0.000000\n",
       "dtype: float64"
      ]
     },
     "execution_count": 76,
     "metadata": {},
     "output_type": "execute_result"
    }
   ],
   "source": [
    "#null value count in percentage\n",
    "df_matches.isnull().mean().sort_values(ascending=False)*100"
   ]
  },
  {
   "cell_type": "code",
   "execution_count": 77,
   "id": "05d2dd90",
   "metadata": {},
   "outputs": [
    {
     "data": {
      "text/plain": [
       "method\n",
       "D/L    21\n",
       "Name: count, dtype: int64"
      ]
     },
     "metadata": {},
     "output_type": "display_data"
    }
   ],
   "source": [
    "#now check what this 'method' column is like\n",
    "display(df_matches['method'].value_counts())\n",
    "#only 1 data (D/L) which was used 21 times\n",
    "#we'll fill all other methods with \"Normal\" method"
   ]
  },
  {
   "cell_type": "code",
   "execution_count": 78,
   "id": "6f12a2f9",
   "metadata": {},
   "outputs": [
    {
     "name": "stderr",
     "output_type": "stream",
     "text": [
      "C:\\Users\\Maddox\\AppData\\Local\\Temp\\ipykernel_23784\\1709395566.py:1: FutureWarning: A value is trying to be set on a copy of a DataFrame or Series through chained assignment using an inplace method.\n",
      "The behavior will change in pandas 3.0. This inplace method will never work because the intermediate object on which we are setting values always behaves as a copy.\n",
      "\n",
      "For example, when doing 'df[col].method(value, inplace=True)', try using 'df.method({col: value}, inplace=True)' or df[col] = df[col].method(value) instead, to perform the operation inplace on the original object.\n",
      "\n",
      "\n",
      "  df_matches['method'].fillna('Normal Method',inplace=True)\n"
     ]
    },
    {
     "data": {
      "text/plain": [
       "city               51\n",
       "result_margin      19\n",
       "player_of_match     5\n",
       "winner              5\n",
       "target_overs        3\n",
       "target_runs         3\n",
       "id                  0\n",
       "season              0\n",
       "date                0\n",
       "team1               0\n",
       "venue               0\n",
       "match_type          0\n",
       "toss_decision       0\n",
       "toss_winner         0\n",
       "team2               0\n",
       "result              0\n",
       "super_over          0\n",
       "method              0\n",
       "umpire1             0\n",
       "umpire2             0\n",
       "dtype: int64"
      ]
     },
     "metadata": {},
     "output_type": "display_data"
    }
   ],
   "source": [
    "df_matches['method'].fillna('Normal Method',inplace=True)\n",
    "display(df_matches.isnull().sum().sort_values(ascending=False))\n",
    "#Now no missing values in df_matches['method']"
   ]
  },
  {
   "cell_type": "markdown",
   "id": "fea0ef1d",
   "metadata": {},
   "source": [
    "**Now lets treat the \"city\" column**"
   ]
  },
  {
   "cell_type": "code",
   "execution_count": 79,
   "id": "77500ff7",
   "metadata": {},
   "outputs": [
    {
     "data": {
      "text/plain": [
       "city\n",
       "Mumbai            173\n",
       "Kolkata            93\n",
       "Delhi              90\n",
       "Chennai            85\n",
       "Hyderabad          77\n",
       "Bangalore          65\n",
       "Chandigarh         61\n",
       "Jaipur             57\n",
       "Pune               51\n",
       "Abu Dhabi          37\n",
       "Ahmedabad          36\n",
       "Bengaluru          29\n",
       "Visakhapatnam      15\n",
       "Durban             15\n",
       "Lucknow            14\n",
       "Dubai              13\n",
       "Dharamsala         13\n",
       "Centurion          12\n",
       "Rajkot             10\n",
       "Sharjah            10\n",
       "Navi Mumbai         9\n",
       "Indore              9\n",
       "Johannesburg        8\n",
       "Ranchi              7\n",
       "Cuttack             7\n",
       "Cape Town           7\n",
       "Port Elizabeth      7\n",
       "Raipur              6\n",
       "Kochi               5\n",
       "Mohali              5\n",
       "Kanpur              4\n",
       "East London         3\n",
       "Kimberley           3\n",
       "Nagpur              3\n",
       "Guwahati            3\n",
       "Bloemfontein        2\n",
       "Name: count, dtype: int64"
      ]
     },
     "metadata": {},
     "output_type": "display_data"
    },
    {
     "data": {
      "text/plain": [
       "np.int64(1044)"
      ]
     },
     "metadata": {},
     "output_type": "display_data"
    }
   ],
   "source": [
    "display(df_matches['city'].value_counts())\n",
    "display(df_matches['city'].value_counts().sum())"
   ]
  },
  {
   "cell_type": "code",
   "execution_count": 80,
   "id": "5dc037ae",
   "metadata": {},
   "outputs": [
    {
     "name": "stderr",
     "output_type": "stream",
     "text": [
      "C:\\Users\\Maddox\\AppData\\Local\\Temp\\ipykernel_23784\\302991341.py:4: FutureWarning: A value is trying to be set on a copy of a DataFrame or Series through chained assignment using an inplace method.\n",
      "The behavior will change in pandas 3.0. This inplace method will never work because the intermediate object on which we are setting values always behaves as a copy.\n",
      "\n",
      "For example, when doing 'df[col].method(value, inplace=True)', try using 'df.method({col: value}, inplace=True)' or df[col] = df[col].method(value) instead, to perform the operation inplace on the original object.\n",
      "\n",
      "\n",
      "  df_matches['city'].fillna('UAE',inplace=True)# all the venue shows that all city with NaN were in Dubai (UAE)\n"
     ]
    }
   ],
   "source": [
    "#Display all the rows with null values in 'city' column \n",
    "df_matches[df_matches['city'].isnull()]\n",
    "#Fill the NaN values in 'city' column\n",
    "df_matches['city'].fillna('UAE',inplace=True)# all the venue shows that all city with NaN were in Dubai (UAE)"
   ]
  },
  {
   "cell_type": "markdown",
   "id": "c116cc0f",
   "metadata": {},
   "source": [
    "**Now we'll work on \"result_margin\" column**"
   ]
  },
  {
   "cell_type": "code",
   "execution_count": 81,
   "id": "0ed638a5",
   "metadata": {},
   "outputs": [
    {
     "name": "stdout",
     "output_type": "stream",
     "text": [
      "<class 'pandas.core.series.Series'>\n",
      "RangeIndex: 1095 entries, 0 to 1094\n",
      "Series name: result_margin\n",
      "Non-Null Count  Dtype  \n",
      "--------------  -----  \n",
      "1076 non-null   float64\n",
      "dtypes: float64(1)\n",
      "memory usage: 8.7 KB\n"
     ]
    },
    {
     "data": {
      "text/plain": [
       "np.int64(1076)"
      ]
     },
     "execution_count": 81,
     "metadata": {},
     "output_type": "execute_result"
    }
   ],
   "source": [
    "df_matches['result_margin'].info()\n",
    "df_matches['result_margin'].value_counts()\n",
    "df_matches['result_margin'].value_counts().sum()"
   ]
  },
  {
   "cell_type": "code",
   "execution_count": 82,
   "id": "000eff5b",
   "metadata": {},
   "outputs": [
    {
     "name": "stderr",
     "output_type": "stream",
     "text": [
      "C:\\Users\\Maddox\\AppData\\Local\\Temp\\ipykernel_23784\\2922937291.py:4: FutureWarning: A value is trying to be set on a copy of a DataFrame or Series through chained assignment using an inplace method.\n",
      "The behavior will change in pandas 3.0. This inplace method will never work because the intermediate object on which we are setting values always behaves as a copy.\n",
      "\n",
      "For example, when doing 'df[col].method(value, inplace=True)', try using 'df.method({col: value}, inplace=True)' or df[col] = df[col].method(value) instead, to perform the operation inplace on the original object.\n",
      "\n",
      "\n",
      "  df_matches['result_margin'].fillna(0.00,inplace=True)\n"
     ]
    }
   ],
   "source": [
    "#Display all the rows with null values in 'result_margin' column \n",
    "df_matches[df_matches['result_margin'].isnull()]\n",
    "#Fill the NaN values in 'city' column\n",
    "df_matches['result_margin'].fillna(0.00,inplace=True)"
   ]
  },
  {
   "cell_type": "code",
   "execution_count": 83,
   "id": "fc01efe5",
   "metadata": {},
   "outputs": [],
   "source": [
    "#These columns with Null values left\n",
    "# winner             0.456621\n",
    "# player_of_match    0.456621\n",
    "# target_overs       0.273973\n",
    "# target_runs        0.273973"
   ]
  },
  {
   "cell_type": "markdown",
   "id": "a4cbf7e8",
   "metadata": {},
   "source": [
    "**Now we'll work on \"winner\" column and 'player_of_match'**"
   ]
  },
  {
   "cell_type": "code",
   "execution_count": 84,
   "id": "f2d089a6",
   "metadata": {},
   "outputs": [],
   "source": [
    "# #Display all the rows with null values in 'result_margin' column \n",
    "# display(df_matches[df_matches['winner'].isnull()])\n",
    "# #Fill the NaN values in 'city' column\n",
    "# df_matches['winner'].fillna('No Winner',inplace=True)\n",
    "# #null value count in percentage\n",
    "# df_matches.isnull().mean().sort_values(ascending=False)*100"
   ]
  },
  {
   "cell_type": "code",
   "execution_count": 85,
   "id": "f6e64f58",
   "metadata": {},
   "outputs": [
    {
     "data": {
      "text/html": [
       "<div>\n",
       "<style scoped>\n",
       "    .dataframe tbody tr th:only-of-type {\n",
       "        vertical-align: middle;\n",
       "    }\n",
       "\n",
       "    .dataframe tbody tr th {\n",
       "        vertical-align: top;\n",
       "    }\n",
       "\n",
       "    .dataframe thead th {\n",
       "        text-align: right;\n",
       "    }\n",
       "</style>\n",
       "<table border=\"1\" class=\"dataframe\">\n",
       "  <thead>\n",
       "    <tr style=\"text-align: right;\">\n",
       "      <th></th>\n",
       "      <th>id</th>\n",
       "      <th>season</th>\n",
       "      <th>city</th>\n",
       "      <th>date</th>\n",
       "      <th>match_type</th>\n",
       "      <th>player_of_match</th>\n",
       "      <th>venue</th>\n",
       "      <th>team1</th>\n",
       "      <th>team2</th>\n",
       "      <th>toss_winner</th>\n",
       "      <th>toss_decision</th>\n",
       "      <th>winner</th>\n",
       "      <th>result</th>\n",
       "      <th>result_margin</th>\n",
       "      <th>target_runs</th>\n",
       "      <th>target_overs</th>\n",
       "      <th>super_over</th>\n",
       "      <th>method</th>\n",
       "      <th>umpire1</th>\n",
       "      <th>umpire2</th>\n",
       "    </tr>\n",
       "  </thead>\n",
       "  <tbody>\n",
       "    <tr>\n",
       "      <th>241</th>\n",
       "      <td>501265</td>\n",
       "      <td>2011</td>\n",
       "      <td>Delhi</td>\n",
       "      <td>2011-05-21</td>\n",
       "      <td>League</td>\n",
       "      <td>NaN</td>\n",
       "      <td>Feroz Shah Kotla</td>\n",
       "      <td>Delhi Daredevils</td>\n",
       "      <td>Pune Warriors</td>\n",
       "      <td>Delhi Daredevils</td>\n",
       "      <td>bat</td>\n",
       "      <td>NaN</td>\n",
       "      <td>no result</td>\n",
       "      <td>0.0</td>\n",
       "      <td>NaN</td>\n",
       "      <td>NaN</td>\n",
       "      <td>N</td>\n",
       "      <td>Normal Method</td>\n",
       "      <td>SS Hazare</td>\n",
       "      <td>RJ Tucker</td>\n",
       "    </tr>\n",
       "    <tr>\n",
       "      <th>485</th>\n",
       "      <td>829763</td>\n",
       "      <td>2015</td>\n",
       "      <td>Bangalore</td>\n",
       "      <td>2015-04-29</td>\n",
       "      <td>League</td>\n",
       "      <td>NaN</td>\n",
       "      <td>M Chinnaswamy Stadium</td>\n",
       "      <td>Royal Challengers Bangalore</td>\n",
       "      <td>Rajasthan Royals</td>\n",
       "      <td>Rajasthan Royals</td>\n",
       "      <td>field</td>\n",
       "      <td>NaN</td>\n",
       "      <td>no result</td>\n",
       "      <td>0.0</td>\n",
       "      <td>NaN</td>\n",
       "      <td>NaN</td>\n",
       "      <td>N</td>\n",
       "      <td>Normal Method</td>\n",
       "      <td>JD Cloete</td>\n",
       "      <td>PG Pathak</td>\n",
       "    </tr>\n",
       "    <tr>\n",
       "      <th>511</th>\n",
       "      <td>829813</td>\n",
       "      <td>2015</td>\n",
       "      <td>Bangalore</td>\n",
       "      <td>2015-05-17</td>\n",
       "      <td>League</td>\n",
       "      <td>NaN</td>\n",
       "      <td>M Chinnaswamy Stadium</td>\n",
       "      <td>Royal Challengers Bangalore</td>\n",
       "      <td>Delhi Daredevils</td>\n",
       "      <td>Royal Challengers Bangalore</td>\n",
       "      <td>field</td>\n",
       "      <td>NaN</td>\n",
       "      <td>no result</td>\n",
       "      <td>0.0</td>\n",
       "      <td>188.0</td>\n",
       "      <td>20.0</td>\n",
       "      <td>N</td>\n",
       "      <td>Normal Method</td>\n",
       "      <td>HDPK Dharmasena</td>\n",
       "      <td>K Srinivasan</td>\n",
       "    </tr>\n",
       "    <tr>\n",
       "      <th>744</th>\n",
       "      <td>1178424</td>\n",
       "      <td>2019</td>\n",
       "      <td>Bengaluru</td>\n",
       "      <td>2019-04-30</td>\n",
       "      <td>League</td>\n",
       "      <td>NaN</td>\n",
       "      <td>M.Chinnaswamy Stadium</td>\n",
       "      <td>Royal Challengers Bangalore</td>\n",
       "      <td>Rajasthan Royals</td>\n",
       "      <td>Rajasthan Royals</td>\n",
       "      <td>field</td>\n",
       "      <td>NaN</td>\n",
       "      <td>no result</td>\n",
       "      <td>0.0</td>\n",
       "      <td>63.0</td>\n",
       "      <td>5.0</td>\n",
       "      <td>N</td>\n",
       "      <td>Normal Method</td>\n",
       "      <td>NJ Llong</td>\n",
       "      <td>UV Gandhe</td>\n",
       "    </tr>\n",
       "    <tr>\n",
       "      <th>994</th>\n",
       "      <td>1359519</td>\n",
       "      <td>2023</td>\n",
       "      <td>Lucknow</td>\n",
       "      <td>2023-05-03</td>\n",
       "      <td>League</td>\n",
       "      <td>NaN</td>\n",
       "      <td>Bharat Ratna Shri Atal Bihari Vajpayee Ekana C...</td>\n",
       "      <td>Lucknow Super Giants</td>\n",
       "      <td>Chennai Super Kings</td>\n",
       "      <td>Chennai Super Kings</td>\n",
       "      <td>field</td>\n",
       "      <td>NaN</td>\n",
       "      <td>no result</td>\n",
       "      <td>0.0</td>\n",
       "      <td>NaN</td>\n",
       "      <td>NaN</td>\n",
       "      <td>N</td>\n",
       "      <td>Normal Method</td>\n",
       "      <td>AK Chaudhary</td>\n",
       "      <td>NA Patwardhan</td>\n",
       "    </tr>\n",
       "  </tbody>\n",
       "</table>\n",
       "</div>"
      ],
      "text/plain": [
       "          id season       city        date match_type player_of_match  \\\n",
       "241   501265   2011      Delhi  2011-05-21     League             NaN   \n",
       "485   829763   2015  Bangalore  2015-04-29     League             NaN   \n",
       "511   829813   2015  Bangalore  2015-05-17     League             NaN   \n",
       "744  1178424   2019  Bengaluru  2019-04-30     League             NaN   \n",
       "994  1359519   2023    Lucknow  2023-05-03     League             NaN   \n",
       "\n",
       "                                                 venue  \\\n",
       "241                                   Feroz Shah Kotla   \n",
       "485                              M Chinnaswamy Stadium   \n",
       "511                              M Chinnaswamy Stadium   \n",
       "744                              M.Chinnaswamy Stadium   \n",
       "994  Bharat Ratna Shri Atal Bihari Vajpayee Ekana C...   \n",
       "\n",
       "                           team1                team2  \\\n",
       "241             Delhi Daredevils        Pune Warriors   \n",
       "485  Royal Challengers Bangalore     Rajasthan Royals   \n",
       "511  Royal Challengers Bangalore     Delhi Daredevils   \n",
       "744  Royal Challengers Bangalore     Rajasthan Royals   \n",
       "994         Lucknow Super Giants  Chennai Super Kings   \n",
       "\n",
       "                     toss_winner toss_decision winner     result  \\\n",
       "241             Delhi Daredevils           bat    NaN  no result   \n",
       "485             Rajasthan Royals         field    NaN  no result   \n",
       "511  Royal Challengers Bangalore         field    NaN  no result   \n",
       "744             Rajasthan Royals         field    NaN  no result   \n",
       "994          Chennai Super Kings         field    NaN  no result   \n",
       "\n",
       "     result_margin  target_runs  target_overs super_over         method  \\\n",
       "241            0.0          NaN           NaN          N  Normal Method   \n",
       "485            0.0          NaN           NaN          N  Normal Method   \n",
       "511            0.0        188.0          20.0          N  Normal Method   \n",
       "744            0.0         63.0           5.0          N  Normal Method   \n",
       "994            0.0          NaN           NaN          N  Normal Method   \n",
       "\n",
       "             umpire1        umpire2  \n",
       "241        SS Hazare      RJ Tucker  \n",
       "485        JD Cloete      PG Pathak  \n",
       "511  HDPK Dharmasena   K Srinivasan  \n",
       "744         NJ Llong      UV Gandhe  \n",
       "994     AK Chaudhary  NA Patwardhan  "
      ]
     },
     "metadata": {},
     "output_type": "display_data"
    },
    {
     "data": {
      "text/plain": [
       "target_overs       0.273973\n",
       "target_runs        0.273973\n",
       "id                 0.000000\n",
       "season             0.000000\n",
       "date               0.000000\n",
       "city               0.000000\n",
       "match_type         0.000000\n",
       "player_of_match    0.000000\n",
       "team2              0.000000\n",
       "toss_winner        0.000000\n",
       "venue              0.000000\n",
       "team1              0.000000\n",
       "winner             0.000000\n",
       "toss_decision      0.000000\n",
       "result_margin      0.000000\n",
       "result             0.000000\n",
       "super_over         0.000000\n",
       "method             0.000000\n",
       "umpire1            0.000000\n",
       "umpire2            0.000000\n",
       "dtype: float64"
      ]
     },
     "execution_count": 85,
     "metadata": {},
     "output_type": "execute_result"
    }
   ],
   "source": [
    "#Display all the rows with null values in 'result_margin' column \n",
    "display(df_matches[df_matches['winner'].isnull()])\n",
    "#Fill the NaN values in 'city' column\n",
    "df_matches.fillna({'player_of_match':'No Player of the match',\n",
    "                   'winner':'No Winner'},inplace=True)\n",
    "#null value count in percentage after treating missing values\n",
    "df_matches.isnull().mean().sort_values(ascending=False)*100\n"
   ]
  },
  {
   "cell_type": "markdown",
   "id": "ab282774",
   "metadata": {},
   "source": [
    "**Now we'll work on \"target_overs\" column and 'targer_runs'**"
   ]
  },
  {
   "cell_type": "code",
   "execution_count": 86,
   "id": "96934890",
   "metadata": {},
   "outputs": [
    {
     "data": {
      "text/plain": [
       "id                 0.0\n",
       "season             0.0\n",
       "city               0.0\n",
       "date               0.0\n",
       "match_type         0.0\n",
       "player_of_match    0.0\n",
       "venue              0.0\n",
       "team1              0.0\n",
       "team2              0.0\n",
       "toss_winner        0.0\n",
       "toss_decision      0.0\n",
       "winner             0.0\n",
       "result             0.0\n",
       "result_margin      0.0\n",
       "target_runs        0.0\n",
       "target_overs       0.0\n",
       "super_over         0.0\n",
       "method             0.0\n",
       "umpire1            0.0\n",
       "umpire2            0.0\n",
       "dtype: float64"
      ]
     },
     "execution_count": 86,
     "metadata": {},
     "output_type": "execute_result"
    }
   ],
   "source": [
    "#Here all the NaN values will filled with the value 0 i.e., 'target_runs','target_overs'\n",
    "df_matches.fillna(0,inplace=True)\n",
    "\n",
    "#null value count in percentage after treating missing values\n",
    "df_matches.isnull().mean().sort_values(ascending=False)*100\n"
   ]
  },
  {
   "cell_type": "markdown",
   "id": "69b8f163",
   "metadata": {},
   "source": [
    "**Done with Data Cleaning[fillna]**"
   ]
  },
  {
   "cell_type": "code",
   "execution_count": 87,
   "id": "f86f7d54",
   "metadata": {},
   "outputs": [
    {
     "data": {
      "text/plain": [
       "<Axes: >"
      ]
     },
     "execution_count": 87,
     "metadata": {},
     "output_type": "execute_result"
    },
    {
     "data": {
      "image/png": "[encoded data removed]",
      "text/plain": [
       "<Figure size 640x480 with 2 Axes>"
      ]
     },
     "metadata": {},
     "output_type": "display_data"
    }
   ],
   "source": [
    "sns.heatmap(df_matches.isnull())"
   ]
  },
  {
   "cell_type": "code",
   "execution_count": 88,
   "id": "f9a4b279",
   "metadata": {},
   "outputs": [
    {
     "data": {
      "text/plain": [
       "city\n",
       "Mumbai            173\n",
       "Kolkata            93\n",
       "Delhi              90\n",
       "Chennai            85\n",
       "Hyderabad          77\n",
       "Bangalore          65\n",
       "Chandigarh         61\n",
       "Jaipur             57\n",
       "Pune               51\n",
       "UAE                51\n",
       "Abu Dhabi          37\n",
       "Ahmedabad          36\n",
       "Bengaluru          29\n",
       "Durban             15\n",
       "Visakhapatnam      15\n",
       "Lucknow            14\n",
       "Dubai              13\n",
       "Dharamsala         13\n",
       "Centurion          12\n",
       "Rajkot             10\n",
       "Sharjah            10\n",
       "Indore              9\n",
       "Navi Mumbai         9\n",
       "Johannesburg        8\n",
       "Ranchi              7\n",
       "Port Elizabeth      7\n",
       "Cuttack             7\n",
       "Cape Town           7\n",
       "Raipur              6\n",
       "Kochi               5\n",
       "Mohali              5\n",
       "Kanpur              4\n",
       "East London         3\n",
       "Kimberley           3\n",
       "Nagpur              3\n",
       "Guwahati            3\n",
       "Bloemfontein        2\n",
       "Name: count, dtype: int64"
      ]
     },
     "metadata": {},
     "output_type": "display_data"
    }
   ],
   "source": [
    "display(df_matches['city'].value_counts())\n",
    "#We have different names for same place\n",
    "# df_matches[df_matches['city'].value_counts()=='Dubai']"
   ]
  },
  {
   "cell_type": "markdown",
   "id": "30025e2f",
   "metadata": {},
   "source": [
    "Let's change the name to a same name for same place with different names"
   ]
  },
  {
   "cell_type": "code",
   "execution_count": 89,
   "id": "16239683",
   "metadata": {},
   "outputs": [
    {
     "name": "stdout",
     "output_type": "stream",
     "text": [
      "Done\n"
     ]
    }
   ],
   "source": [
    "# changing the data\n",
    "dict1={'Navi Mumbai':'Mumbai','Bengaluru':'Bangalore',\n",
    "       'Sharjah':'UAE', 'Abu Dhabi':'UAE',\n",
    "       'Kimberley':'Cape Town','Dubai':'UAE'}\n",
    "df_matches.replace(dict1,inplace=True)\n",
    "print('Done')"
   ]
  },
  {
   "cell_type": "markdown",
   "id": "6bb74b13",
   "metadata": {},
   "source": [
    "Check and drop duplicated"
   ]
  },
  {
   "cell_type": "code",
   "execution_count": 90,
   "id": "e696c4a7",
   "metadata": {},
   "outputs": [
    {
     "data": {
      "text/plain": [
       "False    1095\n",
       "Name: count, dtype: int64"
      ]
     },
     "metadata": {},
     "output_type": "display_data"
    },
    {
     "data": {
      "text/plain": [
       "None"
      ]
     },
     "metadata": {},
     "output_type": "display_data"
    }
   ],
   "source": [
    "display(df_matches.duplicated().value_counts())\n",
    "#No Duplicates!!! All False!!!\n",
    "display(df_matches.drop_duplicates(inplace=True))"
   ]
  },
  {
   "cell_type": "markdown",
   "id": "c796a055",
   "metadata": {},
   "source": [
    "Lets make data column as Data data_type instead of object data_type for ARIMA (Time series analysis)"
   ]
  },
  {
   "cell_type": "code",
   "execution_count": 91,
   "id": "6f6507c8",
   "metadata": {},
   "outputs": [
    {
     "name": "stdout",
     "output_type": "stream",
     "text": [
      "Done\n",
      "<class 'pandas.core.series.Series'>\n",
      "RangeIndex: 1095 entries, 0 to 1094\n",
      "Series name: date\n",
      "Non-Null Count  Dtype         \n",
      "--------------  -----         \n",
      "1095 non-null   datetime64[ns]\n",
      "dtypes: datetime64[ns](1)\n",
      "memory usage: 8.7 KB\n"
     ]
    },
    {
     "data": {
      "text/plain": [
       "None"
      ]
     },
     "metadata": {},
     "output_type": "display_data"
    }
   ],
   "source": [
    "df_matches['date']=pd.to_datetime(df_matches['date'])\n",
    "print('Done')\n",
    "display(df_matches['date'].info())"
   ]
  },
  {
   "cell_type": "markdown",
   "id": "2ee76cd4",
   "metadata": {},
   "source": [
    "Done with Pre-Processing, starting with Analysis"
   ]
  },
  {
   "cell_type": "code",
   "execution_count": null,
   "id": "ca5cf5ec",
   "metadata": {},
   "outputs": [],
   "source": []
  }
 ],
 "metadata": {
  "kernelspec": {
   "display_name": "myenv (3.13.5)",
   "language": "python",
   "name": "python3"
  },
  "language_info": {
   "codemirror_mode": {
    "name": "ipython",
    "version": 3
   },
   "file_extension": ".py",
   "mimetype": "text/x-python",
   "name": "python",
   "nbconvert_exporter": "python",
   "pygments_lexer": "ipython3",
   "version": "3.13.5"
  }
 },
 "nbformat": 4,
 "nbformat_minor": 5
}
