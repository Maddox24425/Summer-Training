{
 "cells": [
  {
   "cell_type": "markdown",
   "id": "e5a97045",
   "metadata": {},
   "source": [
    "Day 6 OOPs"
   ]
  },
  {
   "cell_type": "code",
   "execution_count": null,
   "id": "fda41e53",
   "metadata": {},
   "outputs": [],
   "source": [
    "class iITM:\n",
    "    def Greeting():\n",
    "        print(\"Hello\")\n",
    "    def Intro():\n",
    "        print(\"Hello Buddy, my self ...\")\n",
    "\n",
    "student=iITM()\n",
    "print(type(student))\n",
    "student.Intro"
   ]
  },
  {
   "cell_type": "code",
   "execution_count": null,
   "id": "61e8256f",
   "metadata": {},
   "outputs": [],
   "source": [
    "class IITM:\n",
    "    def __init__(self, name, age): #initialization, Constructor, magic method, dunder method\n",
    "        self.name=name\n",
    "        self.age=age\n",
    "        \n",
    "\n",
    "student=IITM('Maddox',19)\n",
    "print(student.name)\n",
    "print(student.age)"
   ]
  },
  {
   "cell_type": "code",
   "execution_count": null,
   "id": "e7056c92",
   "metadata": {},
   "outputs": [],
   "source": [
    "class Remote:\n",
    "    val=0\n",
    "    def volume_up(self):\n",
    "        print(\"Volume Up\")\n",
    "        # print(f\"previous Volume: {val}\")\n",
    "        # val+=1\n",
    "        # print(f\"Current Volume: {val}\")\n",
    "    \n",
    "    def volume_down(self):\n",
    "        print(\"Volume Down\")\n",
    "        # print(f\"previous Volume: {val}\")\n",
    "        # val-=1\n",
    "        # print(f\"Current Volume: {val}\")\n",
    "\n",
    "    def power_on(self):\n",
    "        print('TV On')\n",
    "    \n",
    "    def power_off(self):\n",
    "        print(\"Power Off\")\n",
    "\n",
    "button=Remote()\n",
    "button1=Remote()\n",
    "\n",
    "button.volume_up()"
   ]
  },
  {
   "cell_type": "markdown",
   "id": "1f6a7f45",
   "metadata": {},
   "source": [
    "Private, protected, public using _ and __"
   ]
  },
  {
   "cell_type": "code",
   "execution_count": 27,
   "id": "a8f7982a",
   "metadata": {},
   "outputs": [
    {
     "name": "stdout",
     "output_type": "stream",
     "text": [
      "Buddy\n",
      "Labrador\n",
      "3\n",
      "What the hell dude :)\n",
      "Name: Buddy, Breed: Labrador, Age: 3\n"
     ]
    }
   ],
   "source": [
    "#From GeeksForGeeks\n",
    "class Dog:\n",
    "    def __init__(self, name, breed, age):\n",
    "        self.name = name  # Public attribute\n",
    "        self._breed = breed  # Protected attribute\n",
    "        self.__age = age  # Private attribute\n",
    "\n",
    "    # Public method\n",
    "    def get_info(self):\n",
    "        return f\"Name: {self.name}, Breed: {self._breed}, Age: {self.__age}\"\n",
    "\n",
    "    # Getter and Setter for private attribute\n",
    "    def get_age(self):\n",
    "        return self.__age\n",
    "\n",
    "    def set_age(self, age):\n",
    "        if age > 0:\n",
    "            self.__age = age\n",
    "        else:\n",
    "            print(\"What the hell dude :)\")\n",
    "\n",
    "# Example Usage\n",
    "dog = Dog(\"Buddy\", \"Labrador\", 3)\n",
    "\n",
    "# Accessing public member\n",
    "print(dog.name)  # Accessible\n",
    "\n",
    "# Accessing protected member\n",
    "print(dog._breed)  # Accessible but discouraged outside the class\n",
    "\n",
    "# Accessing private member using getter\n",
    "print(dog.get_age())\n",
    "\n",
    "# Modifying private member using setter\n",
    "dog.set_age(-1) #This is changing the private variable member\n",
    "print(dog.get_info())"
   ]
  }
 ],
 "metadata": {
  "kernelspec": {
   "display_name": "myenv",
   "language": "python",
   "name": "python3"
  },
  "language_info": {
   "codemirror_mode": {
    "name": "ipython",
    "version": 3
   },
   "file_extension": ".py",
   "mimetype": "text/x-python",
   "name": "python",
   "nbconvert_exporter": "python",
   "pygments_lexer": "ipython3",
   "version": "3.13.5"
  }
 },
 "nbformat": 4,
 "nbformat_minor": 5
}
